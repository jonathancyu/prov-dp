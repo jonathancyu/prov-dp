{
 "cells": [
  {
   "cell_type": "markdown",
   "source": [
    "# Differentially Private Provenance Graphs"
   ],
   "metadata": {
    "collapsed": false
   },
   "id": "b6572e4105371592"
  },
  {
   "cell_type": "markdown",
   "source": [
    "## Run Algorithm"
   ],
   "metadata": {
    "collapsed": false
   },
   "id": "deccf3635609ab37"
  },
  {
   "cell_type": "code",
   "execution_count": 1,
   "id": "initial_id",
   "metadata": {
    "collapsed": true,
    "ExecuteTime": {
     "end_time": "2023-11-26T22:53:28.865854Z",
     "start_time": "2023-11-26T22:49:19.154755Z"
    }
   },
   "outputs": [
    {
     "name": "stderr",
     "output_type": "stream",
     "text": [
      "(0.001,1.0,0.025): 100%|██████████| 50/50 [00:32<00:00,  1.55it/s]\n",
      "(0.01,1.0,0.025): 100%|██████████| 50/50 [00:33<00:00,  1.49it/s]\n",
      "(0.001,1.0,0.5): 100%|██████████| 50/50 [00:40<00:00,  1.23it/s]\n",
      "(0.001,1.0,1.0): 100%|██████████| 50/50 [00:45<00:00,  1.09it/s]\n",
      "(0.01,1.0,0.5): 100%|██████████| 50/50 [00:48<00:00,  1.03it/s]]\n",
      "(0.01,1.0,1.0): 100%|██████████| 50/50 [00:58<00:00,  1.17s/it]]\n",
      "(0.001,1.0,2.0): 100%|██████████| 50/50 [01:03<00:00,  1.27s/it]\n",
      "(0.001,1.0,3.0): 100%|██████████| 50/50 [01:07<00:00,  1.35s/it]\n",
      "(0.1,1.0,0.025): 100%|██████████| 50/50 [00:33<00:00,  1.47it/s]\n",
      "(0.1,1.0,0.5): 100%|██████████| 50/50 [00:55<00:00,  1.11s/it]]]\n",
      "(0.5,1.0,0.025): 100%|██████████| 50/50 [00:34<00:00,  1.44it/s]\n",
      "(0.01,1.0,2.0): 100%|██████████| 50/50 [01:10<00:00,  1.41s/it]\n",
      "(0.01,1.0,3.0): 100%|██████████| 50/50 [01:10<00:00,  1.40s/it]\n",
      "(0.1,1.0,1.0): 100%|██████████| 50/50 [01:03<00:00,  1.26s/it]s]\n",
      "(0.5,1.0,0.5): 100%|██████████| 50/50 [00:57<00:00,  1.14s/it]s]\n",
      "(0.1,1.0,2.0): 100%|██████████| 50/50 [01:15<00:00,  1.50s/it]s]\n",
      "(1.0,1.0,0.025): 100%|██████████| 50/50 [00:35<00:00,  1.42it/s]\n",
      "(0.1,1.0,3.0): 100%|██████████| 50/50 [01:30<00:00,  1.82s/it]\n",
      "(1.0,1.0,0.5): 100%|██████████| 50/50 [01:01<00:00,  1.23s/it]\n",
      "(0.5,1.0,1.0): 100%|██████████| 50/50 [01:12<00:00,  1.44s/it]\n",
      "(0.5,1.0,2.0): 100%|██████████| 50/50 [01:36<00:00,  1.93s/it]\n",
      "(1.0,1.0,1.0): 100%|██████████| 50/50 [01:13<00:00,  1.48s/it]\n",
      "(0.5,1.0,3.0): 100%|██████████| 50/50 [01:50<00:00,  2.22s/it]\n",
      "(1.0,1.0,2.0): 100%|██████████| 50/50 [01:43<00:00,  2.07s/it]\n",
      "(1.0,1.0,3.0): 100%|██████████| 50/50 [01:49<00:00,  2.20s/it]\n"
     ]
    }
   ],
   "source": [
    "from pathlib import Path\n",
    "import argparse\n",
    "import yaml\n",
    "import evaluate\n",
    "\n",
    "\n",
    "graph_name = 'nd-134204506-processletevent'\n",
    "\n",
    "epsilon_values = [0.001, 0.01, 0.1, 0.5, 1.0]\n",
    "alpha_values = [0.025, 0.5, 1, 2, 3]\n",
    "\n",
    "results = evaluate.main(\n",
    "    input_directory = '../data/input',\n",
    "    output_directory = '../data/output',\n",
    "    graph_name = graph_name,\n",
    "    epsilon_1_values = epsilon_values,\n",
    "    epsilon_2_values = [1.0],\n",
    "    alpha_values = alpha_values,\n",
    "    num_samples = 50,\n",
    "    parallel = True\n",
    ")"
   ]
  },
  {
   "cell_type": "markdown",
   "source": [
    "## Create Graphs"
   ],
   "metadata": {
    "collapsed": false
   },
   "id": "ed095d29ff9d4452"
  },
  {
   "cell_type": "code",
   "execution_count": 8,
   "outputs": [
    {
     "data": {
      "text/plain": "   epsilon_1 epsilon_2  alpha  \\\n0      0.001       1.0  0.025   \n1      0.001       1.0    0.5   \n2      0.001       1.0    1.0   \n3      0.001       1.0    2.0   \n4      0.001       1.0    3.0   \n5       0.01       1.0  0.025   \n6       0.01       1.0    0.5   \n7       0.01       1.0    1.0   \n8       0.01       1.0    2.0   \n9       0.01       1.0    3.0   \n10       0.1       1.0  0.025   \n11       0.1       1.0    0.5   \n12       0.1       1.0    1.0   \n13       0.1       1.0    2.0   \n14       0.1       1.0    3.0   \n15       0.5       1.0  0.025   \n16       0.5       1.0    0.5   \n17       0.5       1.0    1.0   \n18       0.5       1.0    2.0   \n19       0.5       1.0    3.0   \n20       1.0       1.0  0.025   \n21       1.0       1.0    0.5   \n22       1.0       1.0    1.0   \n23       1.0       1.0    2.0   \n24       1.0       1.0    3.0   \n\n                                   #pruned at depth=0  \\\n0   {'[PROCESS_LET]-Start_Processlet-[PROCESS_LET]...   \n1   {'[PROCESS_LET]-Start_Processlet-[PROCESS_LET]...   \n2   {'[PROCESS_LET]-Start_Processlet-[PROCESS_LET]...   \n3   {'[PROCESS_LET]-Start_Processlet-[PROCESS_LET]...   \n4                                                 NaN   \n5   {'[PROCESS_LET]-Start_Processlet-[PROCESS_LET]...   \n6   {'[PROCESS_LET]-Start_Processlet-[PROCESS_LET]...   \n7                                                 NaN   \n8                                                 NaN   \n9                                                 NaN   \n10  {'[PROCESS_LET]-Start_Processlet-[PROCESS_LET]...   \n11                                                NaN   \n12                                                NaN   \n13                                                NaN   \n14                                                NaN   \n15  {'[PROCESS_LET]-Start_Processlet-[PROCESS_LET]...   \n16                                                NaN   \n17                                                NaN   \n18                                                NaN   \n19                                                NaN   \n20  {'[PROCESS_LET]-Start_Processlet-[PROCESS_LET]...   \n21                                                NaN   \n22                                                NaN   \n23                                                NaN   \n24                                                NaN   \n\n                                   #pruned at depth=1  \\\n0   {'[PROCESS_LET]-Access_File-[FILE]': 3700, '[P...   \n1   {'[FILE]-Access_File-[PROCESS_LET]': 662, '[FI...   \n2   {'[PROCESS_LET]-Access_File-[FILE]': 1978, '[P...   \n3   {'[FILE]-Access_File-[PROCESS_LET]': 1086, '[F...   \n4   {'[FILE]-Execute_Processlet_Library-[PROCESS_L...   \n5   {'[PROCESS_LET]-Access_File-[FILE]': 4492, '[P...   \n6   {'[FILE]-Execute_Processlet_Library-[PROCESS_L...   \n7   {'[FILE]-Execute_Processlet_Library-[PROCESS_L...   \n8   {'[FILE]-Access_File-[PROCESS_LET]': 1077, '[F...   \n9   {'[FILE]-Access_File-[PROCESS_LET]': 1028, '[F...   \n10  {'[FILE]-Execute_Processlet_Library-[PROCESS_L...   \n11  {'[FILE]-Access_File-[PROCESS_LET]': 1092, '[F...   \n12  {'[FILE]-Execute_Processlet_Library-[PROCESS_L...   \n13  {'[FILE]-Access_File-[PROCESS_LET]': 879, '[FI...   \n14  {'[FILE]-Execute_Processlet_Library-[PROCESS_L...   \n15  {'[PROCESS_LET]-Access_File-[FILE]': 3681, '[P...   \n16  {'[FILE]-Access_File-[PROCESS_LET]': 980, '[FI...   \n17  {'[FILE]-Access_File-[PROCESS_LET]': 824, '[FI...   \n18  {'[FILE]-Access_File-[PROCESS_LET]': 277, '[FI...   \n19  {'[FILE]-Execute_Processlet_Library-[PROCESS_L...   \n20  {'[FILE]-Access_File-[PROCESS_LET]': 552, '[FI...   \n21  {'[FILE]-Access_File-[PROCESS_LET]': 932, '[FI...   \n22  {'[FILE]-Execute_Processlet_Library-[PROCESS_L...   \n23  {'[FILE]-Access_File-[PROCESS_LET]': 37, '[PRO...   \n24            {'[FILE]-Access_File-[PROCESS_LET]': 1}   \n\n                                   #pruned at depth=2  \\\n0   {'[FILE]-Access_File-[PROCESS_LET]': 7831, '[P...   \n1   {'[PROCESS_LET]-Access_File-[FILE]': 443, '[FI...   \n2   {'[FILE]-Access_File-[PROCESS_LET]': 11762, '[...   \n3   {'[PROCESS_LET]-Access_File-[FILE]': 801, '[FI...   \n4   {'[PROCESS_LET]-Access_File-[FILE]': 785, '[FI...   \n5   {'[FILE]-Access_File-[PROCESS_LET]': 9175, '[P...   \n6   {'[PROCESS_LET]-Access_File-[FILE]': 616, '[FI...   \n7   {'[PROCESS_LET]-Access_File-[FILE]': 872, '[FI...   \n8   {'[PROCESS_LET]-Access_File-[FILE]': 1090, '[F...   \n9   {'[PROCESS_LET]-Access_File-[FILE]': 1230, '[F...   \n10  {'[PROCESS_LET]-Access_File-[FILE]': 462, '[FI...   \n11  {'[PROCESS_LET]-Access_File-[FILE]': 1114, '[F...   \n12  {'[PROCESS_LET]-Access_File-[FILE]': 1178, '[F...   \n13  {'[PROCESS_LET]-Access_File-[FILE]': 1024, '[F...   \n14  {'[PROCESS_LET]-Access_File-[FILE]': 790, '[FI...   \n15  {'[FILE]-Access_File-[PROCESS_LET]': 7147, '[P...   \n16  {'[PROCESS_LET]-Access_File-[FILE]': 1222, '[F...   \n17  {'[PROCESS_LET]-Access_File-[FILE]': 1014, '[F...   \n18  {'[PROCESS_LET]-Access_File-[FILE]': 308, '[FI...   \n19  {'[PROCESS_LET]-Access_File-[FILE]': 31, '[FIL...   \n20  {'[FILE]-Access_File-[PROCESS_LET]': 7620, '[P...   \n21  {'[PROCESS_LET]-Access_File-[FILE]': 1129, '[F...   \n22  {'[PROCESS_LET]-Access_File-[FILE]': 723, '[FI...   \n23  {'[FILE]-Access_File-[PROCESS_LET]': 785, '[PR...   \n24            {'[FILE]-Access_File-[PROCESS_LET]': 8}   \n\n                                   #pruned at depth=3  \\\n0   {'[PROCESS_LET]-Access_File-[FILE]': 29670, '[...   \n1   {'[PROCESS_LET]-Access_File-[FILE]': 97622, '[...   \n2   {'[PROCESS_LET]-Access_File-[FILE]': 50115, '[...   \n3   {'[FILE]-Access_File-[PROCESS_LET]': 19001, '[...   \n4   {'[FILE]-Access_File-[PROCESS_LET]': 24531, '[...   \n5   {'[PROCESS_LET]-Access_File-[FILE]': 33195, '[...   \n6   {'[FILE]-Access_File-[PROCESS_LET]': 18215, '[...   \n7   {'[FILE]-Access_File-[PROCESS_LET]': 24627, '[...   \n8   {'[FILE]-Access_File-[PROCESS_LET]': 27877, '[...   \n9   {'[FILE]-Access_File-[PROCESS_LET]': 27535, '[...   \n10  {'[FILE]-Access_File-[PROCESS_LET]': 4081, '[F...   \n11  {'[FILE]-Access_File-[PROCESS_LET]': 28090, '[...   \n12  {'[FILE]-Access_File-[PROCESS_LET]': 26693, '[...   \n13  {'[FILE]-Access_File-[PROCESS_LET]': 23390, '[...   \n14  {'[FILE]-Access_File-[PROCESS_LET]': 17157, '[...   \n15  {'[PROCESS_LET]-Access_File-[FILE]': 25359, '[...   \n16  {'[FILE]-Access_File-[PROCESS_LET]': 26473, '[...   \n17  {'[FILE]-Access_File-[PROCESS_LET]': 21254, '[...   \n18  {'[FILE]-Access_File-[PROCESS_LET]': 7232, '[F...   \n19  {'[FILE]-Access_File-[PROCESS_LET]': 623, '[FI...   \n20  {'[PROCESS_LET]-Access_File-[FILE]': 26407, '[...   \n21  {'[FILE]-Access_File-[PROCESS_LET]': 25054, '[...   \n22  {'[FILE]-Access_File-[PROCESS_LET]': 15740, '[...   \n23  {'[FILE]-Access_File-[PROCESS_LET]': 1100, '[F...   \n24  {'[PROCESS_LET]-Access_File-[FILE]': 24, '[FIL...   \n\n                                   #pruned at depth=4  \\\n0   {'[FILE]-Access_File-[PROCESS_LET]': 5878, '[P...   \n1   {'[FILE]-Access_File-[PROCESS_LET]': 2533, '[P...   \n2   {'[PROCESS_LET]-Access_File-[FILE]': 172, '[FI...   \n3   {'[PROCESS_LET]-Access_File-[FILE]': 175, '[FI...   \n4   {'[FILE]-Access_File-[PROCESS_LET]': 3104, '[P...   \n5   {'[FILE]-Access_File-[PROCESS_LET]': 7501, '[P...   \n6   {'[FILE]-Access_File-[PROCESS_LET]': 3094, '[F...   \n7   {'[FILE]-Access_File-[PROCESS_LET]': 3389, '[F...   \n8   {'[PROCESS_LET]-Access_File-[FILE]': 210, '[FI...   \n9   {'[PROCESS_LET]-Access_File-[FILE]': 54, '[FIL...   \n10  {'[PROCESS_LET]-Access_File-[FILE]': 69, '[FIL...   \n11  {'[FILE]-Access_File-[PROCESS_LET]': 3292, '[F...   \n12  {'[PROCESS_LET]-Access_File-[FILE]': 55, '[FIL...   \n13  {'[PROCESS_LET]-Access_File-[FILE]': 39, '[FIL...   \n14  {'[FILE]-Access_File-[PROCESS_LET]': 614, '[PR...   \n15  {'[FILE]-Access_File-[PROCESS_LET]': 7145, '[F...   \n16  {'[PROCESS_LET]-Access_File-[FILE]': 64, '[FIL...   \n17  {'[FILE]-Access_File-[PROCESS_LET]': 1798, '[P...   \n18  {'[PROCESS_LET]-Access_File-[FILE]': 2, '[FILE...   \n19                                                NaN   \n20  {'[FILE]-Access_File-[PROCESS_LET]': 7339, '[F...   \n21  {'[FILE]-Access_File-[PROCESS_LET]': 2816, '[P...   \n22  {'[FILE]-Access_File-[PROCESS_LET]': 959, '[PR...   \n23                                                NaN   \n24                                                NaN   \n\n                                   #pruned at depth=5  \\\n0   {'[PROCESS_LET]-Access_File-[FILE]': 20134, '[...   \n1   {'[PROCESS_LET]-Access_File-[FILE]': 276, '[FI...   \n2   {'[FILE]-Access_File-[PROCESS_LET]': 1690, '[F...   \n3   {'[FILE]-Access_File-[PROCESS_LET]': 2854, '[F...   \n4   {'[FILE]-Access_File-[PROCESS_LET]': 1735, '[F...   \n5   {'[PROCESS_LET]-Access_File-[FILE]': 27280, '[...   \n6   {'[PROCESS_LET]-Access_File-[FILE]': 174, '[FI...   \n7   {'[FILE]-Access_File-[PROCESS_LET]': 2054, '[F...   \n8   {'[FILE]-Access_File-[PROCESS_LET]': 1033, '[F...   \n9   {'[FILE]-Access_File-[PROCESS_LET]': 855, '[PR...   \n10  {'[PROCESS_LET]-Access_File-[FILE]': 28766, '[...   \n11  {'[FILE]-Access_File-[PROCESS_LET]': 953, '[PR...   \n12  {'[FILE]-Access_File-[PROCESS_LET]': 1403, '[F...   \n13  {'[FILE]-Access_File-[PROCESS_LET]': 361, '[FI...   \n14  {'[FILE]-Access_File-[PROCESS_LET]': 136, '[FI...   \n15  {'[PROCESS_LET]-Access_File-[FILE]': 25228, '[...   \n16  {'[PROCESS_LET]-Access_File-[FILE]': 227, '[PR...   \n17  {'[FILE]-Access_File-[PROCESS_LET]': 809, '[FI...   \n18                                                NaN   \n19                                                NaN   \n20  {'[PROCESS_LET]-Access_File-[FILE]': 26864, '[...   \n21  {'[FILE]-Access_File-[PROCESS_LET]': 715, '[FI...   \n22  {'[FILE]-Access_File-[PROCESS_LET]': 119, '[FI...   \n23                                                NaN   \n24                                                NaN   \n\n                                   #pruned at depth=6  ... #edges kept avg  \\\n0   {'[FILE]-Access_File-[PROCESS_LET]': 673, '[FI...  ...          540.92   \n1   {'[FILE]-Execute_Processlet_Library-[PROCESS_L...  ...          867.64   \n2   {'[PROCESS_LET]-Access_File-[FILE]': 2, '[FILE...  ...          1073.5   \n3   {'[PROCESS_LET]-Access_File-[FILE]': 80, '[FIL...  ...         1496.54   \n4   {'[FILE]-Access_File-[PROCESS_LET]': 587, '[PR...  ...         1588.96   \n5   {'[FILE]-Access_File-[PROCESS_LET]': 347, '[PR...  ...           629.3   \n6   {'[FILE]-Access_File-[PROCESS_LET]': 900, '[FI...  ...         1163.32   \n7   {'[PROCESS_LET]-Access_File-[FILE]': 33, '[FIL...  ...         1395.18   \n8             {'[PROCESS_LET]-Access_File-[FILE]': 1}  ...         1594.22   \n9             {'[PROCESS_LET]-Access_File-[FILE]': 2}  ...         1617.38   \n10  {'[FILE]-Access_File-[PROCESS_LET]': 244, '[PR...  ...          600.56   \n11                                                NaN  ...         1279.14   \n12            {'[PROCESS_LET]-Access_File-[FILE]': 4}  ...         1423.52   \n13            {'[PROCESS_LET]-Access_File-[FILE]': 2}  ...         1671.28   \n14                                                NaN  ...         1776.24   \n15  {'[PROCESS_LET]-Access_File-[FILE]': 5, '[FILE...  ...          577.52   \n16                                                NaN  ...         1309.46   \n17            {'[PROCESS_LET]-Access_File-[FILE]': 2}  ...          1508.1   \n18                                                NaN  ...         1898.06   \n19                                                NaN  ...         1993.08   \n20  {'[FILE]-Access_File-[PROCESS_LET]': 250, '[PR...  ...          613.18   \n21            {'[PROCESS_LET]-Access_File-[FILE]': 2}  ...         1332.94   \n22                                                NaN  ...         1595.58   \n23                                                NaN  ...         1974.84   \n24                                                NaN  ...         2000.82   \n\n   #edges kept stdev #edges kept min #edges kept max #disconnected nodes avg  \\\n0         318.580153               0            1206                 1094.26   \n1         215.242539             657            1295                  890.74   \n2         226.512715             782            1414                  762.98   \n3          143.50989             985            1604                   463.0   \n4          22.353487            1515            1625                  385.44   \n5         303.361913               0            1136                 1039.18   \n6         156.854001             684            1313                  611.58   \n7          34.747483            1217            1446                  461.42   \n8          14.034657            1543            1628                  375.58   \n9           15.46207            1582            1645                  360.38   \n10        320.215812               0            1202                 1056.56   \n11         19.265524            1235            1315                  506.66   \n12         18.035787            1378            1471                  437.46   \n13         14.587721            1629            1699                   303.4   \n14         12.708359            1744            1805                  213.06   \n15        364.265685               0            1248                 1062.62   \n16         18.677484            1280            1367                   478.6   \n17          16.65563            1472            1554                  360.22   \n18         10.232126            1874            1923                   90.92   \n19          3.205246            1986            1999                     7.5   \n20        359.989427               0            1216                 1045.54   \n21         18.024883            1290            1376                  458.56   \n22         12.424315            1565            1625                  275.42   \n23           4.16346            1967            1987                   17.88   \n24          0.384187            2000            2001                    0.04   \n\n   #disconnected nodes stdev #disconnected nodes min #disconnected nodes max  \\\n0                 234.218856                     541                    1488   \n1                 203.179311                     488                    1084   \n2                 215.930868                     435                    1029   \n3                 135.170115                     357                     945   \n4                  18.798042                     354                     444   \n5                 224.842228                     576                    1488   \n6                 148.361058                     486                    1076   \n7                  29.685747                     420                     613   \n8                  13.377728                     348                     414   \n9                  15.313902                     330                     394   \n10                 235.15358                     539                    1488   \n11                 16.725561                     467                     536   \n12                 14.729847                     401                     466   \n13                  13.56466                     275                     339   \n14                 12.052236                     186                     241   \n15                273.971742                     502                    1488   \n16                 14.061294                     435                     502   \n17                 14.371207                     326                     394   \n18                  9.715637                      75                     119   \n19                  3.157531                       1                      15   \n20                277.320407                     524                    1488   \n21                 13.340405                     426                     485   \n22                 11.594982                     244                     301   \n23                  3.901999                      10                      25   \n24                  0.195959                       0                       1   \n\n                                   #pruned at depth=9  \\\n0                                                 NaN   \n1             {'[PROCESS_LET]-Access_File-[FILE]': 4}   \n2                                                 NaN   \n3   {'[FILE]-Access_File-[PROCESS_LET]': 85, '[PRO...   \n4                                                 NaN   \n5                                                 NaN   \n6                                                 NaN   \n7                                                 NaN   \n8                                                 NaN   \n9                                                 NaN   \n10                                                NaN   \n11                                                NaN   \n12                                                NaN   \n13                                                NaN   \n14                                                NaN   \n15                                                NaN   \n16                                                NaN   \n17                                                NaN   \n18                                                NaN   \n19                                                NaN   \n20                                                NaN   \n21                                                NaN   \n22                                                NaN   \n23                                                NaN   \n24                                                NaN   \n\n                        #pruned at depth=10  \n0                                       NaN  \n1                                       NaN  \n2                                       NaN  \n3   {'[PROCESS_LET]-Access_File-[FILE]': 1}  \n4                                       NaN  \n5                                       NaN  \n6                                       NaN  \n7                                       NaN  \n8                                       NaN  \n9                                       NaN  \n10                                      NaN  \n11                                      NaN  \n12                                      NaN  \n13                                      NaN  \n14                                      NaN  \n15                                      NaN  \n16                                      NaN  \n17                                      NaN  \n18                                      NaN  \n19                                      NaN  \n20                                      NaN  \n21                                      NaN  \n22                                      NaN  \n23                                      NaN  \n24                                      NaN  \n\n[25 rows x 26 columns]",
      "text/html": "<div>\n<style scoped>\n    .dataframe tbody tr th:only-of-type {\n        vertical-align: middle;\n    }\n\n    .dataframe tbody tr th {\n        vertical-align: top;\n    }\n\n    .dataframe thead th {\n        text-align: right;\n    }\n</style>\n<table border=\"1\" class=\"dataframe\">\n  <thead>\n    <tr style=\"text-align: right;\">\n      <th></th>\n      <th>epsilon_1</th>\n      <th>epsilon_2</th>\n      <th>alpha</th>\n      <th>#pruned at depth=0</th>\n      <th>#pruned at depth=1</th>\n      <th>#pruned at depth=2</th>\n      <th>#pruned at depth=3</th>\n      <th>#pruned at depth=4</th>\n      <th>#pruned at depth=5</th>\n      <th>#pruned at depth=6</th>\n      <th>...</th>\n      <th>#edges kept avg</th>\n      <th>#edges kept stdev</th>\n      <th>#edges kept min</th>\n      <th>#edges kept max</th>\n      <th>#disconnected nodes avg</th>\n      <th>#disconnected nodes stdev</th>\n      <th>#disconnected nodes min</th>\n      <th>#disconnected nodes max</th>\n      <th>#pruned at depth=9</th>\n      <th>#pruned at depth=10</th>\n    </tr>\n  </thead>\n  <tbody>\n    <tr>\n      <th>0</th>\n      <td>0.001</td>\n      <td>1.0</td>\n      <td>0.025</td>\n      <td>{'[PROCESS_LET]-Start_Processlet-[PROCESS_LET]...</td>\n      <td>{'[PROCESS_LET]-Access_File-[FILE]': 3700, '[P...</td>\n      <td>{'[FILE]-Access_File-[PROCESS_LET]': 7831, '[P...</td>\n      <td>{'[PROCESS_LET]-Access_File-[FILE]': 29670, '[...</td>\n      <td>{'[FILE]-Access_File-[PROCESS_LET]': 5878, '[P...</td>\n      <td>{'[PROCESS_LET]-Access_File-[FILE]': 20134, '[...</td>\n      <td>{'[FILE]-Access_File-[PROCESS_LET]': 673, '[FI...</td>\n      <td>...</td>\n      <td>540.92</td>\n      <td>318.580153</td>\n      <td>0</td>\n      <td>1206</td>\n      <td>1094.26</td>\n      <td>234.218856</td>\n      <td>541</td>\n      <td>1488</td>\n      <td>NaN</td>\n      <td>NaN</td>\n    </tr>\n    <tr>\n      <th>1</th>\n      <td>0.001</td>\n      <td>1.0</td>\n      <td>0.5</td>\n      <td>{'[PROCESS_LET]-Start_Processlet-[PROCESS_LET]...</td>\n      <td>{'[FILE]-Access_File-[PROCESS_LET]': 662, '[FI...</td>\n      <td>{'[PROCESS_LET]-Access_File-[FILE]': 443, '[FI...</td>\n      <td>{'[PROCESS_LET]-Access_File-[FILE]': 97622, '[...</td>\n      <td>{'[FILE]-Access_File-[PROCESS_LET]': 2533, '[P...</td>\n      <td>{'[PROCESS_LET]-Access_File-[FILE]': 276, '[FI...</td>\n      <td>{'[FILE]-Execute_Processlet_Library-[PROCESS_L...</td>\n      <td>...</td>\n      <td>867.64</td>\n      <td>215.242539</td>\n      <td>657</td>\n      <td>1295</td>\n      <td>890.74</td>\n      <td>203.179311</td>\n      <td>488</td>\n      <td>1084</td>\n      <td>{'[PROCESS_LET]-Access_File-[FILE]': 4}</td>\n      <td>NaN</td>\n    </tr>\n    <tr>\n      <th>2</th>\n      <td>0.001</td>\n      <td>1.0</td>\n      <td>1.0</td>\n      <td>{'[PROCESS_LET]-Start_Processlet-[PROCESS_LET]...</td>\n      <td>{'[PROCESS_LET]-Access_File-[FILE]': 1978, '[P...</td>\n      <td>{'[FILE]-Access_File-[PROCESS_LET]': 11762, '[...</td>\n      <td>{'[PROCESS_LET]-Access_File-[FILE]': 50115, '[...</td>\n      <td>{'[PROCESS_LET]-Access_File-[FILE]': 172, '[FI...</td>\n      <td>{'[FILE]-Access_File-[PROCESS_LET]': 1690, '[F...</td>\n      <td>{'[PROCESS_LET]-Access_File-[FILE]': 2, '[FILE...</td>\n      <td>...</td>\n      <td>1073.5</td>\n      <td>226.512715</td>\n      <td>782</td>\n      <td>1414</td>\n      <td>762.98</td>\n      <td>215.930868</td>\n      <td>435</td>\n      <td>1029</td>\n      <td>NaN</td>\n      <td>NaN</td>\n    </tr>\n    <tr>\n      <th>3</th>\n      <td>0.001</td>\n      <td>1.0</td>\n      <td>2.0</td>\n      <td>{'[PROCESS_LET]-Start_Processlet-[PROCESS_LET]...</td>\n      <td>{'[FILE]-Access_File-[PROCESS_LET]': 1086, '[F...</td>\n      <td>{'[PROCESS_LET]-Access_File-[FILE]': 801, '[FI...</td>\n      <td>{'[FILE]-Access_File-[PROCESS_LET]': 19001, '[...</td>\n      <td>{'[PROCESS_LET]-Access_File-[FILE]': 175, '[FI...</td>\n      <td>{'[FILE]-Access_File-[PROCESS_LET]': 2854, '[F...</td>\n      <td>{'[PROCESS_LET]-Access_File-[FILE]': 80, '[FIL...</td>\n      <td>...</td>\n      <td>1496.54</td>\n      <td>143.50989</td>\n      <td>985</td>\n      <td>1604</td>\n      <td>463.0</td>\n      <td>135.170115</td>\n      <td>357</td>\n      <td>945</td>\n      <td>{'[FILE]-Access_File-[PROCESS_LET]': 85, '[PRO...</td>\n      <td>{'[PROCESS_LET]-Access_File-[FILE]': 1}</td>\n    </tr>\n    <tr>\n      <th>4</th>\n      <td>0.001</td>\n      <td>1.0</td>\n      <td>3.0</td>\n      <td>NaN</td>\n      <td>{'[FILE]-Execute_Processlet_Library-[PROCESS_L...</td>\n      <td>{'[PROCESS_LET]-Access_File-[FILE]': 785, '[FI...</td>\n      <td>{'[FILE]-Access_File-[PROCESS_LET]': 24531, '[...</td>\n      <td>{'[FILE]-Access_File-[PROCESS_LET]': 3104, '[P...</td>\n      <td>{'[FILE]-Access_File-[PROCESS_LET]': 1735, '[F...</td>\n      <td>{'[FILE]-Access_File-[PROCESS_LET]': 587, '[PR...</td>\n      <td>...</td>\n      <td>1588.96</td>\n      <td>22.353487</td>\n      <td>1515</td>\n      <td>1625</td>\n      <td>385.44</td>\n      <td>18.798042</td>\n      <td>354</td>\n      <td>444</td>\n      <td>NaN</td>\n      <td>NaN</td>\n    </tr>\n    <tr>\n      <th>5</th>\n      <td>0.01</td>\n      <td>1.0</td>\n      <td>0.025</td>\n      <td>{'[PROCESS_LET]-Start_Processlet-[PROCESS_LET]...</td>\n      <td>{'[PROCESS_LET]-Access_File-[FILE]': 4492, '[P...</td>\n      <td>{'[FILE]-Access_File-[PROCESS_LET]': 9175, '[P...</td>\n      <td>{'[PROCESS_LET]-Access_File-[FILE]': 33195, '[...</td>\n      <td>{'[FILE]-Access_File-[PROCESS_LET]': 7501, '[P...</td>\n      <td>{'[PROCESS_LET]-Access_File-[FILE]': 27280, '[...</td>\n      <td>{'[FILE]-Access_File-[PROCESS_LET]': 347, '[PR...</td>\n      <td>...</td>\n      <td>629.3</td>\n      <td>303.361913</td>\n      <td>0</td>\n      <td>1136</td>\n      <td>1039.18</td>\n      <td>224.842228</td>\n      <td>576</td>\n      <td>1488</td>\n      <td>NaN</td>\n      <td>NaN</td>\n    </tr>\n    <tr>\n      <th>6</th>\n      <td>0.01</td>\n      <td>1.0</td>\n      <td>0.5</td>\n      <td>{'[PROCESS_LET]-Start_Processlet-[PROCESS_LET]...</td>\n      <td>{'[FILE]-Execute_Processlet_Library-[PROCESS_L...</td>\n      <td>{'[PROCESS_LET]-Access_File-[FILE]': 616, '[FI...</td>\n      <td>{'[FILE]-Access_File-[PROCESS_LET]': 18215, '[...</td>\n      <td>{'[FILE]-Access_File-[PROCESS_LET]': 3094, '[F...</td>\n      <td>{'[PROCESS_LET]-Access_File-[FILE]': 174, '[FI...</td>\n      <td>{'[FILE]-Access_File-[PROCESS_LET]': 900, '[FI...</td>\n      <td>...</td>\n      <td>1163.32</td>\n      <td>156.854001</td>\n      <td>684</td>\n      <td>1313</td>\n      <td>611.58</td>\n      <td>148.361058</td>\n      <td>486</td>\n      <td>1076</td>\n      <td>NaN</td>\n      <td>NaN</td>\n    </tr>\n    <tr>\n      <th>7</th>\n      <td>0.01</td>\n      <td>1.0</td>\n      <td>1.0</td>\n      <td>NaN</td>\n      <td>{'[FILE]-Execute_Processlet_Library-[PROCESS_L...</td>\n      <td>{'[PROCESS_LET]-Access_File-[FILE]': 872, '[FI...</td>\n      <td>{'[FILE]-Access_File-[PROCESS_LET]': 24627, '[...</td>\n      <td>{'[FILE]-Access_File-[PROCESS_LET]': 3389, '[F...</td>\n      <td>{'[FILE]-Access_File-[PROCESS_LET]': 2054, '[F...</td>\n      <td>{'[PROCESS_LET]-Access_File-[FILE]': 33, '[FIL...</td>\n      <td>...</td>\n      <td>1395.18</td>\n      <td>34.747483</td>\n      <td>1217</td>\n      <td>1446</td>\n      <td>461.42</td>\n      <td>29.685747</td>\n      <td>420</td>\n      <td>613</td>\n      <td>NaN</td>\n      <td>NaN</td>\n    </tr>\n    <tr>\n      <th>8</th>\n      <td>0.01</td>\n      <td>1.0</td>\n      <td>2.0</td>\n      <td>NaN</td>\n      <td>{'[FILE]-Access_File-[PROCESS_LET]': 1077, '[F...</td>\n      <td>{'[PROCESS_LET]-Access_File-[FILE]': 1090, '[F...</td>\n      <td>{'[FILE]-Access_File-[PROCESS_LET]': 27877, '[...</td>\n      <td>{'[PROCESS_LET]-Access_File-[FILE]': 210, '[FI...</td>\n      <td>{'[FILE]-Access_File-[PROCESS_LET]': 1033, '[F...</td>\n      <td>{'[PROCESS_LET]-Access_File-[FILE]': 1}</td>\n      <td>...</td>\n      <td>1594.22</td>\n      <td>14.034657</td>\n      <td>1543</td>\n      <td>1628</td>\n      <td>375.58</td>\n      <td>13.377728</td>\n      <td>348</td>\n      <td>414</td>\n      <td>NaN</td>\n      <td>NaN</td>\n    </tr>\n    <tr>\n      <th>9</th>\n      <td>0.01</td>\n      <td>1.0</td>\n      <td>3.0</td>\n      <td>NaN</td>\n      <td>{'[FILE]-Access_File-[PROCESS_LET]': 1028, '[F...</td>\n      <td>{'[PROCESS_LET]-Access_File-[FILE]': 1230, '[F...</td>\n      <td>{'[FILE]-Access_File-[PROCESS_LET]': 27535, '[...</td>\n      <td>{'[PROCESS_LET]-Access_File-[FILE]': 54, '[FIL...</td>\n      <td>{'[FILE]-Access_File-[PROCESS_LET]': 855, '[PR...</td>\n      <td>{'[PROCESS_LET]-Access_File-[FILE]': 2}</td>\n      <td>...</td>\n      <td>1617.38</td>\n      <td>15.46207</td>\n      <td>1582</td>\n      <td>1645</td>\n      <td>360.38</td>\n      <td>15.313902</td>\n      <td>330</td>\n      <td>394</td>\n      <td>NaN</td>\n      <td>NaN</td>\n    </tr>\n    <tr>\n      <th>10</th>\n      <td>0.1</td>\n      <td>1.0</td>\n      <td>0.025</td>\n      <td>{'[PROCESS_LET]-Start_Processlet-[PROCESS_LET]...</td>\n      <td>{'[FILE]-Execute_Processlet_Library-[PROCESS_L...</td>\n      <td>{'[PROCESS_LET]-Access_File-[FILE]': 462, '[FI...</td>\n      <td>{'[FILE]-Access_File-[PROCESS_LET]': 4081, '[F...</td>\n      <td>{'[PROCESS_LET]-Access_File-[FILE]': 69, '[FIL...</td>\n      <td>{'[PROCESS_LET]-Access_File-[FILE]': 28766, '[...</td>\n      <td>{'[FILE]-Access_File-[PROCESS_LET]': 244, '[PR...</td>\n      <td>...</td>\n      <td>600.56</td>\n      <td>320.215812</td>\n      <td>0</td>\n      <td>1202</td>\n      <td>1056.56</td>\n      <td>235.15358</td>\n      <td>539</td>\n      <td>1488</td>\n      <td>NaN</td>\n      <td>NaN</td>\n    </tr>\n    <tr>\n      <th>11</th>\n      <td>0.1</td>\n      <td>1.0</td>\n      <td>0.5</td>\n      <td>NaN</td>\n      <td>{'[FILE]-Access_File-[PROCESS_LET]': 1092, '[F...</td>\n      <td>{'[PROCESS_LET]-Access_File-[FILE]': 1114, '[F...</td>\n      <td>{'[FILE]-Access_File-[PROCESS_LET]': 28090, '[...</td>\n      <td>{'[FILE]-Access_File-[PROCESS_LET]': 3292, '[F...</td>\n      <td>{'[FILE]-Access_File-[PROCESS_LET]': 953, '[PR...</td>\n      <td>NaN</td>\n      <td>...</td>\n      <td>1279.14</td>\n      <td>19.265524</td>\n      <td>1235</td>\n      <td>1315</td>\n      <td>506.66</td>\n      <td>16.725561</td>\n      <td>467</td>\n      <td>536</td>\n      <td>NaN</td>\n      <td>NaN</td>\n    </tr>\n    <tr>\n      <th>12</th>\n      <td>0.1</td>\n      <td>1.0</td>\n      <td>1.0</td>\n      <td>NaN</td>\n      <td>{'[FILE]-Execute_Processlet_Library-[PROCESS_L...</td>\n      <td>{'[PROCESS_LET]-Access_File-[FILE]': 1178, '[F...</td>\n      <td>{'[FILE]-Access_File-[PROCESS_LET]': 26693, '[...</td>\n      <td>{'[PROCESS_LET]-Access_File-[FILE]': 55, '[FIL...</td>\n      <td>{'[FILE]-Access_File-[PROCESS_LET]': 1403, '[F...</td>\n      <td>{'[PROCESS_LET]-Access_File-[FILE]': 4}</td>\n      <td>...</td>\n      <td>1423.52</td>\n      <td>18.035787</td>\n      <td>1378</td>\n      <td>1471</td>\n      <td>437.46</td>\n      <td>14.729847</td>\n      <td>401</td>\n      <td>466</td>\n      <td>NaN</td>\n      <td>NaN</td>\n    </tr>\n    <tr>\n      <th>13</th>\n      <td>0.1</td>\n      <td>1.0</td>\n      <td>2.0</td>\n      <td>NaN</td>\n      <td>{'[FILE]-Access_File-[PROCESS_LET]': 879, '[FI...</td>\n      <td>{'[PROCESS_LET]-Access_File-[FILE]': 1024, '[F...</td>\n      <td>{'[FILE]-Access_File-[PROCESS_LET]': 23390, '[...</td>\n      <td>{'[PROCESS_LET]-Access_File-[FILE]': 39, '[FIL...</td>\n      <td>{'[FILE]-Access_File-[PROCESS_LET]': 361, '[FI...</td>\n      <td>{'[PROCESS_LET]-Access_File-[FILE]': 2}</td>\n      <td>...</td>\n      <td>1671.28</td>\n      <td>14.587721</td>\n      <td>1629</td>\n      <td>1699</td>\n      <td>303.4</td>\n      <td>13.56466</td>\n      <td>275</td>\n      <td>339</td>\n      <td>NaN</td>\n      <td>NaN</td>\n    </tr>\n    <tr>\n      <th>14</th>\n      <td>0.1</td>\n      <td>1.0</td>\n      <td>3.0</td>\n      <td>NaN</td>\n      <td>{'[FILE]-Execute_Processlet_Library-[PROCESS_L...</td>\n      <td>{'[PROCESS_LET]-Access_File-[FILE]': 790, '[FI...</td>\n      <td>{'[FILE]-Access_File-[PROCESS_LET]': 17157, '[...</td>\n      <td>{'[FILE]-Access_File-[PROCESS_LET]': 614, '[PR...</td>\n      <td>{'[FILE]-Access_File-[PROCESS_LET]': 136, '[FI...</td>\n      <td>NaN</td>\n      <td>...</td>\n      <td>1776.24</td>\n      <td>12.708359</td>\n      <td>1744</td>\n      <td>1805</td>\n      <td>213.06</td>\n      <td>12.052236</td>\n      <td>186</td>\n      <td>241</td>\n      <td>NaN</td>\n      <td>NaN</td>\n    </tr>\n    <tr>\n      <th>15</th>\n      <td>0.5</td>\n      <td>1.0</td>\n      <td>0.025</td>\n      <td>{'[PROCESS_LET]-Start_Processlet-[PROCESS_LET]...</td>\n      <td>{'[PROCESS_LET]-Access_File-[FILE]': 3681, '[P...</td>\n      <td>{'[FILE]-Access_File-[PROCESS_LET]': 7147, '[P...</td>\n      <td>{'[PROCESS_LET]-Access_File-[FILE]': 25359, '[...</td>\n      <td>{'[FILE]-Access_File-[PROCESS_LET]': 7145, '[F...</td>\n      <td>{'[PROCESS_LET]-Access_File-[FILE]': 25228, '[...</td>\n      <td>{'[PROCESS_LET]-Access_File-[FILE]': 5, '[FILE...</td>\n      <td>...</td>\n      <td>577.52</td>\n      <td>364.265685</td>\n      <td>0</td>\n      <td>1248</td>\n      <td>1062.62</td>\n      <td>273.971742</td>\n      <td>502</td>\n      <td>1488</td>\n      <td>NaN</td>\n      <td>NaN</td>\n    </tr>\n    <tr>\n      <th>16</th>\n      <td>0.5</td>\n      <td>1.0</td>\n      <td>0.5</td>\n      <td>NaN</td>\n      <td>{'[FILE]-Access_File-[PROCESS_LET]': 980, '[FI...</td>\n      <td>{'[PROCESS_LET]-Access_File-[FILE]': 1222, '[F...</td>\n      <td>{'[FILE]-Access_File-[PROCESS_LET]': 26473, '[...</td>\n      <td>{'[PROCESS_LET]-Access_File-[FILE]': 64, '[FIL...</td>\n      <td>{'[PROCESS_LET]-Access_File-[FILE]': 227, '[PR...</td>\n      <td>NaN</td>\n      <td>...</td>\n      <td>1309.46</td>\n      <td>18.677484</td>\n      <td>1280</td>\n      <td>1367</td>\n      <td>478.6</td>\n      <td>14.061294</td>\n      <td>435</td>\n      <td>502</td>\n      <td>NaN</td>\n      <td>NaN</td>\n    </tr>\n    <tr>\n      <th>17</th>\n      <td>0.5</td>\n      <td>1.0</td>\n      <td>1.0</td>\n      <td>NaN</td>\n      <td>{'[FILE]-Access_File-[PROCESS_LET]': 824, '[FI...</td>\n      <td>{'[PROCESS_LET]-Access_File-[FILE]': 1014, '[F...</td>\n      <td>{'[FILE]-Access_File-[PROCESS_LET]': 21254, '[...</td>\n      <td>{'[FILE]-Access_File-[PROCESS_LET]': 1798, '[P...</td>\n      <td>{'[FILE]-Access_File-[PROCESS_LET]': 809, '[FI...</td>\n      <td>{'[PROCESS_LET]-Access_File-[FILE]': 2}</td>\n      <td>...</td>\n      <td>1508.1</td>\n      <td>16.65563</td>\n      <td>1472</td>\n      <td>1554</td>\n      <td>360.22</td>\n      <td>14.371207</td>\n      <td>326</td>\n      <td>394</td>\n      <td>NaN</td>\n      <td>NaN</td>\n    </tr>\n    <tr>\n      <th>18</th>\n      <td>0.5</td>\n      <td>1.0</td>\n      <td>2.0</td>\n      <td>NaN</td>\n      <td>{'[FILE]-Access_File-[PROCESS_LET]': 277, '[FI...</td>\n      <td>{'[PROCESS_LET]-Access_File-[FILE]': 308, '[FI...</td>\n      <td>{'[FILE]-Access_File-[PROCESS_LET]': 7232, '[F...</td>\n      <td>{'[PROCESS_LET]-Access_File-[FILE]': 2, '[FILE...</td>\n      <td>NaN</td>\n      <td>NaN</td>\n      <td>...</td>\n      <td>1898.06</td>\n      <td>10.232126</td>\n      <td>1874</td>\n      <td>1923</td>\n      <td>90.92</td>\n      <td>9.715637</td>\n      <td>75</td>\n      <td>119</td>\n      <td>NaN</td>\n      <td>NaN</td>\n    </tr>\n    <tr>\n      <th>19</th>\n      <td>0.5</td>\n      <td>1.0</td>\n      <td>3.0</td>\n      <td>NaN</td>\n      <td>{'[FILE]-Execute_Processlet_Library-[PROCESS_L...</td>\n      <td>{'[PROCESS_LET]-Access_File-[FILE]': 31, '[FIL...</td>\n      <td>{'[FILE]-Access_File-[PROCESS_LET]': 623, '[FI...</td>\n      <td>NaN</td>\n      <td>NaN</td>\n      <td>NaN</td>\n      <td>...</td>\n      <td>1993.08</td>\n      <td>3.205246</td>\n      <td>1986</td>\n      <td>1999</td>\n      <td>7.5</td>\n      <td>3.157531</td>\n      <td>1</td>\n      <td>15</td>\n      <td>NaN</td>\n      <td>NaN</td>\n    </tr>\n    <tr>\n      <th>20</th>\n      <td>1.0</td>\n      <td>1.0</td>\n      <td>0.025</td>\n      <td>{'[PROCESS_LET]-Start_Processlet-[PROCESS_LET]...</td>\n      <td>{'[FILE]-Access_File-[PROCESS_LET]': 552, '[FI...</td>\n      <td>{'[FILE]-Access_File-[PROCESS_LET]': 7620, '[P...</td>\n      <td>{'[PROCESS_LET]-Access_File-[FILE]': 26407, '[...</td>\n      <td>{'[FILE]-Access_File-[PROCESS_LET]': 7339, '[F...</td>\n      <td>{'[PROCESS_LET]-Access_File-[FILE]': 26864, '[...</td>\n      <td>{'[FILE]-Access_File-[PROCESS_LET]': 250, '[PR...</td>\n      <td>...</td>\n      <td>613.18</td>\n      <td>359.989427</td>\n      <td>0</td>\n      <td>1216</td>\n      <td>1045.54</td>\n      <td>277.320407</td>\n      <td>524</td>\n      <td>1488</td>\n      <td>NaN</td>\n      <td>NaN</td>\n    </tr>\n    <tr>\n      <th>21</th>\n      <td>1.0</td>\n      <td>1.0</td>\n      <td>0.5</td>\n      <td>NaN</td>\n      <td>{'[FILE]-Access_File-[PROCESS_LET]': 932, '[FI...</td>\n      <td>{'[PROCESS_LET]-Access_File-[FILE]': 1129, '[F...</td>\n      <td>{'[FILE]-Access_File-[PROCESS_LET]': 25054, '[...</td>\n      <td>{'[FILE]-Access_File-[PROCESS_LET]': 2816, '[P...</td>\n      <td>{'[FILE]-Access_File-[PROCESS_LET]': 715, '[FI...</td>\n      <td>{'[PROCESS_LET]-Access_File-[FILE]': 2}</td>\n      <td>...</td>\n      <td>1332.94</td>\n      <td>18.024883</td>\n      <td>1290</td>\n      <td>1376</td>\n      <td>458.56</td>\n      <td>13.340405</td>\n      <td>426</td>\n      <td>485</td>\n      <td>NaN</td>\n      <td>NaN</td>\n    </tr>\n    <tr>\n      <th>22</th>\n      <td>1.0</td>\n      <td>1.0</td>\n      <td>1.0</td>\n      <td>NaN</td>\n      <td>{'[FILE]-Execute_Processlet_Library-[PROCESS_L...</td>\n      <td>{'[PROCESS_LET]-Access_File-[FILE]': 723, '[FI...</td>\n      <td>{'[FILE]-Access_File-[PROCESS_LET]': 15740, '[...</td>\n      <td>{'[FILE]-Access_File-[PROCESS_LET]': 959, '[PR...</td>\n      <td>{'[FILE]-Access_File-[PROCESS_LET]': 119, '[FI...</td>\n      <td>NaN</td>\n      <td>...</td>\n      <td>1595.58</td>\n      <td>12.424315</td>\n      <td>1565</td>\n      <td>1625</td>\n      <td>275.42</td>\n      <td>11.594982</td>\n      <td>244</td>\n      <td>301</td>\n      <td>NaN</td>\n      <td>NaN</td>\n    </tr>\n    <tr>\n      <th>23</th>\n      <td>1.0</td>\n      <td>1.0</td>\n      <td>2.0</td>\n      <td>NaN</td>\n      <td>{'[FILE]-Access_File-[PROCESS_LET]': 37, '[PRO...</td>\n      <td>{'[FILE]-Access_File-[PROCESS_LET]': 785, '[PR...</td>\n      <td>{'[FILE]-Access_File-[PROCESS_LET]': 1100, '[F...</td>\n      <td>NaN</td>\n      <td>NaN</td>\n      <td>NaN</td>\n      <td>...</td>\n      <td>1974.84</td>\n      <td>4.16346</td>\n      <td>1967</td>\n      <td>1987</td>\n      <td>17.88</td>\n      <td>3.901999</td>\n      <td>10</td>\n      <td>25</td>\n      <td>NaN</td>\n      <td>NaN</td>\n    </tr>\n    <tr>\n      <th>24</th>\n      <td>1.0</td>\n      <td>1.0</td>\n      <td>3.0</td>\n      <td>NaN</td>\n      <td>{'[FILE]-Access_File-[PROCESS_LET]': 1}</td>\n      <td>{'[FILE]-Access_File-[PROCESS_LET]': 8}</td>\n      <td>{'[PROCESS_LET]-Access_File-[FILE]': 24, '[FIL...</td>\n      <td>NaN</td>\n      <td>NaN</td>\n      <td>NaN</td>\n      <td>...</td>\n      <td>2000.82</td>\n      <td>0.384187</td>\n      <td>2000</td>\n      <td>2001</td>\n      <td>0.04</td>\n      <td>0.195959</td>\n      <td>0</td>\n      <td>1</td>\n      <td>NaN</td>\n      <td>NaN</td>\n    </tr>\n  </tbody>\n</table>\n<p>25 rows × 26 columns</p>\n</div>"
     },
     "execution_count": 8,
     "metadata": {},
     "output_type": "execute_result"
    }
   ],
   "source": [
    "import pandas as pd\n",
    "\n",
    "df: pd.DataFrame = results.copy(deep=True)\n",
    "df"
   ],
   "metadata": {
    "collapsed": false,
    "ExecuteTime": {
     "end_time": "2023-11-26T22:55:26.410547Z",
     "start_time": "2023-11-26T22:55:26.407122Z"
    }
   },
   "id": "73ab4d897cfb8eaa"
  },
  {
   "cell_type": "code",
   "execution_count": 6,
   "outputs": [
    {
     "data": {
      "text/plain": "<Figure size 2000x1000 with 4 Axes>",
      "image/png": "[encoded data removed]"
     },
     "metadata": {},
     "output_type": "display_data"
    }
   ],
   "source": [
    "import math\n",
    "import matplotlib.pyplot as plt\n",
    "import seaborn as sns\n",
    "\n",
    "stats = ['#edges avg', '#edges stdev', '#disconnected nodes avg']\n",
    "cols = 2\n",
    "rows = math.ceil(len(stats) / cols)\n",
    "\n",
    "fig, axes = plt.subplots(rows, cols, figsize=(20, rows * 5))\n",
    "axes = axes.flatten()\n",
    "def create_figure(x_column: str, y_column: str, ax: plt.Axes):\n",
    "    palette = sns.color_palette('hls', len(df['alpha'].unique()))\n",
    "    sns.barplot(data=df,\n",
    "                x=x_column,\n",
    "                y=y_column,\n",
    "                ax=ax,\n",
    "                hue='alpha',\n",
    "                palette=palette)\n",
    "    ax.set_title(y_column)\n",
    "\n",
    "for i, stat in enumerate(stats):\n",
    "    create_figure('epsilon_1', stat, axes[i])\n",
    "for j in range(i + 1, rows * cols):\n",
    "    axes[j].set_visible(False)\n",
    "plt.tight_layout()\n",
    "plt.show()"
   ],
   "metadata": {
    "collapsed": false,
    "ExecuteTime": {
     "end_time": "2023-11-26T22:54:27.677641Z",
     "start_time": "2023-11-26T22:54:27.269495Z"
    }
   },
   "id": "cf1859b93c6df0af"
  },
  {
   "cell_type": "markdown",
   "source": [
    "## Average number of nodes pruned by depth"
   ],
   "metadata": {
    "collapsed": false
   },
   "id": "91df4660ca15fbd7"
  },
  {
   "cell_type": "code",
   "execution_count": 35,
   "outputs": [],
   "source": [
    "from collections import Counter\n",
    "import plotly.express as px\n",
    "from algorithm import PRUNED_AT_DEPTH\n",
    "\n",
    "id_vars = ['epsilon_1', 'alpha']\n",
    "depth_df = df.loc[:,id_vars]\n",
    "depth_values = []\n",
    "def sum_counter(counter: Counter):\n",
    "    if not isinstance(counter, Counter):\n",
    "        return 0\n",
    "    return sum(counter.values())\n",
    "for column in df.columns:\n",
    "    if column.startswith(PRUNED_AT_DEPTH):\n",
    "        depth = column[len(PRUNED_AT_DEPTH)+1:]\n",
    "        depth_values.append(depth)\n",
    "        depth_df[depth] = df[column].apply(sum_counter)\n",
    "        \n",
    "        \n",
    "id_vars = ['epsilon_1', 'alpha']\n",
    "depth_df = depth_df.melt(id_vars=id_vars,\n",
    "              value_vars=depth_values,\n",
    "              var_name='depth',\n",
    "              value_name='#pruned').sort_values(id_vars)"
   ],
   "metadata": {
    "collapsed": false,
    "ExecuteTime": {
     "end_time": "2023-11-26T23:04:38.936046Z",
     "start_time": "2023-11-26T23:04:38.926612Z"
    }
   },
   "id": "b1cfcd13d5773d14"
  },
  {
   "cell_type": "code",
   "execution_count": 54,
   "outputs": [
    {
     "data": {
      "application/vnd.plotly.v1+json": {
       "data": [
        {
         "alignmentgroup": "True",
         "hovertemplate": "epsilon=0.001<br>alpha=%{x}<br>%pruned=%{text}<br>depth=%{marker.color}<extra></extra>",
         "legendgroup": "",
         "marker": {
          "color": [
           0,
           1,
           2,
           3,
           4,
           5,
           6,
           7,
           8,
           9,
           10,
           0,
           1,
           2,
           3,
           4,
           5,
           6,
           7,
           8,
           9,
           10,
           0,
           1,
           2,
           3,
           4,
           5,
           6,
           7,
           8,
           9,
           10,
           0,
           1,
           2,
           3,
           4,
           5,
           6,
           7,
           8,
           9,
           10,
           0,
           1,
           2,
           3,
           4,
           5,
           6,
           7,
           8,
           9,
           10
          ],
          "coloraxis": "coloraxis",
          "pattern": {
           "shape": ""
          }
         },
         "name": "",
         "offsetgroup": "",
         "orientation": "v",
         "showlegend": false,
         "text": [
          0.001,
          0.064,
          0.105,
          0.45,
          0.077,
          0.288,
          0.009,
          0.006,
          0.0,
          0.0,
          0.0,
          0.0,
          0.039,
          0.12,
          0.801,
          0.02,
          0.013,
          0.005,
          0.001,
          0.002,
          0.0,
          0.0,
          0.0,
          0.045,
          0.147,
          0.757,
          0.018,
          0.022,
          0.01,
          0.0,
          0.001,
          0.0,
          0.0,
          0.0,
          0.062,
          0.09,
          0.649,
          0.065,
          0.086,
          0.02,
          0.019,
          0.006,
          0.002,
          0.0,
          0.0,
          0.058,
          0.079,
          0.691,
          0.098,
          0.052,
          0.017,
          0.002,
          0.002,
          0.0,
          0.0
         ],
         "textposition": "auto",
         "texttemplate": "%{y}",
         "x": [
          "0.025",
          "0.025",
          "0.025",
          "0.025",
          "0.025",
          "0.025",
          "0.025",
          "0.025",
          "0.025",
          "0.025",
          "0.025",
          "0.5",
          "0.5",
          "0.5",
          "0.5",
          "0.5",
          "0.5",
          "0.5",
          "0.5",
          "0.5",
          "0.5",
          "0.5",
          "1.0",
          "1.0",
          "1.0",
          "1.0",
          "1.0",
          "1.0",
          "1.0",
          "1.0",
          "1.0",
          "1.0",
          "1.0",
          "2.0",
          "2.0",
          "2.0",
          "2.0",
          "2.0",
          "2.0",
          "2.0",
          "2.0",
          "2.0",
          "2.0",
          "2.0",
          "3.0",
          "3.0",
          "3.0",
          "3.0",
          "3.0",
          "3.0",
          "3.0",
          "3.0",
          "3.0",
          "3.0",
          "3.0"
         ],
         "xaxis": "x",
         "y": [
          0.001,
          0.064,
          0.105,
          0.45,
          0.077,
          0.288,
          0.009,
          0.006,
          0.0,
          0.0,
          0.0,
          0.0,
          0.039,
          0.12,
          0.801,
          0.02,
          0.013,
          0.005,
          0.001,
          0.002,
          0.0,
          0.0,
          0.0,
          0.045,
          0.147,
          0.757,
          0.018,
          0.022,
          0.01,
          0.0,
          0.001,
          0.0,
          0.0,
          0.0,
          0.062,
          0.09,
          0.649,
          0.065,
          0.086,
          0.02,
          0.019,
          0.006,
          0.002,
          0.0,
          0.0,
          0.058,
          0.079,
          0.691,
          0.098,
          0.052,
          0.017,
          0.002,
          0.002,
          0.0,
          0.0
         ],
         "yaxis": "y",
         "type": "bar"
        },
        {
         "alignmentgroup": "True",
         "hovertemplate": "epsilon=0.01<br>alpha=%{x}<br>%pruned=%{text}<br>depth=%{marker.color}<extra></extra>",
         "legendgroup": "",
         "marker": {
          "color": [
           0,
           1,
           2,
           3,
           4,
           5,
           6,
           7,
           8,
           9,
           10,
           0,
           1,
           2,
           3,
           4,
           5,
           6,
           7,
           8,
           9,
           10,
           0,
           1,
           2,
           3,
           4,
           5,
           6,
           7,
           8,
           9,
           10,
           0,
           1,
           2,
           3,
           4,
           5,
           6,
           7,
           8,
           9,
           10,
           0,
           1,
           2,
           3,
           4,
           5,
           6,
           7,
           8,
           9,
           10
          ],
          "coloraxis": "coloraxis",
          "pattern": {
           "shape": ""
          }
         },
         "name": "",
         "offsetgroup": "",
         "orientation": "v",
         "showlegend": false,
         "text": [
          0.0,
          0.065,
          0.104,
          0.419,
          0.083,
          0.317,
          0.004,
          0.007,
          0.0,
          0.0,
          0.0,
          0.0,
          0.039,
          0.114,
          0.799,
          0.022,
          0.017,
          0.006,
          0.001,
          0.001,
          0.0,
          0.0,
          0.0,
          0.04,
          0.126,
          0.773,
          0.036,
          0.022,
          0.003,
          0.001,
          0.0,
          0.0,
          0.0,
          0.0,
          0.054,
          0.09,
          0.78,
          0.051,
          0.025,
          0.0,
          0.0,
          0.0,
          0.0,
          0.0,
          0.0,
          0.054,
          0.087,
          0.781,
          0.054,
          0.024,
          0.0,
          0.0,
          0.0,
          0.0,
          0.0
         ],
         "textposition": "auto",
         "texttemplate": "%{y}",
         "x": [
          "0.025",
          "0.025",
          "0.025",
          "0.025",
          "0.025",
          "0.025",
          "0.025",
          "0.025",
          "0.025",
          "0.025",
          "0.025",
          "0.5",
          "0.5",
          "0.5",
          "0.5",
          "0.5",
          "0.5",
          "0.5",
          "0.5",
          "0.5",
          "0.5",
          "0.5",
          "1.0",
          "1.0",
          "1.0",
          "1.0",
          "1.0",
          "1.0",
          "1.0",
          "1.0",
          "1.0",
          "1.0",
          "1.0",
          "2.0",
          "2.0",
          "2.0",
          "2.0",
          "2.0",
          "2.0",
          "2.0",
          "2.0",
          "2.0",
          "2.0",
          "2.0",
          "3.0",
          "3.0",
          "3.0",
          "3.0",
          "3.0",
          "3.0",
          "3.0",
          "3.0",
          "3.0",
          "3.0",
          "3.0"
         ],
         "xaxis": "x2",
         "y": [
          0.0,
          0.065,
          0.104,
          0.419,
          0.083,
          0.317,
          0.004,
          0.007,
          0.0,
          0.0,
          0.0,
          0.0,
          0.039,
          0.114,
          0.799,
          0.022,
          0.017,
          0.006,
          0.001,
          0.001,
          0.0,
          0.0,
          0.0,
          0.04,
          0.126,
          0.773,
          0.036,
          0.022,
          0.003,
          0.001,
          0.0,
          0.0,
          0.0,
          0.0,
          0.054,
          0.09,
          0.78,
          0.051,
          0.025,
          0.0,
          0.0,
          0.0,
          0.0,
          0.0,
          0.0,
          0.054,
          0.087,
          0.781,
          0.054,
          0.024,
          0.0,
          0.0,
          0.0,
          0.0,
          0.0
         ],
         "yaxis": "y2",
         "type": "bar"
        },
        {
         "alignmentgroup": "True",
         "hovertemplate": "epsilon=0.1<br>alpha=%{x}<br>%pruned=%{text}<br>depth=%{marker.color}<extra></extra>",
         "legendgroup": "",
         "marker": {
          "color": [
           0,
           1,
           2,
           3,
           4,
           5,
           6,
           7,
           8,
           9,
           10,
           0,
           1,
           2,
           3,
           4,
           5,
           6,
           7,
           8,
           9,
           10,
           0,
           1,
           2,
           3,
           4,
           5,
           6,
           7,
           8,
           9,
           10,
           0,
           1,
           2,
           3,
           4,
           5,
           6,
           7,
           8,
           9,
           10,
           0,
           1,
           2,
           3,
           4,
           5,
           6,
           7,
           8,
           9,
           10
          ],
          "coloraxis": "coloraxis",
          "pattern": {
           "shape": ""
          }
         },
         "name": "",
         "offsetgroup": "",
         "orientation": "v",
         "showlegend": false,
         "text": [
          0.0,
          0.064,
          0.093,
          0.398,
          0.083,
          0.35,
          0.003,
          0.01,
          0.0,
          0.0,
          0.0,
          0.0,
          0.038,
          0.11,
          0.824,
          0.022,
          0.006,
          0.0,
          0.0,
          0.0,
          0.0,
          0.0,
          0.0,
          0.04,
          0.124,
          0.801,
          0.02,
          0.014,
          0.0,
          0.0,
          0.0,
          0.0,
          0.0,
          0.0,
          0.053,
          0.108,
          0.793,
          0.035,
          0.01,
          0.0,
          0.0,
          0.0,
          0.0,
          0.0,
          0.0,
          0.051,
          0.12,
          0.794,
          0.028,
          0.006,
          0.0,
          0.0,
          0.0,
          0.0,
          0.0
         ],
         "textposition": "auto",
         "texttemplate": "%{y}",
         "x": [
          "0.025",
          "0.025",
          "0.025",
          "0.025",
          "0.025",
          "0.025",
          "0.025",
          "0.025",
          "0.025",
          "0.025",
          "0.025",
          "0.5",
          "0.5",
          "0.5",
          "0.5",
          "0.5",
          "0.5",
          "0.5",
          "0.5",
          "0.5",
          "0.5",
          "0.5",
          "1.0",
          "1.0",
          "1.0",
          "1.0",
          "1.0",
          "1.0",
          "1.0",
          "1.0",
          "1.0",
          "1.0",
          "1.0",
          "2.0",
          "2.0",
          "2.0",
          "2.0",
          "2.0",
          "2.0",
          "2.0",
          "2.0",
          "2.0",
          "2.0",
          "2.0",
          "3.0",
          "3.0",
          "3.0",
          "3.0",
          "3.0",
          "3.0",
          "3.0",
          "3.0",
          "3.0",
          "3.0",
          "3.0"
         ],
         "xaxis": "x3",
         "y": [
          0.0,
          0.064,
          0.093,
          0.398,
          0.083,
          0.35,
          0.003,
          0.01,
          0.0,
          0.0,
          0.0,
          0.0,
          0.038,
          0.11,
          0.824,
          0.022,
          0.006,
          0.0,
          0.0,
          0.0,
          0.0,
          0.0,
          0.0,
          0.04,
          0.124,
          0.801,
          0.02,
          0.014,
          0.0,
          0.0,
          0.0,
          0.0,
          0.0,
          0.0,
          0.053,
          0.108,
          0.793,
          0.035,
          0.01,
          0.0,
          0.0,
          0.0,
          0.0,
          0.0,
          0.0,
          0.051,
          0.12,
          0.794,
          0.028,
          0.006,
          0.0,
          0.0,
          0.0,
          0.0,
          0.0
         ],
         "yaxis": "y3",
         "type": "bar"
        },
        {
         "alignmentgroup": "True",
         "hovertemplate": "epsilon=0.5<br>alpha=%{x}<br>%pruned=%{text}<br>depth=%{marker.color}<extra></extra>",
         "legendgroup": "",
         "marker": {
          "color": [
           0,
           1,
           2,
           3,
           4,
           5,
           6,
           7,
           8,
           9,
           10,
           0,
           1,
           2,
           3,
           4,
           5,
           6,
           7,
           8,
           9,
           10,
           0,
           1,
           2,
           3,
           4,
           5,
           6,
           7,
           8,
           9,
           10,
           0,
           1,
           2,
           3,
           4,
           5,
           6,
           7,
           8,
           9,
           10,
           0,
           1,
           2,
           3,
           4,
           5,
           6,
           7,
           8,
           9,
           10
          ],
          "coloraxis": "coloraxis",
          "pattern": {
           "shape": ""
          }
         },
         "name": "",
         "offsetgroup": "",
         "orientation": "v",
         "showlegend": false,
         "text": [
          0.0,
          0.064,
          0.093,
          0.402,
          0.09,
          0.34,
          0.005,
          0.006,
          0.0,
          0.0,
          0.0,
          0.0,
          0.037,
          0.112,
          0.823,
          0.021,
          0.006,
          0.0,
          0.0,
          0.0,
          0.0,
          0.0,
          0.0,
          0.038,
          0.131,
          0.803,
          0.019,
          0.009,
          0.0,
          0.0,
          0.0,
          0.0,
          0.0,
          0.0,
          0.051,
          0.134,
          0.805,
          0.01,
          0.0,
          0.0,
          0.0,
          0.0,
          0.0,
          0.0,
          0.0,
          0.06,
          0.147,
          0.794,
          0.0,
          0.0,
          0.0,
          0.0,
          0.0,
          0.0,
          0.0
         ],
         "textposition": "auto",
         "texttemplate": "%{y}",
         "x": [
          "0.025",
          "0.025",
          "0.025",
          "0.025",
          "0.025",
          "0.025",
          "0.025",
          "0.025",
          "0.025",
          "0.025",
          "0.025",
          "0.5",
          "0.5",
          "0.5",
          "0.5",
          "0.5",
          "0.5",
          "0.5",
          "0.5",
          "0.5",
          "0.5",
          "0.5",
          "1.0",
          "1.0",
          "1.0",
          "1.0",
          "1.0",
          "1.0",
          "1.0",
          "1.0",
          "1.0",
          "1.0",
          "1.0",
          "2.0",
          "2.0",
          "2.0",
          "2.0",
          "2.0",
          "2.0",
          "2.0",
          "2.0",
          "2.0",
          "2.0",
          "2.0",
          "3.0",
          "3.0",
          "3.0",
          "3.0",
          "3.0",
          "3.0",
          "3.0",
          "3.0",
          "3.0",
          "3.0",
          "3.0"
         ],
         "xaxis": "x4",
         "y": [
          0.0,
          0.064,
          0.093,
          0.402,
          0.09,
          0.34,
          0.005,
          0.006,
          0.0,
          0.0,
          0.0,
          0.0,
          0.037,
          0.112,
          0.823,
          0.021,
          0.006,
          0.0,
          0.0,
          0.0,
          0.0,
          0.0,
          0.0,
          0.038,
          0.131,
          0.803,
          0.019,
          0.009,
          0.0,
          0.0,
          0.0,
          0.0,
          0.0,
          0.0,
          0.051,
          0.134,
          0.805,
          0.01,
          0.0,
          0.0,
          0.0,
          0.0,
          0.0,
          0.0,
          0.0,
          0.06,
          0.147,
          0.794,
          0.0,
          0.0,
          0.0,
          0.0,
          0.0,
          0.0,
          0.0
         ],
         "yaxis": "y4",
         "type": "bar"
        },
        {
         "alignmentgroup": "True",
         "hovertemplate": "epsilon=1.0<br>alpha=%{x}<br>%pruned=%{text}<br>depth=%{marker.color}<extra></extra>",
         "legendgroup": "",
         "marker": {
          "color": [
           0,
           1,
           2,
           3,
           4,
           5,
           6,
           7,
           8,
           9,
           10,
           0,
           1,
           2,
           3,
           4,
           5,
           6,
           7,
           8,
           9,
           10,
           0,
           1,
           2,
           3,
           4,
           5,
           6,
           7,
           8,
           9,
           10,
           0,
           1,
           2,
           3,
           4,
           5,
           6,
           7,
           8,
           9,
           10,
           0,
           1,
           2,
           3,
           4,
           5,
           6,
           7,
           8,
           9,
           10
          ],
          "coloraxis": "coloraxis",
          "pattern": {
           "shape": ""
          }
         },
         "name": "",
         "offsetgroup": "",
         "orientation": "v",
         "showlegend": false,
         "text": [
          0.0,
          0.064,
          0.093,
          0.388,
          0.088,
          0.356,
          0.003,
          0.006,
          0.002,
          0.0,
          0.0,
          0.0,
          0.038,
          0.115,
          0.825,
          0.018,
          0.005,
          0.0,
          0.0,
          0.0,
          0.0,
          0.0,
          0.0,
          0.037,
          0.139,
          0.811,
          0.011,
          0.001,
          0.0,
          0.0,
          0.0,
          0.0,
          0.0,
          0.0,
          0.032,
          0.145,
          0.822,
          0.0,
          0.0,
          0.0,
          0.0,
          0.0,
          0.0,
          0.0,
          0.0,
          0.026,
          0.205,
          0.769,
          0.0,
          0.0,
          0.0,
          0.0,
          0.0,
          0.0,
          0.0
         ],
         "textposition": "auto",
         "texttemplate": "%{y}",
         "x": [
          "0.025",
          "0.025",
          "0.025",
          "0.025",
          "0.025",
          "0.025",
          "0.025",
          "0.025",
          "0.025",
          "0.025",
          "0.025",
          "0.5",
          "0.5",
          "0.5",
          "0.5",
          "0.5",
          "0.5",
          "0.5",
          "0.5",
          "0.5",
          "0.5",
          "0.5",
          "1.0",
          "1.0",
          "1.0",
          "1.0",
          "1.0",
          "1.0",
          "1.0",
          "1.0",
          "1.0",
          "1.0",
          "1.0",
          "2.0",
          "2.0",
          "2.0",
          "2.0",
          "2.0",
          "2.0",
          "2.0",
          "2.0",
          "2.0",
          "2.0",
          "2.0",
          "3.0",
          "3.0",
          "3.0",
          "3.0",
          "3.0",
          "3.0",
          "3.0",
          "3.0",
          "3.0",
          "3.0",
          "3.0"
         ],
         "xaxis": "x5",
         "y": [
          0.0,
          0.064,
          0.093,
          0.388,
          0.088,
          0.356,
          0.003,
          0.006,
          0.002,
          0.0,
          0.0,
          0.0,
          0.038,
          0.115,
          0.825,
          0.018,
          0.005,
          0.0,
          0.0,
          0.0,
          0.0,
          0.0,
          0.0,
          0.037,
          0.139,
          0.811,
          0.011,
          0.001,
          0.0,
          0.0,
          0.0,
          0.0,
          0.0,
          0.0,
          0.032,
          0.145,
          0.822,
          0.0,
          0.0,
          0.0,
          0.0,
          0.0,
          0.0,
          0.0,
          0.0,
          0.026,
          0.205,
          0.769,
          0.0,
          0.0,
          0.0,
          0.0,
          0.0,
          0.0,
          0.0
         ],
         "yaxis": "y5",
         "type": "bar"
        }
       ],
       "layout": {
        "template": {
         "data": {
          "histogram2dcontour": [
           {
            "type": "histogram2dcontour",
            "colorbar": {
             "outlinewidth": 0,
             "ticks": ""
            },
            "colorscale": [
             [
              0.0,
              "#0d0887"
             ],
             [
              0.1111111111111111,
              "#46039f"
             ],
             [
              0.2222222222222222,
              "#7201a8"
             ],
             [
              0.3333333333333333,
              "#9c179e"
             ],
             [
              0.4444444444444444,
              "#bd3786"
             ],
             [
              0.5555555555555556,
              "#d8576b"
             ],
             [
              0.6666666666666666,
              "#ed7953"
             ],
             [
              0.7777777777777778,
              "#fb9f3a"
             ],
             [
              0.8888888888888888,
              "#fdca26"
             ],
             [
              1.0,
              "#f0f921"
             ]
            ]
           }
          ],
          "choropleth": [
           {
            "type": "choropleth",
            "colorbar": {
             "outlinewidth": 0,
             "ticks": ""
            }
           }
          ],
          "histogram2d": [
           {
            "type": "histogram2d",
            "colorbar": {
             "outlinewidth": 0,
             "ticks": ""
            },
            "colorscale": [
             [
              0.0,
              "#0d0887"
             ],
             [
              0.1111111111111111,
              "#46039f"
             ],
             [
              0.2222222222222222,
              "#7201a8"
             ],
             [
              0.3333333333333333,
              "#9c179e"
             ],
             [
              0.4444444444444444,
              "#bd3786"
             ],
             [
              0.5555555555555556,
              "#d8576b"
             ],
             [
              0.6666666666666666,
              "#ed7953"
             ],
             [
              0.7777777777777778,
              "#fb9f3a"
             ],
             [
              0.8888888888888888,
              "#fdca26"
             ],
             [
              1.0,
              "#f0f921"
             ]
            ]
           }
          ],
          "heatmap": [
           {
            "type": "heatmap",
            "colorbar": {
             "outlinewidth": 0,
             "ticks": ""
            },
            "colorscale": [
             [
              0.0,
              "#0d0887"
             ],
             [
              0.1111111111111111,
              "#46039f"
             ],
             [
              0.2222222222222222,
              "#7201a8"
             ],
             [
              0.3333333333333333,
              "#9c179e"
             ],
             [
              0.4444444444444444,
              "#bd3786"
             ],
             [
              0.5555555555555556,
              "#d8576b"
             ],
             [
              0.6666666666666666,
              "#ed7953"
             ],
             [
              0.7777777777777778,
              "#fb9f3a"
             ],
             [
              0.8888888888888888,
              "#fdca26"
             ],
             [
              1.0,
              "#f0f921"
             ]
            ]
           }
          ],
          "heatmapgl": [
           {
            "type": "heatmapgl",
            "colorbar": {
             "outlinewidth": 0,
             "ticks": ""
            },
            "colorscale": [
             [
              0.0,
              "#0d0887"
             ],
             [
              0.1111111111111111,
              "#46039f"
             ],
             [
              0.2222222222222222,
              "#7201a8"
             ],
             [
              0.3333333333333333,
              "#9c179e"
             ],
             [
              0.4444444444444444,
              "#bd3786"
             ],
             [
              0.5555555555555556,
              "#d8576b"
             ],
             [
              0.6666666666666666,
              "#ed7953"
             ],
             [
              0.7777777777777778,
              "#fb9f3a"
             ],
             [
              0.8888888888888888,
              "#fdca26"
             ],
             [
              1.0,
              "#f0f921"
             ]
            ]
           }
          ],
          "contourcarpet": [
           {
            "type": "contourcarpet",
            "colorbar": {
             "outlinewidth": 0,
             "ticks": ""
            }
           }
          ],
          "contour": [
           {
            "type": "contour",
            "colorbar": {
             "outlinewidth": 0,
             "ticks": ""
            },
            "colorscale": [
             [
              0.0,
              "#0d0887"
             ],
             [
              0.1111111111111111,
              "#46039f"
             ],
             [
              0.2222222222222222,
              "#7201a8"
             ],
             [
              0.3333333333333333,
              "#9c179e"
             ],
             [
              0.4444444444444444,
              "#bd3786"
             ],
             [
              0.5555555555555556,
              "#d8576b"
             ],
             [
              0.6666666666666666,
              "#ed7953"
             ],
             [
              0.7777777777777778,
              "#fb9f3a"
             ],
             [
              0.8888888888888888,
              "#fdca26"
             ],
             [
              1.0,
              "#f0f921"
             ]
            ]
           }
          ],
          "surface": [
           {
            "type": "surface",
            "colorbar": {
             "outlinewidth": 0,
             "ticks": ""
            },
            "colorscale": [
             [
              0.0,
              "#0d0887"
             ],
             [
              0.1111111111111111,
              "#46039f"
             ],
             [
              0.2222222222222222,
              "#7201a8"
             ],
             [
              0.3333333333333333,
              "#9c179e"
             ],
             [
              0.4444444444444444,
              "#bd3786"
             ],
             [
              0.5555555555555556,
              "#d8576b"
             ],
             [
              0.6666666666666666,
              "#ed7953"
             ],
             [
              0.7777777777777778,
              "#fb9f3a"
             ],
             [
              0.8888888888888888,
              "#fdca26"
             ],
             [
              1.0,
              "#f0f921"
             ]
            ]
           }
          ],
          "mesh3d": [
           {
            "type": "mesh3d",
            "colorbar": {
             "outlinewidth": 0,
             "ticks": ""
            }
           }
          ],
          "scatter": [
           {
            "marker": {
             "line": {
              "color": "#283442"
             }
            },
            "type": "scatter"
           }
          ],
          "parcoords": [
           {
            "type": "parcoords",
            "line": {
             "colorbar": {
              "outlinewidth": 0,
              "ticks": ""
             }
            }
           }
          ],
          "scatterpolargl": [
           {
            "type": "scatterpolargl",
            "marker": {
             "colorbar": {
              "outlinewidth": 0,
              "ticks": ""
             }
            }
           }
          ],
          "bar": [
           {
            "error_x": {
             "color": "#f2f5fa"
            },
            "error_y": {
             "color": "#f2f5fa"
            },
            "marker": {
             "line": {
              "color": "rgb(17,17,17)",
              "width": 0.5
             },
             "pattern": {
              "fillmode": "overlay",
              "size": 10,
              "solidity": 0.2
             }
            },
            "type": "bar"
           }
          ],
          "scattergeo": [
           {
            "type": "scattergeo",
            "marker": {
             "colorbar": {
              "outlinewidth": 0,
              "ticks": ""
             }
            }
           }
          ],
          "scatterpolar": [
           {
            "type": "scatterpolar",
            "marker": {
             "colorbar": {
              "outlinewidth": 0,
              "ticks": ""
             }
            }
           }
          ],
          "histogram": [
           {
            "marker": {
             "pattern": {
              "fillmode": "overlay",
              "size": 10,
              "solidity": 0.2
             }
            },
            "type": "histogram"
           }
          ],
          "scattergl": [
           {
            "marker": {
             "line": {
              "color": "#283442"
             }
            },
            "type": "scattergl"
           }
          ],
          "scatter3d": [
           {
            "type": "scatter3d",
            "line": {
             "colorbar": {
              "outlinewidth": 0,
              "ticks": ""
             }
            },
            "marker": {
             "colorbar": {
              "outlinewidth": 0,
              "ticks": ""
             }
            }
           }
          ],
          "scattermapbox": [
           {
            "type": "scattermapbox",
            "marker": {
             "colorbar": {
              "outlinewidth": 0,
              "ticks": ""
             }
            }
           }
          ],
          "scatterternary": [
           {
            "type": "scatterternary",
            "marker": {
             "colorbar": {
              "outlinewidth": 0,
              "ticks": ""
             }
            }
           }
          ],
          "scattercarpet": [
           {
            "type": "scattercarpet",
            "marker": {
             "colorbar": {
              "outlinewidth": 0,
              "ticks": ""
             }
            }
           }
          ],
          "carpet": [
           {
            "aaxis": {
             "endlinecolor": "#A2B1C6",
             "gridcolor": "#506784",
             "linecolor": "#506784",
             "minorgridcolor": "#506784",
             "startlinecolor": "#A2B1C6"
            },
            "baxis": {
             "endlinecolor": "#A2B1C6",
             "gridcolor": "#506784",
             "linecolor": "#506784",
             "minorgridcolor": "#506784",
             "startlinecolor": "#A2B1C6"
            },
            "type": "carpet"
           }
          ],
          "table": [
           {
            "cells": {
             "fill": {
              "color": "#506784"
             },
             "line": {
              "color": "rgb(17,17,17)"
             }
            },
            "header": {
             "fill": {
              "color": "#2a3f5f"
             },
             "line": {
              "color": "rgb(17,17,17)"
             }
            },
            "type": "table"
           }
          ],
          "barpolar": [
           {
            "marker": {
             "line": {
              "color": "rgb(17,17,17)",
              "width": 0.5
             },
             "pattern": {
              "fillmode": "overlay",
              "size": 10,
              "solidity": 0.2
             }
            },
            "type": "barpolar"
           }
          ],
          "pie": [
           {
            "automargin": true,
            "type": "pie"
           }
          ]
         },
         "layout": {
          "autotypenumbers": "strict",
          "colorway": [
           "#636efa",
           "#EF553B",
           "#00cc96",
           "#ab63fa",
           "#FFA15A",
           "#19d3f3",
           "#FF6692",
           "#B6E880",
           "#FF97FF",
           "#FECB52"
          ],
          "font": {
           "color": "#f2f5fa"
          },
          "hovermode": "closest",
          "hoverlabel": {
           "align": "left"
          },
          "paper_bgcolor": "rgb(17,17,17)",
          "plot_bgcolor": "rgb(17,17,17)",
          "polar": {
           "bgcolor": "rgb(17,17,17)",
           "angularaxis": {
            "gridcolor": "#506784",
            "linecolor": "#506784",
            "ticks": ""
           },
           "radialaxis": {
            "gridcolor": "#506784",
            "linecolor": "#506784",
            "ticks": ""
           }
          },
          "ternary": {
           "bgcolor": "rgb(17,17,17)",
           "aaxis": {
            "gridcolor": "#506784",
            "linecolor": "#506784",
            "ticks": ""
           },
           "baxis": {
            "gridcolor": "#506784",
            "linecolor": "#506784",
            "ticks": ""
           },
           "caxis": {
            "gridcolor": "#506784",
            "linecolor": "#506784",
            "ticks": ""
           }
          },
          "coloraxis": {
           "colorbar": {
            "outlinewidth": 0,
            "ticks": ""
           }
          },
          "colorscale": {
           "sequential": [
            [
             0.0,
             "#0d0887"
            ],
            [
             0.1111111111111111,
             "#46039f"
            ],
            [
             0.2222222222222222,
             "#7201a8"
            ],
            [
             0.3333333333333333,
             "#9c179e"
            ],
            [
             0.4444444444444444,
             "#bd3786"
            ],
            [
             0.5555555555555556,
             "#d8576b"
            ],
            [
             0.6666666666666666,
             "#ed7953"
            ],
            [
             0.7777777777777778,
             "#fb9f3a"
            ],
            [
             0.8888888888888888,
             "#fdca26"
            ],
            [
             1.0,
             "#f0f921"
            ]
           ],
           "sequentialminus": [
            [
             0.0,
             "#0d0887"
            ],
            [
             0.1111111111111111,
             "#46039f"
            ],
            [
             0.2222222222222222,
             "#7201a8"
            ],
            [
             0.3333333333333333,
             "#9c179e"
            ],
            [
             0.4444444444444444,
             "#bd3786"
            ],
            [
             0.5555555555555556,
             "#d8576b"
            ],
            [
             0.6666666666666666,
             "#ed7953"
            ],
            [
             0.7777777777777778,
             "#fb9f3a"
            ],
            [
             0.8888888888888888,
             "#fdca26"
            ],
            [
             1.0,
             "#f0f921"
            ]
           ],
           "diverging": [
            [
             0,
             "#8e0152"
            ],
            [
             0.1,
             "#c51b7d"
            ],
            [
             0.2,
             "#de77ae"
            ],
            [
             0.3,
             "#f1b6da"
            ],
            [
             0.4,
             "#fde0ef"
            ],
            [
             0.5,
             "#f7f7f7"
            ],
            [
             0.6,
             "#e6f5d0"
            ],
            [
             0.7,
             "#b8e186"
            ],
            [
             0.8,
             "#7fbc41"
            ],
            [
             0.9,
             "#4d9221"
            ],
            [
             1,
             "#276419"
            ]
           ]
          },
          "xaxis": {
           "gridcolor": "#283442",
           "linecolor": "#506784",
           "ticks": "",
           "title": {
            "standoff": 15
           },
           "zerolinecolor": "#283442",
           "automargin": true,
           "zerolinewidth": 2
          },
          "yaxis": {
           "gridcolor": "#283442",
           "linecolor": "#506784",
           "ticks": "",
           "title": {
            "standoff": 15
           },
           "zerolinecolor": "#283442",
           "automargin": true,
           "zerolinewidth": 2
          },
          "scene": {
           "xaxis": {
            "backgroundcolor": "rgb(17,17,17)",
            "gridcolor": "#506784",
            "linecolor": "#506784",
            "showbackground": true,
            "ticks": "",
            "zerolinecolor": "#C8D4E3",
            "gridwidth": 2
           },
           "yaxis": {
            "backgroundcolor": "rgb(17,17,17)",
            "gridcolor": "#506784",
            "linecolor": "#506784",
            "showbackground": true,
            "ticks": "",
            "zerolinecolor": "#C8D4E3",
            "gridwidth": 2
           },
           "zaxis": {
            "backgroundcolor": "rgb(17,17,17)",
            "gridcolor": "#506784",
            "linecolor": "#506784",
            "showbackground": true,
            "ticks": "",
            "zerolinecolor": "#C8D4E3",
            "gridwidth": 2
           }
          },
          "shapedefaults": {
           "line": {
            "color": "#f2f5fa"
           }
          },
          "annotationdefaults": {
           "arrowcolor": "#f2f5fa",
           "arrowhead": 0,
           "arrowwidth": 1
          },
          "geo": {
           "bgcolor": "rgb(17,17,17)",
           "landcolor": "rgb(17,17,17)",
           "subunitcolor": "#506784",
           "showland": true,
           "showlakes": true,
           "lakecolor": "rgb(17,17,17)"
          },
          "title": {
           "x": 0.05
          },
          "updatemenudefaults": {
           "bgcolor": "#506784",
           "borderwidth": 0
          },
          "sliderdefaults": {
           "bgcolor": "#C8D4E3",
           "borderwidth": 1,
           "bordercolor": "rgb(17,17,17)",
           "tickwidth": 0
          },
          "mapbox": {
           "style": "dark"
          }
         }
        },
        "xaxis": {
         "anchor": "y",
         "domain": [
          0.0,
          0.18400000000000002
         ],
         "title": {
          "text": "alpha"
         }
        },
        "yaxis": {
         "anchor": "x",
         "domain": [
          0.0,
          1.0
         ],
         "title": {
          "text": "%pruned"
         }
        },
        "xaxis2": {
         "anchor": "y2",
         "domain": [
          0.20400000000000001,
          0.388
         ],
         "matches": "x",
         "title": {
          "text": "alpha"
         }
        },
        "yaxis2": {
         "anchor": "x2",
         "domain": [
          0.0,
          1.0
         ],
         "matches": "y",
         "showticklabels": false
        },
        "xaxis3": {
         "anchor": "y3",
         "domain": [
          0.40800000000000003,
          0.5920000000000001
         ],
         "matches": "x",
         "title": {
          "text": "alpha"
         }
        },
        "yaxis3": {
         "anchor": "x3",
         "domain": [
          0.0,
          1.0
         ],
         "matches": "y",
         "showticklabels": false
        },
        "xaxis4": {
         "anchor": "y4",
         "domain": [
          0.6120000000000001,
          0.7960000000000002
         ],
         "matches": "x",
         "title": {
          "text": "alpha"
         }
        },
        "yaxis4": {
         "anchor": "x4",
         "domain": [
          0.0,
          1.0
         ],
         "matches": "y",
         "showticklabels": false
        },
        "xaxis5": {
         "anchor": "y5",
         "domain": [
          0.8160000000000001,
          1.0
         ],
         "matches": "x",
         "title": {
          "text": "alpha"
         }
        },
        "yaxis5": {
         "anchor": "x5",
         "domain": [
          0.0,
          1.0
         ],
         "matches": "y",
         "showticklabels": false
        },
        "annotations": [
         {
          "font": {},
          "showarrow": false,
          "text": "epsilon=0.001",
          "x": 0.09200000000000001,
          "xanchor": "center",
          "xref": "paper",
          "y": 1.0,
          "yanchor": "bottom",
          "yref": "paper"
         },
         {
          "font": {},
          "showarrow": false,
          "text": "epsilon=0.01",
          "x": 0.29600000000000004,
          "xanchor": "center",
          "xref": "paper",
          "y": 1.0,
          "yanchor": "bottom",
          "yref": "paper"
         },
         {
          "font": {},
          "showarrow": false,
          "text": "epsilon=0.1",
          "x": 0.5,
          "xanchor": "center",
          "xref": "paper",
          "y": 1.0,
          "yanchor": "bottom",
          "yref": "paper"
         },
         {
          "font": {},
          "showarrow": false,
          "text": "epsilon=0.5",
          "x": 0.7040000000000002,
          "xanchor": "center",
          "xref": "paper",
          "y": 1.0,
          "yanchor": "bottom",
          "yref": "paper"
         },
         {
          "font": {},
          "showarrow": false,
          "text": "epsilon=1.0",
          "x": 0.908,
          "xanchor": "center",
          "xref": "paper",
          "y": 1.0,
          "yanchor": "bottom",
          "yref": "paper"
         }
        ],
        "coloraxis": {
         "colorbar": {
          "title": {
           "text": "depth"
          }
         },
         "colorscale": [
          [
           0.0,
           "#0d0887"
          ],
          [
           0.1111111111111111,
           "#46039f"
          ],
          [
           0.2222222222222222,
           "#7201a8"
          ],
          [
           0.3333333333333333,
           "#9c179e"
          ],
          [
           0.4444444444444444,
           "#bd3786"
          ],
          [
           0.5555555555555556,
           "#d8576b"
          ],
          [
           0.6666666666666666,
           "#ed7953"
          ],
          [
           0.7777777777777778,
           "#fb9f3a"
          ],
          [
           0.8888888888888888,
           "#fdca26"
          ],
          [
           1.0,
           "#f0f921"
          ]
         ]
        },
        "legend": {
         "tracegroupgap": 0
        },
        "margin": {
         "t": 60
        },
        "barmode": "relative"
       },
       "config": {
        "plotlyServerURL": "https://plot.ly"
       }
      },
      "text/html": "<div>                            <div id=\"938819d5-4efe-4b78-9423-3af8fe23d385\" class=\"plotly-graph-div\" style=\"height:525px; width:100%;\"></div>            <script type=\"text/javascript\">                require([\"plotly\"], function(Plotly) {                    window.PLOTLYENV=window.PLOTLYENV || {};                                    if (document.getElementById(\"938819d5-4efe-4b78-9423-3af8fe23d385\")) {                    Plotly.newPlot(                        \"938819d5-4efe-4b78-9423-3af8fe23d385\",                        [{\"alignmentgroup\":\"True\",\"hovertemplate\":\"epsilon=0.001\\u003cbr\\u003ealpha=%{x}\\u003cbr\\u003e%pruned=%{text}\\u003cbr\\u003edepth=%{marker.color}\\u003cextra\\u003e\\u003c\\u002fextra\\u003e\",\"legendgroup\":\"\",\"marker\":{\"color\":[0,1,2,3,4,5,6,7,8,9,10,0,1,2,3,4,5,6,7,8,9,10,0,1,2,3,4,5,6,7,8,9,10,0,1,2,3,4,5,6,7,8,9,10,0,1,2,3,4,5,6,7,8,9,10],\"coloraxis\":\"coloraxis\",\"pattern\":{\"shape\":\"\"}},\"name\":\"\",\"offsetgroup\":\"\",\"orientation\":\"v\",\"showlegend\":false,\"text\":[0.001,0.064,0.105,0.45,0.077,0.288,0.009,0.006,0.0,0.0,0.0,0.0,0.039,0.12,0.801,0.02,0.013,0.005,0.001,0.002,0.0,0.0,0.0,0.045,0.147,0.757,0.018,0.022,0.01,0.0,0.001,0.0,0.0,0.0,0.062,0.09,0.649,0.065,0.086,0.02,0.019,0.006,0.002,0.0,0.0,0.058,0.079,0.691,0.098,0.052,0.017,0.002,0.002,0.0,0.0],\"textposition\":\"auto\",\"texttemplate\":\"%{y}\",\"x\":[\"0.025\",\"0.025\",\"0.025\",\"0.025\",\"0.025\",\"0.025\",\"0.025\",\"0.025\",\"0.025\",\"0.025\",\"0.025\",\"0.5\",\"0.5\",\"0.5\",\"0.5\",\"0.5\",\"0.5\",\"0.5\",\"0.5\",\"0.5\",\"0.5\",\"0.5\",\"1.0\",\"1.0\",\"1.0\",\"1.0\",\"1.0\",\"1.0\",\"1.0\",\"1.0\",\"1.0\",\"1.0\",\"1.0\",\"2.0\",\"2.0\",\"2.0\",\"2.0\",\"2.0\",\"2.0\",\"2.0\",\"2.0\",\"2.0\",\"2.0\",\"2.0\",\"3.0\",\"3.0\",\"3.0\",\"3.0\",\"3.0\",\"3.0\",\"3.0\",\"3.0\",\"3.0\",\"3.0\",\"3.0\"],\"xaxis\":\"x\",\"y\":[0.001,0.064,0.105,0.45,0.077,0.288,0.009,0.006,0.0,0.0,0.0,0.0,0.039,0.12,0.801,0.02,0.013,0.005,0.001,0.002,0.0,0.0,0.0,0.045,0.147,0.757,0.018,0.022,0.01,0.0,0.001,0.0,0.0,0.0,0.062,0.09,0.649,0.065,0.086,0.02,0.019,0.006,0.002,0.0,0.0,0.058,0.079,0.691,0.098,0.052,0.017,0.002,0.002,0.0,0.0],\"yaxis\":\"y\",\"type\":\"bar\"},{\"alignmentgroup\":\"True\",\"hovertemplate\":\"epsilon=0.01\\u003cbr\\u003ealpha=%{x}\\u003cbr\\u003e%pruned=%{text}\\u003cbr\\u003edepth=%{marker.color}\\u003cextra\\u003e\\u003c\\u002fextra\\u003e\",\"legendgroup\":\"\",\"marker\":{\"color\":[0,1,2,3,4,5,6,7,8,9,10,0,1,2,3,4,5,6,7,8,9,10,0,1,2,3,4,5,6,7,8,9,10,0,1,2,3,4,5,6,7,8,9,10,0,1,2,3,4,5,6,7,8,9,10],\"coloraxis\":\"coloraxis\",\"pattern\":{\"shape\":\"\"}},\"name\":\"\",\"offsetgroup\":\"\",\"orientation\":\"v\",\"showlegend\":false,\"text\":[0.0,0.065,0.104,0.419,0.083,0.317,0.004,0.007,0.0,0.0,0.0,0.0,0.039,0.114,0.799,0.022,0.017,0.006,0.001,0.001,0.0,0.0,0.0,0.04,0.126,0.773,0.036,0.022,0.003,0.001,0.0,0.0,0.0,0.0,0.054,0.09,0.78,0.051,0.025,0.0,0.0,0.0,0.0,0.0,0.0,0.054,0.087,0.781,0.054,0.024,0.0,0.0,0.0,0.0,0.0],\"textposition\":\"auto\",\"texttemplate\":\"%{y}\",\"x\":[\"0.025\",\"0.025\",\"0.025\",\"0.025\",\"0.025\",\"0.025\",\"0.025\",\"0.025\",\"0.025\",\"0.025\",\"0.025\",\"0.5\",\"0.5\",\"0.5\",\"0.5\",\"0.5\",\"0.5\",\"0.5\",\"0.5\",\"0.5\",\"0.5\",\"0.5\",\"1.0\",\"1.0\",\"1.0\",\"1.0\",\"1.0\",\"1.0\",\"1.0\",\"1.0\",\"1.0\",\"1.0\",\"1.0\",\"2.0\",\"2.0\",\"2.0\",\"2.0\",\"2.0\",\"2.0\",\"2.0\",\"2.0\",\"2.0\",\"2.0\",\"2.0\",\"3.0\",\"3.0\",\"3.0\",\"3.0\",\"3.0\",\"3.0\",\"3.0\",\"3.0\",\"3.0\",\"3.0\",\"3.0\"],\"xaxis\":\"x2\",\"y\":[0.0,0.065,0.104,0.419,0.083,0.317,0.004,0.007,0.0,0.0,0.0,0.0,0.039,0.114,0.799,0.022,0.017,0.006,0.001,0.001,0.0,0.0,0.0,0.04,0.126,0.773,0.036,0.022,0.003,0.001,0.0,0.0,0.0,0.0,0.054,0.09,0.78,0.051,0.025,0.0,0.0,0.0,0.0,0.0,0.0,0.054,0.087,0.781,0.054,0.024,0.0,0.0,0.0,0.0,0.0],\"yaxis\":\"y2\",\"type\":\"bar\"},{\"alignmentgroup\":\"True\",\"hovertemplate\":\"epsilon=0.1\\u003cbr\\u003ealpha=%{x}\\u003cbr\\u003e%pruned=%{text}\\u003cbr\\u003edepth=%{marker.color}\\u003cextra\\u003e\\u003c\\u002fextra\\u003e\",\"legendgroup\":\"\",\"marker\":{\"color\":[0,1,2,3,4,5,6,7,8,9,10,0,1,2,3,4,5,6,7,8,9,10,0,1,2,3,4,5,6,7,8,9,10,0,1,2,3,4,5,6,7,8,9,10,0,1,2,3,4,5,6,7,8,9,10],\"coloraxis\":\"coloraxis\",\"pattern\":{\"shape\":\"\"}},\"name\":\"\",\"offsetgroup\":\"\",\"orientation\":\"v\",\"showlegend\":false,\"text\":[0.0,0.064,0.093,0.398,0.083,0.35,0.003,0.01,0.0,0.0,0.0,0.0,0.038,0.11,0.824,0.022,0.006,0.0,0.0,0.0,0.0,0.0,0.0,0.04,0.124,0.801,0.02,0.014,0.0,0.0,0.0,0.0,0.0,0.0,0.053,0.108,0.793,0.035,0.01,0.0,0.0,0.0,0.0,0.0,0.0,0.051,0.12,0.794,0.028,0.006,0.0,0.0,0.0,0.0,0.0],\"textposition\":\"auto\",\"texttemplate\":\"%{y}\",\"x\":[\"0.025\",\"0.025\",\"0.025\",\"0.025\",\"0.025\",\"0.025\",\"0.025\",\"0.025\",\"0.025\",\"0.025\",\"0.025\",\"0.5\",\"0.5\",\"0.5\",\"0.5\",\"0.5\",\"0.5\",\"0.5\",\"0.5\",\"0.5\",\"0.5\",\"0.5\",\"1.0\",\"1.0\",\"1.0\",\"1.0\",\"1.0\",\"1.0\",\"1.0\",\"1.0\",\"1.0\",\"1.0\",\"1.0\",\"2.0\",\"2.0\",\"2.0\",\"2.0\",\"2.0\",\"2.0\",\"2.0\",\"2.0\",\"2.0\",\"2.0\",\"2.0\",\"3.0\",\"3.0\",\"3.0\",\"3.0\",\"3.0\",\"3.0\",\"3.0\",\"3.0\",\"3.0\",\"3.0\",\"3.0\"],\"xaxis\":\"x3\",\"y\":[0.0,0.064,0.093,0.398,0.083,0.35,0.003,0.01,0.0,0.0,0.0,0.0,0.038,0.11,0.824,0.022,0.006,0.0,0.0,0.0,0.0,0.0,0.0,0.04,0.124,0.801,0.02,0.014,0.0,0.0,0.0,0.0,0.0,0.0,0.053,0.108,0.793,0.035,0.01,0.0,0.0,0.0,0.0,0.0,0.0,0.051,0.12,0.794,0.028,0.006,0.0,0.0,0.0,0.0,0.0],\"yaxis\":\"y3\",\"type\":\"bar\"},{\"alignmentgroup\":\"True\",\"hovertemplate\":\"epsilon=0.5\\u003cbr\\u003ealpha=%{x}\\u003cbr\\u003e%pruned=%{text}\\u003cbr\\u003edepth=%{marker.color}\\u003cextra\\u003e\\u003c\\u002fextra\\u003e\",\"legendgroup\":\"\",\"marker\":{\"color\":[0,1,2,3,4,5,6,7,8,9,10,0,1,2,3,4,5,6,7,8,9,10,0,1,2,3,4,5,6,7,8,9,10,0,1,2,3,4,5,6,7,8,9,10,0,1,2,3,4,5,6,7,8,9,10],\"coloraxis\":\"coloraxis\",\"pattern\":{\"shape\":\"\"}},\"name\":\"\",\"offsetgroup\":\"\",\"orientation\":\"v\",\"showlegend\":false,\"text\":[0.0,0.064,0.093,0.402,0.09,0.34,0.005,0.006,0.0,0.0,0.0,0.0,0.037,0.112,0.823,0.021,0.006,0.0,0.0,0.0,0.0,0.0,0.0,0.038,0.131,0.803,0.019,0.009,0.0,0.0,0.0,0.0,0.0,0.0,0.051,0.134,0.805,0.01,0.0,0.0,0.0,0.0,0.0,0.0,0.0,0.06,0.147,0.794,0.0,0.0,0.0,0.0,0.0,0.0,0.0],\"textposition\":\"auto\",\"texttemplate\":\"%{y}\",\"x\":[\"0.025\",\"0.025\",\"0.025\",\"0.025\",\"0.025\",\"0.025\",\"0.025\",\"0.025\",\"0.025\",\"0.025\",\"0.025\",\"0.5\",\"0.5\",\"0.5\",\"0.5\",\"0.5\",\"0.5\",\"0.5\",\"0.5\",\"0.5\",\"0.5\",\"0.5\",\"1.0\",\"1.0\",\"1.0\",\"1.0\",\"1.0\",\"1.0\",\"1.0\",\"1.0\",\"1.0\",\"1.0\",\"1.0\",\"2.0\",\"2.0\",\"2.0\",\"2.0\",\"2.0\",\"2.0\",\"2.0\",\"2.0\",\"2.0\",\"2.0\",\"2.0\",\"3.0\",\"3.0\",\"3.0\",\"3.0\",\"3.0\",\"3.0\",\"3.0\",\"3.0\",\"3.0\",\"3.0\",\"3.0\"],\"xaxis\":\"x4\",\"y\":[0.0,0.064,0.093,0.402,0.09,0.34,0.005,0.006,0.0,0.0,0.0,0.0,0.037,0.112,0.823,0.021,0.006,0.0,0.0,0.0,0.0,0.0,0.0,0.038,0.131,0.803,0.019,0.009,0.0,0.0,0.0,0.0,0.0,0.0,0.051,0.134,0.805,0.01,0.0,0.0,0.0,0.0,0.0,0.0,0.0,0.06,0.147,0.794,0.0,0.0,0.0,0.0,0.0,0.0,0.0],\"yaxis\":\"y4\",\"type\":\"bar\"},{\"alignmentgroup\":\"True\",\"hovertemplate\":\"epsilon=1.0\\u003cbr\\u003ealpha=%{x}\\u003cbr\\u003e%pruned=%{text}\\u003cbr\\u003edepth=%{marker.color}\\u003cextra\\u003e\\u003c\\u002fextra\\u003e\",\"legendgroup\":\"\",\"marker\":{\"color\":[0,1,2,3,4,5,6,7,8,9,10,0,1,2,3,4,5,6,7,8,9,10,0,1,2,3,4,5,6,7,8,9,10,0,1,2,3,4,5,6,7,8,9,10,0,1,2,3,4,5,6,7,8,9,10],\"coloraxis\":\"coloraxis\",\"pattern\":{\"shape\":\"\"}},\"name\":\"\",\"offsetgroup\":\"\",\"orientation\":\"v\",\"showlegend\":false,\"text\":[0.0,0.064,0.093,0.388,0.088,0.356,0.003,0.006,0.002,0.0,0.0,0.0,0.038,0.115,0.825,0.018,0.005,0.0,0.0,0.0,0.0,0.0,0.0,0.037,0.139,0.811,0.011,0.001,0.0,0.0,0.0,0.0,0.0,0.0,0.032,0.145,0.822,0.0,0.0,0.0,0.0,0.0,0.0,0.0,0.0,0.026,0.205,0.769,0.0,0.0,0.0,0.0,0.0,0.0,0.0],\"textposition\":\"auto\",\"texttemplate\":\"%{y}\",\"x\":[\"0.025\",\"0.025\",\"0.025\",\"0.025\",\"0.025\",\"0.025\",\"0.025\",\"0.025\",\"0.025\",\"0.025\",\"0.025\",\"0.5\",\"0.5\",\"0.5\",\"0.5\",\"0.5\",\"0.5\",\"0.5\",\"0.5\",\"0.5\",\"0.5\",\"0.5\",\"1.0\",\"1.0\",\"1.0\",\"1.0\",\"1.0\",\"1.0\",\"1.0\",\"1.0\",\"1.0\",\"1.0\",\"1.0\",\"2.0\",\"2.0\",\"2.0\",\"2.0\",\"2.0\",\"2.0\",\"2.0\",\"2.0\",\"2.0\",\"2.0\",\"2.0\",\"3.0\",\"3.0\",\"3.0\",\"3.0\",\"3.0\",\"3.0\",\"3.0\",\"3.0\",\"3.0\",\"3.0\",\"3.0\"],\"xaxis\":\"x5\",\"y\":[0.0,0.064,0.093,0.388,0.088,0.356,0.003,0.006,0.002,0.0,0.0,0.0,0.038,0.115,0.825,0.018,0.005,0.0,0.0,0.0,0.0,0.0,0.0,0.037,0.139,0.811,0.011,0.001,0.0,0.0,0.0,0.0,0.0,0.0,0.032,0.145,0.822,0.0,0.0,0.0,0.0,0.0,0.0,0.0,0.0,0.026,0.205,0.769,0.0,0.0,0.0,0.0,0.0,0.0,0.0],\"yaxis\":\"y5\",\"type\":\"bar\"}],                        {\"template\":{\"data\":{\"histogram2dcontour\":[{\"type\":\"histogram2dcontour\",\"colorbar\":{\"outlinewidth\":0,\"ticks\":\"\"},\"colorscale\":[[0.0,\"#0d0887\"],[0.1111111111111111,\"#46039f\"],[0.2222222222222222,\"#7201a8\"],[0.3333333333333333,\"#9c179e\"],[0.4444444444444444,\"#bd3786\"],[0.5555555555555556,\"#d8576b\"],[0.6666666666666666,\"#ed7953\"],[0.7777777777777778,\"#fb9f3a\"],[0.8888888888888888,\"#fdca26\"],[1.0,\"#f0f921\"]]}],\"choropleth\":[{\"type\":\"choropleth\",\"colorbar\":{\"outlinewidth\":0,\"ticks\":\"\"}}],\"histogram2d\":[{\"type\":\"histogram2d\",\"colorbar\":{\"outlinewidth\":0,\"ticks\":\"\"},\"colorscale\":[[0.0,\"#0d0887\"],[0.1111111111111111,\"#46039f\"],[0.2222222222222222,\"#7201a8\"],[0.3333333333333333,\"#9c179e\"],[0.4444444444444444,\"#bd3786\"],[0.5555555555555556,\"#d8576b\"],[0.6666666666666666,\"#ed7953\"],[0.7777777777777778,\"#fb9f3a\"],[0.8888888888888888,\"#fdca26\"],[1.0,\"#f0f921\"]]}],\"heatmap\":[{\"type\":\"heatmap\",\"colorbar\":{\"outlinewidth\":0,\"ticks\":\"\"},\"colorscale\":[[0.0,\"#0d0887\"],[0.1111111111111111,\"#46039f\"],[0.2222222222222222,\"#7201a8\"],[0.3333333333333333,\"#9c179e\"],[0.4444444444444444,\"#bd3786\"],[0.5555555555555556,\"#d8576b\"],[0.6666666666666666,\"#ed7953\"],[0.7777777777777778,\"#fb9f3a\"],[0.8888888888888888,\"#fdca26\"],[1.0,\"#f0f921\"]]}],\"heatmapgl\":[{\"type\":\"heatmapgl\",\"colorbar\":{\"outlinewidth\":0,\"ticks\":\"\"},\"colorscale\":[[0.0,\"#0d0887\"],[0.1111111111111111,\"#46039f\"],[0.2222222222222222,\"#7201a8\"],[0.3333333333333333,\"#9c179e\"],[0.4444444444444444,\"#bd3786\"],[0.5555555555555556,\"#d8576b\"],[0.6666666666666666,\"#ed7953\"],[0.7777777777777778,\"#fb9f3a\"],[0.8888888888888888,\"#fdca26\"],[1.0,\"#f0f921\"]]}],\"contourcarpet\":[{\"type\":\"contourcarpet\",\"colorbar\":{\"outlinewidth\":0,\"ticks\":\"\"}}],\"contour\":[{\"type\":\"contour\",\"colorbar\":{\"outlinewidth\":0,\"ticks\":\"\"},\"colorscale\":[[0.0,\"#0d0887\"],[0.1111111111111111,\"#46039f\"],[0.2222222222222222,\"#7201a8\"],[0.3333333333333333,\"#9c179e\"],[0.4444444444444444,\"#bd3786\"],[0.5555555555555556,\"#d8576b\"],[0.6666666666666666,\"#ed7953\"],[0.7777777777777778,\"#fb9f3a\"],[0.8888888888888888,\"#fdca26\"],[1.0,\"#f0f921\"]]}],\"surface\":[{\"type\":\"surface\",\"colorbar\":{\"outlinewidth\":0,\"ticks\":\"\"},\"colorscale\":[[0.0,\"#0d0887\"],[0.1111111111111111,\"#46039f\"],[0.2222222222222222,\"#7201a8\"],[0.3333333333333333,\"#9c179e\"],[0.4444444444444444,\"#bd3786\"],[0.5555555555555556,\"#d8576b\"],[0.6666666666666666,\"#ed7953\"],[0.7777777777777778,\"#fb9f3a\"],[0.8888888888888888,\"#fdca26\"],[1.0,\"#f0f921\"]]}],\"mesh3d\":[{\"type\":\"mesh3d\",\"colorbar\":{\"outlinewidth\":0,\"ticks\":\"\"}}],\"scatter\":[{\"marker\":{\"line\":{\"color\":\"#283442\"}},\"type\":\"scatter\"}],\"parcoords\":[{\"type\":\"parcoords\",\"line\":{\"colorbar\":{\"outlinewidth\":0,\"ticks\":\"\"}}}],\"scatterpolargl\":[{\"type\":\"scatterpolargl\",\"marker\":{\"colorbar\":{\"outlinewidth\":0,\"ticks\":\"\"}}}],\"bar\":[{\"error_x\":{\"color\":\"#f2f5fa\"},\"error_y\":{\"color\":\"#f2f5fa\"},\"marker\":{\"line\":{\"color\":\"rgb(17,17,17)\",\"width\":0.5},\"pattern\":{\"fillmode\":\"overlay\",\"size\":10,\"solidity\":0.2}},\"type\":\"bar\"}],\"scattergeo\":[{\"type\":\"scattergeo\",\"marker\":{\"colorbar\":{\"outlinewidth\":0,\"ticks\":\"\"}}}],\"scatterpolar\":[{\"type\":\"scatterpolar\",\"marker\":{\"colorbar\":{\"outlinewidth\":0,\"ticks\":\"\"}}}],\"histogram\":[{\"marker\":{\"pattern\":{\"fillmode\":\"overlay\",\"size\":10,\"solidity\":0.2}},\"type\":\"histogram\"}],\"scattergl\":[{\"marker\":{\"line\":{\"color\":\"#283442\"}},\"type\":\"scattergl\"}],\"scatter3d\":[{\"type\":\"scatter3d\",\"line\":{\"colorbar\":{\"outlinewidth\":0,\"ticks\":\"\"}},\"marker\":{\"colorbar\":{\"outlinewidth\":0,\"ticks\":\"\"}}}],\"scattermapbox\":[{\"type\":\"scattermapbox\",\"marker\":{\"colorbar\":{\"outlinewidth\":0,\"ticks\":\"\"}}}],\"scatterternary\":[{\"type\":\"scatterternary\",\"marker\":{\"colorbar\":{\"outlinewidth\":0,\"ticks\":\"\"}}}],\"scattercarpet\":[{\"type\":\"scattercarpet\",\"marker\":{\"colorbar\":{\"outlinewidth\":0,\"ticks\":\"\"}}}],\"carpet\":[{\"aaxis\":{\"endlinecolor\":\"#A2B1C6\",\"gridcolor\":\"#506784\",\"linecolor\":\"#506784\",\"minorgridcolor\":\"#506784\",\"startlinecolor\":\"#A2B1C6\"},\"baxis\":{\"endlinecolor\":\"#A2B1C6\",\"gridcolor\":\"#506784\",\"linecolor\":\"#506784\",\"minorgridcolor\":\"#506784\",\"startlinecolor\":\"#A2B1C6\"},\"type\":\"carpet\"}],\"table\":[{\"cells\":{\"fill\":{\"color\":\"#506784\"},\"line\":{\"color\":\"rgb(17,17,17)\"}},\"header\":{\"fill\":{\"color\":\"#2a3f5f\"},\"line\":{\"color\":\"rgb(17,17,17)\"}},\"type\":\"table\"}],\"barpolar\":[{\"marker\":{\"line\":{\"color\":\"rgb(17,17,17)\",\"width\":0.5},\"pattern\":{\"fillmode\":\"overlay\",\"size\":10,\"solidity\":0.2}},\"type\":\"barpolar\"}],\"pie\":[{\"automargin\":true,\"type\":\"pie\"}]},\"layout\":{\"autotypenumbers\":\"strict\",\"colorway\":[\"#636efa\",\"#EF553B\",\"#00cc96\",\"#ab63fa\",\"#FFA15A\",\"#19d3f3\",\"#FF6692\",\"#B6E880\",\"#FF97FF\",\"#FECB52\"],\"font\":{\"color\":\"#f2f5fa\"},\"hovermode\":\"closest\",\"hoverlabel\":{\"align\":\"left\"},\"paper_bgcolor\":\"rgb(17,17,17)\",\"plot_bgcolor\":\"rgb(17,17,17)\",\"polar\":{\"bgcolor\":\"rgb(17,17,17)\",\"angularaxis\":{\"gridcolor\":\"#506784\",\"linecolor\":\"#506784\",\"ticks\":\"\"},\"radialaxis\":{\"gridcolor\":\"#506784\",\"linecolor\":\"#506784\",\"ticks\":\"\"}},\"ternary\":{\"bgcolor\":\"rgb(17,17,17)\",\"aaxis\":{\"gridcolor\":\"#506784\",\"linecolor\":\"#506784\",\"ticks\":\"\"},\"baxis\":{\"gridcolor\":\"#506784\",\"linecolor\":\"#506784\",\"ticks\":\"\"},\"caxis\":{\"gridcolor\":\"#506784\",\"linecolor\":\"#506784\",\"ticks\":\"\"}},\"coloraxis\":{\"colorbar\":{\"outlinewidth\":0,\"ticks\":\"\"}},\"colorscale\":{\"sequential\":[[0.0,\"#0d0887\"],[0.1111111111111111,\"#46039f\"],[0.2222222222222222,\"#7201a8\"],[0.3333333333333333,\"#9c179e\"],[0.4444444444444444,\"#bd3786\"],[0.5555555555555556,\"#d8576b\"],[0.6666666666666666,\"#ed7953\"],[0.7777777777777778,\"#fb9f3a\"],[0.8888888888888888,\"#fdca26\"],[1.0,\"#f0f921\"]],\"sequentialminus\":[[0.0,\"#0d0887\"],[0.1111111111111111,\"#46039f\"],[0.2222222222222222,\"#7201a8\"],[0.3333333333333333,\"#9c179e\"],[0.4444444444444444,\"#bd3786\"],[0.5555555555555556,\"#d8576b\"],[0.6666666666666666,\"#ed7953\"],[0.7777777777777778,\"#fb9f3a\"],[0.8888888888888888,\"#fdca26\"],[1.0,\"#f0f921\"]],\"diverging\":[[0,\"#8e0152\"],[0.1,\"#c51b7d\"],[0.2,\"#de77ae\"],[0.3,\"#f1b6da\"],[0.4,\"#fde0ef\"],[0.5,\"#f7f7f7\"],[0.6,\"#e6f5d0\"],[0.7,\"#b8e186\"],[0.8,\"#7fbc41\"],[0.9,\"#4d9221\"],[1,\"#276419\"]]},\"xaxis\":{\"gridcolor\":\"#283442\",\"linecolor\":\"#506784\",\"ticks\":\"\",\"title\":{\"standoff\":15},\"zerolinecolor\":\"#283442\",\"automargin\":true,\"zerolinewidth\":2},\"yaxis\":{\"gridcolor\":\"#283442\",\"linecolor\":\"#506784\",\"ticks\":\"\",\"title\":{\"standoff\":15},\"zerolinecolor\":\"#283442\",\"automargin\":true,\"zerolinewidth\":2},\"scene\":{\"xaxis\":{\"backgroundcolor\":\"rgb(17,17,17)\",\"gridcolor\":\"#506784\",\"linecolor\":\"#506784\",\"showbackground\":true,\"ticks\":\"\",\"zerolinecolor\":\"#C8D4E3\",\"gridwidth\":2},\"yaxis\":{\"backgroundcolor\":\"rgb(17,17,17)\",\"gridcolor\":\"#506784\",\"linecolor\":\"#506784\",\"showbackground\":true,\"ticks\":\"\",\"zerolinecolor\":\"#C8D4E3\",\"gridwidth\":2},\"zaxis\":{\"backgroundcolor\":\"rgb(17,17,17)\",\"gridcolor\":\"#506784\",\"linecolor\":\"#506784\",\"showbackground\":true,\"ticks\":\"\",\"zerolinecolor\":\"#C8D4E3\",\"gridwidth\":2}},\"shapedefaults\":{\"line\":{\"color\":\"#f2f5fa\"}},\"annotationdefaults\":{\"arrowcolor\":\"#f2f5fa\",\"arrowhead\":0,\"arrowwidth\":1},\"geo\":{\"bgcolor\":\"rgb(17,17,17)\",\"landcolor\":\"rgb(17,17,17)\",\"subunitcolor\":\"#506784\",\"showland\":true,\"showlakes\":true,\"lakecolor\":\"rgb(17,17,17)\"},\"title\":{\"x\":0.05},\"updatemenudefaults\":{\"bgcolor\":\"#506784\",\"borderwidth\":0},\"sliderdefaults\":{\"bgcolor\":\"#C8D4E3\",\"borderwidth\":1,\"bordercolor\":\"rgb(17,17,17)\",\"tickwidth\":0},\"mapbox\":{\"style\":\"dark\"}}},\"xaxis\":{\"anchor\":\"y\",\"domain\":[0.0,0.18400000000000002],\"title\":{\"text\":\"alpha\"}},\"yaxis\":{\"anchor\":\"x\",\"domain\":[0.0,1.0],\"title\":{\"text\":\"%pruned\"}},\"xaxis2\":{\"anchor\":\"y2\",\"domain\":[0.20400000000000001,0.388],\"matches\":\"x\",\"title\":{\"text\":\"alpha\"}},\"yaxis2\":{\"anchor\":\"x2\",\"domain\":[0.0,1.0],\"matches\":\"y\",\"showticklabels\":false},\"xaxis3\":{\"anchor\":\"y3\",\"domain\":[0.40800000000000003,0.5920000000000001],\"matches\":\"x\",\"title\":{\"text\":\"alpha\"}},\"yaxis3\":{\"anchor\":\"x3\",\"domain\":[0.0,1.0],\"matches\":\"y\",\"showticklabels\":false},\"xaxis4\":{\"anchor\":\"y4\",\"domain\":[0.6120000000000001,0.7960000000000002],\"matches\":\"x\",\"title\":{\"text\":\"alpha\"}},\"yaxis4\":{\"anchor\":\"x4\",\"domain\":[0.0,1.0],\"matches\":\"y\",\"showticklabels\":false},\"xaxis5\":{\"anchor\":\"y5\",\"domain\":[0.8160000000000001,1.0],\"matches\":\"x\",\"title\":{\"text\":\"alpha\"}},\"yaxis5\":{\"anchor\":\"x5\",\"domain\":[0.0,1.0],\"matches\":\"y\",\"showticklabels\":false},\"annotations\":[{\"font\":{},\"showarrow\":false,\"text\":\"epsilon=0.001\",\"x\":0.09200000000000001,\"xanchor\":\"center\",\"xref\":\"paper\",\"y\":1.0,\"yanchor\":\"bottom\",\"yref\":\"paper\"},{\"font\":{},\"showarrow\":false,\"text\":\"epsilon=0.01\",\"x\":0.29600000000000004,\"xanchor\":\"center\",\"xref\":\"paper\",\"y\":1.0,\"yanchor\":\"bottom\",\"yref\":\"paper\"},{\"font\":{},\"showarrow\":false,\"text\":\"epsilon=0.1\",\"x\":0.5,\"xanchor\":\"center\",\"xref\":\"paper\",\"y\":1.0,\"yanchor\":\"bottom\",\"yref\":\"paper\"},{\"font\":{},\"showarrow\":false,\"text\":\"epsilon=0.5\",\"x\":0.7040000000000002,\"xanchor\":\"center\",\"xref\":\"paper\",\"y\":1.0,\"yanchor\":\"bottom\",\"yref\":\"paper\"},{\"font\":{},\"showarrow\":false,\"text\":\"epsilon=1.0\",\"x\":0.908,\"xanchor\":\"center\",\"xref\":\"paper\",\"y\":1.0,\"yanchor\":\"bottom\",\"yref\":\"paper\"}],\"coloraxis\":{\"colorbar\":{\"title\":{\"text\":\"depth\"}},\"colorscale\":[[0.0,\"#0d0887\"],[0.1111111111111111,\"#46039f\"],[0.2222222222222222,\"#7201a8\"],[0.3333333333333333,\"#9c179e\"],[0.4444444444444444,\"#bd3786\"],[0.5555555555555556,\"#d8576b\"],[0.6666666666666666,\"#ed7953\"],[0.7777777777777778,\"#fb9f3a\"],[0.8888888888888888,\"#fdca26\"],[1.0,\"#f0f921\"]]},\"legend\":{\"tracegroupgap\":0},\"margin\":{\"t\":60},\"barmode\":\"relative\"},                        {\"responsive\": true}                    ).then(function(){\n                            \nvar gd = document.getElementById('938819d5-4efe-4b78-9423-3af8fe23d385');\nvar x = new MutationObserver(function (mutations, observer) {{\n        var display = window.getComputedStyle(gd).display;\n        if (!display || display === 'none') {{\n            console.log([gd, 'removed!']);\n            Plotly.purge(gd);\n            observer.disconnect();\n        }}\n}});\n\n// Listen for the removal of the full notebook cells\nvar notebookContainer = gd.closest('#notebook-container');\nif (notebookContainer) {{\n    x.observe(notebookContainer, {childList: true});\n}}\n\n// Listen for the clearing of the current output cell\nvar outputEl = gd.closest('.output');\nif (outputEl) {{\n    x.observe(outputEl, {childList: true});\n}}\n\n                        })                };                });            </script>        </div>"
     },
     "metadata": {},
     "output_type": "display_data"
    }
   ],
   "source": [
    "import numpy as np\n",
    "depth_df['depth'] = depth_df['depth'].astype(int)\n",
    "depth_df['alpha'] = depth_df['alpha'].astype(str)\n",
    "depth_df['%pruned'] = depth_df.groupby(['epsilon_1', 'alpha'])['#pruned'].transform(lambda x: x / x.sum())\n",
    "depth_df['%pruned'] = depth_df['%pruned'].apply(lambda p: np.round(p, 3))\n",
    "fig = px.bar(\n",
    "    depth_df,\n",
    "    x='alpha', y='%pruned',\n",
    "    facet_col='epsilon_1',\n",
    "    color='depth',\n",
    "    text='%pruned',\n",
    "    text_auto=True,\n",
    "    labels={'epsilon_1': 'epsilon'}\n",
    ")\n",
    "fig.show()"
   ],
   "metadata": {
    "collapsed": false,
    "ExecuteTime": {
     "end_time": "2023-11-26T23:12:36.636758Z",
     "start_time": "2023-11-26T23:12:36.599557Z"
    }
   },
   "id": "796197e1e33cfe84"
  },
  {
   "cell_type": "code",
   "execution_count": 55,
   "outputs": [],
   "source": [
    "df.to_csv(f'../data/output/{graph_name}/processed_stats.csv', index=False)"
   ],
   "metadata": {
    "collapsed": false,
    "ExecuteTime": {
     "end_time": "2023-11-26T23:14:27.977349Z",
     "start_time": "2023-11-26T23:14:27.969741Z"
    }
   },
   "id": "922f2a43f60f3a3c"
  }
 ],
 "metadata": {
  "kernelspec": {
   "display_name": "Python 3",
   "language": "python",
   "name": "python3"
  },
  "language_info": {
   "codemirror_mode": {
    "name": "ipython",
    "version": 2
   },
   "file_extension": ".py",
   "mimetype": "text/x-python",
   "name": "python",
   "nbconvert_exporter": "python",
   "pygments_lexer": "ipython2",
   "version": "2.7.6"
  }
 },
 "nbformat": 4,
 "nbformat_minor": 5
}
