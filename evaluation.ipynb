{
 "cells": [
  {
   "cell_type": "markdown",
   "source": [
    "# Differentially Private Provenance Graphs"
   ],
   "metadata": {
    "collapsed": false
   },
   "id": "b6572e4105371592"
  },
  {
   "cell_type": "markdown",
   "source": [
    "## Run Algorithm"
   ],
   "metadata": {
    "collapsed": false
   },
   "id": "deccf3635609ab37"
  },
  {
   "cell_type": "code",
   "execution_count": 74,
   "id": "initial_id",
   "metadata": {
    "collapsed": true,
    "ExecuteTime": {
     "end_time": "2023-11-26T23:26:26.805138Z",
     "start_time": "2023-11-26T23:26:20.402663Z"
    }
   },
   "outputs": [
    {
     "name": "stderr",
     "output_type": "stream",
     "text": [
      "(0.001,1.0,0.025): 100%|██████████| 1/1 [00:01<00:00,  1.15s/it]\n",
      "(0.001,1.0,0.5): 100%|██████████| 1/1 [00:00<00:00,  1.29it/s]\n",
      "(0.01,1.0,0.5): 100%|██████████| 1/1 [00:00<00:00,  1.10it/s]\n",
      "(0.01,1.0,0.025): 100%|██████████| 1/1 [00:00<00:00,  1.01it/s]\n",
      "(0.001,1.0,1.0): 100%|██████████| 1/1 [00:01<00:00,  1.15s/it]\n",
      "(0.01,1.0,1.0): 100%|██████████| 1/1 [00:01<00:00,  1.17s/it]\n",
      "(0.001,1.0,3.0): 100%|██████████| 1/1 [00:01<00:00,  1.34s/it]\n",
      "(0.001,1.0,2.0): 100%|██████████| 1/1 [00:01<00:00,  1.36s/it]\n",
      "(0.1,1.0,0.025): 100%|██████████| 1/1 [00:00<00:00,  1.33it/s]\n",
      "(0.01,1.0,2.0): 100%|██████████| 1/1 [00:01<00:00,  1.34s/it]\n",
      "(0.5,1.0,0.025): 100%|██████████| 1/1 [00:00<00:00,  1.60it/s]\n",
      "(0.01,1.0,3.0): 100%|██████████| 1/1 [00:01<00:00,  1.37s/it]\n",
      "(0.1,1.0,0.5): 100%|██████████| 1/1 [00:01<00:00,  1.25s/it]\n",
      "(0.1,1.0,1.0): 100%|██████████| 1/1 [00:01<00:00,  1.29s/it]\n",
      "(0.1,1.0,2.0): 100%|██████████| 1/1 [00:01<00:00,  1.33s/it]\n",
      "(0.1,1.0,3.0): 100%|██████████| 1/1 [00:01<00:00,  1.42s/it]\n",
      "(0.5,1.0,0.5): 100%|██████████| 1/1 [00:01<00:00,  1.16s/it]\n",
      "(0.5,1.0,1.0): 100%|██████████| 1/1 [00:01<00:00,  1.23s/it]\n",
      "(1.0,1.0,0.025): 100%|██████████| 1/1 [00:00<00:00,  1.33it/s]\n",
      "(1.0,1.0,0.5): 100%|██████████| 1/1 [00:01<00:00,  1.10s/it]\n",
      "(0.5,1.0,2.0): 100%|██████████| 1/1 [00:01<00:00,  1.61s/it]\n",
      "(1.0,1.0,1.0): 100%|██████████| 1/1 [00:01<00:00,  1.30s/it]\n",
      "(1.0,1.0,2.0): 100%|██████████| 1/1 [00:01<00:00,  1.76s/it]\n",
      "(0.5,1.0,3.0): 100%|██████████| 1/1 [00:02<00:00,  2.70s/it]\n",
      "(1.0,1.0,3.0): 100%|██████████| 1/1 [00:02<00:00,  2.10s/it]\n"
     ]
    }
   ],
   "source": [
    "import pickle\n",
    "from pathlib import Path\n",
    "import argparse\n",
    "import yaml\n",
    "import pandas as pd\n",
    "import evaluate\n",
    "\n",
    "\n",
    "graph_name = 'nd-134204506-processletevent'\n",
    "\n",
    "epsilon_values = [0.001, 0.01, 0.1, 0.5, 1.0]\n",
    "alpha_values = [0.025, 0.5, 1, 2, 3]\n",
    "results = evaluate.main(\n",
    "    input_directory = '../data/input',\n",
    "    output_directory = '../data/output',\n",
    "    graph_name = graph_name,\n",
    "    epsilon_1_values = epsilon_values,\n",
    "    epsilon_2_values = [1.0],\n",
    "    alpha_values = alpha_values,\n",
    "    num_samples = 1,\n",
    "    parallel = True\n",
    ")\n",
    "with open(f'../data/output/{graph_name}/results.p', mode='wb') as file:\n",
    "    pickle.dump(results, file)"
   ]
  },
  {
   "cell_type": "markdown",
   "source": [],
   "metadata": {
    "collapsed": false
   },
   "id": "77900f0462b27c83"
  },
  {
   "cell_type": "code",
   "execution_count": 76,
   "outputs": [],
   "source": [
    "with open(f'../data/output/{graph_name}/results.p', mode='rb') as f:\n",
    "    results = pickle.load(f)"
   ],
   "metadata": {
    "collapsed": false,
    "ExecuteTime": {
     "end_time": "2023-11-26T23:26:34.898745Z",
     "start_time": "2023-11-26T23:26:34.891561Z"
    }
   },
   "id": "2f593d22414d7354"
  },
  {
   "cell_type": "markdown",
   "source": [
    "## Create Graphs"
   ],
   "metadata": {
    "collapsed": false
   },
   "id": "ed095d29ff9d4452"
  },
  {
   "cell_type": "code",
   "execution_count": 77,
   "outputs": [
    {
     "data": {
      "text/plain": "   epsilon_1 epsilon_2  alpha  \\\n0      0.001       1.0  0.025   \n1      0.001       1.0    0.5   \n2      0.001       1.0    1.0   \n3      0.001       1.0    2.0   \n4      0.001       1.0    3.0   \n5       0.01       1.0  0.025   \n6       0.01       1.0    0.5   \n7       0.01       1.0    1.0   \n8       0.01       1.0    2.0   \n9       0.01       1.0    3.0   \n10       0.1       1.0  0.025   \n11       0.1       1.0    0.5   \n12       0.1       1.0    1.0   \n13       0.1       1.0    2.0   \n14       0.1       1.0    3.0   \n15       0.5       1.0  0.025   \n16       0.5       1.0    0.5   \n17       0.5       1.0    1.0   \n18       0.5       1.0    2.0   \n19       0.5       1.0    3.0   \n20       1.0       1.0  0.025   \n21       1.0       1.0    0.5   \n22       1.0       1.0    1.0   \n23       1.0       1.0    2.0   \n24       1.0       1.0    3.0   \n\n                                   #pruned at depth=1  \\\n0   {'[FILE]-Execute_Processlet_Library-[PROCESS_L...   \n1   {'[PROCESS_LET]-Access_File-[FILE]': 81, '[PRO...   \n2   {'[FILE]-Access_File-[PROCESS_LET]': 20, '[FIL...   \n3   {'[FILE]-Access_File-[PROCESS_LET]': 25, '[FIL...   \n4   {'[FILE]-Access_File-[PROCESS_LET]': 25, '[FIL...   \n5   {'[FILE]-Access_File-[PROCESS_LET]': 25, '[FIL...   \n6   {'[FILE]-Access_File-[PROCESS_LET]': 18, '[FIL...   \n7   {'[FILE]-Access_File-[PROCESS_LET]': 17, '[FIL...   \n8   {'[FILE]-Access_File-[PROCESS_LET]': 17, '[FIL...   \n9   {'[FILE]-Access_File-[PROCESS_LET]': 21, '[FIL...   \n10  {'[FILE]-Access_File-[PROCESS_LET]': 19, '[FIL...   \n11  {'[FILE]-Access_File-[PROCESS_LET]': 30, '[FIL...   \n12  {'[FILE]-Access_File-[PROCESS_LET]': 18, '[FIL...   \n13  {'[FILE]-Access_File-[PROCESS_LET]': 20, '[FIL...   \n14  {'[FILE]-Execute_Processlet_Library-[PROCESS_L...   \n15  {'[PROCESS_LET]-Access_File-[FILE]': 115, '[PR...   \n16  {'[FILE]-Access_File-[PROCESS_LET]': 21, '[FIL...   \n17  {'[FILE]-Access_File-[PROCESS_LET]': 17, '[FIL...   \n18  {'[FILE]-Access_File-[PROCESS_LET]': 7, '[FILE...   \n19  {'[FILE]-Execute_Processlet_Library-[PROCESS_L...   \n20  {'[FILE]-Execute_Processlet_Library-[PROCESS_L...   \n21  {'[FILE]-Access_File-[PROCESS_LET]': 22, '[FIL...   \n22  {'[FILE]-Access_File-[PROCESS_LET]': 12, '[FIL...   \n23            {'[PROCESS_LET]-Access_File-[FILE]': 1}   \n24                                                NaN   \n\n                                   #pruned at depth=2  \\\n0             {'[PROCESS_LET]-Access_File-[FILE]': 2}   \n1           {'[FILE]-Access_File-[PROCESS_LET]': 314}   \n2   {'[PROCESS_LET]-Access_File-[FILE]': 24, '[FIL...   \n3   {'[PROCESS_LET]-Access_File-[FILE]': 26, '[FIL...   \n4             {'[PROCESS_LET]-Access_File-[FILE]': 1}   \n5   {'[PROCESS_LET]-Access_File-[FILE]': 23, '[FIL...   \n6   {'[PROCESS_LET]-Access_File-[FILE]': 1, '[FILE...   \n7   {'[PROCESS_LET]-Access_File-[FILE]': 26, '[FIL...   \n8   {'[PROCESS_LET]-Access_File-[FILE]': 22, '[FIL...   \n9            {'[PROCESS_LET]-Access_File-[FILE]': 30}   \n10  {'[PROCESS_LET]-Access_File-[FILE]': 28, '[FIL...   \n11  {'[PROCESS_LET]-Access_File-[FILE]': 24, '[FIL...   \n12  {'[PROCESS_LET]-Access_File-[FILE]': 23, '[FIL...   \n13  {'[PROCESS_LET]-Access_File-[FILE]': 17, '[FIL...   \n14  {'[PROCESS_LET]-Access_File-[FILE]': 15, '[FIL...   \n15          {'[FILE]-Access_File-[PROCESS_LET]': 243}   \n16  {'[PROCESS_LET]-Access_File-[FILE]': 22, '[FIL...   \n17  {'[PROCESS_LET]-Access_File-[FILE]': 20, '[FIL...   \n18  {'[PROCESS_LET]-Access_File-[FILE]': 7, '[FILE...   \n19            {'[FILE]-Access_File-[PROCESS_LET]': 4}   \n20  {'[PROCESS_LET]-Access_File-[FILE]': 26, '[FIL...   \n21  {'[PROCESS_LET]-Access_File-[FILE]': 25, '[FIL...   \n22  {'[PROCESS_LET]-Access_File-[FILE]': 18, '[FIL...   \n23  {'[PROCESS_LET]-Access_File-[FILE]': 1, '[FILE...   \n24                                                NaN   \n\n                                   #pruned at depth=3  \\\n0   {'[FILE]-Execute_Processlet_Library-[PROCESS_L...   \n1   {'[PROCESS_LET]-Access_File-[FILE]': 1965, '[P...   \n2   {'[FILE]-Access_File-[PROCESS_LET]': 395, '[PR...   \n3   {'[FILE]-Access_File-[PROCESS_LET]': 496, '[FI...   \n4   {'[FILE]-Access_File-[PROCESS_LET]': 506, '[FI...   \n5   {'[FILE]-Access_File-[PROCESS_LET]': 521, '[FI...   \n6   {'[FILE]-Access_File-[PROCESS_LET]': 266, '[PR...   \n7   {'[FILE]-Access_File-[PROCESS_LET]': 623, '[FI...   \n8   {'[FILE]-Access_File-[PROCESS_LET]': 600, '[PR...   \n9   {'[FILE]-Access_File-[PROCESS_LET]': 581, '[FI...   \n10  {'[FILE]-Access_File-[PROCESS_LET]': 79, '[FIL...   \n11  {'[FILE]-Access_File-[PROCESS_LET]': 503, '[FI...   \n12  {'[FILE]-Access_File-[PROCESS_LET]': 519, '[FI...   \n13  {'[FILE]-Access_File-[PROCESS_LET]': 470, '[FI...   \n14  {'[FILE]-Access_File-[PROCESS_LET]': 293, '[FI...   \n15  {'[PROCESS_LET]-Access_File-[FILE]': 349, '[PR...   \n16  {'[FILE]-Access_File-[PROCESS_LET]': 518, '[FI...   \n17  {'[FILE]-Access_File-[PROCESS_LET]': 446, '[PR...   \n18  {'[FILE]-Access_File-[PROCESS_LET]': 149, '[FI...   \n19  {'[FILE]-Access_File-[PROCESS_LET]': 18, '[FIL...   \n20  {'[PROCESS_LET]-Access_File-[FILE]': 913, '[PR...   \n21  {'[FILE]-Access_File-[PROCESS_LET]': 459, '[PR...   \n22  {'[FILE]-Access_File-[PROCESS_LET]': 318, '[PR...   \n23  {'[FILE]-Access_File-[PROCESS_LET]': 21, '[PRO...   \n24                                                NaN   \n\n                                   #pruned at depth=4  \\\n0   {'[FILE]-Access_File-[PROCESS_LET]': 93, '[PRO...   \n1            {'[FILE]-Access_File-[PROCESS_LET]': 15}   \n2             {'[PROCESS_LET]-Access_File-[FILE]': 4}   \n3   {'[PROCESS_LET]-Access_File-[FILE]': 2, '[FILE...   \n4            {'[PROCESS_LET]-Access_File-[FILE]': 29}   \n5   {'[PROCESS_LET]-Access_File-[FILE]': 1, '[FILE...   \n6   {'[PROCESS_LET]-Access_File-[FILE]': 5, '[FILE...   \n7             {'[PROCESS_LET]-Access_File-[FILE]': 3}   \n8   {'[PROCESS_LET]-Access_File-[FILE]': 1, '[FILE...   \n9   {'[PROCESS_LET]-Access_File-[FILE]': 3, '[FILE...   \n10  {'[PROCESS_LET]-Access_File-[FILE]': 1, '[FILE...   \n11  {'[FILE]-Access_File-[PROCESS_LET]': 102, '[PR...   \n12  {'[FILE]-Access_File-[PROCESS_LET]': 80, '[FIL...   \n13  {'[PROCESS_LET]-Access_File-[FILE]': 1, '[FILE...   \n14  {'[PROCESS_LET]-Access_File-[FILE]': 1, '[FILE...   \n15          {'[FILE]-Access_File-[PROCESS_LET]': 127}   \n16  {'[PROCESS_LET]-Access_File-[FILE]': 1, '[FILE...   \n17  {'[PROCESS_LET]-Access_File-[FILE]': 1, '[FILE...   \n18                                                NaN   \n19                                                NaN   \n20  {'[FILE]-Access_File-[PROCESS_LET]': 237, '[FI...   \n21  {'[PROCESS_LET]-Access_File-[FILE]': 1, '[FILE...   \n22  {'[FILE]-Access_File-[PROCESS_LET]': 44, '[FIL...   \n23                                                NaN   \n24                                                NaN   \n\n                                   #pruned at depth=0 #edges avg #edges stdev  \\\n0   {'[PROCESS_LET]-Start_Processlet-[PROCESS_LET]...      191.0          0.0   \n1   {'[PROCESS_LET]-Start_Processlet-[PROCESS_LET]...      672.0          0.0   \n2                                                 NaN     1399.0          0.0   \n3                                                 NaN     1602.0          0.0   \n4                                                 NaN     1603.0          0.0   \n5                                                 NaN     1189.0          0.0   \n6                                                 NaN      938.0          0.0   \n7                                                 NaN     1397.0          0.0   \n8                                                 NaN     1593.0          0.0   \n9                                                 NaN     1611.0          0.0   \n10                                                NaN      794.0          0.0   \n11                                                NaN     1317.0          0.0   \n12                                                NaN     1397.0          0.0   \n13                                                NaN     1682.0          0.0   \n14                                                NaN     1781.0          0.0   \n15  {'[PROCESS_LET]-Start_Processlet-[PROCESS_LET]...      616.0          0.0   \n16                                                NaN     1265.0          0.0   \n17                                                NaN     1496.0          0.0   \n18                                                NaN     1900.0          0.0   \n19                                                NaN     1988.0          0.0   \n20                                                NaN      867.0          0.0   \n21                                                NaN     1338.0          0.0   \n22                                                NaN     1613.0          0.0   \n23                                                NaN     1977.0          0.0   \n24                                                NaN     2001.0          0.0   \n\n    ... #edges kept stdev #edges kept min #edges kept max  \\\n0   ...               0.0             191             191   \n1   ...               0.0             672             672   \n2   ...               0.0            1399            1399   \n3   ...               0.0            1602            1602   \n4   ...               0.0            1603            1603   \n5   ...               0.0            1189            1189   \n6   ...               0.0             938             938   \n7   ...               0.0            1397            1397   \n8   ...               0.0            1593            1593   \n9   ...               0.0            1611            1611   \n10  ...               0.0             794             794   \n11  ...               0.0            1317            1317   \n12  ...               0.0            1397            1397   \n13  ...               0.0            1682            1682   \n14  ...               0.0            1781            1781   \n15  ...               0.0             616             616   \n16  ...               0.0            1265            1265   \n17  ...               0.0            1496            1496   \n18  ...               0.0            1900            1900   \n19  ...               0.0            1988            1988   \n20  ...               0.0             867             867   \n21  ...               0.0            1338            1338   \n22  ...               0.0            1613            1613   \n23  ...               0.0            1977            1977   \n24  ...               0.0          2001.0          2001.0   \n\n   #disconnected nodes avg #disconnected nodes stdev #disconnected nodes min  \\\n0                   1313.0                       0.0                    1313   \n1                   1071.0                       0.0                    1071   \n2                    461.0                       0.0                     461   \n3                    373.0                       0.0                     373   \n4                    372.0                       0.0                     372   \n5                    550.0                       0.0                     550   \n6                    837.0                       0.0                     837   \n7                    471.0                       0.0                     471   \n8                    379.0                       0.0                     379   \n9                    367.0                       0.0                     367   \n10                   930.0                       0.0                     930   \n11                   496.0                       0.0                     496   \n12                   454.0                       0.0                     454   \n13                   295.0                       0.0                     295   \n14                   208.0                       0.0                     208   \n15                  1077.0                       0.0                    1077   \n16                   510.0                       0.0                     510   \n17                   362.0                       0.0                     362   \n18                    89.0                       0.0                      89   \n19                    13.0                       0.0                      13   \n20                   869.0                       0.0                     869   \n21                   455.0                       0.0                     455   \n22                   264.0                       0.0                     264   \n23                    18.0                       0.0                      18   \n24                     0.0                       0.0                     0.0   \n\n   #disconnected nodes max                                 #pruned at depth=5  \\\n0                     1313                                                NaN   \n1                     1071                                                NaN   \n2                      461           {'[FILE]-Access_File-[PROCESS_LET]': 88}   \n3                      373            {'[PROCESS_LET]-Access_File-[FILE]': 3}   \n4                      372  {'[FILE]-Access_File-[PROCESS_LET]': 81, '[PRO...   \n5                      550  {'[PROCESS_LET]-Access_File-[FILE]': 894, '[PR...   \n6                      837                                                NaN   \n7                      471                                                NaN   \n8                      379                                                NaN   \n9                      367                                                NaN   \n10                     930  {'[PROCESS_LET]-Access_File-[FILE]': 1051, '[P...   \n11                     496                                                NaN   \n12                     454                                                NaN   \n13                     295                                                NaN   \n14                     208                                                NaN   \n15                    1077  {'[PROCESS_LET]-Access_File-[FILE]': 1031, '[P...   \n16                     510           {'[FILE]-Access_File-[PROCESS_LET]': 76}   \n17                     362                                                NaN   \n18                      89                                                NaN   \n19                      13                                                NaN   \n20                     869  {'[PROCESS_LET]-Access_File-[FILE]': 691, '[PR...   \n21                     455           {'[FILE]-Access_File-[PROCESS_LET]': 70}   \n22                     264                                                NaN   \n23                      18                                                NaN   \n24                     0.0                                                NaN   \n\n                                   #pruned at depth=6  \\\n0                                                 NaN   \n1                                                 NaN   \n2             {'[PROCESS_LET]-Access_File-[FILE]': 1}   \n3   {'[FILE]-Access_File-[PROCESS_LET]': 81, '[FIL...   \n4                                                 NaN   \n5             {'[FILE]-Access_File-[PROCESS_LET]': 3}   \n6                                                 NaN   \n7                                                 NaN   \n8                                                 NaN   \n9                                                 NaN   \n10            {'[FILE]-Access_File-[PROCESS_LET]': 6}   \n11                                                NaN   \n12                                                NaN   \n13                                                NaN   \n14                                                NaN   \n15           {'[FILE]-Access_File-[PROCESS_LET]': 15}   \n16                                                NaN   \n17                                                NaN   \n18                                                NaN   \n19                                                NaN   \n20                                                NaN   \n21            {'[PROCESS_LET]-Access_File-[FILE]': 1}   \n22                                                NaN   \n23                                                NaN   \n24                                                NaN   \n\n                                   #pruned at depth=7  \n0                                                 NaN  \n1                                                 NaN  \n2                                                 NaN  \n3                                                 NaN  \n4                                                 NaN  \n5   {'[PROCESS_LET]-Access_File-[FILE]': 125, '[PR...  \n6                                                 NaN  \n7                                                 NaN  \n8                                                 NaN  \n9                                                 NaN  \n10                                                NaN  \n11                                                NaN  \n12                                                NaN  \n13                                                NaN  \n14                                                NaN  \n15  {'[PROCESS_LET]-Access_File-[FILE]': 109, '[PR...  \n16                                                NaN  \n17                                                NaN  \n18                                                NaN  \n19                                                NaN  \n20                                                NaN  \n21                                                NaN  \n22                                                NaN  \n23                                                NaN  \n24                                                NaN  \n\n[25 rows x 23 columns]",
      "text/html": "<div>\n<style scoped>\n    .dataframe tbody tr th:only-of-type {\n        vertical-align: middle;\n    }\n\n    .dataframe tbody tr th {\n        vertical-align: top;\n    }\n\n    .dataframe thead th {\n        text-align: right;\n    }\n</style>\n<table border=\"1\" class=\"dataframe\">\n  <thead>\n    <tr style=\"text-align: right;\">\n      <th></th>\n      <th>epsilon_1</th>\n      <th>epsilon_2</th>\n      <th>alpha</th>\n      <th>#pruned at depth=1</th>\n      <th>#pruned at depth=2</th>\n      <th>#pruned at depth=3</th>\n      <th>#pruned at depth=4</th>\n      <th>#pruned at depth=0</th>\n      <th>#edges avg</th>\n      <th>#edges stdev</th>\n      <th>...</th>\n      <th>#edges kept stdev</th>\n      <th>#edges kept min</th>\n      <th>#edges kept max</th>\n      <th>#disconnected nodes avg</th>\n      <th>#disconnected nodes stdev</th>\n      <th>#disconnected nodes min</th>\n      <th>#disconnected nodes max</th>\n      <th>#pruned at depth=5</th>\n      <th>#pruned at depth=6</th>\n      <th>#pruned at depth=7</th>\n    </tr>\n  </thead>\n  <tbody>\n    <tr>\n      <th>0</th>\n      <td>0.001</td>\n      <td>1.0</td>\n      <td>0.025</td>\n      <td>{'[FILE]-Execute_Processlet_Library-[PROCESS_L...</td>\n      <td>{'[PROCESS_LET]-Access_File-[FILE]': 2}</td>\n      <td>{'[FILE]-Execute_Processlet_Library-[PROCESS_L...</td>\n      <td>{'[FILE]-Access_File-[PROCESS_LET]': 93, '[PRO...</td>\n      <td>{'[PROCESS_LET]-Start_Processlet-[PROCESS_LET]...</td>\n      <td>191.0</td>\n      <td>0.0</td>\n      <td>...</td>\n      <td>0.0</td>\n      <td>191</td>\n      <td>191</td>\n      <td>1313.0</td>\n      <td>0.0</td>\n      <td>1313</td>\n      <td>1313</td>\n      <td>NaN</td>\n      <td>NaN</td>\n      <td>NaN</td>\n    </tr>\n    <tr>\n      <th>1</th>\n      <td>0.001</td>\n      <td>1.0</td>\n      <td>0.5</td>\n      <td>{'[PROCESS_LET]-Access_File-[FILE]': 81, '[PRO...</td>\n      <td>{'[FILE]-Access_File-[PROCESS_LET]': 314}</td>\n      <td>{'[PROCESS_LET]-Access_File-[FILE]': 1965, '[P...</td>\n      <td>{'[FILE]-Access_File-[PROCESS_LET]': 15}</td>\n      <td>{'[PROCESS_LET]-Start_Processlet-[PROCESS_LET]...</td>\n      <td>672.0</td>\n      <td>0.0</td>\n      <td>...</td>\n      <td>0.0</td>\n      <td>672</td>\n      <td>672</td>\n      <td>1071.0</td>\n      <td>0.0</td>\n      <td>1071</td>\n      <td>1071</td>\n      <td>NaN</td>\n      <td>NaN</td>\n      <td>NaN</td>\n    </tr>\n    <tr>\n      <th>2</th>\n      <td>0.001</td>\n      <td>1.0</td>\n      <td>1.0</td>\n      <td>{'[FILE]-Access_File-[PROCESS_LET]': 20, '[FIL...</td>\n      <td>{'[PROCESS_LET]-Access_File-[FILE]': 24, '[FIL...</td>\n      <td>{'[FILE]-Access_File-[PROCESS_LET]': 395, '[PR...</td>\n      <td>{'[PROCESS_LET]-Access_File-[FILE]': 4}</td>\n      <td>NaN</td>\n      <td>1399.0</td>\n      <td>0.0</td>\n      <td>...</td>\n      <td>0.0</td>\n      <td>1399</td>\n      <td>1399</td>\n      <td>461.0</td>\n      <td>0.0</td>\n      <td>461</td>\n      <td>461</td>\n      <td>{'[FILE]-Access_File-[PROCESS_LET]': 88}</td>\n      <td>{'[PROCESS_LET]-Access_File-[FILE]': 1}</td>\n      <td>NaN</td>\n    </tr>\n    <tr>\n      <th>3</th>\n      <td>0.001</td>\n      <td>1.0</td>\n      <td>2.0</td>\n      <td>{'[FILE]-Access_File-[PROCESS_LET]': 25, '[FIL...</td>\n      <td>{'[PROCESS_LET]-Access_File-[FILE]': 26, '[FIL...</td>\n      <td>{'[FILE]-Access_File-[PROCESS_LET]': 496, '[FI...</td>\n      <td>{'[PROCESS_LET]-Access_File-[FILE]': 2, '[FILE...</td>\n      <td>NaN</td>\n      <td>1602.0</td>\n      <td>0.0</td>\n      <td>...</td>\n      <td>0.0</td>\n      <td>1602</td>\n      <td>1602</td>\n      <td>373.0</td>\n      <td>0.0</td>\n      <td>373</td>\n      <td>373</td>\n      <td>{'[PROCESS_LET]-Access_File-[FILE]': 3}</td>\n      <td>{'[FILE]-Access_File-[PROCESS_LET]': 81, '[FIL...</td>\n      <td>NaN</td>\n    </tr>\n    <tr>\n      <th>4</th>\n      <td>0.001</td>\n      <td>1.0</td>\n      <td>3.0</td>\n      <td>{'[FILE]-Access_File-[PROCESS_LET]': 25, '[FIL...</td>\n      <td>{'[PROCESS_LET]-Access_File-[FILE]': 1}</td>\n      <td>{'[FILE]-Access_File-[PROCESS_LET]': 506, '[FI...</td>\n      <td>{'[PROCESS_LET]-Access_File-[FILE]': 29}</td>\n      <td>NaN</td>\n      <td>1603.0</td>\n      <td>0.0</td>\n      <td>...</td>\n      <td>0.0</td>\n      <td>1603</td>\n      <td>1603</td>\n      <td>372.0</td>\n      <td>0.0</td>\n      <td>372</td>\n      <td>372</td>\n      <td>{'[FILE]-Access_File-[PROCESS_LET]': 81, '[PRO...</td>\n      <td>NaN</td>\n      <td>NaN</td>\n    </tr>\n    <tr>\n      <th>5</th>\n      <td>0.01</td>\n      <td>1.0</td>\n      <td>0.025</td>\n      <td>{'[FILE]-Access_File-[PROCESS_LET]': 25, '[FIL...</td>\n      <td>{'[PROCESS_LET]-Access_File-[FILE]': 23, '[FIL...</td>\n      <td>{'[FILE]-Access_File-[PROCESS_LET]': 521, '[FI...</td>\n      <td>{'[PROCESS_LET]-Access_File-[FILE]': 1, '[FILE...</td>\n      <td>NaN</td>\n      <td>1189.0</td>\n      <td>0.0</td>\n      <td>...</td>\n      <td>0.0</td>\n      <td>1189</td>\n      <td>1189</td>\n      <td>550.0</td>\n      <td>0.0</td>\n      <td>550</td>\n      <td>550</td>\n      <td>{'[PROCESS_LET]-Access_File-[FILE]': 894, '[PR...</td>\n      <td>{'[FILE]-Access_File-[PROCESS_LET]': 3}</td>\n      <td>{'[PROCESS_LET]-Access_File-[FILE]': 125, '[PR...</td>\n    </tr>\n    <tr>\n      <th>6</th>\n      <td>0.01</td>\n      <td>1.0</td>\n      <td>0.5</td>\n      <td>{'[FILE]-Access_File-[PROCESS_LET]': 18, '[FIL...</td>\n      <td>{'[PROCESS_LET]-Access_File-[FILE]': 1, '[FILE...</td>\n      <td>{'[FILE]-Access_File-[PROCESS_LET]': 266, '[PR...</td>\n      <td>{'[PROCESS_LET]-Access_File-[FILE]': 5, '[FILE...</td>\n      <td>NaN</td>\n      <td>938.0</td>\n      <td>0.0</td>\n      <td>...</td>\n      <td>0.0</td>\n      <td>938</td>\n      <td>938</td>\n      <td>837.0</td>\n      <td>0.0</td>\n      <td>837</td>\n      <td>837</td>\n      <td>NaN</td>\n      <td>NaN</td>\n      <td>NaN</td>\n    </tr>\n    <tr>\n      <th>7</th>\n      <td>0.01</td>\n      <td>1.0</td>\n      <td>1.0</td>\n      <td>{'[FILE]-Access_File-[PROCESS_LET]': 17, '[FIL...</td>\n      <td>{'[PROCESS_LET]-Access_File-[FILE]': 26, '[FIL...</td>\n      <td>{'[FILE]-Access_File-[PROCESS_LET]': 623, '[FI...</td>\n      <td>{'[PROCESS_LET]-Access_File-[FILE]': 3}</td>\n      <td>NaN</td>\n      <td>1397.0</td>\n      <td>0.0</td>\n      <td>...</td>\n      <td>0.0</td>\n      <td>1397</td>\n      <td>1397</td>\n      <td>471.0</td>\n      <td>0.0</td>\n      <td>471</td>\n      <td>471</td>\n      <td>NaN</td>\n      <td>NaN</td>\n      <td>NaN</td>\n    </tr>\n    <tr>\n      <th>8</th>\n      <td>0.01</td>\n      <td>1.0</td>\n      <td>2.0</td>\n      <td>{'[FILE]-Access_File-[PROCESS_LET]': 17, '[FIL...</td>\n      <td>{'[PROCESS_LET]-Access_File-[FILE]': 22, '[FIL...</td>\n      <td>{'[FILE]-Access_File-[PROCESS_LET]': 600, '[PR...</td>\n      <td>{'[PROCESS_LET]-Access_File-[FILE]': 1, '[FILE...</td>\n      <td>NaN</td>\n      <td>1593.0</td>\n      <td>0.0</td>\n      <td>...</td>\n      <td>0.0</td>\n      <td>1593</td>\n      <td>1593</td>\n      <td>379.0</td>\n      <td>0.0</td>\n      <td>379</td>\n      <td>379</td>\n      <td>NaN</td>\n      <td>NaN</td>\n      <td>NaN</td>\n    </tr>\n    <tr>\n      <th>9</th>\n      <td>0.01</td>\n      <td>1.0</td>\n      <td>3.0</td>\n      <td>{'[FILE]-Access_File-[PROCESS_LET]': 21, '[FIL...</td>\n      <td>{'[PROCESS_LET]-Access_File-[FILE]': 30}</td>\n      <td>{'[FILE]-Access_File-[PROCESS_LET]': 581, '[FI...</td>\n      <td>{'[PROCESS_LET]-Access_File-[FILE]': 3, '[FILE...</td>\n      <td>NaN</td>\n      <td>1611.0</td>\n      <td>0.0</td>\n      <td>...</td>\n      <td>0.0</td>\n      <td>1611</td>\n      <td>1611</td>\n      <td>367.0</td>\n      <td>0.0</td>\n      <td>367</td>\n      <td>367</td>\n      <td>NaN</td>\n      <td>NaN</td>\n      <td>NaN</td>\n    </tr>\n    <tr>\n      <th>10</th>\n      <td>0.1</td>\n      <td>1.0</td>\n      <td>0.025</td>\n      <td>{'[FILE]-Access_File-[PROCESS_LET]': 19, '[FIL...</td>\n      <td>{'[PROCESS_LET]-Access_File-[FILE]': 28, '[FIL...</td>\n      <td>{'[FILE]-Access_File-[PROCESS_LET]': 79, '[FIL...</td>\n      <td>{'[PROCESS_LET]-Access_File-[FILE]': 1, '[FILE...</td>\n      <td>NaN</td>\n      <td>794.0</td>\n      <td>0.0</td>\n      <td>...</td>\n      <td>0.0</td>\n      <td>794</td>\n      <td>794</td>\n      <td>930.0</td>\n      <td>0.0</td>\n      <td>930</td>\n      <td>930</td>\n      <td>{'[PROCESS_LET]-Access_File-[FILE]': 1051, '[P...</td>\n      <td>{'[FILE]-Access_File-[PROCESS_LET]': 6}</td>\n      <td>NaN</td>\n    </tr>\n    <tr>\n      <th>11</th>\n      <td>0.1</td>\n      <td>1.0</td>\n      <td>0.5</td>\n      <td>{'[FILE]-Access_File-[PROCESS_LET]': 30, '[FIL...</td>\n      <td>{'[PROCESS_LET]-Access_File-[FILE]': 24, '[FIL...</td>\n      <td>{'[FILE]-Access_File-[PROCESS_LET]': 503, '[FI...</td>\n      <td>{'[FILE]-Access_File-[PROCESS_LET]': 102, '[PR...</td>\n      <td>NaN</td>\n      <td>1317.0</td>\n      <td>0.0</td>\n      <td>...</td>\n      <td>0.0</td>\n      <td>1317</td>\n      <td>1317</td>\n      <td>496.0</td>\n      <td>0.0</td>\n      <td>496</td>\n      <td>496</td>\n      <td>NaN</td>\n      <td>NaN</td>\n      <td>NaN</td>\n    </tr>\n    <tr>\n      <th>12</th>\n      <td>0.1</td>\n      <td>1.0</td>\n      <td>1.0</td>\n      <td>{'[FILE]-Access_File-[PROCESS_LET]': 18, '[FIL...</td>\n      <td>{'[PROCESS_LET]-Access_File-[FILE]': 23, '[FIL...</td>\n      <td>{'[FILE]-Access_File-[PROCESS_LET]': 519, '[FI...</td>\n      <td>{'[FILE]-Access_File-[PROCESS_LET]': 80, '[FIL...</td>\n      <td>NaN</td>\n      <td>1397.0</td>\n      <td>0.0</td>\n      <td>...</td>\n      <td>0.0</td>\n      <td>1397</td>\n      <td>1397</td>\n      <td>454.0</td>\n      <td>0.0</td>\n      <td>454</td>\n      <td>454</td>\n      <td>NaN</td>\n      <td>NaN</td>\n      <td>NaN</td>\n    </tr>\n    <tr>\n      <th>13</th>\n      <td>0.1</td>\n      <td>1.0</td>\n      <td>2.0</td>\n      <td>{'[FILE]-Access_File-[PROCESS_LET]': 20, '[FIL...</td>\n      <td>{'[PROCESS_LET]-Access_File-[FILE]': 17, '[FIL...</td>\n      <td>{'[FILE]-Access_File-[PROCESS_LET]': 470, '[FI...</td>\n      <td>{'[PROCESS_LET]-Access_File-[FILE]': 1, '[FILE...</td>\n      <td>NaN</td>\n      <td>1682.0</td>\n      <td>0.0</td>\n      <td>...</td>\n      <td>0.0</td>\n      <td>1682</td>\n      <td>1682</td>\n      <td>295.0</td>\n      <td>0.0</td>\n      <td>295</td>\n      <td>295</td>\n      <td>NaN</td>\n      <td>NaN</td>\n      <td>NaN</td>\n    </tr>\n    <tr>\n      <th>14</th>\n      <td>0.1</td>\n      <td>1.0</td>\n      <td>3.0</td>\n      <td>{'[FILE]-Execute_Processlet_Library-[PROCESS_L...</td>\n      <td>{'[PROCESS_LET]-Access_File-[FILE]': 15, '[FIL...</td>\n      <td>{'[FILE]-Access_File-[PROCESS_LET]': 293, '[FI...</td>\n      <td>{'[PROCESS_LET]-Access_File-[FILE]': 1, '[FILE...</td>\n      <td>NaN</td>\n      <td>1781.0</td>\n      <td>0.0</td>\n      <td>...</td>\n      <td>0.0</td>\n      <td>1781</td>\n      <td>1781</td>\n      <td>208.0</td>\n      <td>0.0</td>\n      <td>208</td>\n      <td>208</td>\n      <td>NaN</td>\n      <td>NaN</td>\n      <td>NaN</td>\n    </tr>\n    <tr>\n      <th>15</th>\n      <td>0.5</td>\n      <td>1.0</td>\n      <td>0.025</td>\n      <td>{'[PROCESS_LET]-Access_File-[FILE]': 115, '[PR...</td>\n      <td>{'[FILE]-Access_File-[PROCESS_LET]': 243}</td>\n      <td>{'[PROCESS_LET]-Access_File-[FILE]': 349, '[PR...</td>\n      <td>{'[FILE]-Access_File-[PROCESS_LET]': 127}</td>\n      <td>{'[PROCESS_LET]-Start_Processlet-[PROCESS_LET]...</td>\n      <td>616.0</td>\n      <td>0.0</td>\n      <td>...</td>\n      <td>0.0</td>\n      <td>616</td>\n      <td>616</td>\n      <td>1077.0</td>\n      <td>0.0</td>\n      <td>1077</td>\n      <td>1077</td>\n      <td>{'[PROCESS_LET]-Access_File-[FILE]': 1031, '[P...</td>\n      <td>{'[FILE]-Access_File-[PROCESS_LET]': 15}</td>\n      <td>{'[PROCESS_LET]-Access_File-[FILE]': 109, '[PR...</td>\n    </tr>\n    <tr>\n      <th>16</th>\n      <td>0.5</td>\n      <td>1.0</td>\n      <td>0.5</td>\n      <td>{'[FILE]-Access_File-[PROCESS_LET]': 21, '[FIL...</td>\n      <td>{'[PROCESS_LET]-Access_File-[FILE]': 22, '[FIL...</td>\n      <td>{'[FILE]-Access_File-[PROCESS_LET]': 518, '[FI...</td>\n      <td>{'[PROCESS_LET]-Access_File-[FILE]': 1, '[FILE...</td>\n      <td>NaN</td>\n      <td>1265.0</td>\n      <td>0.0</td>\n      <td>...</td>\n      <td>0.0</td>\n      <td>1265</td>\n      <td>1265</td>\n      <td>510.0</td>\n      <td>0.0</td>\n      <td>510</td>\n      <td>510</td>\n      <td>{'[FILE]-Access_File-[PROCESS_LET]': 76}</td>\n      <td>NaN</td>\n      <td>NaN</td>\n    </tr>\n    <tr>\n      <th>17</th>\n      <td>0.5</td>\n      <td>1.0</td>\n      <td>1.0</td>\n      <td>{'[FILE]-Access_File-[PROCESS_LET]': 17, '[FIL...</td>\n      <td>{'[PROCESS_LET]-Access_File-[FILE]': 20, '[FIL...</td>\n      <td>{'[FILE]-Access_File-[PROCESS_LET]': 446, '[PR...</td>\n      <td>{'[PROCESS_LET]-Access_File-[FILE]': 1, '[FILE...</td>\n      <td>NaN</td>\n      <td>1496.0</td>\n      <td>0.0</td>\n      <td>...</td>\n      <td>0.0</td>\n      <td>1496</td>\n      <td>1496</td>\n      <td>362.0</td>\n      <td>0.0</td>\n      <td>362</td>\n      <td>362</td>\n      <td>NaN</td>\n      <td>NaN</td>\n      <td>NaN</td>\n    </tr>\n    <tr>\n      <th>18</th>\n      <td>0.5</td>\n      <td>1.0</td>\n      <td>2.0</td>\n      <td>{'[FILE]-Access_File-[PROCESS_LET]': 7, '[FILE...</td>\n      <td>{'[PROCESS_LET]-Access_File-[FILE]': 7, '[FILE...</td>\n      <td>{'[FILE]-Access_File-[PROCESS_LET]': 149, '[FI...</td>\n      <td>NaN</td>\n      <td>NaN</td>\n      <td>1900.0</td>\n      <td>0.0</td>\n      <td>...</td>\n      <td>0.0</td>\n      <td>1900</td>\n      <td>1900</td>\n      <td>89.0</td>\n      <td>0.0</td>\n      <td>89</td>\n      <td>89</td>\n      <td>NaN</td>\n      <td>NaN</td>\n      <td>NaN</td>\n    </tr>\n    <tr>\n      <th>19</th>\n      <td>0.5</td>\n      <td>1.0</td>\n      <td>3.0</td>\n      <td>{'[FILE]-Execute_Processlet_Library-[PROCESS_L...</td>\n      <td>{'[FILE]-Access_File-[PROCESS_LET]': 4}</td>\n      <td>{'[FILE]-Access_File-[PROCESS_LET]': 18, '[FIL...</td>\n      <td>NaN</td>\n      <td>NaN</td>\n      <td>1988.0</td>\n      <td>0.0</td>\n      <td>...</td>\n      <td>0.0</td>\n      <td>1988</td>\n      <td>1988</td>\n      <td>13.0</td>\n      <td>0.0</td>\n      <td>13</td>\n      <td>13</td>\n      <td>NaN</td>\n      <td>NaN</td>\n      <td>NaN</td>\n    </tr>\n    <tr>\n      <th>20</th>\n      <td>1.0</td>\n      <td>1.0</td>\n      <td>0.025</td>\n      <td>{'[FILE]-Execute_Processlet_Library-[PROCESS_L...</td>\n      <td>{'[PROCESS_LET]-Access_File-[FILE]': 26, '[FIL...</td>\n      <td>{'[PROCESS_LET]-Access_File-[FILE]': 913, '[PR...</td>\n      <td>{'[FILE]-Access_File-[PROCESS_LET]': 237, '[FI...</td>\n      <td>NaN</td>\n      <td>867.0</td>\n      <td>0.0</td>\n      <td>...</td>\n      <td>0.0</td>\n      <td>867</td>\n      <td>867</td>\n      <td>869.0</td>\n      <td>0.0</td>\n      <td>869</td>\n      <td>869</td>\n      <td>{'[PROCESS_LET]-Access_File-[FILE]': 691, '[PR...</td>\n      <td>NaN</td>\n      <td>NaN</td>\n    </tr>\n    <tr>\n      <th>21</th>\n      <td>1.0</td>\n      <td>1.0</td>\n      <td>0.5</td>\n      <td>{'[FILE]-Access_File-[PROCESS_LET]': 22, '[FIL...</td>\n      <td>{'[PROCESS_LET]-Access_File-[FILE]': 25, '[FIL...</td>\n      <td>{'[FILE]-Access_File-[PROCESS_LET]': 459, '[PR...</td>\n      <td>{'[PROCESS_LET]-Access_File-[FILE]': 1, '[FILE...</td>\n      <td>NaN</td>\n      <td>1338.0</td>\n      <td>0.0</td>\n      <td>...</td>\n      <td>0.0</td>\n      <td>1338</td>\n      <td>1338</td>\n      <td>455.0</td>\n      <td>0.0</td>\n      <td>455</td>\n      <td>455</td>\n      <td>{'[FILE]-Access_File-[PROCESS_LET]': 70}</td>\n      <td>{'[PROCESS_LET]-Access_File-[FILE]': 1}</td>\n      <td>NaN</td>\n    </tr>\n    <tr>\n      <th>22</th>\n      <td>1.0</td>\n      <td>1.0</td>\n      <td>1.0</td>\n      <td>{'[FILE]-Access_File-[PROCESS_LET]': 12, '[FIL...</td>\n      <td>{'[PROCESS_LET]-Access_File-[FILE]': 18, '[FIL...</td>\n      <td>{'[FILE]-Access_File-[PROCESS_LET]': 318, '[PR...</td>\n      <td>{'[FILE]-Access_File-[PROCESS_LET]': 44, '[FIL...</td>\n      <td>NaN</td>\n      <td>1613.0</td>\n      <td>0.0</td>\n      <td>...</td>\n      <td>0.0</td>\n      <td>1613</td>\n      <td>1613</td>\n      <td>264.0</td>\n      <td>0.0</td>\n      <td>264</td>\n      <td>264</td>\n      <td>NaN</td>\n      <td>NaN</td>\n      <td>NaN</td>\n    </tr>\n    <tr>\n      <th>23</th>\n      <td>1.0</td>\n      <td>1.0</td>\n      <td>2.0</td>\n      <td>{'[PROCESS_LET]-Access_File-[FILE]': 1}</td>\n      <td>{'[PROCESS_LET]-Access_File-[FILE]': 1, '[FILE...</td>\n      <td>{'[FILE]-Access_File-[PROCESS_LET]': 21, '[PRO...</td>\n      <td>NaN</td>\n      <td>NaN</td>\n      <td>1977.0</td>\n      <td>0.0</td>\n      <td>...</td>\n      <td>0.0</td>\n      <td>1977</td>\n      <td>1977</td>\n      <td>18.0</td>\n      <td>0.0</td>\n      <td>18</td>\n      <td>18</td>\n      <td>NaN</td>\n      <td>NaN</td>\n      <td>NaN</td>\n    </tr>\n    <tr>\n      <th>24</th>\n      <td>1.0</td>\n      <td>1.0</td>\n      <td>3.0</td>\n      <td>NaN</td>\n      <td>NaN</td>\n      <td>NaN</td>\n      <td>NaN</td>\n      <td>NaN</td>\n      <td>2001.0</td>\n      <td>0.0</td>\n      <td>...</td>\n      <td>0.0</td>\n      <td>2001.0</td>\n      <td>2001.0</td>\n      <td>0.0</td>\n      <td>0.0</td>\n      <td>0.0</td>\n      <td>0.0</td>\n      <td>NaN</td>\n      <td>NaN</td>\n      <td>NaN</td>\n    </tr>\n  </tbody>\n</table>\n<p>25 rows × 23 columns</p>\n</div>"
     },
     "execution_count": 77,
     "metadata": {},
     "output_type": "execute_result"
    }
   ],
   "source": [
    "import pandas as pd\n",
    "\n",
    "df: pd.DataFrame = results.copy(deep=True)\n",
    "df"
   ],
   "metadata": {
    "collapsed": false,
    "ExecuteTime": {
     "end_time": "2023-11-26T23:26:37.755427Z",
     "start_time": "2023-11-26T23:26:37.742639Z"
    }
   },
   "id": "73ab4d897cfb8eaa"
  },
  {
   "cell_type": "code",
   "execution_count": 78,
   "outputs": [
    {
     "data": {
      "text/plain": "<Figure size 2000x1000 with 4 Axes>",
      "image/png": "[encoded data removed]"
     },
     "metadata": {},
     "output_type": "display_data"
    }
   ],
   "source": [
    "import math\n",
    "import matplotlib.pyplot as plt\n",
    "import seaborn as sns\n",
    "# TODO: convert back to plotly\n",
    "stats = ['#edges avg', '#edges stdev', '#disconnected nodes avg']\n",
    "cols = 2\n",
    "rows = math.ceil(len(stats) / cols)\n",
    "\n",
    "fig, axes = plt.subplots(rows, cols, figsize=(20, rows * 5))\n",
    "axes = axes.flatten()\n",
    "def create_figure(x_column: str, y_column: str, ax: plt.Axes):\n",
    "    palette = sns.color_palette('hls', len(df['alpha'].unique()))\n",
    "    sns.barplot(data=df,\n",
    "                x=x_column,\n",
    "                y=y_column,\n",
    "                ax=ax,\n",
    "                hue='alpha',\n",
    "                palette=palette)\n",
    "    ax.set_title(y_column)\n",
    "\n",
    "for i, stat in enumerate(stats):\n",
    "    create_figure('epsilon_1', stat, axes[i])\n",
    "for j in range(i + 1, rows * cols):\n",
    "    axes[j].set_visible(False)\n",
    "plt.tight_layout()\n",
    "plt.show()"
   ],
   "metadata": {
    "collapsed": false,
    "ExecuteTime": {
     "end_time": "2023-11-26T23:26:41.294213Z",
     "start_time": "2023-11-26T23:26:40.652570Z"
    }
   },
   "id": "cf1859b93c6df0af"
  },
  {
   "cell_type": "markdown",
   "source": [
    "## Average number of nodes pruned by depth"
   ],
   "metadata": {
    "collapsed": false
   },
   "id": "91df4660ca15fbd7"
  },
  {
   "cell_type": "code",
   "execution_count": 79,
   "outputs": [],
   "source": [
    "from collections import Counter\n",
    "import plotly.express as px\n",
    "from algorithm import PRUNED_AT_DEPTH\n",
    "\n",
    "id_vars = ['epsilon_1', 'alpha']\n",
    "depth_df = df.loc[:,id_vars]\n",
    "depth_values = []\n",
    "def sum_counter(counter: Counter):\n",
    "    if not isinstance(counter, Counter):\n",
    "        return 0\n",
    "    return sum(counter.values())\n",
    "for column in df.columns:\n",
    "    if column.startswith(PRUNED_AT_DEPTH):\n",
    "        depth = column[len(PRUNED_AT_DEPTH)+1:]\n",
    "        depth_values.append(depth)\n",
    "        depth_df[depth] = df[column].apply(sum_counter)\n",
    "        \n",
    "        \n",
    "id_vars = ['epsilon_1', 'alpha']\n",
    "depth_df = depth_df.melt(id_vars=id_vars,\n",
    "              value_vars=depth_values,\n",
    "              var_name='depth',\n",
    "              value_name='#pruned').sort_values(id_vars)"
   ],
   "metadata": {
    "collapsed": false,
    "ExecuteTime": {
     "end_time": "2023-11-26T23:26:41.299747Z",
     "start_time": "2023-11-26T23:26:41.298330Z"
    }
   },
   "id": "b1cfcd13d5773d14"
  },
  {
   "cell_type": "code",
   "execution_count": 80,
   "outputs": [
    {
     "data": {
      "application/vnd.plotly.v1+json": {
       "data": [
        {
         "alignmentgroup": "True",
         "hovertemplate": "epsilon=0.001<br>alpha=%{x}<br>%pruned=%{text}<br>depth=%{marker.color}<extra></extra>",
         "legendgroup": "",
         "marker": {
          "color": [
           1,
           2,
           3,
           4,
           0,
           5,
           6,
           7,
           1,
           2,
           3,
           4,
           0,
           5,
           6,
           7,
           1,
           2,
           3,
           4,
           0,
           5,
           6,
           7,
           1,
           2,
           3,
           4,
           0,
           5,
           6,
           7,
           1,
           2,
           3,
           4,
           0,
           5,
           6,
           7
          ],
          "coloraxis": "coloraxis",
          "pattern": {
           "shape": ""
          }
         },
         "name": "",
         "offsetgroup": "",
         "orientation": "v",
         "showlegend": false,
         "text": [
          0.139,
          0.007,
          0.498,
          0.352,
          0.004,
          0.0,
          0.0,
          0.0,
          0.035,
          0.123,
          0.836,
          0.006,
          0.0,
          0.0,
          0.0,
          0.0,
          0.041,
          0.109,
          0.801,
          0.002,
          0.0,
          0.047,
          0.001,
          0.0,
          0.057,
          0.126,
          0.668,
          0.049,
          0.0,
          0.003,
          0.097,
          0.0,
          0.075,
          0.001,
          0.762,
          0.042,
          0.0,
          0.119,
          0.0,
          0.0
         ],
         "textposition": "auto",
         "texttemplate": "%{y}",
         "x": [
          "0.025",
          "0.025",
          "0.025",
          "0.025",
          "0.025",
          "0.025",
          "0.025",
          "0.025",
          "0.5",
          "0.5",
          "0.5",
          "0.5",
          "0.5",
          "0.5",
          "0.5",
          "0.5",
          "1.0",
          "1.0",
          "1.0",
          "1.0",
          "1.0",
          "1.0",
          "1.0",
          "1.0",
          "2.0",
          "2.0",
          "2.0",
          "2.0",
          "2.0",
          "2.0",
          "2.0",
          "2.0",
          "3.0",
          "3.0",
          "3.0",
          "3.0",
          "3.0",
          "3.0",
          "3.0",
          "3.0"
         ],
         "xaxis": "x",
         "y": [
          0.139,
          0.007,
          0.498,
          0.352,
          0.004,
          0.0,
          0.0,
          0.0,
          0.035,
          0.123,
          0.836,
          0.006,
          0.0,
          0.0,
          0.0,
          0.0,
          0.041,
          0.109,
          0.801,
          0.002,
          0.0,
          0.047,
          0.001,
          0.0,
          0.057,
          0.126,
          0.668,
          0.049,
          0.0,
          0.003,
          0.097,
          0.0,
          0.075,
          0.001,
          0.762,
          0.042,
          0.0,
          0.119,
          0.0,
          0.0
         ],
         "yaxis": "y",
         "type": "bar"
        },
        {
         "alignmentgroup": "True",
         "hovertemplate": "epsilon=0.01<br>alpha=%{x}<br>%pruned=%{text}<br>depth=%{marker.color}<extra></extra>",
         "legendgroup": "",
         "marker": {
          "color": [
           1,
           2,
           3,
           4,
           0,
           5,
           6,
           7,
           1,
           2,
           3,
           4,
           0,
           5,
           6,
           7,
           1,
           2,
           3,
           4,
           0,
           5,
           6,
           7,
           1,
           2,
           3,
           4,
           0,
           5,
           6,
           7,
           1,
           2,
           3,
           4,
           0,
           5,
           6,
           7
          ],
          "coloraxis": "coloraxis",
          "pattern": {
           "shape": ""
          }
         },
         "name": "",
         "offsetgroup": "",
         "orientation": "v",
         "showlegend": false,
         "text": [
          0.055,
          0.136,
          0.4,
          0.048,
          0.0,
          0.315,
          0.001,
          0.044,
          0.044,
          0.124,
          0.824,
          0.008,
          0.0,
          0.0,
          0.0,
          0.0,
          0.039,
          0.105,
          0.855,
          0.001,
          0.0,
          0.0,
          0.0,
          0.0,
          0.056,
          0.039,
          0.803,
          0.102,
          0.0,
          0.0,
          0.0,
          0.0,
          0.054,
          0.04,
          0.799,
          0.107,
          0.0,
          0.0,
          0.0,
          0.0
         ],
         "textposition": "auto",
         "texttemplate": "%{y}",
         "x": [
          "0.025",
          "0.025",
          "0.025",
          "0.025",
          "0.025",
          "0.025",
          "0.025",
          "0.025",
          "0.5",
          "0.5",
          "0.5",
          "0.5",
          "0.5",
          "0.5",
          "0.5",
          "0.5",
          "1.0",
          "1.0",
          "1.0",
          "1.0",
          "1.0",
          "1.0",
          "1.0",
          "1.0",
          "2.0",
          "2.0",
          "2.0",
          "2.0",
          "2.0",
          "2.0",
          "2.0",
          "2.0",
          "3.0",
          "3.0",
          "3.0",
          "3.0",
          "3.0",
          "3.0",
          "3.0",
          "3.0"
         ],
         "xaxis": "x2",
         "y": [
          0.055,
          0.136,
          0.4,
          0.048,
          0.0,
          0.315,
          0.001,
          0.044,
          0.044,
          0.124,
          0.824,
          0.008,
          0.0,
          0.0,
          0.0,
          0.0,
          0.039,
          0.105,
          0.855,
          0.001,
          0.0,
          0.0,
          0.0,
          0.0,
          0.056,
          0.039,
          0.803,
          0.102,
          0.0,
          0.0,
          0.0,
          0.0,
          0.054,
          0.04,
          0.799,
          0.107,
          0.0,
          0.0,
          0.0,
          0.0
         ],
         "yaxis": "y2",
         "type": "bar"
        },
        {
         "alignmentgroup": "True",
         "hovertemplate": "epsilon=0.1<br>alpha=%{x}<br>%pruned=%{text}<br>depth=%{marker.color}<extra></extra>",
         "legendgroup": "",
         "marker": {
          "color": [
           1,
           2,
           3,
           4,
           0,
           5,
           6,
           7,
           1,
           2,
           3,
           4,
           0,
           5,
           6,
           7,
           1,
           2,
           3,
           4,
           0,
           5,
           6,
           7,
           1,
           2,
           3,
           4,
           0,
           5,
           6,
           7,
           1,
           2,
           3,
           4,
           0,
           5,
           6,
           7
          ],
          "coloraxis": "coloraxis",
          "pattern": {
           "shape": ""
          }
         },
         "name": "",
         "offsetgroup": "",
         "orientation": "v",
         "showlegend": false,
         "text": [
          0.063,
          0.099,
          0.366,
          0.046,
          0.0,
          0.424,
          0.002,
          0.0,
          0.035,
          0.118,
          0.816,
          0.031,
          0.0,
          0.0,
          0.0,
          0.0,
          0.038,
          0.147,
          0.775,
          0.039,
          0.0,
          0.0,
          0.0,
          0.0,
          0.058,
          0.035,
          0.787,
          0.12,
          0.0,
          0.0,
          0.0,
          0.0,
          0.052,
          0.131,
          0.705,
          0.113,
          0.0,
          0.0,
          0.0,
          0.0
         ],
         "textposition": "auto",
         "texttemplate": "%{y}",
         "x": [
          "0.025",
          "0.025",
          "0.025",
          "0.025",
          "0.025",
          "0.025",
          "0.025",
          "0.025",
          "0.5",
          "0.5",
          "0.5",
          "0.5",
          "0.5",
          "0.5",
          "0.5",
          "0.5",
          "1.0",
          "1.0",
          "1.0",
          "1.0",
          "1.0",
          "1.0",
          "1.0",
          "1.0",
          "2.0",
          "2.0",
          "2.0",
          "2.0",
          "2.0",
          "2.0",
          "2.0",
          "2.0",
          "3.0",
          "3.0",
          "3.0",
          "3.0",
          "3.0",
          "3.0",
          "3.0",
          "3.0"
         ],
         "xaxis": "x3",
         "y": [
          0.063,
          0.099,
          0.366,
          0.046,
          0.0,
          0.424,
          0.002,
          0.0,
          0.035,
          0.118,
          0.816,
          0.031,
          0.0,
          0.0,
          0.0,
          0.0,
          0.038,
          0.147,
          0.775,
          0.039,
          0.0,
          0.0,
          0.0,
          0.0,
          0.058,
          0.035,
          0.787,
          0.12,
          0.0,
          0.0,
          0.0,
          0.0,
          0.052,
          0.131,
          0.705,
          0.113,
          0.0,
          0.0,
          0.0,
          0.0
         ],
         "yaxis": "y3",
         "type": "bar"
        },
        {
         "alignmentgroup": "True",
         "hovertemplate": "epsilon=0.5<br>alpha=%{x}<br>%pruned=%{text}<br>depth=%{marker.color}<extra></extra>",
         "legendgroup": "",
         "marker": {
          "color": [
           1,
           2,
           3,
           4,
           0,
           5,
           6,
           7,
           1,
           2,
           3,
           4,
           0,
           5,
           6,
           7,
           1,
           2,
           3,
           4,
           0,
           5,
           6,
           7,
           1,
           2,
           3,
           4,
           0,
           5,
           6,
           7,
           1,
           2,
           3,
           4,
           0,
           5,
           6,
           7
          ],
          "coloraxis": "coloraxis",
          "pattern": {
           "shape": ""
          }
         },
         "name": "",
         "offsetgroup": "",
         "orientation": "v",
         "showlegend": false,
         "text": [
          0.06,
          0.117,
          0.176,
          0.061,
          0.0,
          0.524,
          0.007,
          0.054,
          0.035,
          0.106,
          0.808,
          0.028,
          0.0,
          0.023,
          0.0,
          0.0,
          0.041,
          0.15,
          0.807,
          0.002,
          0.0,
          0.0,
          0.0,
          0.0,
          0.055,
          0.172,
          0.773,
          0.0,
          0.0,
          0.0,
          0.0,
          0.0,
          0.038,
          0.154,
          0.808,
          0.0,
          0.0,
          0.0,
          0.0,
          0.0
         ],
         "textposition": "auto",
         "texttemplate": "%{y}",
         "x": [
          "0.025",
          "0.025",
          "0.025",
          "0.025",
          "0.025",
          "0.025",
          "0.025",
          "0.025",
          "0.5",
          "0.5",
          "0.5",
          "0.5",
          "0.5",
          "0.5",
          "0.5",
          "0.5",
          "1.0",
          "1.0",
          "1.0",
          "1.0",
          "1.0",
          "1.0",
          "1.0",
          "1.0",
          "2.0",
          "2.0",
          "2.0",
          "2.0",
          "2.0",
          "2.0",
          "2.0",
          "2.0",
          "3.0",
          "3.0",
          "3.0",
          "3.0",
          "3.0",
          "3.0",
          "3.0",
          "3.0"
         ],
         "xaxis": "x4",
         "y": [
          0.06,
          0.117,
          0.176,
          0.061,
          0.0,
          0.524,
          0.007,
          0.054,
          0.035,
          0.106,
          0.808,
          0.028,
          0.0,
          0.023,
          0.0,
          0.0,
          0.041,
          0.15,
          0.807,
          0.002,
          0.0,
          0.0,
          0.0,
          0.0,
          0.055,
          0.172,
          0.773,
          0.0,
          0.0,
          0.0,
          0.0,
          0.0,
          0.038,
          0.154,
          0.808,
          0.0,
          0.0,
          0.0,
          0.0,
          0.0
         ],
         "yaxis": "y4",
         "type": "bar"
        },
        {
         "alignmentgroup": "True",
         "hovertemplate": "epsilon=1.0<br>alpha=%{x}<br>%pruned=%{text}<br>depth=%{marker.color}<extra></extra>",
         "legendgroup": "",
         "marker": {
          "color": [
           1,
           2,
           3,
           4,
           0,
           5,
           6,
           7,
           1,
           2,
           3,
           4,
           0,
           5,
           6,
           7,
           1,
           2,
           3,
           4,
           0,
           5,
           6,
           7,
           1,
           2,
           3,
           4,
           0,
           5,
           6,
           7,
           1,
           2,
           3,
           4,
           0,
           5,
           6,
           7
          ],
          "coloraxis": "coloraxis",
          "pattern": {
           "shape": ""
          }
         },
         "name": "",
         "offsetgroup": "",
         "orientation": "v",
         "showlegend": false,
         "text": [
          0.063,
          0.153,
          0.39,
          0.097,
          0.0,
          0.297,
          0.0,
          0.0,
          0.038,
          0.102,
          0.831,
          0.007,
          0.0,
          0.023,
          0.0,
          0.0,
          0.034,
          0.115,
          0.825,
          0.026,
          0.0,
          0.0,
          0.0,
          0.0,
          0.01,
          0.133,
          0.857,
          0.0,
          0.0,
          0.0,
          0.0,
          0.0,
          null,
          null,
          null,
          null,
          null,
          null,
          null,
          null
         ],
         "textposition": "auto",
         "texttemplate": "%{y}",
         "x": [
          "0.025",
          "0.025",
          "0.025",
          "0.025",
          "0.025",
          "0.025",
          "0.025",
          "0.025",
          "0.5",
          "0.5",
          "0.5",
          "0.5",
          "0.5",
          "0.5",
          "0.5",
          "0.5",
          "1.0",
          "1.0",
          "1.0",
          "1.0",
          "1.0",
          "1.0",
          "1.0",
          "1.0",
          "2.0",
          "2.0",
          "2.0",
          "2.0",
          "2.0",
          "2.0",
          "2.0",
          "2.0",
          "3.0",
          "3.0",
          "3.0",
          "3.0",
          "3.0",
          "3.0",
          "3.0",
          "3.0"
         ],
         "xaxis": "x5",
         "y": [
          0.063,
          0.153,
          0.39,
          0.097,
          0.0,
          0.297,
          0.0,
          0.0,
          0.038,
          0.102,
          0.831,
          0.007,
          0.0,
          0.023,
          0.0,
          0.0,
          0.034,
          0.115,
          0.825,
          0.026,
          0.0,
          0.0,
          0.0,
          0.0,
          0.01,
          0.133,
          0.857,
          0.0,
          0.0,
          0.0,
          0.0,
          0.0,
          null,
          null,
          null,
          null,
          null,
          null,
          null,
          null
         ],
         "yaxis": "y5",
         "type": "bar"
        }
       ],
       "layout": {
        "template": {
         "data": {
          "histogram2dcontour": [
           {
            "type": "histogram2dcontour",
            "colorbar": {
             "outlinewidth": 0,
             "ticks": ""
            },
            "colorscale": [
             [
              0.0,
              "#0d0887"
             ],
             [
              0.1111111111111111,
              "#46039f"
             ],
             [
              0.2222222222222222,
              "#7201a8"
             ],
             [
              0.3333333333333333,
              "#9c179e"
             ],
             [
              0.4444444444444444,
              "#bd3786"
             ],
             [
              0.5555555555555556,
              "#d8576b"
             ],
             [
              0.6666666666666666,
              "#ed7953"
             ],
             [
              0.7777777777777778,
              "#fb9f3a"
             ],
             [
              0.8888888888888888,
              "#fdca26"
             ],
             [
              1.0,
              "#f0f921"
             ]
            ]
           }
          ],
          "choropleth": [
           {
            "type": "choropleth",
            "colorbar": {
             "outlinewidth": 0,
             "ticks": ""
            }
           }
          ],
          "histogram2d": [
           {
            "type": "histogram2d",
            "colorbar": {
             "outlinewidth": 0,
             "ticks": ""
            },
            "colorscale": [
             [
              0.0,
              "#0d0887"
             ],
             [
              0.1111111111111111,
              "#46039f"
             ],
             [
              0.2222222222222222,
              "#7201a8"
             ],
             [
              0.3333333333333333,
              "#9c179e"
             ],
             [
              0.4444444444444444,
              "#bd3786"
             ],
             [
              0.5555555555555556,
              "#d8576b"
             ],
             [
              0.6666666666666666,
              "#ed7953"
             ],
             [
              0.7777777777777778,
              "#fb9f3a"
             ],
             [
              0.8888888888888888,
              "#fdca26"
             ],
             [
              1.0,
              "#f0f921"
             ]
            ]
           }
          ],
          "heatmap": [
           {
            "type": "heatmap",
            "colorbar": {
             "outlinewidth": 0,
             "ticks": ""
            },
            "colorscale": [
             [
              0.0,
              "#0d0887"
             ],
             [
              0.1111111111111111,
              "#46039f"
             ],
             [
              0.2222222222222222,
              "#7201a8"
             ],
             [
              0.3333333333333333,
              "#9c179e"
             ],
             [
              0.4444444444444444,
              "#bd3786"
             ],
             [
              0.5555555555555556,
              "#d8576b"
             ],
             [
              0.6666666666666666,
              "#ed7953"
             ],
             [
              0.7777777777777778,
              "#fb9f3a"
             ],
             [
              0.8888888888888888,
              "#fdca26"
             ],
             [
              1.0,
              "#f0f921"
             ]
            ]
           }
          ],
          "heatmapgl": [
           {
            "type": "heatmapgl",
            "colorbar": {
             "outlinewidth": 0,
             "ticks": ""
            },
            "colorscale": [
             [
              0.0,
              "#0d0887"
             ],
             [
              0.1111111111111111,
              "#46039f"
             ],
             [
              0.2222222222222222,
              "#7201a8"
             ],
             [
              0.3333333333333333,
              "#9c179e"
             ],
             [
              0.4444444444444444,
              "#bd3786"
             ],
             [
              0.5555555555555556,
              "#d8576b"
             ],
             [
              0.6666666666666666,
              "#ed7953"
             ],
             [
              0.7777777777777778,
              "#fb9f3a"
             ],
             [
              0.8888888888888888,
              "#fdca26"
             ],
             [
              1.0,
              "#f0f921"
             ]
            ]
           }
          ],
          "contourcarpet": [
           {
            "type": "contourcarpet",
            "colorbar": {
             "outlinewidth": 0,
             "ticks": ""
            }
           }
          ],
          "contour": [
           {
            "type": "contour",
            "colorbar": {
             "outlinewidth": 0,
             "ticks": ""
            },
            "colorscale": [
             [
              0.0,
              "#0d0887"
             ],
             [
              0.1111111111111111,
              "#46039f"
             ],
             [
              0.2222222222222222,
              "#7201a8"
             ],
             [
              0.3333333333333333,
              "#9c179e"
             ],
             [
              0.4444444444444444,
              "#bd3786"
             ],
             [
              0.5555555555555556,
              "#d8576b"
             ],
             [
              0.6666666666666666,
              "#ed7953"
             ],
             [
              0.7777777777777778,
              "#fb9f3a"
             ],
             [
              0.8888888888888888,
              "#fdca26"
             ],
             [
              1.0,
              "#f0f921"
             ]
            ]
           }
          ],
          "surface": [
           {
            "type": "surface",
            "colorbar": {
             "outlinewidth": 0,
             "ticks": ""
            },
            "colorscale": [
             [
              0.0,
              "#0d0887"
             ],
             [
              0.1111111111111111,
              "#46039f"
             ],
             [
              0.2222222222222222,
              "#7201a8"
             ],
             [
              0.3333333333333333,
              "#9c179e"
             ],
             [
              0.4444444444444444,
              "#bd3786"
             ],
             [
              0.5555555555555556,
              "#d8576b"
             ],
             [
              0.6666666666666666,
              "#ed7953"
             ],
             [
              0.7777777777777778,
              "#fb9f3a"
             ],
             [
              0.8888888888888888,
              "#fdca26"
             ],
             [
              1.0,
              "#f0f921"
             ]
            ]
           }
          ],
          "mesh3d": [
           {
            "type": "mesh3d",
            "colorbar": {
             "outlinewidth": 0,
             "ticks": ""
            }
           }
          ],
          "scatter": [
           {
            "marker": {
             "line": {
              "color": "#283442"
             }
            },
            "type": "scatter"
           }
          ],
          "parcoords": [
           {
            "type": "parcoords",
            "line": {
             "colorbar": {
              "outlinewidth": 0,
              "ticks": ""
             }
            }
           }
          ],
          "scatterpolargl": [
           {
            "type": "scatterpolargl",
            "marker": {
             "colorbar": {
              "outlinewidth": 0,
              "ticks": ""
             }
            }
           }
          ],
          "bar": [
           {
            "error_x": {
             "color": "#f2f5fa"
            },
            "error_y": {
             "color": "#f2f5fa"
            },
            "marker": {
             "line": {
              "color": "rgb(17,17,17)",
              "width": 0.5
             },
             "pattern": {
              "fillmode": "overlay",
              "size": 10,
              "solidity": 0.2
             }
            },
            "type": "bar"
           }
          ],
          "scattergeo": [
           {
            "type": "scattergeo",
            "marker": {
             "colorbar": {
              "outlinewidth": 0,
              "ticks": ""
             }
            }
           }
          ],
          "scatterpolar": [
           {
            "type": "scatterpolar",
            "marker": {
             "colorbar": {
              "outlinewidth": 0,
              "ticks": ""
             }
            }
           }
          ],
          "histogram": [
           {
            "marker": {
             "pattern": {
              "fillmode": "overlay",
              "size": 10,
              "solidity": 0.2
             }
            },
            "type": "histogram"
           }
          ],
          "scattergl": [
           {
            "marker": {
             "line": {
              "color": "#283442"
             }
            },
            "type": "scattergl"
           }
          ],
          "scatter3d": [
           {
            "type": "scatter3d",
            "line": {
             "colorbar": {
              "outlinewidth": 0,
              "ticks": ""
             }
            },
            "marker": {
             "colorbar": {
              "outlinewidth": 0,
              "ticks": ""
             }
            }
           }
          ],
          "scattermapbox": [
           {
            "type": "scattermapbox",
            "marker": {
             "colorbar": {
              "outlinewidth": 0,
              "ticks": ""
             }
            }
           }
          ],
          "scatterternary": [
           {
            "type": "scatterternary",
            "marker": {
             "colorbar": {
              "outlinewidth": 0,
              "ticks": ""
             }
            }
           }
          ],
          "scattercarpet": [
           {
            "type": "scattercarpet",
            "marker": {
             "colorbar": {
              "outlinewidth": 0,
              "ticks": ""
             }
            }
           }
          ],
          "carpet": [
           {
            "aaxis": {
             "endlinecolor": "#A2B1C6",
             "gridcolor": "#506784",
             "linecolor": "#506784",
             "minorgridcolor": "#506784",
             "startlinecolor": "#A2B1C6"
            },
            "baxis": {
             "endlinecolor": "#A2B1C6",
             "gridcolor": "#506784",
             "linecolor": "#506784",
             "minorgridcolor": "#506784",
             "startlinecolor": "#A2B1C6"
            },
            "type": "carpet"
           }
          ],
          "table": [
           {
            "cells": {
             "fill": {
              "color": "#506784"
             },
             "line": {
              "color": "rgb(17,17,17)"
             }
            },
            "header": {
             "fill": {
              "color": "#2a3f5f"
             },
             "line": {
              "color": "rgb(17,17,17)"
             }
            },
            "type": "table"
           }
          ],
          "barpolar": [
           {
            "marker": {
             "line": {
              "color": "rgb(17,17,17)",
              "width": 0.5
             },
             "pattern": {
              "fillmode": "overlay",
              "size": 10,
              "solidity": 0.2
             }
            },
            "type": "barpolar"
           }
          ],
          "pie": [
           {
            "automargin": true,
            "type": "pie"
           }
          ]
         },
         "layout": {
          "autotypenumbers": "strict",
          "colorway": [
           "#636efa",
           "#EF553B",
           "#00cc96",
           "#ab63fa",
           "#FFA15A",
           "#19d3f3",
           "#FF6692",
           "#B6E880",
           "#FF97FF",
           "#FECB52"
          ],
          "font": {
           "color": "#f2f5fa"
          },
          "hovermode": "closest",
          "hoverlabel": {
           "align": "left"
          },
          "paper_bgcolor": "rgb(17,17,17)",
          "plot_bgcolor": "rgb(17,17,17)",
          "polar": {
           "bgcolor": "rgb(17,17,17)",
           "angularaxis": {
            "gridcolor": "#506784",
            "linecolor": "#506784",
            "ticks": ""
           },
           "radialaxis": {
            "gridcolor": "#506784",
            "linecolor": "#506784",
            "ticks": ""
           }
          },
          "ternary": {
           "bgcolor": "rgb(17,17,17)",
           "aaxis": {
            "gridcolor": "#506784",
            "linecolor": "#506784",
            "ticks": ""
           },
           "baxis": {
            "gridcolor": "#506784",
            "linecolor": "#506784",
            "ticks": ""
           },
           "caxis": {
            "gridcolor": "#506784",
            "linecolor": "#506784",
            "ticks": ""
           }
          },
          "coloraxis": {
           "colorbar": {
            "outlinewidth": 0,
            "ticks": ""
           }
          },
          "colorscale": {
           "sequential": [
            [
             0.0,
             "#0d0887"
            ],
            [
             0.1111111111111111,
             "#46039f"
            ],
            [
             0.2222222222222222,
             "#7201a8"
            ],
            [
             0.3333333333333333,
             "#9c179e"
            ],
            [
             0.4444444444444444,
             "#bd3786"
            ],
            [
             0.5555555555555556,
             "#d8576b"
            ],
            [
             0.6666666666666666,
             "#ed7953"
            ],
            [
             0.7777777777777778,
             "#fb9f3a"
            ],
            [
             0.8888888888888888,
             "#fdca26"
            ],
            [
             1.0,
             "#f0f921"
            ]
           ],
           "sequentialminus": [
            [
             0.0,
             "#0d0887"
            ],
            [
             0.1111111111111111,
             "#46039f"
            ],
            [
             0.2222222222222222,
             "#7201a8"
            ],
            [
             0.3333333333333333,
             "#9c179e"
            ],
            [
             0.4444444444444444,
             "#bd3786"
            ],
            [
             0.5555555555555556,
             "#d8576b"
            ],
            [
             0.6666666666666666,
             "#ed7953"
            ],
            [
             0.7777777777777778,
             "#fb9f3a"
            ],
            [
             0.8888888888888888,
             "#fdca26"
            ],
            [
             1.0,
             "#f0f921"
            ]
           ],
           "diverging": [
            [
             0,
             "#8e0152"
            ],
            [
             0.1,
             "#c51b7d"
            ],
            [
             0.2,
             "#de77ae"
            ],
            [
             0.3,
             "#f1b6da"
            ],
            [
             0.4,
             "#fde0ef"
            ],
            [
             0.5,
             "#f7f7f7"
            ],
            [
             0.6,
             "#e6f5d0"
            ],
            [
             0.7,
             "#b8e186"
            ],
            [
             0.8,
             "#7fbc41"
            ],
            [
             0.9,
             "#4d9221"
            ],
            [
             1,
             "#276419"
            ]
           ]
          },
          "xaxis": {
           "gridcolor": "#283442",
           "linecolor": "#506784",
           "ticks": "",
           "title": {
            "standoff": 15
           },
           "zerolinecolor": "#283442",
           "automargin": true,
           "zerolinewidth": 2
          },
          "yaxis": {
           "gridcolor": "#283442",
           "linecolor": "#506784",
           "ticks": "",
           "title": {
            "standoff": 15
           },
           "zerolinecolor": "#283442",
           "automargin": true,
           "zerolinewidth": 2
          },
          "scene": {
           "xaxis": {
            "backgroundcolor": "rgb(17,17,17)",
            "gridcolor": "#506784",
            "linecolor": "#506784",
            "showbackground": true,
            "ticks": "",
            "zerolinecolor": "#C8D4E3",
            "gridwidth": 2
           },
           "yaxis": {
            "backgroundcolor": "rgb(17,17,17)",
            "gridcolor": "#506784",
            "linecolor": "#506784",
            "showbackground": true,
            "ticks": "",
            "zerolinecolor": "#C8D4E3",
            "gridwidth": 2
           },
           "zaxis": {
            "backgroundcolor": "rgb(17,17,17)",
            "gridcolor": "#506784",
            "linecolor": "#506784",
            "showbackground": true,
            "ticks": "",
            "zerolinecolor": "#C8D4E3",
            "gridwidth": 2
           }
          },
          "shapedefaults": {
           "line": {
            "color": "#f2f5fa"
           }
          },
          "annotationdefaults": {
           "arrowcolor": "#f2f5fa",
           "arrowhead": 0,
           "arrowwidth": 1
          },
          "geo": {
           "bgcolor": "rgb(17,17,17)",
           "landcolor": "rgb(17,17,17)",
           "subunitcolor": "#506784",
           "showland": true,
           "showlakes": true,
           "lakecolor": "rgb(17,17,17)"
          },
          "title": {
           "x": 0.05
          },
          "updatemenudefaults": {
           "bgcolor": "#506784",
           "borderwidth": 0
          },
          "sliderdefaults": {
           "bgcolor": "#C8D4E3",
           "borderwidth": 1,
           "bordercolor": "rgb(17,17,17)",
           "tickwidth": 0
          },
          "mapbox": {
           "style": "dark"
          }
         }
        },
        "xaxis": {
         "anchor": "y",
         "domain": [
          0.0,
          0.18400000000000002
         ],
         "title": {
          "text": "alpha"
         }
        },
        "yaxis": {
         "anchor": "x",
         "domain": [
          0.0,
          1.0
         ],
         "title": {
          "text": "%pruned"
         }
        },
        "xaxis2": {
         "anchor": "y2",
         "domain": [
          0.20400000000000001,
          0.388
         ],
         "matches": "x",
         "title": {
          "text": "alpha"
         }
        },
        "yaxis2": {
         "anchor": "x2",
         "domain": [
          0.0,
          1.0
         ],
         "matches": "y",
         "showticklabels": false
        },
        "xaxis3": {
         "anchor": "y3",
         "domain": [
          0.40800000000000003,
          0.5920000000000001
         ],
         "matches": "x",
         "title": {
          "text": "alpha"
         }
        },
        "yaxis3": {
         "anchor": "x3",
         "domain": [
          0.0,
          1.0
         ],
         "matches": "y",
         "showticklabels": false
        },
        "xaxis4": {
         "anchor": "y4",
         "domain": [
          0.6120000000000001,
          0.7960000000000002
         ],
         "matches": "x",
         "title": {
          "text": "alpha"
         }
        },
        "yaxis4": {
         "anchor": "x4",
         "domain": [
          0.0,
          1.0
         ],
         "matches": "y",
         "showticklabels": false
        },
        "xaxis5": {
         "anchor": "y5",
         "domain": [
          0.8160000000000001,
          1.0
         ],
         "matches": "x",
         "title": {
          "text": "alpha"
         }
        },
        "yaxis5": {
         "anchor": "x5",
         "domain": [
          0.0,
          1.0
         ],
         "matches": "y",
         "showticklabels": false
        },
        "annotations": [
         {
          "font": {},
          "showarrow": false,
          "text": "epsilon=0.001",
          "x": 0.09200000000000001,
          "xanchor": "center",
          "xref": "paper",
          "y": 1.0,
          "yanchor": "bottom",
          "yref": "paper"
         },
         {
          "font": {},
          "showarrow": false,
          "text": "epsilon=0.01",
          "x": 0.29600000000000004,
          "xanchor": "center",
          "xref": "paper",
          "y": 1.0,
          "yanchor": "bottom",
          "yref": "paper"
         },
         {
          "font": {},
          "showarrow": false,
          "text": "epsilon=0.1",
          "x": 0.5,
          "xanchor": "center",
          "xref": "paper",
          "y": 1.0,
          "yanchor": "bottom",
          "yref": "paper"
         },
         {
          "font": {},
          "showarrow": false,
          "text": "epsilon=0.5",
          "x": 0.7040000000000002,
          "xanchor": "center",
          "xref": "paper",
          "y": 1.0,
          "yanchor": "bottom",
          "yref": "paper"
         },
         {
          "font": {},
          "showarrow": false,
          "text": "epsilon=1.0",
          "x": 0.908,
          "xanchor": "center",
          "xref": "paper",
          "y": 1.0,
          "yanchor": "bottom",
          "yref": "paper"
         }
        ],
        "coloraxis": {
         "colorbar": {
          "title": {
           "text": "depth"
          }
         },
         "colorscale": [
          [
           0.0,
           "#0d0887"
          ],
          [
           0.1111111111111111,
           "#46039f"
          ],
          [
           0.2222222222222222,
           "#7201a8"
          ],
          [
           0.3333333333333333,
           "#9c179e"
          ],
          [
           0.4444444444444444,
           "#bd3786"
          ],
          [
           0.5555555555555556,
           "#d8576b"
          ],
          [
           0.6666666666666666,
           "#ed7953"
          ],
          [
           0.7777777777777778,
           "#fb9f3a"
          ],
          [
           0.8888888888888888,
           "#fdca26"
          ],
          [
           1.0,
           "#f0f921"
          ]
         ]
        },
        "legend": {
         "tracegroupgap": 0
        },
        "margin": {
         "t": 60
        },
        "barmode": "relative"
       },
       "config": {
        "plotlyServerURL": "https://plot.ly"
       }
      },
      "text/html": "<div>                            <div id=\"2b7d0915-81b4-4d3a-90a0-96c171e49776\" class=\"plotly-graph-div\" style=\"height:525px; width:100%;\"></div>            <script type=\"text/javascript\">                require([\"plotly\"], function(Plotly) {                    window.PLOTLYENV=window.PLOTLYENV || {};                                    if (document.getElementById(\"2b7d0915-81b4-4d3a-90a0-96c171e49776\")) {                    Plotly.newPlot(                        \"2b7d0915-81b4-4d3a-90a0-96c171e49776\",                        [{\"alignmentgroup\":\"True\",\"hovertemplate\":\"epsilon=0.001\\u003cbr\\u003ealpha=%{x}\\u003cbr\\u003e%pruned=%{text}\\u003cbr\\u003edepth=%{marker.color}\\u003cextra\\u003e\\u003c\\u002fextra\\u003e\",\"legendgroup\":\"\",\"marker\":{\"color\":[1,2,3,4,0,5,6,7,1,2,3,4,0,5,6,7,1,2,3,4,0,5,6,7,1,2,3,4,0,5,6,7,1,2,3,4,0,5,6,7],\"coloraxis\":\"coloraxis\",\"pattern\":{\"shape\":\"\"}},\"name\":\"\",\"offsetgroup\":\"\",\"orientation\":\"v\",\"showlegend\":false,\"text\":[0.139,0.007,0.498,0.352,0.004,0.0,0.0,0.0,0.035,0.123,0.836,0.006,0.0,0.0,0.0,0.0,0.041,0.109,0.801,0.002,0.0,0.047,0.001,0.0,0.057,0.126,0.668,0.049,0.0,0.003,0.097,0.0,0.075,0.001,0.762,0.042,0.0,0.119,0.0,0.0],\"textposition\":\"auto\",\"texttemplate\":\"%{y}\",\"x\":[\"0.025\",\"0.025\",\"0.025\",\"0.025\",\"0.025\",\"0.025\",\"0.025\",\"0.025\",\"0.5\",\"0.5\",\"0.5\",\"0.5\",\"0.5\",\"0.5\",\"0.5\",\"0.5\",\"1.0\",\"1.0\",\"1.0\",\"1.0\",\"1.0\",\"1.0\",\"1.0\",\"1.0\",\"2.0\",\"2.0\",\"2.0\",\"2.0\",\"2.0\",\"2.0\",\"2.0\",\"2.0\",\"3.0\",\"3.0\",\"3.0\",\"3.0\",\"3.0\",\"3.0\",\"3.0\",\"3.0\"],\"xaxis\":\"x\",\"y\":[0.139,0.007,0.498,0.352,0.004,0.0,0.0,0.0,0.035,0.123,0.836,0.006,0.0,0.0,0.0,0.0,0.041,0.109,0.801,0.002,0.0,0.047,0.001,0.0,0.057,0.126,0.668,0.049,0.0,0.003,0.097,0.0,0.075,0.001,0.762,0.042,0.0,0.119,0.0,0.0],\"yaxis\":\"y\",\"type\":\"bar\"},{\"alignmentgroup\":\"True\",\"hovertemplate\":\"epsilon=0.01\\u003cbr\\u003ealpha=%{x}\\u003cbr\\u003e%pruned=%{text}\\u003cbr\\u003edepth=%{marker.color}\\u003cextra\\u003e\\u003c\\u002fextra\\u003e\",\"legendgroup\":\"\",\"marker\":{\"color\":[1,2,3,4,0,5,6,7,1,2,3,4,0,5,6,7,1,2,3,4,0,5,6,7,1,2,3,4,0,5,6,7,1,2,3,4,0,5,6,7],\"coloraxis\":\"coloraxis\",\"pattern\":{\"shape\":\"\"}},\"name\":\"\",\"offsetgroup\":\"\",\"orientation\":\"v\",\"showlegend\":false,\"text\":[0.055,0.136,0.4,0.048,0.0,0.315,0.001,0.044,0.044,0.124,0.824,0.008,0.0,0.0,0.0,0.0,0.039,0.105,0.855,0.001,0.0,0.0,0.0,0.0,0.056,0.039,0.803,0.102,0.0,0.0,0.0,0.0,0.054,0.04,0.799,0.107,0.0,0.0,0.0,0.0],\"textposition\":\"auto\",\"texttemplate\":\"%{y}\",\"x\":[\"0.025\",\"0.025\",\"0.025\",\"0.025\",\"0.025\",\"0.025\",\"0.025\",\"0.025\",\"0.5\",\"0.5\",\"0.5\",\"0.5\",\"0.5\",\"0.5\",\"0.5\",\"0.5\",\"1.0\",\"1.0\",\"1.0\",\"1.0\",\"1.0\",\"1.0\",\"1.0\",\"1.0\",\"2.0\",\"2.0\",\"2.0\",\"2.0\",\"2.0\",\"2.0\",\"2.0\",\"2.0\",\"3.0\",\"3.0\",\"3.0\",\"3.0\",\"3.0\",\"3.0\",\"3.0\",\"3.0\"],\"xaxis\":\"x2\",\"y\":[0.055,0.136,0.4,0.048,0.0,0.315,0.001,0.044,0.044,0.124,0.824,0.008,0.0,0.0,0.0,0.0,0.039,0.105,0.855,0.001,0.0,0.0,0.0,0.0,0.056,0.039,0.803,0.102,0.0,0.0,0.0,0.0,0.054,0.04,0.799,0.107,0.0,0.0,0.0,0.0],\"yaxis\":\"y2\",\"type\":\"bar\"},{\"alignmentgroup\":\"True\",\"hovertemplate\":\"epsilon=0.1\\u003cbr\\u003ealpha=%{x}\\u003cbr\\u003e%pruned=%{text}\\u003cbr\\u003edepth=%{marker.color}\\u003cextra\\u003e\\u003c\\u002fextra\\u003e\",\"legendgroup\":\"\",\"marker\":{\"color\":[1,2,3,4,0,5,6,7,1,2,3,4,0,5,6,7,1,2,3,4,0,5,6,7,1,2,3,4,0,5,6,7,1,2,3,4,0,5,6,7],\"coloraxis\":\"coloraxis\",\"pattern\":{\"shape\":\"\"}},\"name\":\"\",\"offsetgroup\":\"\",\"orientation\":\"v\",\"showlegend\":false,\"text\":[0.063,0.099,0.366,0.046,0.0,0.424,0.002,0.0,0.035,0.118,0.816,0.031,0.0,0.0,0.0,0.0,0.038,0.147,0.775,0.039,0.0,0.0,0.0,0.0,0.058,0.035,0.787,0.12,0.0,0.0,0.0,0.0,0.052,0.131,0.705,0.113,0.0,0.0,0.0,0.0],\"textposition\":\"auto\",\"texttemplate\":\"%{y}\",\"x\":[\"0.025\",\"0.025\",\"0.025\",\"0.025\",\"0.025\",\"0.025\",\"0.025\",\"0.025\",\"0.5\",\"0.5\",\"0.5\",\"0.5\",\"0.5\",\"0.5\",\"0.5\",\"0.5\",\"1.0\",\"1.0\",\"1.0\",\"1.0\",\"1.0\",\"1.0\",\"1.0\",\"1.0\",\"2.0\",\"2.0\",\"2.0\",\"2.0\",\"2.0\",\"2.0\",\"2.0\",\"2.0\",\"3.0\",\"3.0\",\"3.0\",\"3.0\",\"3.0\",\"3.0\",\"3.0\",\"3.0\"],\"xaxis\":\"x3\",\"y\":[0.063,0.099,0.366,0.046,0.0,0.424,0.002,0.0,0.035,0.118,0.816,0.031,0.0,0.0,0.0,0.0,0.038,0.147,0.775,0.039,0.0,0.0,0.0,0.0,0.058,0.035,0.787,0.12,0.0,0.0,0.0,0.0,0.052,0.131,0.705,0.113,0.0,0.0,0.0,0.0],\"yaxis\":\"y3\",\"type\":\"bar\"},{\"alignmentgroup\":\"True\",\"hovertemplate\":\"epsilon=0.5\\u003cbr\\u003ealpha=%{x}\\u003cbr\\u003e%pruned=%{text}\\u003cbr\\u003edepth=%{marker.color}\\u003cextra\\u003e\\u003c\\u002fextra\\u003e\",\"legendgroup\":\"\",\"marker\":{\"color\":[1,2,3,4,0,5,6,7,1,2,3,4,0,5,6,7,1,2,3,4,0,5,6,7,1,2,3,4,0,5,6,7,1,2,3,4,0,5,6,7],\"coloraxis\":\"coloraxis\",\"pattern\":{\"shape\":\"\"}},\"name\":\"\",\"offsetgroup\":\"\",\"orientation\":\"v\",\"showlegend\":false,\"text\":[0.06,0.117,0.176,0.061,0.0,0.524,0.007,0.054,0.035,0.106,0.808,0.028,0.0,0.023,0.0,0.0,0.041,0.15,0.807,0.002,0.0,0.0,0.0,0.0,0.055,0.172,0.773,0.0,0.0,0.0,0.0,0.0,0.038,0.154,0.808,0.0,0.0,0.0,0.0,0.0],\"textposition\":\"auto\",\"texttemplate\":\"%{y}\",\"x\":[\"0.025\",\"0.025\",\"0.025\",\"0.025\",\"0.025\",\"0.025\",\"0.025\",\"0.025\",\"0.5\",\"0.5\",\"0.5\",\"0.5\",\"0.5\",\"0.5\",\"0.5\",\"0.5\",\"1.0\",\"1.0\",\"1.0\",\"1.0\",\"1.0\",\"1.0\",\"1.0\",\"1.0\",\"2.0\",\"2.0\",\"2.0\",\"2.0\",\"2.0\",\"2.0\",\"2.0\",\"2.0\",\"3.0\",\"3.0\",\"3.0\",\"3.0\",\"3.0\",\"3.0\",\"3.0\",\"3.0\"],\"xaxis\":\"x4\",\"y\":[0.06,0.117,0.176,0.061,0.0,0.524,0.007,0.054,0.035,0.106,0.808,0.028,0.0,0.023,0.0,0.0,0.041,0.15,0.807,0.002,0.0,0.0,0.0,0.0,0.055,0.172,0.773,0.0,0.0,0.0,0.0,0.0,0.038,0.154,0.808,0.0,0.0,0.0,0.0,0.0],\"yaxis\":\"y4\",\"type\":\"bar\"},{\"alignmentgroup\":\"True\",\"hovertemplate\":\"epsilon=1.0\\u003cbr\\u003ealpha=%{x}\\u003cbr\\u003e%pruned=%{text}\\u003cbr\\u003edepth=%{marker.color}\\u003cextra\\u003e\\u003c\\u002fextra\\u003e\",\"legendgroup\":\"\",\"marker\":{\"color\":[1,2,3,4,0,5,6,7,1,2,3,4,0,5,6,7,1,2,3,4,0,5,6,7,1,2,3,4,0,5,6,7,1,2,3,4,0,5,6,7],\"coloraxis\":\"coloraxis\",\"pattern\":{\"shape\":\"\"}},\"name\":\"\",\"offsetgroup\":\"\",\"orientation\":\"v\",\"showlegend\":false,\"text\":[0.063,0.153,0.39,0.097,0.0,0.297,0.0,0.0,0.038,0.102,0.831,0.007,0.0,0.023,0.0,0.0,0.034,0.115,0.825,0.026,0.0,0.0,0.0,0.0,0.01,0.133,0.857,0.0,0.0,0.0,0.0,0.0,null,null,null,null,null,null,null,null],\"textposition\":\"auto\",\"texttemplate\":\"%{y}\",\"x\":[\"0.025\",\"0.025\",\"0.025\",\"0.025\",\"0.025\",\"0.025\",\"0.025\",\"0.025\",\"0.5\",\"0.5\",\"0.5\",\"0.5\",\"0.5\",\"0.5\",\"0.5\",\"0.5\",\"1.0\",\"1.0\",\"1.0\",\"1.0\",\"1.0\",\"1.0\",\"1.0\",\"1.0\",\"2.0\",\"2.0\",\"2.0\",\"2.0\",\"2.0\",\"2.0\",\"2.0\",\"2.0\",\"3.0\",\"3.0\",\"3.0\",\"3.0\",\"3.0\",\"3.0\",\"3.0\",\"3.0\"],\"xaxis\":\"x5\",\"y\":[0.063,0.153,0.39,0.097,0.0,0.297,0.0,0.0,0.038,0.102,0.831,0.007,0.0,0.023,0.0,0.0,0.034,0.115,0.825,0.026,0.0,0.0,0.0,0.0,0.01,0.133,0.857,0.0,0.0,0.0,0.0,0.0,null,null,null,null,null,null,null,null],\"yaxis\":\"y5\",\"type\":\"bar\"}],                        {\"template\":{\"data\":{\"histogram2dcontour\":[{\"type\":\"histogram2dcontour\",\"colorbar\":{\"outlinewidth\":0,\"ticks\":\"\"},\"colorscale\":[[0.0,\"#0d0887\"],[0.1111111111111111,\"#46039f\"],[0.2222222222222222,\"#7201a8\"],[0.3333333333333333,\"#9c179e\"],[0.4444444444444444,\"#bd3786\"],[0.5555555555555556,\"#d8576b\"],[0.6666666666666666,\"#ed7953\"],[0.7777777777777778,\"#fb9f3a\"],[0.8888888888888888,\"#fdca26\"],[1.0,\"#f0f921\"]]}],\"choropleth\":[{\"type\":\"choropleth\",\"colorbar\":{\"outlinewidth\":0,\"ticks\":\"\"}}],\"histogram2d\":[{\"type\":\"histogram2d\",\"colorbar\":{\"outlinewidth\":0,\"ticks\":\"\"},\"colorscale\":[[0.0,\"#0d0887\"],[0.1111111111111111,\"#46039f\"],[0.2222222222222222,\"#7201a8\"],[0.3333333333333333,\"#9c179e\"],[0.4444444444444444,\"#bd3786\"],[0.5555555555555556,\"#d8576b\"],[0.6666666666666666,\"#ed7953\"],[0.7777777777777778,\"#fb9f3a\"],[0.8888888888888888,\"#fdca26\"],[1.0,\"#f0f921\"]]}],\"heatmap\":[{\"type\":\"heatmap\",\"colorbar\":{\"outlinewidth\":0,\"ticks\":\"\"},\"colorscale\":[[0.0,\"#0d0887\"],[0.1111111111111111,\"#46039f\"],[0.2222222222222222,\"#7201a8\"],[0.3333333333333333,\"#9c179e\"],[0.4444444444444444,\"#bd3786\"],[0.5555555555555556,\"#d8576b\"],[0.6666666666666666,\"#ed7953\"],[0.7777777777777778,\"#fb9f3a\"],[0.8888888888888888,\"#fdca26\"],[1.0,\"#f0f921\"]]}],\"heatmapgl\":[{\"type\":\"heatmapgl\",\"colorbar\":{\"outlinewidth\":0,\"ticks\":\"\"},\"colorscale\":[[0.0,\"#0d0887\"],[0.1111111111111111,\"#46039f\"],[0.2222222222222222,\"#7201a8\"],[0.3333333333333333,\"#9c179e\"],[0.4444444444444444,\"#bd3786\"],[0.5555555555555556,\"#d8576b\"],[0.6666666666666666,\"#ed7953\"],[0.7777777777777778,\"#fb9f3a\"],[0.8888888888888888,\"#fdca26\"],[1.0,\"#f0f921\"]]}],\"contourcarpet\":[{\"type\":\"contourcarpet\",\"colorbar\":{\"outlinewidth\":0,\"ticks\":\"\"}}],\"contour\":[{\"type\":\"contour\",\"colorbar\":{\"outlinewidth\":0,\"ticks\":\"\"},\"colorscale\":[[0.0,\"#0d0887\"],[0.1111111111111111,\"#46039f\"],[0.2222222222222222,\"#7201a8\"],[0.3333333333333333,\"#9c179e\"],[0.4444444444444444,\"#bd3786\"],[0.5555555555555556,\"#d8576b\"],[0.6666666666666666,\"#ed7953\"],[0.7777777777777778,\"#fb9f3a\"],[0.8888888888888888,\"#fdca26\"],[1.0,\"#f0f921\"]]}],\"surface\":[{\"type\":\"surface\",\"colorbar\":{\"outlinewidth\":0,\"ticks\":\"\"},\"colorscale\":[[0.0,\"#0d0887\"],[0.1111111111111111,\"#46039f\"],[0.2222222222222222,\"#7201a8\"],[0.3333333333333333,\"#9c179e\"],[0.4444444444444444,\"#bd3786\"],[0.5555555555555556,\"#d8576b\"],[0.6666666666666666,\"#ed7953\"],[0.7777777777777778,\"#fb9f3a\"],[0.8888888888888888,\"#fdca26\"],[1.0,\"#f0f921\"]]}],\"mesh3d\":[{\"type\":\"mesh3d\",\"colorbar\":{\"outlinewidth\":0,\"ticks\":\"\"}}],\"scatter\":[{\"marker\":{\"line\":{\"color\":\"#283442\"}},\"type\":\"scatter\"}],\"parcoords\":[{\"type\":\"parcoords\",\"line\":{\"colorbar\":{\"outlinewidth\":0,\"ticks\":\"\"}}}],\"scatterpolargl\":[{\"type\":\"scatterpolargl\",\"marker\":{\"colorbar\":{\"outlinewidth\":0,\"ticks\":\"\"}}}],\"bar\":[{\"error_x\":{\"color\":\"#f2f5fa\"},\"error_y\":{\"color\":\"#f2f5fa\"},\"marker\":{\"line\":{\"color\":\"rgb(17,17,17)\",\"width\":0.5},\"pattern\":{\"fillmode\":\"overlay\",\"size\":10,\"solidity\":0.2}},\"type\":\"bar\"}],\"scattergeo\":[{\"type\":\"scattergeo\",\"marker\":{\"colorbar\":{\"outlinewidth\":0,\"ticks\":\"\"}}}],\"scatterpolar\":[{\"type\":\"scatterpolar\",\"marker\":{\"colorbar\":{\"outlinewidth\":0,\"ticks\":\"\"}}}],\"histogram\":[{\"marker\":{\"pattern\":{\"fillmode\":\"overlay\",\"size\":10,\"solidity\":0.2}},\"type\":\"histogram\"}],\"scattergl\":[{\"marker\":{\"line\":{\"color\":\"#283442\"}},\"type\":\"scattergl\"}],\"scatter3d\":[{\"type\":\"scatter3d\",\"line\":{\"colorbar\":{\"outlinewidth\":0,\"ticks\":\"\"}},\"marker\":{\"colorbar\":{\"outlinewidth\":0,\"ticks\":\"\"}}}],\"scattermapbox\":[{\"type\":\"scattermapbox\",\"marker\":{\"colorbar\":{\"outlinewidth\":0,\"ticks\":\"\"}}}],\"scatterternary\":[{\"type\":\"scatterternary\",\"marker\":{\"colorbar\":{\"outlinewidth\":0,\"ticks\":\"\"}}}],\"scattercarpet\":[{\"type\":\"scattercarpet\",\"marker\":{\"colorbar\":{\"outlinewidth\":0,\"ticks\":\"\"}}}],\"carpet\":[{\"aaxis\":{\"endlinecolor\":\"#A2B1C6\",\"gridcolor\":\"#506784\",\"linecolor\":\"#506784\",\"minorgridcolor\":\"#506784\",\"startlinecolor\":\"#A2B1C6\"},\"baxis\":{\"endlinecolor\":\"#A2B1C6\",\"gridcolor\":\"#506784\",\"linecolor\":\"#506784\",\"minorgridcolor\":\"#506784\",\"startlinecolor\":\"#A2B1C6\"},\"type\":\"carpet\"}],\"table\":[{\"cells\":{\"fill\":{\"color\":\"#506784\"},\"line\":{\"color\":\"rgb(17,17,17)\"}},\"header\":{\"fill\":{\"color\":\"#2a3f5f\"},\"line\":{\"color\":\"rgb(17,17,17)\"}},\"type\":\"table\"}],\"barpolar\":[{\"marker\":{\"line\":{\"color\":\"rgb(17,17,17)\",\"width\":0.5},\"pattern\":{\"fillmode\":\"overlay\",\"size\":10,\"solidity\":0.2}},\"type\":\"barpolar\"}],\"pie\":[{\"automargin\":true,\"type\":\"pie\"}]},\"layout\":{\"autotypenumbers\":\"strict\",\"colorway\":[\"#636efa\",\"#EF553B\",\"#00cc96\",\"#ab63fa\",\"#FFA15A\",\"#19d3f3\",\"#FF6692\",\"#B6E880\",\"#FF97FF\",\"#FECB52\"],\"font\":{\"color\":\"#f2f5fa\"},\"hovermode\":\"closest\",\"hoverlabel\":{\"align\":\"left\"},\"paper_bgcolor\":\"rgb(17,17,17)\",\"plot_bgcolor\":\"rgb(17,17,17)\",\"polar\":{\"bgcolor\":\"rgb(17,17,17)\",\"angularaxis\":{\"gridcolor\":\"#506784\",\"linecolor\":\"#506784\",\"ticks\":\"\"},\"radialaxis\":{\"gridcolor\":\"#506784\",\"linecolor\":\"#506784\",\"ticks\":\"\"}},\"ternary\":{\"bgcolor\":\"rgb(17,17,17)\",\"aaxis\":{\"gridcolor\":\"#506784\",\"linecolor\":\"#506784\",\"ticks\":\"\"},\"baxis\":{\"gridcolor\":\"#506784\",\"linecolor\":\"#506784\",\"ticks\":\"\"},\"caxis\":{\"gridcolor\":\"#506784\",\"linecolor\":\"#506784\",\"ticks\":\"\"}},\"coloraxis\":{\"colorbar\":{\"outlinewidth\":0,\"ticks\":\"\"}},\"colorscale\":{\"sequential\":[[0.0,\"#0d0887\"],[0.1111111111111111,\"#46039f\"],[0.2222222222222222,\"#7201a8\"],[0.3333333333333333,\"#9c179e\"],[0.4444444444444444,\"#bd3786\"],[0.5555555555555556,\"#d8576b\"],[0.6666666666666666,\"#ed7953\"],[0.7777777777777778,\"#fb9f3a\"],[0.8888888888888888,\"#fdca26\"],[1.0,\"#f0f921\"]],\"sequentialminus\":[[0.0,\"#0d0887\"],[0.1111111111111111,\"#46039f\"],[0.2222222222222222,\"#7201a8\"],[0.3333333333333333,\"#9c179e\"],[0.4444444444444444,\"#bd3786\"],[0.5555555555555556,\"#d8576b\"],[0.6666666666666666,\"#ed7953\"],[0.7777777777777778,\"#fb9f3a\"],[0.8888888888888888,\"#fdca26\"],[1.0,\"#f0f921\"]],\"diverging\":[[0,\"#8e0152\"],[0.1,\"#c51b7d\"],[0.2,\"#de77ae\"],[0.3,\"#f1b6da\"],[0.4,\"#fde0ef\"],[0.5,\"#f7f7f7\"],[0.6,\"#e6f5d0\"],[0.7,\"#b8e186\"],[0.8,\"#7fbc41\"],[0.9,\"#4d9221\"],[1,\"#276419\"]]},\"xaxis\":{\"gridcolor\":\"#283442\",\"linecolor\":\"#506784\",\"ticks\":\"\",\"title\":{\"standoff\":15},\"zerolinecolor\":\"#283442\",\"automargin\":true,\"zerolinewidth\":2},\"yaxis\":{\"gridcolor\":\"#283442\",\"linecolor\":\"#506784\",\"ticks\":\"\",\"title\":{\"standoff\":15},\"zerolinecolor\":\"#283442\",\"automargin\":true,\"zerolinewidth\":2},\"scene\":{\"xaxis\":{\"backgroundcolor\":\"rgb(17,17,17)\",\"gridcolor\":\"#506784\",\"linecolor\":\"#506784\",\"showbackground\":true,\"ticks\":\"\",\"zerolinecolor\":\"#C8D4E3\",\"gridwidth\":2},\"yaxis\":{\"backgroundcolor\":\"rgb(17,17,17)\",\"gridcolor\":\"#506784\",\"linecolor\":\"#506784\",\"showbackground\":true,\"ticks\":\"\",\"zerolinecolor\":\"#C8D4E3\",\"gridwidth\":2},\"zaxis\":{\"backgroundcolor\":\"rgb(17,17,17)\",\"gridcolor\":\"#506784\",\"linecolor\":\"#506784\",\"showbackground\":true,\"ticks\":\"\",\"zerolinecolor\":\"#C8D4E3\",\"gridwidth\":2}},\"shapedefaults\":{\"line\":{\"color\":\"#f2f5fa\"}},\"annotationdefaults\":{\"arrowcolor\":\"#f2f5fa\",\"arrowhead\":0,\"arrowwidth\":1},\"geo\":{\"bgcolor\":\"rgb(17,17,17)\",\"landcolor\":\"rgb(17,17,17)\",\"subunitcolor\":\"#506784\",\"showland\":true,\"showlakes\":true,\"lakecolor\":\"rgb(17,17,17)\"},\"title\":{\"x\":0.05},\"updatemenudefaults\":{\"bgcolor\":\"#506784\",\"borderwidth\":0},\"sliderdefaults\":{\"bgcolor\":\"#C8D4E3\",\"borderwidth\":1,\"bordercolor\":\"rgb(17,17,17)\",\"tickwidth\":0},\"mapbox\":{\"style\":\"dark\"}}},\"xaxis\":{\"anchor\":\"y\",\"domain\":[0.0,0.18400000000000002],\"title\":{\"text\":\"alpha\"}},\"yaxis\":{\"anchor\":\"x\",\"domain\":[0.0,1.0],\"title\":{\"text\":\"%pruned\"}},\"xaxis2\":{\"anchor\":\"y2\",\"domain\":[0.20400000000000001,0.388],\"matches\":\"x\",\"title\":{\"text\":\"alpha\"}},\"yaxis2\":{\"anchor\":\"x2\",\"domain\":[0.0,1.0],\"matches\":\"y\",\"showticklabels\":false},\"xaxis3\":{\"anchor\":\"y3\",\"domain\":[0.40800000000000003,0.5920000000000001],\"matches\":\"x\",\"title\":{\"text\":\"alpha\"}},\"yaxis3\":{\"anchor\":\"x3\",\"domain\":[0.0,1.0],\"matches\":\"y\",\"showticklabels\":false},\"xaxis4\":{\"anchor\":\"y4\",\"domain\":[0.6120000000000001,0.7960000000000002],\"matches\":\"x\",\"title\":{\"text\":\"alpha\"}},\"yaxis4\":{\"anchor\":\"x4\",\"domain\":[0.0,1.0],\"matches\":\"y\",\"showticklabels\":false},\"xaxis5\":{\"anchor\":\"y5\",\"domain\":[0.8160000000000001,1.0],\"matches\":\"x\",\"title\":{\"text\":\"alpha\"}},\"yaxis5\":{\"anchor\":\"x5\",\"domain\":[0.0,1.0],\"matches\":\"y\",\"showticklabels\":false},\"annotations\":[{\"font\":{},\"showarrow\":false,\"text\":\"epsilon=0.001\",\"x\":0.09200000000000001,\"xanchor\":\"center\",\"xref\":\"paper\",\"y\":1.0,\"yanchor\":\"bottom\",\"yref\":\"paper\"},{\"font\":{},\"showarrow\":false,\"text\":\"epsilon=0.01\",\"x\":0.29600000000000004,\"xanchor\":\"center\",\"xref\":\"paper\",\"y\":1.0,\"yanchor\":\"bottom\",\"yref\":\"paper\"},{\"font\":{},\"showarrow\":false,\"text\":\"epsilon=0.1\",\"x\":0.5,\"xanchor\":\"center\",\"xref\":\"paper\",\"y\":1.0,\"yanchor\":\"bottom\",\"yref\":\"paper\"},{\"font\":{},\"showarrow\":false,\"text\":\"epsilon=0.5\",\"x\":0.7040000000000002,\"xanchor\":\"center\",\"xref\":\"paper\",\"y\":1.0,\"yanchor\":\"bottom\",\"yref\":\"paper\"},{\"font\":{},\"showarrow\":false,\"text\":\"epsilon=1.0\",\"x\":0.908,\"xanchor\":\"center\",\"xref\":\"paper\",\"y\":1.0,\"yanchor\":\"bottom\",\"yref\":\"paper\"}],\"coloraxis\":{\"colorbar\":{\"title\":{\"text\":\"depth\"}},\"colorscale\":[[0.0,\"#0d0887\"],[0.1111111111111111,\"#46039f\"],[0.2222222222222222,\"#7201a8\"],[0.3333333333333333,\"#9c179e\"],[0.4444444444444444,\"#bd3786\"],[0.5555555555555556,\"#d8576b\"],[0.6666666666666666,\"#ed7953\"],[0.7777777777777778,\"#fb9f3a\"],[0.8888888888888888,\"#fdca26\"],[1.0,\"#f0f921\"]]},\"legend\":{\"tracegroupgap\":0},\"margin\":{\"t\":60},\"barmode\":\"relative\"},                        {\"responsive\": true}                    ).then(function(){\n                            \nvar gd = document.getElementById('2b7d0915-81b4-4d3a-90a0-96c171e49776');\nvar x = new MutationObserver(function (mutations, observer) {{\n        var display = window.getComputedStyle(gd).display;\n        if (!display || display === 'none') {{\n            console.log([gd, 'removed!']);\n            Plotly.purge(gd);\n            observer.disconnect();\n        }}\n}});\n\n// Listen for the removal of the full notebook cells\nvar notebookContainer = gd.closest('#notebook-container');\nif (notebookContainer) {{\n    x.observe(notebookContainer, {childList: true});\n}}\n\n// Listen for the clearing of the current output cell\nvar outputEl = gd.closest('.output');\nif (outputEl) {{\n    x.observe(outputEl, {childList: true});\n}}\n\n                        })                };                });            </script>        </div>"
     },
     "metadata": {},
     "output_type": "display_data"
    }
   ],
   "source": [
    "import numpy as np\n",
    "depth_df['depth'] = depth_df['depth'].astype(int)\n",
    "depth_df['alpha'] = depth_df['alpha'].astype(str)\n",
    "depth_df['%pruned'] = depth_df.groupby(['epsilon_1', 'alpha'])['#pruned'].transform(lambda x: x / x.sum())\n",
    "depth_df['%pruned'] = depth_df['%pruned'].apply(lambda p: np.round(p, 3))\n",
    "fig = px.bar(\n",
    "    depth_df,\n",
    "    x='alpha', y='%pruned',\n",
    "    facet_col='epsilon_1',\n",
    "    color='depth',\n",
    "    text='%pruned',\n",
    "    text_auto=True,\n",
    "    labels={'epsilon_1': 'epsilon'}\n",
    ")\n",
    "fig.show()"
   ],
   "metadata": {
    "collapsed": false,
    "ExecuteTime": {
     "end_time": "2023-11-26T23:26:41.474595Z",
     "start_time": "2023-11-26T23:26:41.300622Z"
    }
   },
   "id": "796197e1e33cfe84"
  }
 ],
 "metadata": {
  "kernelspec": {
   "display_name": "Python 3",
   "language": "python",
   "name": "python3"
  },
  "language_info": {
   "codemirror_mode": {
    "name": "ipython",
    "version": 2
   },
   "file_extension": ".py",
   "mimetype": "text/x-python",
   "name": "python",
   "nbconvert_exporter": "python",
   "pygments_lexer": "ipython2",
   "version": "2.7.6"
  }
 },
 "nbformat": 4,
 "nbformat_minor": 5
}
