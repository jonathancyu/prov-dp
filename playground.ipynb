{
 "cells": [
  {
   "cell_type": "code",
   "execution_count": 1,
   "id": "initial_id",
   "metadata": {
    "collapsed": true,
    "ExecuteTime": {
     "end_time": "2024-02-17T20:30:03.000507Z",
     "start_time": "2024-02-17T20:29:59.962102Z"
    }
   },
   "outputs": [
    {
     "data": {
      "text/plain": "1"
     },
     "execution_count": 1,
     "metadata": {},
     "output_type": "execute_result"
    }
   ],
   "source": [
    "import pickle\n",
    "with open('../data/output/perturbed_graphs.txt', 'rb') as f:\n",
    "    perturbed_graphs = pickle.load(f)\n",
    "    \n",
    "len(perturbed_graphs)"
   ]
  },
  {
   "cell_type": "code",
   "execution_count": 38,
   "outputs": [
    {
     "data": {
      "text/plain": "tensor([2.2650, 2.3784, 2.3975, 2.1637, 2.3885], device='mps:0')"
     },
     "execution_count": 38,
     "metadata": {},
     "output_type": "execute_result"
    }
   ],
   "source": [
    "import torch\n",
    "from tqdm import tqdm\n",
    "device = torch.device('mps' if torch.backends.mps.is_available() else 'cpu')\n",
    "\n",
    "embeddings = torch.rand(5, 32, device=device) (M, n_graph_embedding, )\n",
    "prediction = torch.rand(32, device=device)\n",
    "\n",
    "distances = torch.norm(embeddings - prediction, dim=1)\n",
    "probabilities = 1 / distances\n",
    "distances\n",
    "# \n",
    "# (N, n_graph_embedding) x"
   ],
   "metadata": {
    "collapsed": false,
    "ExecuteTime": {
     "end_time": "2024-02-18T04:21:36.446943Z",
     "start_time": "2024-02-18T04:21:36.386297Z"
    }
   },
   "id": "f7e20c3add45936f"
  },
  {
   "cell_type": "code",
   "execution_count": 35,
   "outputs": [
    {
     "data": {
      "text/plain": "2.4682819843292236"
     },
     "execution_count": 35,
     "metadata": {},
     "output_type": "execute_result"
    }
   ],
   "source": [
    "distances.mean().item()"
   ],
   "metadata": {
    "collapsed": false,
    "ExecuteTime": {
     "end_time": "2024-02-18T03:09:29.533935Z",
     "start_time": "2024-02-18T03:09:29.491975Z"
    }
   },
   "id": "1a2a888fcd8f7f02"
  }
 ],
 "metadata": {
  "kernelspec": {
   "display_name": "Python 3",
   "language": "python",
   "name": "python3"
  },
  "language_info": {
   "codemirror_mode": {
    "name": "ipython",
    "version": 2
   },
   "file_extension": ".py",
   "mimetype": "text/x-python",
   "name": "python",
   "nbconvert_exporter": "python",
   "pygments_lexer": "ipython2",
   "version": "2.7.6"
  }
 },
 "nbformat": 4,
 "nbformat_minor": 5
}
