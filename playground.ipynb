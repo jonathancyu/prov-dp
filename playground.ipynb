{
 "cells": [
  {
   "cell_type": "code",
   "execution_count": 1,
   "id": "initial_id",
   "metadata": {
    "collapsed": true,
    "ExecuteTime": {
     "end_time": "2024-02-17T20:30:03.000507Z",
     "start_time": "2024-02-17T20:29:59.962102Z"
    }
   },
   "outputs": [
    {
     "data": {
      "text/plain": "1"
     },
     "execution_count": 1,
     "metadata": {},
     "output_type": "execute_result"
    }
   ],
   "source": [
    "import pickle\n",
    "with open('../data/output/perturbed_graphs.txt', 'rb') as f:\n",
    "    perturbed_graphs = pickle.load(f)\n",
    "    \n",
    "len(perturbed_graphs)"
   ]
  },
  {
   "cell_type": "code",
   "execution_count": 40,
   "outputs": [
    {
     "ename": "RuntimeError",
     "evalue": "The size of tensor a (100) must match the size of tensor b (32) at non-singleton dimension 2",
     "output_type": "error",
     "traceback": [
      "\u001B[0;31m---------------------------------------------------------------------------\u001B[0m",
      "\u001B[0;31mRuntimeError\u001B[0m                              Traceback (most recent call last)",
      "Cell \u001B[0;32mIn[40], line 8\u001B[0m\n\u001B[1;32m      5\u001B[0m embeddings \u001B[38;5;241m=\u001B[39m torch\u001B[38;5;241m.\u001B[39mrand(\u001B[38;5;241m5\u001B[39m, \u001B[38;5;241m32\u001B[39m, \u001B[38;5;241m100\u001B[39m, device\u001B[38;5;241m=\u001B[39mdevice)\u001B[38;5;66;03m# (M, n_graph_embedding, )\u001B[39;00m\n\u001B[1;32m      6\u001B[0m prediction \u001B[38;5;241m=\u001B[39m torch\u001B[38;5;241m.\u001B[39mrand(\u001B[38;5;241m32\u001B[39m, device\u001B[38;5;241m=\u001B[39mdevice)\n\u001B[0;32m----> 8\u001B[0m distances \u001B[38;5;241m=\u001B[39m torch\u001B[38;5;241m.\u001B[39mnorm(\u001B[43membeddings\u001B[49m\u001B[43m \u001B[49m\u001B[38;5;241;43m-\u001B[39;49m\u001B[43m \u001B[49m\u001B[43mprediction\u001B[49m, dim\u001B[38;5;241m=\u001B[39m\u001B[38;5;241m1\u001B[39m)\n\u001B[1;32m      9\u001B[0m probabilities \u001B[38;5;241m=\u001B[39m \u001B[38;5;241m1\u001B[39m \u001B[38;5;241m/\u001B[39m distances\n\u001B[1;32m     10\u001B[0m distances\n",
      "\u001B[0;31mRuntimeError\u001B[0m: The size of tensor a (100) must match the size of tensor b (32) at non-singleton dimension 2"
     ]
    }
   ],
   "source": [
    "import torch\n",
    "from tqdm import tqdm\n",
    "device = torch.device('mps' if torch.backends.mps.is_available() else 'cpu')\n",
    "\n",
    "embeddings = torch.rand(5, 32, device=device)# (M, n_graph_embedding, )\n",
    "prediction = torch.rand(32, device=device)\n",
    "\n",
    "distances = torch.norm(embeddings - prediction, dim=1)\n",
    "probabilities = 1 / distances\n",
    "distances\n",
    "# \n",
    "# (N, n_graph_embedding) x"
   ],
   "metadata": {
    "collapsed": false,
    "ExecuteTime": {
     "end_time": "2024-02-18T05:13:55.633548Z",
     "start_time": "2024-02-18T05:13:55.448647Z"
    }
   },
   "id": "f7e20c3add45936f"
  },
  {
   "cell_type": "code",
   "execution_count": 112,
   "outputs": [
    {
     "data": {
      "text/plain": "(torch.Size([1, 8123, 100]), torch.Size([8123, 1, 100]))"
     },
     "execution_count": 112,
     "metadata": {},
     "output_type": "execute_result"
    }
   ],
   "source": [
    "\n",
    "# Compute a probability distribution based on the distance to the prediction\n",
    "# graph embeddings = num_possible_graphs x n_graph_embedding\n",
    "# I want a batch_size x num_possible_graphs matrix of distances\n",
    "graph_embeddings = torch.rand(8123, 100, device=device)\n",
    "batch_predictions = torch.rand(350, 100, device=device)\n",
    "graph_embeddings.unsqueeze(0).shape, graph_embeddings.unsqueeze(1).shape"
   ],
   "metadata": {
    "collapsed": false,
    "ExecuteTime": {
     "end_time": "2024-02-18T05:39:16.678068Z",
     "start_time": "2024-02-18T05:39:16.669280Z"
    }
   },
   "id": "1a2a888fcd8f7f02"
  },
  {
   "cell_type": "code",
   "execution_count": 88,
   "outputs": [
    {
     "data": {
      "text/plain": "(tensor([[0.6171, 0.4735, 0.8750],\n         [0.3778, 0.7247, 0.4049]], device='mps:0'),\n tensor([[0.8390, 0.5681, 0.2575],\n         [0.8372, 0.3677, 0.9201],\n         [0.0142, 0.9983, 0.2237],\n         [0.4176, 0.1067, 0.3339],\n         [0.5650, 0.9921, 0.4199]], device='mps:0'))"
     },
     "execution_count": 88,
     "metadata": {},
     "output_type": "execute_result"
    }
   ],
   "source": [
    "graph_embeddings, batch_predictions"
   ],
   "metadata": {
    "collapsed": false,
    "ExecuteTime": {
     "end_time": "2024-02-18T05:30:57.521970Z",
     "start_time": "2024-02-18T05:30:57.492489Z"
    }
   },
   "id": "f5a8c00aac6cf927"
  },
  {
   "cell_type": "markdown",
   "source": [],
   "metadata": {
    "collapsed": false
   },
   "id": "b06dda72aaf32c04"
  },
  {
   "cell_type": "code",
   "execution_count": 113,
   "outputs": [
    {
     "name": "stdout",
     "output_type": "stream",
     "text": [
      "torch.Size([350, 8123, 100])\n",
      "torch.Size([350, 8123, 100])\n",
      "3 torch.Size([350, 8123])\n",
      "torch.Size([350, 8123])\n"
     ]
    },
    {
     "data": {
      "text/plain": "array([[4219],\n       [7008],\n       [1687],\n       [3296],\n       [3018],\n       [1382],\n       [5256],\n       [7167],\n       [ 615],\n       [3281],\n       [ 119],\n       [6264],\n       [3318],\n       [2676],\n       [4918],\n       [7109],\n       [6623],\n       [ 135],\n       [5231],\n       [7477],\n       [3621],\n       [1145],\n       [2827],\n       [4899],\n       [4699],\n       [4640],\n       [5893],\n       [1624],\n       [2360],\n       [4438],\n       [4074],\n       [7053],\n       [ 342],\n       [2302],\n       [  11],\n       [1481],\n       [5398],\n       [4260],\n       [5048],\n       [4710],\n       [3398],\n       [2295],\n       [ 372],\n       [1839],\n       [6945],\n       [ 914],\n       [2756],\n       [6552],\n       [5623],\n       [5238],\n       [3355],\n       [1484],\n       [2664],\n       [3606],\n       [1169],\n       [2591],\n       [ 812],\n       [5673],\n       [1959],\n       [1939],\n       [6756],\n       [5300],\n       [7478],\n       [ 914],\n       [6057],\n       [4769],\n       [7523],\n       [ 100],\n       [2217],\n       [2917],\n       [1476],\n       [1997],\n       [1993],\n       [6325],\n       [4099],\n       [6385],\n       [2722],\n       [7998],\n       [ 190],\n       [6905],\n       [6748],\n       [1845],\n       [2905],\n       [ 731],\n       [ 615],\n       [ 288],\n       [4768],\n       [ 408],\n       [1410],\n       [1407],\n       [5326],\n       [2029],\n       [7353],\n       [7247],\n       [6167],\n       [1946],\n       [5896],\n       [7717],\n       [7096],\n       [1639],\n       [6062],\n       [7711],\n       [5000],\n       [5450],\n       [4185],\n       [6467],\n       [4169],\n       [7970],\n       [5559],\n       [7860],\n       [5469],\n       [7956],\n       [7473],\n       [1425],\n       [2697],\n       [ 970],\n       [5993],\n       [7905],\n       [7952],\n       [1727],\n       [5641],\n       [5025],\n       [4772],\n       [8015],\n       [1905],\n       [6666],\n       [5989],\n       [5539],\n       [5463],\n       [4695],\n       [2137],\n       [7190],\n       [3781],\n       [4883],\n       [ 508],\n       [1366],\n       [6675],\n       [4803],\n       [ 622],\n       [6719],\n       [3991],\n       [3004],\n       [1326],\n       [1808],\n       [3603],\n       [2142],\n       [4004],\n       [3126],\n       [6338],\n       [2943],\n       [4802],\n       [7279],\n       [7422],\n       [5175],\n       [3139],\n       [6098],\n       [7566],\n       [7230],\n       [4955],\n       [2651],\n       [2643],\n       [2186],\n       [6212],\n       [4293],\n       [2850],\n       [4679],\n       [3834],\n       [3414],\n       [3927],\n       [ 739],\n       [4915],\n       [1427],\n       [ 179],\n       [4746],\n       [ 347],\n       [1176],\n       [7112],\n       [6209],\n       [1950],\n       [8027],\n       [6344],\n       [7956],\n       [7883],\n       [5248],\n       [4004],\n       [2766],\n       [3985],\n       [1591],\n       [3337],\n       [6012],\n       [2166],\n       [1795],\n       [5732],\n       [6011],\n       [7639],\n       [5202],\n       [ 178],\n       [6159],\n       [4829],\n       [7224],\n       [3593],\n       [1185],\n       [5583],\n       [5719],\n       [3346],\n       [6683],\n       [2636],\n       [6206],\n       [6201],\n       [5907],\n       [2800],\n       [3037],\n       [6704],\n       [1548],\n       [1524],\n       [1388],\n       [8054],\n       [4370],\n       [4916],\n       [6715],\n       [6067],\n       [6650],\n       [6936],\n       [7447],\n       [4280],\n       [2122],\n       [1842],\n       [3786],\n       [8096],\n       [1717],\n       [1388],\n       [7055],\n       [2872],\n       [3638],\n       [4332],\n       [7099],\n       [7085],\n       [1593],\n       [5369],\n       [ 274],\n       [2464],\n       [1050],\n       [7477],\n       [2510],\n       [5075],\n       [6849],\n       [1737],\n       [7852],\n       [2572],\n       [3974],\n       [6471],\n       [5645],\n       [ 692],\n       [6299],\n       [ 373],\n       [ 963],\n       [5314],\n       [3887],\n       [3360],\n       [4960],\n       [8057],\n       [8024],\n       [ 423],\n       [ 195],\n       [ 378],\n       [2107],\n       [7232],\n       [7721],\n       [5496],\n       [6902],\n       [4133],\n       [4286],\n       [3872],\n       [2906],\n       [2375],\n       [6245],\n       [2960],\n       [5096],\n       [6690],\n       [6041],\n       [3790],\n       [7155],\n       [6436],\n       [7566],\n       [2914],\n       [5009],\n       [2079],\n       [6548],\n       [1510],\n       [4303],\n       [4471],\n       [6737],\n       [4744],\n       [8055],\n       [7050],\n       [4343],\n       [3260],\n       [6665],\n       [2114],\n       [6618],\n       [2050],\n       [3444],\n       [4010],\n       [3325],\n       [7456],\n       [7937],\n       [5297],\n       [4917],\n       [3021],\n       [6944],\n       [2755],\n       [ 181],\n       [7171],\n       [7209],\n       [7561],\n       [3663],\n       [5582],\n       [6206],\n       [3622],\n       [3409],\n       [4550],\n       [4985],\n       [7984],\n       [3286],\n       [6424],\n       [1491],\n       [3338],\n       [5312],\n       [3386],\n       [1728],\n       [6442],\n       [7249],\n       [5923],\n       [4177],\n       [5643],\n       [ 852],\n       [6244],\n       [4395],\n       [3468],\n       [3763],\n       [5333],\n       [ 628],\n       [ 289],\n       [7440],\n       [2430],\n       [7952],\n       [4051],\n       [ 233],\n       [  48],\n       [  49]])"
     },
     "execution_count": 113,
     "metadata": {},
     "output_type": "execute_result"
    }
   ],
   "source": [
    "\n",
    "embedding_differences = graph_embeddings.unsqueeze(0) - batch_predictions.unsqueeze(1)\n",
    "print(embedding_differences.shape)\n",
    "# batch_size x len(graph_embeddings) x n_graph_embedding\n",
    "abs_differences = torch.abs(embedding_differences)\n",
    "print(abs_differences.shape)\n",
    "# batch_size x len(graph_embeddings)\n",
    "embedding_distances = torch.norm(abs_differences, dim=2)  # L1 norm\n",
    "print(3, embedding_distances.shape)\n",
    "probabilities = 1 / embedding_distances\n",
    "print(probabilities.shape)\n",
    "# 1 x batch_size\n",
    "choices = torch.multinomial(probabilities, 1)\n",
    "choices.cpu().numpy()"
   ],
   "metadata": {
    "collapsed": false,
    "ExecuteTime": {
     "end_time": "2024-02-18T05:39:19.267484Z",
     "start_time": "2024-02-18T05:39:19.089688Z"
    }
   },
   "id": "7fe663dbc8b5ab7f"
  },
  {
   "cell_type": "code",
   "execution_count": 115,
   "outputs": [],
   "source": [
    "distances = torch.norm(embedding_differences, dim=2)"
   ],
   "metadata": {
    "collapsed": false,
    "ExecuteTime": {
     "end_time": "2024-02-18T05:42:10.887Z",
     "start_time": "2024-02-18T05:42:10.883428Z"
    }
   },
   "id": "37c782cd8a86a8d0"
  },
  {
   "cell_type": "code",
   "execution_count": 118,
   "outputs": [
    {
     "data": {
      "text/plain": "tensor(4.1469, device='mps:0')"
     },
     "execution_count": 118,
     "metadata": {},
     "output_type": "execute_result"
    }
   ],
   "source": [
    "distances.mean(dim=1)[0]"
   ],
   "metadata": {
    "collapsed": false,
    "ExecuteTime": {
     "end_time": "2024-02-18T05:42:20.269204Z",
     "start_time": "2024-02-18T05:42:20.228792Z"
    }
   },
   "id": "447699bc2ff8ce8"
  },
  {
   "cell_type": "code",
   "execution_count": 121,
   "outputs": [
    {
     "data": {
      "text/plain": "350"
     },
     "execution_count": 121,
     "metadata": {},
     "output_type": "execute_result"
    }
   ],
   "source": [
    "distances.shape[0]"
   ],
   "metadata": {
    "collapsed": false,
    "ExecuteTime": {
     "end_time": "2024-02-18T05:45:34.632197Z",
     "start_time": "2024-02-18T05:45:34.629243Z"
    }
   },
   "id": "44713cbe00dd9068"
  }
 ],
 "metadata": {
  "kernelspec": {
   "display_name": "Python 3",
   "language": "python",
   "name": "python3"
  },
  "language_info": {
   "codemirror_mode": {
    "name": "ipython",
    "version": 2
   },
   "file_extension": ".py",
   "mimetype": "text/x-python",
   "name": "python",
   "nbconvert_exporter": "python",
   "pygments_lexer": "ipython2",
   "version": "2.7.6"
  }
 },
 "nbformat": 4,
 "nbformat_minor": 5
}
