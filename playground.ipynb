{
 "cells": [
  {
   "cell_type": "code",
   "execution_count": 5,
   "metadata": {},
   "outputs": [],
   "source": [
    "import json\n",
    "from pathlib import Path\n",
    "\n",
    "benign_graph_directory = Path(\"/Users/aa710193/Documents/SyssecLab/darpa_graphs/benign_unfinished\")\n",
    "test_graph: Path = benign_graph_directory / \"tc5-fiveD1\" / \"firefox\" / \"nd\" / \"nd-102031156-processletevent.json\"\n",
    "\n",
    "with test_graph.open() as f:\n",
    "    graph = json.load(f)"
   ]
  },
  {
   "cell_type": "code",
   "execution_count": 14,
   "metadata": {},
   "outputs": [
    {
     "data": {
      "text/plain": [
       "('EXTENDED', 172, 293)"
      ]
     },
     "execution_count": 14,
     "metadata": {},
     "output_type": "execute_result"
    }
   ],
   "source": [
    "graph[\"mode\"], len(graph[\"vertices\"]), len(graph[\"edges\"])"
   ]
  },
  {
   "cell_type": "code",
   "execution_count": 17,
   "metadata": {},
   "outputs": [],
   "source": [
    "node_data = graph['vertices'][0]"
   ]
  },
  {
   "cell_type": "code",
   "execution_count": 41,
   "metadata": {},
   "outputs": [
    {
     "name": "stdout",
     "output_type": "stream",
     "text": [
      "{'EVENT_START': {'type': 'long', 'value': 1557870321484000000}, 'ACCESS_AMOUNT': {'type': 'long', 'value': 0}, 'OPTYPE': {'type': 'string', 'value': 'Execute_Processlet_Library'}, 'PROC_CREATE_INHERIT': {'type': 'boolean', 'value': False}, 'REL_TIME_START': {'type': 'long', 'value': 159307727000000}, 'IS_ALERT': {'type': 'boolean', 'value': False}, 'TIME_START': {'type': 'long', 'value': 1557870321484000000}, 'REL_TIME_END': {'type': 'long', 'value': 159307727000000}, 'ALERT_INFO': {'type': 'string', 'value': ''}, 'EVENT_START_STR': {'type': 'string', 'value': '1557870321484000000'}, 'TIME_END': {'type': 'long', 'value': 1557870321484000000}, 'EVENT_END_STR': {'type': 'string', 'value': '1557870321484000000'}, 'PATH_NAME': {'type': 'string', 'value': '\\\\Device\\\\HarddiskVolume2\\\\Windows\\\\System32\\\\msasn1.dll'}, 'EVENT_END': {'type': 'long', 'value': 1557870321484000000}, 'REF_ID': {'type': 'long', 'value': 1089657802}, '_id': '350', '_type': 'edge', '_outV': '145', '_inV': '90', '_label': 'READ'}\n"
     ]
    },
    {
     "name": "stderr",
     "output_type": "stream",
     "text": [
      "/var/folders/yt/l_s6phxs7_14dknp9dq291x80000gq/T/ipykernel_19843/2840823771.py:8: PydanticDeprecatedSince20: Pydantic V1 style `@root_validator` validators are deprecated. You should migrate to Pydantic V2 style `@model_validator` validators, see the migration guide for more details. Deprecated in Pydantic V2.0 to be removed in V3.0. See Pydantic V2 Migration Guide at https://errors.pydantic.dev/2.1.1/migration/\n",
      "  @root_validator(pre=True)\n"
     ]
    },
    {
     "data": {
      "text/plain": [
       "Edge(id=350, srcid=90, dstid=145, optype='Execute_Processlet_Library')"
      ]
     },
     "execution_count": 41,
     "metadata": {},
     "output_type": "execute_result"
    }
   ],
   "source": [
    "import argparse\n",
    "import json\n",
    "import numpy as np\n",
    "import math\n",
    "from pydantic import BaseModel, Field, root_validator, Extra\n",
    "\n",
    "class GraphsonObject(BaseModel):\n",
    "    @root_validator(pre=True)\n",
    "    def extract_values(cls, values):\n",
    "        return {\n",
    "            key: (value if key.startswith('_') else value['value']) \n",
    "            for key, value in values.items()\n",
    "            }\n",
    "    class Config:\n",
    "        extra = Extra.allow\n",
    "\n",
    "\n",
    "class Node(GraphsonObject):\n",
    "    id: int = Field(..., alias='_id')\n",
    "    optype: str = Field(..., alias='OPTYPE')\n",
    "\n",
    "class Edge(GraphsonObject):\n",
    "    id: int = Field(..., alias='_id')\n",
    "    srcid: int = Field(..., alias='_inV')\n",
    "    dstid: int = Field(..., alias='_outV')\n",
    "    optype: str = Field(..., alias='OPTYPE')\n",
    "edge_data = graph['edges'][0]\n",
    "print(edge_data)\n",
    "Edge(**edge_data)"
   ]
  },
  {
   "cell_type": "code",
   "execution_count": 21,
   "metadata": {},
   "outputs": [],
   "source": [
    "x = Node(**node_data)"
   ]
  },
  {
   "cell_type": "code",
   "execution_count": 42,
   "metadata": {},
   "outputs": [
    {
     "data": {
      "text/plain": [
       "{'EVENT_START': {'type': 'long', 'value': 1557870321484000000},\n",
       " 'ACCESS_AMOUNT': {'type': 'long', 'value': 0},\n",
       " 'OPTYPE': {'type': 'string', 'value': 'Execute_Processlet_Library'},\n",
       " 'PROC_CREATE_INHERIT': {'type': 'boolean', 'value': False},\n",
       " 'REL_TIME_START': {'type': 'long', 'value': 159307727000000},\n",
       " 'IS_ALERT': {'type': 'boolean', 'value': False},\n",
       " 'TIME_START': {'type': 'long', 'value': 1557870321484000000},\n",
       " 'REL_TIME_END': {'type': 'long', 'value': 159307727000000},\n",
       " 'ALERT_INFO': {'type': 'string', 'value': ''},\n",
       " 'EVENT_START_STR': {'type': 'string', 'value': '1557870321484000000'},\n",
       " 'TIME_END': {'type': 'long', 'value': 1557870321484000000},\n",
       " 'EVENT_END_STR': {'type': 'string', 'value': '1557870321484000000'},\n",
       " 'PATH_NAME': {'type': 'string',\n",
       "  'value': '\\\\Device\\\\HarddiskVolume2\\\\Windows\\\\System32\\\\msasn1.dll'},\n",
       " 'EVENT_END': {'type': 'long', 'value': 1557870321484000000},\n",
       " 'REF_ID': {'type': 'long', 'value': 1089657802},\n",
       " '_id': '350',\n",
       " '_type': 'edge',\n",
       " '_outV': '145',\n",
       " '_inV': '90',\n",
       " '_label': 'READ'}"
      ]
     },
     "execution_count": 42,
     "metadata": {},
     "output_type": "execute_result"
    }
   ],
   "source": [
    "a = graph['edges'][0]\n",
    "a"
   ]
  },
  {
   "cell_type": "code",
   "execution_count": 49,
   "metadata": {},
   "outputs": [
    {
     "data": {
      "text/plain": [
       "False"
      ]
     },
     "execution_count": 49,
     "metadata": {},
     "output_type": "execute_result"
    }
   ],
   "source": [
    "from enum import Enum\n",
    "\n",
    "class NodeType(Enum):\n",
    "    file = \"1\"\n",
    "    process = \"2\" \n",
    "    ip = \"3\"\n",
    "\n",
    "str(NodeType.file) in [\"1\", \"3\"]"
   ]
  }
 ],
 "metadata": {
  "kernelspec": {
   "display_name": "Python 3",
   "language": "python",
   "name": "python3"
  },
  "language_info": {
   "codemirror_mode": {
    "name": "ipython",
    "version": 3
   },
   "file_extension": ".py",
   "mimetype": "text/x-python",
   "name": "python",
   "nbconvert_exporter": "python",
   "pygments_lexer": "ipython3",
   "version": "3.11.0"
  }
 },
 "nbformat": 4,
 "nbformat_minor": 2
}
