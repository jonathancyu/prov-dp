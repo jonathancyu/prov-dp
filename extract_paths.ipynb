{
 "cells": [
  {
   "cell_type": "markdown",
   "source": [
    "# Differentially Private Provenance Graphs"
   ],
   "metadata": {
    "collapsed": false
   },
   "id": "b6572e4105371592"
  },
  {
   "cell_type": "code",
   "execution_count": 1,
   "outputs": [
    {
     "name": "stderr",
     "output_type": "stream",
     "text": [
      "100%|██████████| 1342/1342 [00:53<00:00, 25.23it/s]\n"
     ]
    }
   ],
   "source": [
    "from pathlib import Path\n",
    "from tqdm import tqdm\n",
    "from algorithm import GraphWrapper\n",
    "input_path = Path('../benign_graphs/tc3-theia/firefox/nd')\n",
    "output_directory = Path('../data/output/tc3-theia/firefox')\n",
    "input_paths = list(input_path.glob('*.json'))\n",
    "len(input_paths)\n",
    "input_graphs = [GraphWrapper(input_path) for input_path in tqdm(input_paths)]"
   ],
   "metadata": {
    "collapsed": false,
    "ExecuteTime": {
     "end_time": "2023-12-08T05:45:10.588808Z",
     "start_time": "2023-12-08T05:44:17.149140Z"
    }
   },
   "id": "83aaf0c1b6f82589"
  },
  {
   "cell_type": "code",
   "execution_count": 2,
   "outputs": [
    {
     "name": "stderr",
     "output_type": "stream",
     "text": [
      "100%|██████████| 1342/1342 [01:36<00:00, 13.87it/s]\n"
     ]
    }
   ],
   "source": [
    "graphs = {}\n",
    "for graph in tqdm(input_graphs):\n",
    "    new_paths = graph.get_paths()    \n",
    "    graphs[graph.source_edge_id] = {\n",
    "        'graph': graph,\n",
    "        'paths': new_paths\n",
    "    }"
   ],
   "metadata": {
    "collapsed": false,
    "ExecuteTime": {
     "end_time": "2023-12-08T05:46:47.316728Z",
     "start_time": "2023-12-08T05:45:10.588736Z"
    }
   },
   "id": "8c69eec52c8f181e"
  },
  {
   "cell_type": "code",
   "execution_count": 3,
   "outputs": [
    {
     "data": {
      "text/plain": "1342"
     },
     "execution_count": 3,
     "metadata": {},
     "output_type": "execute_result"
    }
   ],
   "source": [
    "len(graphs)"
   ],
   "metadata": {
    "collapsed": false,
    "ExecuteTime": {
     "end_time": "2023-12-08T05:46:47.322839Z",
     "start_time": "2023-12-08T05:46:47.319083Z"
    }
   },
   "id": "436874f4d318185a"
  },
  {
   "cell_type": "code",
   "execution_count": 10,
   "outputs": [
    {
     "name": "stderr",
     "output_type": "stream",
     "text": [
      "  3%|▎         | 39/1342 [01:00<33:49,  1.56s/it]\n"
     ]
    },
    {
     "ename": "KeyboardInterrupt",
     "evalue": "",
     "output_type": "error",
     "traceback": [
      "\u001B[0;31m---------------------------------------------------------------------------\u001B[0m",
      "\u001B[0;31mKeyboardInterrupt\u001B[0m                         Traceback (most recent call last)",
      "Cell \u001B[0;32mIn[10], line 24\u001B[0m\n\u001B[1;32m     20\u001B[0m             \u001B[38;5;28;01myield\u001B[39;00m path_to_string(graph, path)\n\u001B[1;32m     23\u001B[0m \u001B[38;5;28;01mwith\u001B[39;00m \u001B[38;5;28mopen\u001B[39m(\u001B[38;5;124m'\u001B[39m\u001B[38;5;124m../data/paths.txt\u001B[39m\u001B[38;5;124m'\u001B[39m, \u001B[38;5;124m'\u001B[39m\u001B[38;5;124mw\u001B[39m\u001B[38;5;124m'\u001B[39m) \u001B[38;5;28;01mas\u001B[39;00m file:\n\u001B[0;32m---> 24\u001B[0m \u001B[43m    \u001B[49m\u001B[38;5;28;43;01mfor\u001B[39;49;00m\u001B[43m \u001B[49m\u001B[43mpath\u001B[49m\u001B[43m \u001B[49m\u001B[38;5;129;43;01min\u001B[39;49;00m\u001B[43m \u001B[49m\u001B[43mget_path_strings\u001B[49m\u001B[43m(\u001B[49m\u001B[43m)\u001B[49m\u001B[43m:\u001B[49m\n\u001B[1;32m     25\u001B[0m \u001B[43m        \u001B[49m\u001B[43mfile\u001B[49m\u001B[38;5;241;43m.\u001B[39;49m\u001B[43mwrite\u001B[49m\u001B[43m(\u001B[49m\u001B[38;5;124;43mf\u001B[39;49m\u001B[38;5;124;43m'\u001B[39;49m\u001B[38;5;132;43;01m{\u001B[39;49;00m\u001B[43mpath\u001B[49m\u001B[38;5;132;43;01m}\u001B[39;49;00m\u001B[38;5;130;43;01m\\n\u001B[39;49;00m\u001B[38;5;124;43m'\u001B[39;49m\u001B[43m)\u001B[49m\n",
      "Cell \u001B[0;32mIn[10], line 20\u001B[0m, in \u001B[0;36mget_path_strings\u001B[0;34m()\u001B[0m\n\u001B[1;32m     18\u001B[0m num_paths\u001B[38;5;241m.\u001B[39mappend(\u001B[38;5;28mlen\u001B[39m(paths))\n\u001B[1;32m     19\u001B[0m \u001B[38;5;28;01mfor\u001B[39;00m path \u001B[38;5;129;01min\u001B[39;00m entry[\u001B[38;5;124m'\u001B[39m\u001B[38;5;124mpaths\u001B[39m\u001B[38;5;124m'\u001B[39m]:\n\u001B[0;32m---> 20\u001B[0m     \u001B[38;5;28;01myield\u001B[39;00m \u001B[43mpath_to_string\u001B[49m\u001B[43m(\u001B[49m\u001B[43mgraph\u001B[49m\u001B[43m,\u001B[49m\u001B[43m \u001B[49m\u001B[43mpath\u001B[49m\u001B[43m)\u001B[49m\n",
      "Cell \u001B[0;32mIn[10], line 9\u001B[0m, in \u001B[0;36mpath_to_string\u001B[0;34m(graph, path)\u001B[0m\n\u001B[1;32m      7\u001B[0m \u001B[38;5;28;01mfor\u001B[39;00m edge \u001B[38;5;129;01min\u001B[39;00m path:\n\u001B[1;32m      8\u001B[0m     node \u001B[38;5;241m=\u001B[39m graph\u001B[38;5;241m.\u001B[39mget_node(edge\u001B[38;5;241m.\u001B[39mget_dst_id())\n\u001B[0;32m----> 9\u001B[0m     result \u001B[38;5;241m+\u001B[39m\u001B[38;5;241m=\u001B[39m \u001B[38;5;124mf\u001B[39m\u001B[38;5;124m'\u001B[39m\u001B[38;5;124m \u001B[39m\u001B[38;5;132;01m{\u001B[39;00medge\u001B[38;5;241m.\u001B[39mget_token()\u001B[38;5;132;01m}\u001B[39;00m\u001B[38;5;124m \u001B[39m\u001B[38;5;132;01m{\u001B[39;00m\u001B[43mnode\u001B[49m\u001B[38;5;241;43m.\u001B[39;49m\u001B[43mget_token\u001B[49m\u001B[43m(\u001B[49m\u001B[43m)\u001B[49m\u001B[38;5;132;01m}\u001B[39;00m\u001B[38;5;124m'\u001B[39m\n\u001B[1;32m     10\u001B[0m \u001B[38;5;28;01mreturn\u001B[39;00m result\n",
      "File \u001B[0;32m~/workspace/SyssecLab/differential-privacy/prov-dp/algorithm/wrappers/node_wrapper.py:47\u001B[0m, in \u001B[0;36mNodeWrapper.get_token\u001B[0;34m(self)\u001B[0m\n\u001B[1;32m     46\u001B[0m \u001B[38;5;28;01mdef\u001B[39;00m \u001B[38;5;21mget_token\u001B[39m(\u001B[38;5;28mself\u001B[39m) \u001B[38;5;241m-\u001B[39m\u001B[38;5;241m>\u001B[39m \u001B[38;5;28mstr\u001B[39m:\n\u001B[0;32m---> 47\u001B[0m     model \u001B[38;5;241m=\u001B[39m \u001B[38;5;28;43mself\u001B[39;49m\u001B[38;5;241;43m.\u001B[39;49m\u001B[43mnode\u001B[49m\u001B[38;5;241;43m.\u001B[39;49m\u001B[43mmodel_dump\u001B[49m\u001B[43m(\u001B[49m\u001B[43m)\u001B[49m\n\u001B[1;32m     48\u001B[0m     token \u001B[38;5;241m=\u001B[39m \u001B[38;5;124mf\u001B[39m\u001B[38;5;124m'\u001B[39m\u001B[38;5;132;01m{\u001B[39;00m\u001B[38;5;28mself\u001B[39m\u001B[38;5;241m.\u001B[39mnode\u001B[38;5;241m.\u001B[39mtype\u001B[38;5;132;01m}\u001B[39;00m\u001B[38;5;124m_\u001B[39m\u001B[38;5;124m'\u001B[39m\n\u001B[1;32m     49\u001B[0m     \u001B[38;5;28;01mif\u001B[39;00m \u001B[38;5;28mself\u001B[39m\u001B[38;5;241m.\u001B[39mnode\u001B[38;5;241m.\u001B[39mtype \u001B[38;5;241m==\u001B[39m NodeType\u001B[38;5;241m.\u001B[39mPROCESS_LET:\n",
      "File \u001B[0;32m/Library/Frameworks/Python.framework/Versions/3.12/lib/python3.12/site-packages/pydantic/main.py:308\u001B[0m, in \u001B[0;36mBaseModel.model_dump\u001B[0;34m(self, mode, include, exclude, by_alias, exclude_unset, exclude_defaults, exclude_none, round_trip, warnings)\u001B[0m\n\u001B[1;32m    275\u001B[0m \u001B[38;5;28;01mdef\u001B[39;00m \u001B[38;5;21mmodel_dump\u001B[39m(\n\u001B[1;32m    276\u001B[0m     \u001B[38;5;28mself\u001B[39m,\n\u001B[1;32m    277\u001B[0m     \u001B[38;5;241m*\u001B[39m,\n\u001B[0;32m   (...)\u001B[0m\n\u001B[1;32m    286\u001B[0m     warnings: \u001B[38;5;28mbool\u001B[39m \u001B[38;5;241m=\u001B[39m \u001B[38;5;28;01mTrue\u001B[39;00m,\n\u001B[1;32m    287\u001B[0m ) \u001B[38;5;241m-\u001B[39m\u001B[38;5;241m>\u001B[39m \u001B[38;5;28mdict\u001B[39m[\u001B[38;5;28mstr\u001B[39m, Any]:\n\u001B[1;32m    288\u001B[0m \u001B[38;5;250m    \u001B[39m\u001B[38;5;124;03m\"\"\"Usage docs: https://docs.pydantic.dev/2.5/concepts/serialization/#modelmodel_dump\u001B[39;00m\n\u001B[1;32m    289\u001B[0m \n\u001B[1;32m    290\u001B[0m \u001B[38;5;124;03m    Generate a dictionary representation of the model, optionally specifying which fields to include or exclude.\u001B[39;00m\n\u001B[0;32m   (...)\u001B[0m\n\u001B[1;32m    306\u001B[0m \u001B[38;5;124;03m        A dictionary representation of the model.\u001B[39;00m\n\u001B[1;32m    307\u001B[0m \u001B[38;5;124;03m    \"\"\"\u001B[39;00m\n\u001B[0;32m--> 308\u001B[0m     \u001B[38;5;28;01mreturn\u001B[39;00m \u001B[38;5;28;43mself\u001B[39;49m\u001B[38;5;241;43m.\u001B[39;49m\u001B[43m__pydantic_serializer__\u001B[49m\u001B[38;5;241;43m.\u001B[39;49m\u001B[43mto_python\u001B[49m\u001B[43m(\u001B[49m\n\u001B[1;32m    309\u001B[0m \u001B[43m        \u001B[49m\u001B[38;5;28;43mself\u001B[39;49m\u001B[43m,\u001B[49m\n\u001B[1;32m    310\u001B[0m \u001B[43m        \u001B[49m\u001B[43mmode\u001B[49m\u001B[38;5;241;43m=\u001B[39;49m\u001B[43mmode\u001B[49m\u001B[43m,\u001B[49m\n\u001B[1;32m    311\u001B[0m \u001B[43m        \u001B[49m\u001B[43mby_alias\u001B[49m\u001B[38;5;241;43m=\u001B[39;49m\u001B[43mby_alias\u001B[49m\u001B[43m,\u001B[49m\n\u001B[1;32m    312\u001B[0m \u001B[43m        \u001B[49m\u001B[43minclude\u001B[49m\u001B[38;5;241;43m=\u001B[39;49m\u001B[43minclude\u001B[49m\u001B[43m,\u001B[49m\n\u001B[1;32m    313\u001B[0m \u001B[43m        \u001B[49m\u001B[43mexclude\u001B[49m\u001B[38;5;241;43m=\u001B[39;49m\u001B[43mexclude\u001B[49m\u001B[43m,\u001B[49m\n\u001B[1;32m    314\u001B[0m \u001B[43m        \u001B[49m\u001B[43mexclude_unset\u001B[49m\u001B[38;5;241;43m=\u001B[39;49m\u001B[43mexclude_unset\u001B[49m\u001B[43m,\u001B[49m\n\u001B[1;32m    315\u001B[0m \u001B[43m        \u001B[49m\u001B[43mexclude_defaults\u001B[49m\u001B[38;5;241;43m=\u001B[39;49m\u001B[43mexclude_defaults\u001B[49m\u001B[43m,\u001B[49m\n\u001B[1;32m    316\u001B[0m \u001B[43m        \u001B[49m\u001B[43mexclude_none\u001B[49m\u001B[38;5;241;43m=\u001B[39;49m\u001B[43mexclude_none\u001B[49m\u001B[43m,\u001B[49m\n\u001B[1;32m    317\u001B[0m \u001B[43m        \u001B[49m\u001B[43mround_trip\u001B[49m\u001B[38;5;241;43m=\u001B[39;49m\u001B[43mround_trip\u001B[49m\u001B[43m,\u001B[49m\n\u001B[1;32m    318\u001B[0m \u001B[43m        \u001B[49m\u001B[43mwarnings\u001B[49m\u001B[38;5;241;43m=\u001B[39;49m\u001B[43mwarnings\u001B[49m\u001B[43m,\u001B[49m\n\u001B[1;32m    319\u001B[0m \u001B[43m    \u001B[49m\u001B[43m)\u001B[49m\n",
      "\u001B[0;31mKeyboardInterrupt\u001B[0m: "
     ]
    }
   ],
   "source": [
    "from algorithm import GraphWrapper, EdgeWrapper\n",
    "\n",
    "def path_to_string(graph: GraphWrapper, path: list[EdgeWrapper]):\n",
    "    source_edge = path[0]\n",
    "    source_node = graph.get_node(source_edge.get_src_id())\n",
    "    result = f'{source_node.get_type()}'\n",
    "    for edge in path:\n",
    "        node = graph.get_node(edge.get_dst_id())\n",
    "        result += f' {edge.get_token()} {node.get_token()}'\n",
    "    return result\n",
    "\n",
    "num_paths = []\n",
    "\n",
    "def get_path_strings():\n",
    "    for graph_id, entry in tqdm(graphs.items()):\n",
    "        graph = entry['graph']\n",
    "        paths = entry['paths']\n",
    "        num_paths.append(len(paths))\n",
    "        for path in entry['paths']:\n",
    "            yield path_to_string(graph, path)\n",
    "    \n",
    "\n",
    "with open('../data/paths.txt', 'w') as file:\n",
    "    for path in get_path_strings():\n",
    "        file.write(f'{path}\\n')"
   ],
   "metadata": {
    "collapsed": false,
    "ExecuteTime": {
     "end_time": "2023-12-08T05:52:52.861186Z",
     "start_time": "2023-12-08T05:51:52.081876Z"
    }
   },
   "id": "9140387c6bd3f232"
  },
  {
   "cell_type": "code",
   "execution_count": null,
   "outputs": [],
   "source": [
    "import numpy as np\n",
    "\n",
    "print(f'Total paths: {sum(num_paths)}')\n",
    "print(f'Average #paths: {np.average(num_paths)}')\n",
    "print(f'Stdev #paths: {np.std(num_paths)}')"
   ],
   "metadata": {
    "collapsed": false
   },
   "id": "2f8f3d729357e6b9"
  }
 ],
 "metadata": {
  "kernelspec": {
   "display_name": "Python 3",
   "language": "python",
   "name": "python3"
  },
  "language_info": {
   "codemirror_mode": {
    "name": "ipython",
    "version": 2
   },
   "file_extension": ".py",
   "mimetype": "text/x-python",
   "name": "python",
   "nbconvert_exporter": "python",
   "pygments_lexer": "ipython2",
   "version": "2.7.6"
  }
 },
 "nbformat": 4,
 "nbformat_minor": 5
}
