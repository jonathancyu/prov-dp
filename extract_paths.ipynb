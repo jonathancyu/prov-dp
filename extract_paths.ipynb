{
 "cells": [
  {
   "cell_type": "markdown",
   "source": [
    "# Differentially Private Provenance Graphs"
   ],
   "metadata": {
    "collapsed": false
   },
   "id": "b6572e4105371592"
  },
  {
   "cell_type": "code",
   "execution_count": 1,
   "outputs": [
    {
     "name": "stderr",
     "output_type": "stream",
     "text": [
      "100%|██████████| 10/10 [00:00<00:00, 33.75it/s]\n"
     ]
    }
   ],
   "source": [
    "from pathlib import Path\n",
    "from tqdm import tqdm\n",
    "from algorithm import GraphWrapper\n",
    "input_path = Path('../benign_graphs/tc3-theia/firefox/nd')\n",
    "output_directory = Path('../data/output/tc3-theia/firefox')\n",
    "input_paths = list(input_path.glob('*.json'))\n",
    "len(input_paths)\n",
    "input_graphs = [GraphWrapper(input_path) for input_path in tqdm(input_paths[:10])]"
   ],
   "metadata": {
    "collapsed": false,
    "ExecuteTime": {
     "end_time": "2023-12-08T05:29:41.611383Z",
     "start_time": "2023-12-08T05:29:41.183144Z"
    }
   },
   "id": "83aaf0c1b6f82589"
  },
  {
   "cell_type": "code",
   "execution_count": 2,
   "outputs": [
    {
     "name": "stdout",
     "output_type": "stream",
     "text": [
      "Got 910 IN paths and 1 OUT paths\n",
      "got 910 new paths\n",
      "Got 1000 IN paths and 5 OUT paths\n",
      "got 5000 new paths\n",
      "Got 992 IN paths and 145 OUT paths\n",
      "got 143840 new paths\n",
      "Got 1000 IN paths and 89 OUT paths\n",
      "got 89000 new paths\n",
      "Got 1000 IN paths and 5 OUT paths\n",
      "got 5000 new paths\n",
      "Got 992 IN paths and 1 OUT paths\n",
      "got 992 new paths\n",
      "Got 992 IN paths and 1 OUT paths\n",
      "got 992 new paths\n",
      "Got 1000 IN paths and 1 OUT paths\n",
      "got 1000 new paths\n",
      "Got 989 IN paths and 1 OUT paths\n",
      "got 989 new paths\n",
      "Got 991 IN paths and 1 OUT paths\n",
      "got 991 new paths\n"
     ]
    }
   ],
   "source": [
    "paths = []\n",
    "graphs = {}\n",
    "for graph in input_graphs:\n",
    "    new_paths = graph.get_paths()\n",
    "    print(f\"got {len(new_paths)} new paths\")\n",
    "    \n",
    "    graphs[graph.source_edge_id] = {\n",
    "        'graph': graph,\n",
    "        'paths': new_paths\n",
    "    }"
   ],
   "metadata": {
    "collapsed": false,
    "ExecuteTime": {
     "end_time": "2023-12-08T05:29:41.880898Z",
     "start_time": "2023-12-08T05:29:41.686376Z"
    }
   },
   "id": "8c69eec52c8f181e"
  },
  {
   "cell_type": "code",
   "execution_count": 7,
   "outputs": [
    {
     "name": "stdout",
     "output_type": "stream",
     "text": [
      "IP_CHANNEL\n",
      "READ_Transfer_IP_Data\n",
      "PROCESS_LET_fluxbox\n",
      "PROC_CREATE_Start_Processlet\n",
      "PROCESS_LET_fluxbox\n",
      "WRITE_Access_File\n",
      "FILE_/home/admin/.mozilla/firefox/Crash_Reports/LastCrash\n",
      "READ_Access_File\n",
      "PROCESS_LET_/home/admin/Downloads/firefox/crashreporter\n",
      "WRITE_Access_File\n",
      "FILE_/home/admin/.mozilla/firefox/Crash_Reports/LastCrash\n",
      "READ_Access_File\n",
      "PROCESS_LET_fluxbox\n",
      "PROC_CREATE_Start_Processlet\n",
      "PROCESS_LET_/usr/bin/firefox\n"
     ]
    }
   ],
   "source": [
    "from algorithm import GraphWrapper, EdgeWrapper\n",
    "\n",
    "def path_to_string(graph: GraphWrapper, path: list[EdgeWrapper]):\n",
    "    source_edge = path[0]\n",
    "    source_node = graph.get_node(source_edge.get_src_id())\n",
    "    result = f'{source_node.get_type()}'\n",
    "    for edge in path:\n",
    "        node = graph.get_node(edge.get_dst_id())\n",
    "        result += f' {edge.get_token()} {node.get_token()}'\n",
    "    return result"
   ],
   "metadata": {
    "collapsed": false,
    "ExecuteTime": {
     "end_time": "2023-12-08T05:30:17.793717Z",
     "start_time": "2023-12-08T05:30:17.790295Z"
    }
   },
   "id": "8799f5185f7fae11"
  },
  {
   "cell_type": "code",
   "execution_count": 4,
   "outputs": [
    {
     "data": {
      "text/plain": "992"
     },
     "execution_count": 4,
     "metadata": {},
     "output_type": "execute_result"
    }
   ],
   "source": [
    "len(graph_entry['paths'])"
   ],
   "metadata": {
    "collapsed": false,
    "ExecuteTime": {
     "end_time": "2023-12-08T05:29:41.887633Z",
     "start_time": "2023-12-08T05:29:41.884530Z"
    }
   },
   "id": "9b7bc1014f3297f9"
  },
  {
   "cell_type": "code",
   "execution_count": 5,
   "outputs": [
    {
     "ename": "NameError",
     "evalue": "name 'path' is not defined",
     "output_type": "error",
     "traceback": [
      "\u001B[0;31m---------------------------------------------------------------------------\u001B[0m",
      "\u001B[0;31mNameError\u001B[0m                                 Traceback (most recent call last)",
      "Cell \u001B[0;32mIn[5], line 1\u001B[0m\n\u001B[0;32m----> 1\u001B[0m [p\u001B[38;5;241m.\u001B[39medge\u001B[38;5;241m.\u001B[39mmodel_dump() \u001B[38;5;28;01mfor\u001B[39;00m p \u001B[38;5;129;01min\u001B[39;00m \u001B[43mpath\u001B[49m]\n",
      "\u001B[0;31mNameError\u001B[0m: name 'path' is not defined"
     ]
    }
   ],
   "source": [
    "[p.edge.model_dump() for p in path]"
   ],
   "metadata": {
    "collapsed": false,
    "ExecuteTime": {
     "end_time": "2023-12-08T05:29:41.959516Z",
     "start_time": "2023-12-08T05:29:41.887385Z"
    }
   },
   "id": "337c51677b280ff0"
  },
  {
   "cell_type": "code",
   "execution_count": null,
   "outputs": [],
   "source": [
    "path_to_string(graph, path)"
   ],
   "metadata": {
    "collapsed": false,
    "ExecuteTime": {
     "start_time": "2023-12-08T05:29:41.957908Z"
    }
   },
   "id": "e8d95542cfd41e56"
  },
  {
   "cell_type": "code",
   "execution_count": null,
   "outputs": [],
   "source": [
    "graph.get_node(path[2].node_ids['OUT']).node.model_dump()"
   ],
   "metadata": {
    "collapsed": false,
    "ExecuteTime": {
     "start_time": "2023-12-08T05:29:41.958971Z"
    }
   },
   "id": "9140387c6bd3f232"
  }
 ],
 "metadata": {
  "kernelspec": {
   "display_name": "Python 3",
   "language": "python",
   "name": "python3"
  },
  "language_info": {
   "codemirror_mode": {
    "name": "ipython",
    "version": 2
   },
   "file_extension": ".py",
   "mimetype": "text/x-python",
   "name": "python",
   "nbconvert_exporter": "python",
   "pygments_lexer": "ipython2",
   "version": "2.7.6"
  }
 },
 "nbformat": 4,
 "nbformat_minor": 5
}
