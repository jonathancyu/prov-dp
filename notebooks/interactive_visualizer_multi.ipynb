{
 "cells": [
  {
   "cell_type": "code",
   "execution_count": 6,
   "metadata": {
    "ExecuteTime": {
     "end_time": "2024-01-27T22:02:42.035993Z",
     "start_time": "2024-01-27T22:02:42.030797Z"
    }
   },
   "outputs": [
    {
     "data": {
      "text/html": "    <style>\n        .bk-notebook-logo {\n            display: block;\n            width: 20px;\n            height: 20px;\n            background-image: url(data:image/png;base64,iVBORw0KGgoAAAANSUhEUgAAABQAAAAUCAYAAACNiR0NAAAABHNCSVQICAgIfAhkiAAAAAlwSFlzAAALEgAACxIB0t1+/AAAABx0RVh0U29mdHdhcmUAQWRvYmUgRmlyZXdvcmtzIENTNui8sowAAAOkSURBVDiNjZRtaJVlGMd/1/08zzln5zjP1LWcU9N0NkN8m2CYjpgQYQXqSs0I84OLIC0hkEKoPtiH3gmKoiJDU7QpLgoLjLIQCpEsNJ1vqUOdO7ppbuec5+V+rj4ctwzd8IIbbi6u+8f1539dt3A78eXC7QizUF7gyV1fD1Yqg4JWz84yffhm0qkFqBogB9rM8tZdtwVsPUhWhGcFJngGeWrPzHm5oaMmkfEg1usvLFyc8jLRqDOMru7AyC8saQr7GG7f5fvDeH7Ej8CM66nIF+8yngt6HWaKh7k49Soy9nXurCi1o3qUbS3zWfrYeQDTB/Qj6kX6Ybhw4B+bOYoLKCC9H3Nu/leUTZ1JdRWkkn2ldcCamzrcf47KKXdAJllSlxAOkRgyHsGC/zRday5Qld9DyoM4/q/rUoy/CXh3jzOu3bHUVZeU+DEn8FInkPBFlu3+nW3Nw0mk6vCDiWg8CeJaxEwuHS3+z5RgY+YBR6V1Z1nxSOfoaPa4LASWxxdNp+VWTk7+4vzaou8v8PN+xo+KY2xsw6une2frhw05CTYOmQvsEhjhWjn0bmXPjpE1+kplmmkP3suftwTubK9Vq22qKmrBhpY4jvd5afdRA3wGjFAgcnTK2s4hY0/GPNIb0nErGMCRxWOOX64Z8RAC4oCXdklmEvcL8o0BfkNK4lUg9HTl+oPlQxdNo3Mg4Nv175e/1LDGzZen30MEjRUtmXSfiTVu1kK8W4txyV6BMKlbgk3lMwYCiusNy9fVfvvwMxv8Ynl6vxoByANLTWplvuj/nF9m2+PDtt1eiHPBr1oIfhCChQMBw6Aw0UulqTKZdfVvfG7VcfIqLG9bcldL/+pdWTLxLUy8Qq38heUIjh4XlzZxzQm19lLFlr8vdQ97rjZVOLf8nclzckbcD4wxXMidpX30sFd37Fv/GtwwhzhxGVAprjbg0gCAEeIgwCZyTV2Z1REEW8O4py0wsjeloKoMr6iCY6dP92H6Vw/oTyICIthibxjm/DfN9lVz8IqtqKYLUXfoKVMVQVVJOElGjrnnUt9T9wbgp8AyYKaGlqingHZU/uG2NTZSVqwHQTWkx9hxjkpWDaCg6Ckj5qebgBVbT3V3NNXMSiWSDdGV3hrtzla7J+duwPOToIg42ChPQOQjspnSlp1V+Gjdged7+8UN5CRAV7a5EdFNwCjEaBR27b3W890TE7g24NAP/mMDXRWrGoFPQI9ls/MWO2dWFAar/xcOIImbbpA3zgAAAABJRU5ErkJggg==);\n        }\n    </style>\n    <div>\n        <a href=\"https://bokeh.org\" target=\"_blank\" class=\"bk-notebook-logo\"></a>\n        <span id=\"e6af4207-b49a-448f-80c0-c149cb2761b2\">Loading BokehJS ...</span>\n    </div>\n"
     },
     "metadata": {},
     "output_type": "display_data"
    },
    {
     "data": {
      "application/javascript": "(function(root) {\n  function now() {\n    return new Date();\n  }\n\n  const force = true;\n\n  if (typeof root._bokeh_onload_callbacks === \"undefined\" || force === true) {\n    root._bokeh_onload_callbacks = [];\n    root._bokeh_is_loading = undefined;\n  }\n\nconst JS_MIME_TYPE = 'application/javascript';\n  const HTML_MIME_TYPE = 'text/html';\n  const EXEC_MIME_TYPE = 'application/vnd.bokehjs_exec.v0+json';\n  const CLASS_NAME = 'output_bokeh rendered_html';\n\n  /**\n   * Render data to the DOM node\n   */\n  function render(props, node) {\n    const script = document.createElement(\"script\");\n    node.appendChild(script);\n  }\n\n  /**\n   * Handle when an output is cleared or removed\n   */\n  function handleClearOutput(event, handle) {\n    function drop(id) {\n      const view = Bokeh.index.get_by_id(id)\n      if (view != null) {\n        view.model.document.clear()\n        Bokeh.index.delete(view)\n      }\n    }\n\n    const cell = handle.cell;\n\n    const id = cell.output_area._bokeh_element_id;\n    const server_id = cell.output_area._bokeh_server_id;\n\n    // Clean up Bokeh references\n    if (id != null) {\n      drop(id)\n    }\n\n    if (server_id !== undefined) {\n      // Clean up Bokeh references\n      const cmd_clean = \"from bokeh.io.state import curstate; print(curstate().uuid_to_server['\" + server_id + \"'].get_sessions()[0].document.roots[0]._id)\";\n      cell.notebook.kernel.execute(cmd_clean, {\n        iopub: {\n          output: function(msg) {\n            const id = msg.content.text.trim()\n            drop(id)\n          }\n        }\n      });\n      // Destroy server and session\n      const cmd_destroy = \"import bokeh.io.notebook as ion; ion.destroy_server('\" + server_id + \"')\";\n      cell.notebook.kernel.execute(cmd_destroy);\n    }\n  }\n\n  /**\n   * Handle when a new output is added\n   */\n  function handleAddOutput(event, handle) {\n    const output_area = handle.output_area;\n    const output = handle.output;\n\n    // limit handleAddOutput to display_data with EXEC_MIME_TYPE content only\n    if ((output.output_type != \"display_data\") || (!Object.prototype.hasOwnProperty.call(output.data, EXEC_MIME_TYPE))) {\n      return\n    }\n\n    const toinsert = output_area.element.find(\".\" + CLASS_NAME.split(' ')[0]);\n\n    if (output.metadata[EXEC_MIME_TYPE][\"id\"] !== undefined) {\n      toinsert[toinsert.length - 1].firstChild.textContent = output.data[JS_MIME_TYPE];\n      // store reference to embed id on output_area\n      output_area._bokeh_element_id = output.metadata[EXEC_MIME_TYPE][\"id\"];\n    }\n    if (output.metadata[EXEC_MIME_TYPE][\"server_id\"] !== undefined) {\n      const bk_div = document.createElement(\"div\");\n      bk_div.innerHTML = output.data[HTML_MIME_TYPE];\n      const script_attrs = bk_div.children[0].attributes;\n      for (let i = 0; i < script_attrs.length; i++) {\n        toinsert[toinsert.length - 1].firstChild.setAttribute(script_attrs[i].name, script_attrs[i].value);\n        toinsert[toinsert.length - 1].firstChild.textContent = bk_div.children[0].textContent\n      }\n      // store reference to server id on output_area\n      output_area._bokeh_server_id = output.metadata[EXEC_MIME_TYPE][\"server_id\"];\n    }\n  }\n\n  function register_renderer(events, OutputArea) {\n\n    function append_mime(data, metadata, element) {\n      // create a DOM node to render to\n      const toinsert = this.create_output_subarea(\n        metadata,\n        CLASS_NAME,\n        EXEC_MIME_TYPE\n      );\n      this.keyboard_manager.register_events(toinsert);\n      // Render to node\n      const props = {data: data, metadata: metadata[EXEC_MIME_TYPE]};\n      render(props, toinsert[toinsert.length - 1]);\n      element.append(toinsert);\n      return toinsert\n    }\n\n    /* Handle when an output is cleared or removed */\n    events.on('clear_output.CodeCell', handleClearOutput);\n    events.on('delete.Cell', handleClearOutput);\n\n    /* Handle when a new output is added */\n    events.on('output_added.OutputArea', handleAddOutput);\n\n    /**\n     * Register the mime type and append_mime function with output_area\n     */\n    OutputArea.prototype.register_mime_type(EXEC_MIME_TYPE, append_mime, {\n      /* Is output safe? */\n      safe: true,\n      /* Index of renderer in `output_area.display_order` */\n      index: 0\n    });\n  }\n\n  // register the mime type if in Jupyter Notebook environment and previously unregistered\n  if (root.Jupyter !== undefined) {\n    const events = require('base/js/events');\n    const OutputArea = require('notebook/js/outputarea').OutputArea;\n\n    if (OutputArea.prototype.mime_types().indexOf(EXEC_MIME_TYPE) == -1) {\n      register_renderer(events, OutputArea);\n    }\n  }\n  if (typeof (root._bokeh_timeout) === \"undefined\" || force === true) {\n    root._bokeh_timeout = Date.now() + 5000;\n    root._bokeh_failed_load = false;\n  }\n\n  const NB_LOAD_WARNING = {'data': {'text/html':\n     \"<div style='background-color: #fdd'>\\n\"+\n     \"<p>\\n\"+\n     \"BokehJS does not appear to have successfully loaded. If loading BokehJS from CDN, this \\n\"+\n     \"may be due to a slow or bad network connection. Possible fixes:\\n\"+\n     \"</p>\\n\"+\n     \"<ul>\\n\"+\n     \"<li>re-rerun `output_notebook()` to attempt to load from CDN again, or</li>\\n\"+\n     \"<li>use INLINE resources instead, as so:</li>\\n\"+\n     \"</ul>\\n\"+\n     \"<code>\\n\"+\n     \"from bokeh.resources import INLINE\\n\"+\n     \"output_notebook(resources=INLINE)\\n\"+\n     \"</code>\\n\"+\n     \"</div>\"}};\n\n  function display_loaded() {\n    const el = document.getElementById(\"e6af4207-b49a-448f-80c0-c149cb2761b2\");\n    if (el != null) {\n      el.textContent = \"BokehJS is loading...\";\n    }\n    if (root.Bokeh !== undefined) {\n      if (el != null) {\n        el.textContent = \"BokehJS \" + root.Bokeh.version + \" successfully loaded.\";\n      }\n    } else if (Date.now() < root._bokeh_timeout) {\n      setTimeout(display_loaded, 100)\n    }\n  }\n\n  function run_callbacks() {\n    try {\n      root._bokeh_onload_callbacks.forEach(function(callback) {\n        if (callback != null)\n          callback();\n      });\n    } finally {\n      delete root._bokeh_onload_callbacks\n    }\n    console.debug(\"Bokeh: all callbacks have finished\");\n  }\n\n  function load_libs(css_urls, js_urls, callback) {\n    if (css_urls == null) css_urls = [];\n    if (js_urls == null) js_urls = [];\n\n    root._bokeh_onload_callbacks.push(callback);\n    if (root._bokeh_is_loading > 0) {\n      console.debug(\"Bokeh: BokehJS is being loaded, scheduling callback at\", now());\n      return null;\n    }\n    if (js_urls == null || js_urls.length === 0) {\n      run_callbacks();\n      return null;\n    }\n    console.debug(\"Bokeh: BokehJS not loaded, scheduling load and callback at\", now());\n    root._bokeh_is_loading = css_urls.length + js_urls.length;\n\n    function on_load() {\n      root._bokeh_is_loading--;\n      if (root._bokeh_is_loading === 0) {\n        console.debug(\"Bokeh: all BokehJS libraries/stylesheets loaded\");\n        run_callbacks()\n      }\n    }\n\n    function on_error(url) {\n      console.error(\"failed to load \" + url);\n    }\n\n    for (let i = 0; i < css_urls.length; i++) {\n      const url = css_urls[i];\n      const element = document.createElement(\"link\");\n      element.onload = on_load;\n      element.onerror = on_error.bind(null, url);\n      element.rel = \"stylesheet\";\n      element.type = \"text/css\";\n      element.href = url;\n      console.debug(\"Bokeh: injecting link tag for BokehJS stylesheet: \", url);\n      document.body.appendChild(element);\n    }\n\n    for (let i = 0; i < js_urls.length; i++) {\n      const url = js_urls[i];\n      const element = document.createElement('script');\n      element.onload = on_load;\n      element.onerror = on_error.bind(null, url);\n      element.async = false;\n      element.src = url;\n      console.debug(\"Bokeh: injecting script tag for BokehJS library: \", url);\n      document.head.appendChild(element);\n    }\n  };\n\n  function inject_raw_css(css) {\n    const element = document.createElement(\"style\");\n    element.appendChild(document.createTextNode(css));\n    document.body.appendChild(element);\n  }\n\n  const js_urls = [\"https://cdn.bokeh.org/bokeh/release/bokeh-3.3.4.min.js\", \"https://cdn.bokeh.org/bokeh/release/bokeh-gl-3.3.4.min.js\", \"https://cdn.bokeh.org/bokeh/release/bokeh-widgets-3.3.4.min.js\", \"https://cdn.bokeh.org/bokeh/release/bokeh-tables-3.3.4.min.js\", \"https://cdn.bokeh.org/bokeh/release/bokeh-mathjax-3.3.4.min.js\"];\n  const css_urls = [];\n\n  const inline_js = [    function(Bokeh) {\n      Bokeh.set_log_level(\"info\");\n    },\nfunction(Bokeh) {\n    }\n  ];\n\n  function run_inline_js() {\n    if (root.Bokeh !== undefined || force === true) {\n          for (let i = 0; i < inline_js.length; i++) {\n      inline_js[i].call(root, root.Bokeh);\n    }\nif (force === true) {\n        display_loaded();\n      }} else if (Date.now() < root._bokeh_timeout) {\n      setTimeout(run_inline_js, 100);\n    } else if (!root._bokeh_failed_load) {\n      console.log(\"Bokeh: BokehJS failed to load within specified timeout.\");\n      root._bokeh_failed_load = true;\n    } else if (force !== true) {\n      const cell = $(document.getElementById(\"e6af4207-b49a-448f-80c0-c149cb2761b2\")).parents('.cell').data().cell;\n      cell.output_area.append_execute_result(NB_LOAD_WARNING)\n    }\n  }\n\n  if (root._bokeh_is_loading === 0) {\n    console.debug(\"Bokeh: BokehJS loaded, going straight to plotting\");\n    run_inline_js();\n  } else {\n    load_libs(css_urls, js_urls, function() {\n      console.debug(\"Bokeh: BokehJS plotting callback run at\", now());\n      run_inline_js();\n    });\n  }\n}(window));",
      "application/vnd.bokehjs_load.v0+json": "(function(root) {\n  function now() {\n    return new Date();\n  }\n\n  const force = true;\n\n  if (typeof root._bokeh_onload_callbacks === \"undefined\" || force === true) {\n    root._bokeh_onload_callbacks = [];\n    root._bokeh_is_loading = undefined;\n  }\n\n\n  if (typeof (root._bokeh_timeout) === \"undefined\" || force === true) {\n    root._bokeh_timeout = Date.now() + 5000;\n    root._bokeh_failed_load = false;\n  }\n\n  const NB_LOAD_WARNING = {'data': {'text/html':\n     \"<div style='background-color: #fdd'>\\n\"+\n     \"<p>\\n\"+\n     \"BokehJS does not appear to have successfully loaded. If loading BokehJS from CDN, this \\n\"+\n     \"may be due to a slow or bad network connection. Possible fixes:\\n\"+\n     \"</p>\\n\"+\n     \"<ul>\\n\"+\n     \"<li>re-rerun `output_notebook()` to attempt to load from CDN again, or</li>\\n\"+\n     \"<li>use INLINE resources instead, as so:</li>\\n\"+\n     \"</ul>\\n\"+\n     \"<code>\\n\"+\n     \"from bokeh.resources import INLINE\\n\"+\n     \"output_notebook(resources=INLINE)\\n\"+\n     \"</code>\\n\"+\n     \"</div>\"}};\n\n  function display_loaded() {\n    const el = document.getElementById(\"e6af4207-b49a-448f-80c0-c149cb2761b2\");\n    if (el != null) {\n      el.textContent = \"BokehJS is loading...\";\n    }\n    if (root.Bokeh !== undefined) {\n      if (el != null) {\n        el.textContent = \"BokehJS \" + root.Bokeh.version + \" successfully loaded.\";\n      }\n    } else if (Date.now() < root._bokeh_timeout) {\n      setTimeout(display_loaded, 100)\n    }\n  }\n\n  function run_callbacks() {\n    try {\n      root._bokeh_onload_callbacks.forEach(function(callback) {\n        if (callback != null)\n          callback();\n      });\n    } finally {\n      delete root._bokeh_onload_callbacks\n    }\n    console.debug(\"Bokeh: all callbacks have finished\");\n  }\n\n  function load_libs(css_urls, js_urls, callback) {\n    if (css_urls == null) css_urls = [];\n    if (js_urls == null) js_urls = [];\n\n    root._bokeh_onload_callbacks.push(callback);\n    if (root._bokeh_is_loading > 0) {\n      console.debug(\"Bokeh: BokehJS is being loaded, scheduling callback at\", now());\n      return null;\n    }\n    if (js_urls == null || js_urls.length === 0) {\n      run_callbacks();\n      return null;\n    }\n    console.debug(\"Bokeh: BokehJS not loaded, scheduling load and callback at\", now());\n    root._bokeh_is_loading = css_urls.length + js_urls.length;\n\n    function on_load() {\n      root._bokeh_is_loading--;\n      if (root._bokeh_is_loading === 0) {\n        console.debug(\"Bokeh: all BokehJS libraries/stylesheets loaded\");\n        run_callbacks()\n      }\n    }\n\n    function on_error(url) {\n      console.error(\"failed to load \" + url);\n    }\n\n    for (let i = 0; i < css_urls.length; i++) {\n      const url = css_urls[i];\n      const element = document.createElement(\"link\");\n      element.onload = on_load;\n      element.onerror = on_error.bind(null, url);\n      element.rel = \"stylesheet\";\n      element.type = \"text/css\";\n      element.href = url;\n      console.debug(\"Bokeh: injecting link tag for BokehJS stylesheet: \", url);\n      document.body.appendChild(element);\n    }\n\n    for (let i = 0; i < js_urls.length; i++) {\n      const url = js_urls[i];\n      const element = document.createElement('script');\n      element.onload = on_load;\n      element.onerror = on_error.bind(null, url);\n      element.async = false;\n      element.src = url;\n      console.debug(\"Bokeh: injecting script tag for BokehJS library: \", url);\n      document.head.appendChild(element);\n    }\n  };\n\n  function inject_raw_css(css) {\n    const element = document.createElement(\"style\");\n    element.appendChild(document.createTextNode(css));\n    document.body.appendChild(element);\n  }\n\n  const js_urls = [\"https://cdn.bokeh.org/bokeh/release/bokeh-3.3.4.min.js\", \"https://cdn.bokeh.org/bokeh/release/bokeh-gl-3.3.4.min.js\", \"https://cdn.bokeh.org/bokeh/release/bokeh-widgets-3.3.4.min.js\", \"https://cdn.bokeh.org/bokeh/release/bokeh-tables-3.3.4.min.js\", \"https://cdn.bokeh.org/bokeh/release/bokeh-mathjax-3.3.4.min.js\"];\n  const css_urls = [];\n\n  const inline_js = [    function(Bokeh) {\n      Bokeh.set_log_level(\"info\");\n    },\nfunction(Bokeh) {\n    }\n  ];\n\n  function run_inline_js() {\n    if (root.Bokeh !== undefined || force === true) {\n          for (let i = 0; i < inline_js.length; i++) {\n      inline_js[i].call(root, root.Bokeh);\n    }\nif (force === true) {\n        display_loaded();\n      }} else if (Date.now() < root._bokeh_timeout) {\n      setTimeout(run_inline_js, 100);\n    } else if (!root._bokeh_failed_load) {\n      console.log(\"Bokeh: BokehJS failed to load within specified timeout.\");\n      root._bokeh_failed_load = true;\n    } else if (force !== true) {\n      const cell = $(document.getElementById(\"e6af4207-b49a-448f-80c0-c149cb2761b2\")).parents('.cell').data().cell;\n      cell.output_area.append_execute_result(NB_LOAD_WARNING)\n    }\n  }\n\n  if (root._bokeh_is_loading === 0) {\n    console.debug(\"Bokeh: BokehJS loaded, going straight to plotting\");\n    run_inline_js();\n  } else {\n    load_libs(css_urls, js_urls, function() {\n      console.debug(\"Bokeh: BokehJS plotting callback run at\", now());\n      run_inline_js();\n    });\n  }\n}(window));"
     },
     "metadata": {},
     "output_type": "display_data"
    }
   ],
   "source": [
    "import logging\n",
    "import os\n",
    "import socket\n",
    "from datetime import datetime\n",
    "import argparse\n",
    "\n",
    "import json\n",
    "from pathlib import Path\n",
    "import csv\n",
    "\n",
    "import numpy as np\n",
    "from tqdm import tqdm\n",
    "\n",
    "import networkx as nx\n",
    "import matplotlib.pyplot as plt\n",
    "\n",
    "import pickle\n",
    "\n",
    "from bokeh.io import show, output_notebook, push_notebook\n",
    "from bokeh.models import Circle, MultiLine\n",
    "from bokeh.plotting import figure, from_networkx, output_file, save\n",
    "output_notebook()\n",
    "\n",
    "import ipywidgets as widgets\n",
    "from IPython.display import clear_output\n",
    "\n",
    "import warnings\n",
    "warnings.filterwarnings('ignore')\n"
   ]
  },
  {
   "cell_type": "code",
   "execution_count": 2,
   "metadata": {},
   "outputs": [],
   "source": [
    "DATASET_BASE = Path('~/workspace/SyssecLab/data')\n",
    "\n",
    "DATASET_PATHS = [\n",
    "    DATASET_BASE / 'input',\n",
    "    DATASET_BASE / 'output'\n",
    "]"
   ]
  },
  {
   "cell_type": "code",
   "execution_count": 3,
   "metadata": {},
   "outputs": [],
   "source": [
    "color_dict = {\n",
    "    'SocketChannelNode': 'yellow',\n",
    "    'FileNode': 'pink',\n",
    "    'ProcessNode': 'green',\n",
    "}\n",
    "\n",
    "attr_dict = {\n",
    "    'SocketChannelNode': 'REMOTE_INET_ADDR',\n",
    "    'FileNode': 'FILENAME_SET',\n",
    "    'ProcessNode': 'CMD',\n",
    "}\n",
    "\n",
    "graph_physical_features = [\n",
    "    'clustering_coefficient', 'clustering_triangles', 'degree_centrality',\n",
    "    'betweenness_centrality', 'closeness_centrality', 'eigenvector_centrality'\n",
    "]"
   ]
  },
  {
   "cell_type": "code",
   "execution_count": 4,
   "metadata": {},
   "outputs": [
    {
     "data": {
      "application/vnd.jupyter.widget-view+json": {
       "model_id": "5195e857e19f4a2181a1d4adef7ab260",
       "version_major": 2,
       "version_minor": 0
      },
      "text/plain": [
       "interactive(children=(Dropdown(description='dataset_path', options=(PosixPath('/syssec-nas1/prov-research/data…"
      ]
     },
     "metadata": {},
     "output_type": "display_data"
    }
   ],
   "source": [
    "def load_labels(dataset_path: Path) -> tuple[Path, dict[str, str]]:\n",
    "    with (dataset_path / 'graph_labels.pickle').open('rb') as f:\n",
    "        return dataset_path, pickle.load(f)\n",
    "\n",
    "dataset_picker = widgets.interactive(load_labels,\n",
    "                                     dataset_path=DATASET_PATHS)\n",
    "display(dataset_picker)"
   ]
  },
  {
   "cell_type": "code",
   "execution_count": 21,
   "metadata": {},
   "outputs": [
    {
     "data": {
      "application/vnd.jupyter.widget-view+json": {
       "model_id": "13a8370acd844a1c9a9b6db58a39a429",
       "version_major": 2,
       "version_minor": 0
      },
      "text/plain": [
       "interactive(children=(Dropdown(description='label', options=('A', 'B', 'C', 'D', 'E', 'F'), value='A'), Output…"
      ]
     },
     "metadata": {},
     "output_type": "display_data"
    }
   ],
   "source": [
    "dataset_path, graph_labels = dataset_picker.result\n",
    "\n",
    "unique_labels = sorted(set(graph_labels.values()))\n",
    "\n",
    "def filter_by_label(label: str) -> list[Path]:\n",
    "    all_examples = []\n",
    "    for split in ['train', 'test', 'validation']:\n",
    "        examples_in_split = [candidate / 'graph.json' for candidate in (dataset_path / split).iterdir() if graph_labels.get(candidate.name, None) == label]\n",
    "        all_examples.extend(examples_in_split)\n",
    "    return all_examples\n",
    "\n",
    "label_picker = widgets.interactive(filter_by_label, label=unique_labels)\n",
    "display(label_picker)"
   ]
  },
  {
   "cell_type": "code",
   "execution_count": 39,
   "metadata": {},
   "outputs": [],
   "source": [
    "def networkXconverterNoFeatures(graph_json_path):\n",
    "    '''\n",
    "    functions takes in the json of asi-sv graph\n",
    "    and converts it to NetworkX graph\n",
    "    does not import node or edge features\n",
    "\n",
    "    :param PATH: json file path\n",
    "    :return: directed graph\n",
    "    '''\n",
    "\n",
    "    directed_graph = nx.DiGraph()\n",
    "\n",
    "    try:\n",
    "        # read the json file\n",
    "        data = open(graph_json_path, 'r')\n",
    "        loaded_data = json.load(data)\n",
    "\n",
    "        node_color_dict = {}\n",
    "        node_label_dict = {}\n",
    "        node_type_dict = {}\n",
    "\n",
    "        # get the vertices index and add it to the graph\n",
    "        for v in loaded_data['vertices']:\n",
    "\n",
    "            node_id = int(v['_id'])\n",
    "            node_type = v['TYPE']['value']\n",
    "\n",
    "            try:\n",
    "                node_data = v[attr_dict[node_type]]['value'][0]['value']\n",
    "            except TypeError:\n",
    "                node_data = v[attr_dict[node_type]]['value']\n",
    "            except IndexError:\n",
    "                node_data = v[attr_dict[node_type]]['value']\n",
    "            except KeyError:\n",
    "                node_data = ''\n",
    "\n",
    "            # print(f'{node_id} {node_type} {color_dict[node_type]} {node_data}')\n",
    "\n",
    "            node_color_dict[node_id] = color_dict[node_type]\n",
    "            node_label_dict[node_id] = node_data  # str(node_id)\n",
    "            node_type_dict[node_id] = node_type\n",
    "            directed_graph.add_node(node_id)\n",
    "\n",
    "        # get the edge index (src, dst) and add it to the graph\n",
    "        for e in loaded_data['edges']:\n",
    "            directed_graph.add_edge(int(e['_outV']), int(e['_inV']))\n",
    "\n",
    "        # log.info(f\"# nodes: {directed_graph.number_of_nodes()} # edges: {directed_graph.number_of_edges()}\")\n",
    "\n",
    "        # return the filled graph\n",
    "        return directed_graph, node_color_dict, node_label_dict, node_type_dict\n",
    "    except UnicodeDecodeError:\n",
    "        #log.info(f'.json graph error: {graph_json_path}')\n",
    "        return [], [], [], []\n",
    "    \n",
    "def bokehPlot(G, node_color_dict, node_label_dict, path, save_graph: bool = False):\n",
    "\n",
    "    title = path.name\n",
    "\n",
    "    # Establish which categories will appear when hovering over each node\n",
    "    HOVER_TOOLTIPS = [('data', '@label'),\n",
    "                      ('clustering_coefficient', '@clustering_coefficient'),\n",
    "                      ('triangles', '@clustering_triangles'),\n",
    "                      ('degree_centrality', '@degree_centrality'),\n",
    "                      ('betweenness_centrality', '@betweenness_centrality'),\n",
    "                      ('closeness_centrality', '@closeness_centrality'),\n",
    "                      ('eigenvector_centrality', '@eigenvector_centrality')]\n",
    "\n",
    "    # Create a plot — set dimensions, toolbar, and title\n",
    "    plot = figure(tooltips=HOVER_TOOLTIPS,\n",
    "                  tools='pan,wheel_zoom,save,reset',\n",
    "                  active_scroll='wheel_zoom',\n",
    "                  title=title)\n",
    "    plot.xgrid.grid_line_color = None\n",
    "    plot.ygrid.grid_line_color = None\n",
    "\n",
    "    network_graph = from_networkx(G, nx.nx_pydot.graphviz_layout(G))\n",
    "    # Add stuff\n",
    "    with open(path / 'graph_properties_ext.json') as ext_graph_data:\n",
    "        graph_data = json.load(ext_graph_data)\n",
    "\n",
    "        for feat in graph_physical_features:\n",
    "            if feat == 'eigenvector_centrality' and 'error' in list(\n",
    "                    graph_data[feat].keys()):\n",
    "                print(graph_data[feat])\n",
    "                graph_data[feat] = {\n",
    "                    k: 0\n",
    "                    for k in graph_data['closeness_centrality'].keys()\n",
    "                }\n",
    "\n",
    "            network_graph.node_renderer.data_source.data[feat] = list(\n",
    "                graph_data[feat].values())\n",
    "\n",
    "        network_graph.node_renderer.data_source.data['index'] = list(\n",
    "            node_color_dict.keys())\n",
    "        network_graph.node_renderer.data_source.data['label'] = list(\n",
    "            node_label_dict.values())\n",
    "        network_graph.node_renderer.data_source.data['colors'] = list(\n",
    "            node_color_dict.values())\n",
    "\n",
    "        # Set node size and color\n",
    "        network_graph.node_renderer.glyph = Circle(size=15,\n",
    "                                                   fill_color='colors')\n",
    "\n",
    "    # Set edge opacity and width\n",
    "    network_graph.edge_renderer.glyph = MultiLine(line_alpha=0.5, line_width=1)\n",
    "\n",
    "    # Add network graph to the plot\n",
    "    plot.renderers.append(network_graph)\n",
    "\n",
    "    if save_graph:\n",
    "        out_file = Path(f'{dataset_path.name}/{label_picker.kwargs[\"label\"]}/{title}.html')\n",
    "        out_file.parent.mkdir(parents=True, exist_ok=True)\n",
    "        save(plot, str(out_file.resolve()))\n",
    "    else:\n",
    "        show(plot, notebook_handle=True)\n"
   ]
  },
  {
   "cell_type": "code",
   "execution_count": 40,
   "metadata": {},
   "outputs": [
    {
     "data": {
      "text/html": [
       "\n",
       "  <div id=\"ddf697bd-452b-4c81-a4a8-a6ea5666295a\" data-root-id=\"p4409\" style=\"display: contents;\"></div>\n"
      ]
     },
     "metadata": {},
     "output_type": "display_data"
    },
    {
     "data": {
      "application/javascript": "(function(root) {\n  function embed_document(root) {\n  const docs_json = {\"862205c0-98c3-4cfd-b027-ce4203c94246\":{\"version\":\"3.3.2\",\"title\":\"Bokeh Application\",\"roots\":[{\"type\":\"object\",\"name\":\"Figure\",\"id\":\"p4409\",\"attributes\":{\"x_range\":{\"type\":\"object\",\"name\":\"DataRange1d\",\"id\":\"p4410\"},\"y_range\":{\"type\":\"object\",\"name\":\"DataRange1d\",\"id\":\"p4411\"},\"x_scale\":{\"type\":\"object\",\"name\":\"LinearScale\",\"id\":\"p4419\"},\"y_scale\":{\"type\":\"object\",\"name\":\"LinearScale\",\"id\":\"p4420\"},\"title\":{\"type\":\"object\",\"name\":\"Title\",\"id\":\"p4412\",\"attributes\":{\"text\":\"nd_231031_2050_33\"}},\"renderers\":[{\"type\":\"object\",\"name\":\"GraphRenderer\",\"id\":\"p4436\",\"attributes\":{\"layout_provider\":{\"type\":\"object\",\"name\":\"StaticLayoutProvider\",\"id\":\"p4453\",\"attributes\":{\"graph_layout\":{\"type\":\"map\",\"entries\":[[88,[206.97,300.28]],[89,[333.58,103.9]],[110,[123.73,68.05]],[111,[200.43,371.95]],[112,[304.26,121.98]],[113,[210.55,223.51]],[114,[200.79,210.98]],[115,[206.32,190.9]],[116,[184.07,113.4]],[90,[320.67,93.172]],[117,[301.24,97.913]],[91,[154.82,376.4]],[118,[349.23,107.94]],[92,[269.9,363.26]],[119,[286.95,343.2]],[93,[107.66,334.56]],[94,[342.68,92.108]],[95,[229.45,105.36]],[96,[191.55,84.137]],[97,[200.92,223.67]],[10,[113.6,102.2]],[98,[191.37,211.2]],[11,[290.53,164.94]],[99,[344.9,180.82]],[12,[202.26,390.71]],[13,[325.38,70.742]],[14,[80.633,204.58]],[15,[183.98,132.93]],[16,[276.55,62.67]],[17,[192.91,123.48]],[18,[282.99,252.51]],[19,[215.77,193.66]],[120,[240.61,39.372]],[0,[222.69,234.57]],[121,[341.32,156.22]],[1,[189.24,274.1]],[122,[236.71,371.58]],[2,[68.158,174.65]],[123,[139.14,297.35]],[3,[73.623,131.49]],[124,[311.65,223.5]],[4,[180.86,367.25]],[125,[98.978,153.59]],[5,[89.875,219.64]],[126,[286.71,366.06]],[6,[232.6,72.32]],[127,[100.78,233.93]],[7,[150.49,269.87]],[128,[203.45,137.43]],[8,[276.01,377.2]],[129,[186.32,200.43]],[9,[342.21,138.44]],[20,[343.46,214.2]],[21,[334.47,222.13]],[22,[329.96,170.22]],[23,[223.96,211.93]],[24,[235.82,53.552]],[25,[213.34,232.15]],[26,[85.998,212.09]],[27,[168.9,382.29]],[28,[258.78,148.92]],[29,[324.21,228.8]],[130,[226.06,41.73]],[131,[358.77,159.57]],[132,[333.95,120.51]],[133,[251.03,82.929]],[134,[288.04,144.47]],[135,[357.06,145.24]],[136,[315.63,61.1]],[137,[104.02,128.52]],[138,[123.48,353.61]],[139,[231.07,236.12]],[30,[371.37,124.17]],[31,[79.858,118.15]],[32,[273.29,85.889]],[33,[159.56,171.45]],[34,[253.47,367.01]],[35,[263.39,47.535]],[36,[85.9,104.32]],[37,[227.03,199.59]],[38,[221.64,88.398]],[39,[94.826,91.579]],[140,[318.58,134.95]],[141,[132.56,256.18]],[142,[218.96,372.77]],[143,[319.24,213.49]],[144,[141.49,263.72]],[145,[184.69,387.61]],[146,[293.75,183.11]],[147,[136.7,354.93]],[148,[339.13,200.76]],[149,[189.67,192.35]],[40,[358.65,172.48]],[41,[322.66,197.04]],[42,[179.52,120.75]],[43,[291.14,73.817]],[44,[226.34,222.88]],[45,[187.97,223.38]],[46,[194.5,135.97]],[47,[197.8,190.76]],[48,[84.94,193.88]],[49,[239.63,389.16]],[150,[131.59,263.85]],[151,[217.51,50.186]],[152,[269.79,253.78]],[153,[351.68,124.8]],[154,[235.99,215.21]],[155,[530.95,119.8]],[156,[458.96,135.29]],[157,[520.64,206.49]],[158,[522.81,85.446]],[159,[531.76,153.79]],[50,[205.72,90.899]],[51,[27.0,301.15]],[52,[211.67,68.686]],[53,[69.587,160.25]],[54,[39.419,325.77]],[55,[267.11,125.88]],[56,[304.68,55.265]],[57,[57.814,354.27]],[58,[259.66,105.52]],[59,[253.47,38.332]],[160,[510.31,56.942]],[161,[398.93,18.0]],[162,[457.27,120.62]],[163,[496.1,33.274]],[164,[527.43,182.3]],[60,[277.54,248.52]],[61,[238.54,233.07]],[62,[241.78,116.73]],[63,[356.7,187.57]],[64,[69.828,190.12]],[65,[294.84,49.518]],[66,[94.15,227.1]],[67,[352.02,200.92]],[68,[99.994,112.39]],[69,[308.76,76.57]],[70,[123.27,78.758]],[71,[192.25,72.39]],[72,[116.35,343.49]],[73,[90.449,180.78]],[74,[272.22,39.396]],[75,[220.79,391.24]],[76,[157.48,359.72]],[77,[206.18,52.02]],[78,[272.48,242.18]],[79,[302.69,202.76]],[100,[197.26,61.465]],[101,[312.88,180.79]],[102,[308.54,337.67]],[103,[296.77,359.75]],[104,[284.06,45.11]],[105,[139.12,369.25]],[106,[253.74,61.292]],[80,[211.96,209.25]],[107,[108.38,76.202]],[81,[239.63,224.13]],[108,[257.84,384.31]],[82,[110.21,88.066]],[109,[70.904,146.65]],[83,[284.96,111.9]],[84,[88.883,138.93]],[85,[333.91,80.701]],[86,[91.676,167.03]],[87,[312.29,154.43]]]}}},\"node_renderer\":{\"type\":\"object\",\"name\":\"GlyphRenderer\",\"id\":\"p4441\",\"attributes\":{\"data_source\":{\"type\":\"object\",\"name\":\"ColumnDataSource\",\"id\":\"p4438\",\"attributes\":{\"selected\":{\"type\":\"object\",\"name\":\"Selection\",\"id\":\"p4439\",\"attributes\":{\"indices\":[],\"line_indices\":[]}},\"selection_policy\":{\"type\":\"object\",\"name\":\"UnionRenderers\",\"id\":\"p4440\"},\"data\":{\"type\":\"map\",\"entries\":[[\"index\",[88,89,110,111,112,113,114,115,116,90,117,91,118,92,119,93,94,95,96,97,10,98,11,99,12,13,14,15,16,17,18,19,120,0,121,1,122,2,123,3,124,4,125,5,126,6,127,7,128,8,129,9,20,21,22,23,24,25,26,27,28,29,130,131,132,133,134,135,136,137,138,139,30,31,32,33,34,35,36,37,38,39,140,141,142,143,144,145,146,147,148,149,40,41,42,43,44,45,46,47,48,49,150,151,152,153,154,155,156,157,158,159,50,51,52,53,54,55,56,57,58,59,160,161,162,163,164,60,61,62,63,64,65,66,67,68,69,70,71,72,73,74,75,76,77,78,79,100,101,102,103,104,105,106,80,107,81,108,82,109,83,84,85,86,87]],[\"clustering_coefficient\",[0.00641025641025641,0,0,0,0,0.25,0.25,0.16666666666666666,0.5,0,0,0,0,0,0,0,0,0,0,0.25,0,0.25,0,0,0,0,0,0.5,0,0.5,0,0.16666666666666666,0,0.25,0,0.08157894736842106,0,0,0.05,0,0,0,0,0,0,0,0,0.3333333333333333,0.5,0,0.16666666666666666,0,0,0,0,0.25,0,0.25,0,0,0.0029115341545352742,0,0,0,0,0,0,0,0,0,0,0.25,0,0,0,0.012844611528822054,0,0,0,0.16666666666666666,0,0,0,0,0,0,0,0,0,0,0,0.16666666666666666,0,0,0.5,0,0.25,0.2,0.5,0.16666666666666666,0,0,0,0,0.16666666666666666,0,0.25,0,0,0,0,0,0,0,0,0,0,0,0,0,0,0,0,0,0,0,0,0,0.25,0,0,0,0,0,0,0,0,0,0,0,0,0,0,0,0,0,0,0,0,0,0,0,0,0,0.25,0,0.25,0,0,0,0,0,0,0,0]],[\"clustering_triangles\",[17,0,0,0,0,3,3,1,1,0,0,0,0,0,0,0,0,0,0,3,0,3,0,0,0,0,0,1,0,1,0,1,0,3,0,31,0,0,1,0,0,0,0,0,0,0,0,2,1,0,1,0,0,0,0,3,0,3,0,0,26,0,0,0,0,0,0,0,0,0,0,3,0,0,0,41,0,0,0,1,0,0,0,0,0,0,0,0,0,0,0,1,0,0,1,0,3,4,1,1,0,0,0,0,1,0,3,0,0,0,0,0,0,0,0,0,0,0,0,0,0,0,0,0,0,0,0,0,3,0,0,0,0,0,0,0,0,0,0,0,0,0,0,0,0,0,0,0,0,0,0,0,0,0,3,0,3,0,0,0,0,0,0,0,0]],[\"degree_centrality\",[0.3170731707317073,0.006097560975609756,0.006097560975609756,0.006097560975609756,0.006097560975609756,0.024390243902439025,0.024390243902439025,0.01829268292682927,0.012195121951219513,0.006097560975609756,0.006097560975609756,0.006097560975609756,0.006097560975609756,0.006097560975609756,0.006097560975609756,0.006097560975609756,0.006097560975609756,0.006097560975609756,0.006097560975609756,0.024390243902439025,0.006097560975609756,0.024390243902439025,0.006097560975609756,0.006097560975609756,0.006097560975609756,0.006097560975609756,0.006097560975609756,0.012195121951219513,0.006097560975609756,0.012195121951219513,0.012195121951219513,0.01829268292682927,0.006097560975609756,0.024390243902439025,0.006097560975609756,0.12195121951219512,0.006097560975609756,0.006097560975609756,0.03048780487804878,0.006097560975609756,0.006097560975609756,0.006097560975609756,0.006097560975609756,0.006097560975609756,0.006097560975609756,0.006097560975609756,0.006097560975609756,0.01829268292682927,0.012195121951219513,0.006097560975609756,0.01829268292682927,0.006097560975609756,0.006097560975609756,0.006097560975609756,0.006097560975609756,0.024390243902439025,0.006097560975609756,0.024390243902439025,0.006097560975609756,0.006097560975609756,0.5792682926829269,0.006097560975609756,0.006097560975609756,0.006097560975609756,0.006097560975609756,0.006097560975609756,0.006097560975609756,0.006097560975609756,0.006097560975609756,0.006097560975609756,0.006097560975609756,0.024390243902439025,0.024390243902439025,0.006097560975609756,0.006097560975609756,0.34756097560975613,0.006097560975609756,0.006097560975609756,0.006097560975609756,0.01829268292682927,0.006097560975609756,0.006097560975609756,0.006097560975609756,0.012195121951219513,0.006097560975609756,0.006097560975609756,0.012195121951219513,0.006097560975609756,0.006097560975609756,0.006097560975609756,0.006097560975609756,0.01829268292682927,0.006097560975609756,0.006097560975609756,0.012195121951219513,0.006097560975609756,0.024390243902439025,0.03048780487804878,0.012195121951219513,0.01829268292682927,0.006097560975609756,0.006097560975609756,0.012195121951219513,0.006097560975609756,0.01829268292682927,0.006097560975609756,0.024390243902439025,0.024390243902439025,0.07317073170731708,0.01829268292682927,0.024390243902439025,0.024390243902439025,0.006097560975609756,0.006097560975609756,0.006097560975609756,0.006097560975609756,0.006097560975609756,0.006097560975609756,0.006097560975609756,0.006097560975609756,0.006097560975609756,0.006097560975609756,0.01829268292682927,0.006097560975609756,0.09146341463414634,0.024390243902439025,0.01829268292682927,0.012195121951219513,0.024390243902439025,0.006097560975609756,0.006097560975609756,0.006097560975609756,0.006097560975609756,0.006097560975609756,0.006097560975609756,0.006097560975609756,0.006097560975609756,0.006097560975609756,0.006097560975609756,0.006097560975609756,0.006097560975609756,0.006097560975609756,0.006097560975609756,0.006097560975609756,0.006097560975609756,0.012195121951219513,0.006097560975609756,0.006097560975609756,0.006097560975609756,0.006097560975609756,0.006097560975609756,0.006097560975609756,0.006097560975609756,0.006097560975609756,0.024390243902439025,0.006097560975609756,0.024390243902439025,0.006097560975609756,0.006097560975609756,0.006097560975609756,0.006097560975609756,0.006097560975609756,0.006097560975609756,0.006097560975609756,0.006097560975609756]],[\"betweenness_centrality\",[379.0,0.0,0.0,0.0,0.0,0.0,0.0,0.0,0.0,0.0,0.0,0.0,0.0,0.0,0.0,0.0,0.0,0.0,0.0,0.0,0.0,0.0,0.0,0.0,0.0,0.0,0.0,0.0,0.0,0.0,0.0,0.0,0.0,0.0,0.0,381.0,0.0,0.0,45.0,0.0,0.0,0.0,0.0,0.0,0.0,0.0,0.0,0.0,0.0,0.0,0.0,0.0,0.0,0.0,0.0,0.0,0.0,0.0,0.0,0.0,1683.0,0.0,0.0,0.0,0.0,0.0,0.0,0.0,0.0,0.0,0.0,0.0,1540.0,0.0,0.0,708.0,0.0,0.0,0.0,0.0,0.0,0.0,0.0,0.0,0.0,0.0,0.0,0.0,0.0,0.0,0.0,0.0,0.0,0.0,0.0,0.0,0.0,0.0,0.0,0.0,0.0,0.0,0.0,0.0,0.0,0.0,0.0,1.1428571428571428,322.0,0.14285714285714285,1.1428571428571428,1.1428571428571428,0.0,0.0,0.0,0.0,0.0,0.0,0.0,0.0,0.0,0.0,0.14285714285714285,0.0,808.0,1.1428571428571428,0.14285714285714285,0.0,0.0,0.0,0.0,0.0,0.0,0.0,0.0,0.0,0.0,0.0,0.0,0.0,0.0,0.0,0.0,0.0,0.0,0.0,0.0,0.0,0.0,0.0,0.0,0.0,0.0,0.0,0.0,0.0,0.0,0.0,0.0,0.0,0.0,0.0,0.0,0.0,0.0]],[\"closeness_centrality\",[0.3119383825417201,0.0,0.0,0.0,0.0,0.0,0.0,0.0,0.0,0.0,0.0,0.0,0.0,0.0,0.0,0.0,0.0,0.0,0.0,0.0,0.0,0.0,0.0,0.0,0.0,0.0,0.0,0.0,0.0,0.0,0.0,0.0,0.0,0.0,0.0,0.20215281234444996,0.0,0.0,0.024390243902439025,0.0,0.0,0.0,0.0,0.0,0.0,0.0,0.0,0.0,0.0,0.0,0.0,0.0,0.0,0.0,0.0,0.0,0.0,0.0,0.0,0.0,0.5286585365853659,0.0,0.0,0.0,0.0,0.0,0.0,0.0,0.0,0.0,0.0,0.0,0.34106074551311544,0.0,0.0,0.31362844472600576,0.0,0.0,0.0,0.0,0.0,0.0,0.0,0.0,0.0,0.0,0.0,0.0,0.0,0.0,0.0,0.0,0.0,0.0,0.0,0.0,0.0,0.0,0.0,0.0,0.0,0.0,0.0,0.0,0.0,0.0,0.0,0.21658569192643798,0.27552057408329184,0.2160081300813008,0.21658569192643798,0.21658569192643798,0.0,0.0,0.0,0.0,0.0,0.0,0.0,0.0,0.0,0.0,0.2160081300813008,0.2530119213109229,0.27552057408329184,0.21658569192643798,0.2160081300813008,0.0,0.0,0.0,0.0,0.0,0.0,0.0,0.0,0.0,0.0,0.0,0.0,0.0,0.0,0.0,0.0,0.0,0.0,0.0,0.0,0.0,0.0,0.0,0.0,0.0,0.0,0.0,0.0,0.0,0.0,0.0,0.0,0.0,0.0,0.0,0.0,0.0,0.0]],[\"eigenvector_centrality\",[3.517809771338122e-09,2.491366693582235e-12,2.491366693582235e-12,2.491366693582235e-12,2.491366693582235e-12,2.491366693582235e-12,2.491366693582235e-12,2.491366693582235e-12,2.491366693582235e-12,2.491366693582235e-12,2.491366693582235e-12,2.491366693582235e-12,2.491366693582235e-12,2.491366693582235e-12,2.491366693582235e-12,2.491366693582235e-12,2.491366693582235e-12,2.491366693582235e-12,2.491366693582235e-12,2.491366693582235e-12,2.491366693582235e-12,2.491366693582235e-12,2.491366693582235e-12,2.491366693582235e-12,2.491366693582235e-12,2.491366693582235e-12,2.491366693582235e-12,2.491366693582235e-12,2.491366693582235e-12,2.491366693582235e-12,2.491366693582235e-12,2.491366693582235e-12,2.491366693582235e-12,2.491366693582235e-12,2.491366693582235e-12,2.4863839601950755e-08,2.491366693582235e-12,2.491366693582235e-12,1.7190430185717425e-10,2.491366693582235e-12,2.491366693582235e-12,2.491366693582235e-12,2.491366693582235e-12,2.491366693582235e-12,2.491366693582235e-12,2.491366693582235e-12,2.491366693582235e-12,2.491366693582235e-12,2.491366693582235e-12,2.491366693582235e-12,2.491366693582235e-12,2.491366693582235e-12,2.491366693582235e-12,2.491366693582235e-12,2.491366693582235e-12,2.491366693582235e-12,2.491366693582235e-12,2.491366693582235e-12,2.491366693582235e-12,2.491366693582235e-12,4.1921479942900466e-07,2.491366693582235e-12,2.491366693582235e-12,2.491366693582235e-12,2.491366693582235e-12,2.491366693582235e-12,2.491366693582235e-12,2.491366693582235e-12,2.491366693582235e-12,2.491366693582235e-12,2.491366693582235e-12,2.491366693582235e-12,1.1490033708799688e-06,2.491366693582235e-12,2.491366693582235e-12,1.1893037185153564e-07,2.491366693582235e-12,2.491366693582235e-12,2.491366693582235e-12,2.491366693582235e-12,2.491366693582235e-12,2.491366693582235e-12,2.491366693582235e-12,2.491366693582235e-12,2.491366693582235e-12,2.491366693582235e-12,2.491366693582235e-12,2.491366693582235e-12,2.491366693582235e-12,2.491366693582235e-12,2.491366693582235e-12,2.491366693582235e-12,2.491366693582235e-12,2.491366693582235e-12,2.491366693582235e-12,2.491366693582235e-12,2.491366693582235e-12,2.491366693582235e-12,2.491366693582235e-12,2.491366693582235e-12,2.491366693582235e-12,2.491366693582235e-12,2.491366693582235e-12,2.491366693582235e-12,2.491366693582235e-12,2.491366693582235e-12,2.491366693582235e-12,0.31234299579719277,0.5179762550681645,0.15617149789984208,0.31234299579719277,0.31234299579719277,2.491366693582235e-12,2.491366693582235e-12,2.491366693582235e-12,2.491366693582235e-12,2.491366693582235e-12,2.491366693582235e-12,2.491366693582235e-12,2.491366693582235e-12,2.491366693582235e-12,2.491366693582235e-12,0.15617149789984208,2.5508954093586932e-06,0.5179762550681645,0.31234299579719277,0.15617149789984208,2.491366693582235e-12,2.491366693582235e-12,2.491366693582235e-12,2.491366693582235e-12,2.491366693582235e-12,2.491366693582235e-12,2.491366693582235e-12,2.491366693582235e-12,2.491366693582235e-12,2.491366693582235e-12,2.491366693582235e-12,2.491366693582235e-12,2.491366693582235e-12,2.491366693582235e-12,2.491366693582235e-12,2.491366693582235e-12,2.491366693582235e-12,2.491366693582235e-12,2.491366693582235e-12,2.491366693582235e-12,2.491366693582235e-12,2.491366693582235e-12,2.491366693582235e-12,2.491366693582235e-12,2.491366693582235e-12,2.491366693582235e-12,2.491366693582235e-12,2.491366693582235e-12,2.491366693582235e-12,2.491366693582235e-12,2.491366693582235e-12,2.491366693582235e-12,2.491366693582235e-12,2.491366693582235e-12,2.491366693582235e-12,2.491366693582235e-12,2.491366693582235e-12,2.491366693582235e-12]],[\"label\",[\"C:\\\\WINDOWS\\\\System32\\\\WinLogon.exe -SpecialSession\",\"13.249.109.108\",\"C:\\\\WINDOWS\\\\SYSTEM32\\\\PROPSYS.DLL\",\"C:\\\\WINDOWS\\\\SYSTEM32\\\\MSCTF.DLL\",\"C:\\\\WINDOWS\\\\SYSTEM32\\\\PSAPI.DLL\",\"C:\\\\WINDOWS\\\\SYSTEM32\\\\SECHOST.DLL\",\"C:\\\\WINDOWS\\\\SYSTEM32\\\\KERNELBASE.DLL\",\"C:\\\\WINDOWS\\\\SYSTEM32\\\\CRYPTSP.DLL\",\"C:\\\\WINDOWS\\\\SYSTEM32\\\\SHELL32.DLL\",\"13.249.79.101\",\"127.0.0.1\",\"C:\\\\WINDOWS\\\\SYSTEM32\\\\WINSTA.DLL\",\"168.62.224.13\",\"C:\\\\WINDOWS\\\\SYSTEM32\\\\PROFEXT.DLL\",\"C:\\\\WINDOWS\\\\SYSTEM32\\\\USERINIT.EXE\",\"C:\\\\WINDOWS\\\\SYSTEM32\\\\CRYPT32.DLL\",\"C:\\\\PROGRAM FILES\\\\JETBRAINS\\\\INTELLIJ IDEA COMMUNITY EDITION 2021.2.1\\\\JBR\\\\BIN\\\\ZIP.DLL\",\"C:\\\\WINDOWS\\\\SYSTEM32\\\\DBGCORE.DLL\",\"C:\\\\WINDOWS\\\\SYSTEM32\\\\WINHTTP.DLL\",\"C:\\\\WINDOWS\\\\SYSTEM32\\\\USER32.DLL\",\"C:\\\\WINDOWS\\\\SYSTEM32\\\\WTSAPI32.DLL\",\"C:\\\\WINDOWS\\\\SYSTEM32\\\\UCRTBASE.DLL\",\"10.176.150.102\",\"13.249.79.20\",\"C:\\\\WINDOWS\\\\CURSORS\\\\AERO_UP.CUR\",\"127.0.0.1\",\"C:\\\\WINDOWS\\\\SYSTEM32\\\\COREUICOMPONENTS.DLL\",\"C:\\\\WINDOWS\\\\SYSTEM32\\\\WLDP.DLL\",\"127.0.0.1\",\"C:\\\\WINDOWS\\\\SYSTEM32\\\\WINDOWS.STORAGE.DLL\",\"C:\\\\WINDOWS\\\\SYSTEM32\\\\BCRYPTPRIMITIVES.DLL\",\"C:\\\\WINDOWS\\\\SYSTEM32\\\\ADVAPI32.DLL\",\"127.0.0.1\",\"C:\\\\WINDOWS\\\\SYSTEM32\\\\MSVCRT.DLL\",\"127.0.0.1\",\"C:\\\\WINDOWS\\\\system32\\\\userinit.exe\",\"C:\\\\WINDOWS\\\\SYSTEM32\\\\FIREWALLAPI.DLL\",\"C:\\\\WINDOWS\\\\SYSTEM32\\\\TWINAPI.DLL\",\"\\\\SystemRoot\\\\System32\\\\smss.exe 000000f4 00000084 C:\\\\\\\\WINDOWS\\\\\\\\System32\\\\\\\\WinLogon.exe -SpecialSession\",\"C:\\\\WINDOWS\\\\SYSTEM32\\\\DXGI.DLL\",\"13.249.79.101\",\"C:\\\\WINDOWS\\\\SYSTEM32\\\\DNSAPI.DLL\",\"C:\\\\WINDOWS\\\\SYSTEM32\\\\AEPIC.DLL\",\"C:\\\\WINDOWS\\\\SYSTEM32\\\\THUMBCACHE.DLL\",\"C:\\\\WINDOWS\\\\CURSORS\\\\AERO_NWSE.CUR\",\"13.249.109.22\",\"C:\\\\WINDOWS\\\\SYSTEM32\\\\COREMESSAGING.DLL\",\"C:\\\\WINDOWS\\\\SYSTEM32\\\\UXTHEME.DLL\",\"C:\\\\WINDOWS\\\\SYSTEM32\\\\KERNEL.APPCORE.DLL\",\"C:\\\\WINDOWS\\\\SYSTEM32\\\\APPHELP.DLL\",\"C:\\\\WINDOWS\\\\SYSTEM32\\\\BCRYPT.DLL\",\"127.0.0.1\",\"C:\\\\WINDOWS\\\\SYSTEM32\\\\WINMM.DLL\",\"C:\\\\PROGRAM FILES\\\\JETBRAINS\\\\INTELLIJ IDEA COMMUNITY EDITION 2021.2.1\\\\JBR\\\\BIN\\\\SUNEC.DLL\",\"C:\\\\WINDOWS\\\\SYSTEM32\\\\WSOCK32.DLL\",\"C:\\\\WINDOWS\\\\SYSTEM32\\\\COMBASE.DLL\",\"C:\\\\PROGRAM FILES\\\\JETBRAINS\\\\INTELLIJ IDEA COMMUNITY EDITION 2021.2.1\\\\JBR\\\\BIN\\\\AWT.DLL\",\"C:\\\\WINDOWS\\\\SYSTEM32\\\\WIN32U.DLL\",\"C:\\\\WINDOWS\\\\SYSTEM32\\\\TWINAPI.APPCORE.DLL\",\"C:\\\\WINDOWS\\\\CURSORS\\\\AERO_BUSY.ANI\",\"C:\\\\Program Files\\\\JetBrains\\\\IntelliJ IDEA Community Edition 2021.2.1\\\\bin\\\\idea64.exe\",\"127.0.0.1\",\"C:\\\\WINDOWS\\\\SYSTEM32\\\\VCRUNTIME140.DLL\",\"C:\\\\PROGRAM FILES\\\\JETBRAINS\\\\INTELLIJ IDEA COMMUNITY EDITION 2021.2.1\\\\JBR\\\\BIN\\\\SERVER\\\\JVM.DLL\",\"C:\\\\PROGRAM FILES\\\\JETBRAINS\\\\INTELLIJ IDEA COMMUNITY EDITION 2021.2.1\\\\JBR\\\\BIN\\\\NET.DLL\",\"127.0.0.1\",\"127.0.0.1\",\"127.0.0.1\",\"127.0.0.1\",\"C:\\\\WINDOWS\\\\SYSTEM32\\\\WINDOWS.UI.DLL\",\"C:\\\\WINDOWS\\\\SYSTEM32\\\\MSASN1.DLL\",\"C:\\\\WINDOWS\\\\SYSTEM32\\\\GDI32.DLL\",\"powershell -inputformat none -outputformat text -NonInteractive -Command Get-MpPreference | select -ExpandProperty \\\\\\\"ExclusionProcess\\\\\\\"\",\"C:\\\\WINDOWS\\\\SYSTEM32\\\\WINDOWS.STATEREPOSITORYCORE.DLL\",\"127.0.0.1\",\"C:\\\\WINDOWS\\\\Explorer.EXE\",\"C:\\\\WINDOWS\\\\SYSTEM32\\\\DSREG.DLL\",\"13.249.79.20\",\"C:\\\\WINDOWS\\\\SYSTEM32\\\\WINDOWMANAGEMENTAPI.DLL\",\"C:\\\\WINDOWS\\\\SYSTEM32\\\\DWMAPI.DLL\",\"13.249.79.101\",\"C:\\\\WINDOWS\\\\SYSTEM32\\\\MRMCORER.DLL\",\"127.0.0.1\",\"C:\\\\WINDOWS\\\\SYSTEM32\\\\SSPICLI.DLL\",\"C:\\\\WINDOWS\\\\SYSTEM32\\\\NSI.DLL\",\"C:\\\\WINDOWS\\\\SYSTEM32\\\\MSWSOCK.DLL\",\"C:\\\\WINDOWS\\\\SYSTEM32\\\\POWRPROF.DLL\",\"C:\\\\WINDOWS\\\\SYSTEM32\\\\MSVCP110_WIN.DLL\",\"C:\\\\PROGRAM FILES\\\\JETBRAINS\\\\INTELLIJ IDEA COMMUNITY EDITION 2021.2.1\\\\JBR\\\\BIN\\\\JIMAGE.DLL\",\"C:\\\\WINDOWS\\\\CURSORS\\\\AERO_ARROW.CUR\",\"127.0.0.1\",\"C:\\\\WINDOWS\\\\SYSTEM32\\\\SHCORE.DLL\",\"C:\\\\WINDOWS\\\\SYSTEM32\\\\RSAENH.DLL\",\"127.0.0.1\",\"C:\\\\WINDOWS\\\\SYSTEM32\\\\SHLWAPI.DLL\",\"C:\\\\PROGRAM FILES\\\\JETBRAINS\\\\INTELLIJ IDEA COMMUNITY EDITION 2021.2.1\\\\JBR\\\\BIN\\\\JAVA.DLL\",\"C:\\\\WINDOWS\\\\SYSTEM32\\\\MSVCP_WIN.DLL\",\"C:\\\\WINDOWS\\\\SYSTEM32\\\\NTDLL.DLL\",\"C:\\\\WINDOWS\\\\SYSTEM32\\\\WS2_32.DLL\",\"C:\\\\WINDOWS\\\\SYSTEM32\\\\OLEAUT32.DLL\",\"C:\\\\WINDOWS\\\\SYSTEM32\\\\WININET.DLL\",\"C:\\\\WINDOWS\\\\SYSTEM32\\\\WINLOGON.EXE\",\"C:\\\\WINDOWS\\\\SYSTEM32\\\\NTMARTA.DLL\",\"127.0.0.1\",\"C:\\\\WINDOWS\\\\SYSTEM32\\\\IMM32.DLL\",\"C:\\\\PROGRAM FILES\\\\JETBRAINS\\\\INTELLIJ IDEA COMMUNITY EDITION 2021.2.1\\\\JBR\\\\BIN\\\\NIO.DLL\",\"C:\\\\WINDOWS\\\\SYSTEM32\\\\GDI32FULL.DLL\",\"powershell -inputformat none -outputformat text -NonInteractive -Command Get-MpPreference | select -ExpandProperty \\\\\\\"ExclusionPath\\\\\\\"\",\"C:\\\\USERS\\\\JAIMU\\\\APPDATA\\\\LOCAL\\\\TEMP\\\\__PSSCRIPTPOLICYTEST_D1JIZFGL.Y04.PS1\",\"powershell -inputformat none -outputformat text -NonInteractive -Command Get-MpPreference | select -ExpandProperty \\\\\\\"DisableRealtimeMonitoring\\\\\\\"\",\"powershell -inputformat none -outputformat text -NonInteractive -Command Get-MpPreference | select -ExpandProperty \\\\\\\"ExclusionProcess\\\\\\\"\",\"powershell -inputformat none -outputformat text -NonInteractive -Command Get-MpPreference | select -ExpandProperty \\\\\\\"ExclusionPath\\\\\\\"\",\"127.0.0.1\",\"\",\"127.0.0.1\",\"C:\\\\WINDOWS\\\\SYSTEM32\\\\BCP47MRM.DLL\",\"C:\\\\WINDOWS\\\\SYSTEM32\\\\SMSS.EXE\",\"127.0.0.1\",\"127.0.0.1\",\"C:\\\\WINDOWS\\\\SYSTEM32\\\\CSRSS.EXE\",\"13.249.109.108\",\"C:\\\\WINDOWS\\\\SYSTEM32\\\\OLE32.DLL\",\"powershell -inputformat none -outputformat text -NonInteractive -Command Get-MpPreference | select -ExpandProperty \\\\\\\"ExclusionPath\\\\\\\"\",\"\\\\??\\\\C:\\\\WINDOWS\\\\system32\\\\conhost.exe 0xffffffff -ForceV1\",\"C:\\\\USERS\\\\JAIMU\\\\APPDATA\\\\LOCAL\\\\MICROSOFT\\\\WINDOWS\\\\POWERSHELL\\\\STARTUPPROFILEDATA-NONINTERACTIVE\",\"powershell -inputformat none -outputformat text -NonInteractive -Command Get-MpPreference | select -ExpandProperty \\\\\\\"DisableRealtimeMonitoring\\\\\\\"\",\"powershell -inputformat none -outputformat text -NonInteractive -Command Get-MpPreference | select -ExpandProperty \\\\\\\"ExclusionProcess\\\\\\\"\",\"C:\\\\WINDOWS\\\\SYSTEM32\\\\CRYPTBASE.DLL\",\"C:\\\\WINDOWS\\\\SYSTEM32\\\\RPCRT4.DLL\",\"C:\\\\WINDOWS\\\\SYSTEM32\\\\DBGHELP.DLL\",\"C:\\\\WINDOWS\\\\SYSTEM32\\\\VERSION.DLL\",\"C:\\\\WINDOWS\\\\SYSTEM32\\\\EDPUTIL.DLL\",\"127.0.0.1\",\"C:\\\\WINDOWS\\\\SYSTEM32\\\\LANGUAGEOVERLAYUTIL.DLL\",\"127.0.0.1\",\"C:\\\\WINDOWS\\\\SYSTEM32\\\\TEXTINPUTFRAMEWORK.DLL\",\"127.0.0.1\",\"C:\\\\WINDOWS\\\\EXPLORER.EXE\",\"127.0.0.1\",\"C:\\\\WINDOWS\\\\SYSTEM32\\\\UMPDC.DLL\",\"104.93.21.105\",\"127.0.0.1\",\"C:\\\\WINDOWS\\\\SYSTEM32\\\\IPHLPAPI.DLL\",\"C:\\\\WINDOWS\\\\SYSTEM32\\\\DWMINIT.DLL\",\"C:\\\\PROGRAM FILES\\\\JETBRAINS\\\\INTELLIJ IDEA COMMUNITY EDITION 2021.2.1\\\\BIN\\\\IDEA64.EXE\",\"C:\\\\WINDOWS\\\\SYSTEM32\\\\PROFAPI.DLL\",\"C:\\\\PROGRAM FILES\\\\JETBRAINS\\\\INTELLIJ IDEA COMMUNITY EDITION 2021.2.1\\\\JBR\\\\BIN\\\\VERIFY.DLL\",\"127.0.0.1\",\"127.0.0.1\",\"C:\\\\WINDOWS\\\\SYSTEM32\\\\USERINITEXT.DLL\",\"C:\\\\WINDOWS\\\\SYSTEM32\\\\KBDUS.DLL\",\"127.0.0.1\",\"C:\\\\WINDOWS\\\\SYSTEM32\\\\FWBASE.DLL\",\"127.0.0.1\",\"C:\\\\WINDOWS\\\\SYSTEM32\\\\USERENV.DLL\",\"C:\\\\WINDOWS\\\\SYSTEM32\\\\INPUTHOST.DLL\",\"C:\\\\WINDOWS\\\\SYSTEM32\\\\KERNEL32.DLL\",\"C:\\\\WINDOWS\\\\SYSTEM32\\\\UXINIT.DLL\",\"204.79.197.203\",\"C:\\\\WINDOWS\\\\SYSTEM32\\\\URLMON.DLL\",\"13.249.109.108\",\"23.67.42.65\",\"127.0.0.1\",\"23.67.42.65\",\"13.249.79.101\"]],[\"colors\",[\"green\",\"yellow\",\"pink\",\"pink\",\"pink\",\"pink\",\"pink\",\"pink\",\"pink\",\"yellow\",\"yellow\",\"pink\",\"yellow\",\"pink\",\"pink\",\"pink\",\"pink\",\"pink\",\"pink\",\"pink\",\"pink\",\"pink\",\"yellow\",\"yellow\",\"pink\",\"yellow\",\"pink\",\"pink\",\"yellow\",\"pink\",\"pink\",\"pink\",\"yellow\",\"pink\",\"yellow\",\"green\",\"pink\",\"pink\",\"green\",\"pink\",\"yellow\",\"pink\",\"pink\",\"pink\",\"pink\",\"yellow\",\"pink\",\"pink\",\"pink\",\"pink\",\"pink\",\"yellow\",\"pink\",\"pink\",\"pink\",\"pink\",\"pink\",\"pink\",\"pink\",\"pink\",\"green\",\"yellow\",\"pink\",\"pink\",\"pink\",\"yellow\",\"yellow\",\"yellow\",\"yellow\",\"pink\",\"pink\",\"pink\",\"green\",\"pink\",\"yellow\",\"green\",\"pink\",\"yellow\",\"pink\",\"pink\",\"yellow\",\"pink\",\"yellow\",\"pink\",\"pink\",\"pink\",\"pink\",\"pink\",\"pink\",\"pink\",\"yellow\",\"pink\",\"pink\",\"yellow\",\"pink\",\"pink\",\"pink\",\"pink\",\"pink\",\"pink\",\"pink\",\"pink\",\"pink\",\"yellow\",\"pink\",\"pink\",\"pink\",\"green\",\"pink\",\"green\",\"green\",\"green\",\"yellow\",\"green\",\"yellow\",\"pink\",\"pink\",\"yellow\",\"yellow\",\"pink\",\"yellow\",\"pink\",\"green\",\"green\",\"pink\",\"green\",\"green\",\"pink\",\"pink\",\"pink\",\"pink\",\"pink\",\"yellow\",\"pink\",\"yellow\",\"pink\",\"yellow\",\"pink\",\"yellow\",\"pink\",\"yellow\",\"yellow\",\"pink\",\"pink\",\"pink\",\"pink\",\"pink\",\"yellow\",\"yellow\",\"pink\",\"pink\",\"yellow\",\"pink\",\"yellow\",\"pink\",\"pink\",\"pink\",\"pink\",\"yellow\",\"pink\",\"yellow\",\"yellow\",\"yellow\",\"yellow\",\"yellow\"]]]}}},\"view\":{\"type\":\"object\",\"name\":\"CDSView\",\"id\":\"p4442\",\"attributes\":{\"filter\":{\"type\":\"object\",\"name\":\"AllIndices\",\"id\":\"p4443\"}}},\"glyph\":{\"type\":\"object\",\"name\":\"Circle\",\"id\":\"p4454\",\"attributes\":{\"size\":{\"type\":\"value\",\"value\":15},\"fill_color\":{\"type\":\"field\",\"field\":\"colors\"}}}}},\"edge_renderer\":{\"type\":\"object\",\"name\":\"GlyphRenderer\",\"id\":\"p4448\",\"attributes\":{\"data_source\":{\"type\":\"object\",\"name\":\"ColumnDataSource\",\"id\":\"p4445\",\"attributes\":{\"selected\":{\"type\":\"object\",\"name\":\"Selection\",\"id\":\"p4446\",\"attributes\":{\"indices\":[],\"line_indices\":[]}},\"selection_policy\":{\"type\":\"object\",\"name\":\"UnionRenderers\",\"id\":\"p4447\"},\"data\":{\"type\":\"map\",\"entries\":[[\"start\",[88,89,110,111,112,113,113,113,113,114,114,114,114,115,115,115,116,116,90,117,91,118,92,119,93,94,95,96,97,97,97,97,10,98,98,98,98,11,99,12,13,14,15,15,16,17,17,18,18,19,19,19,120,0,0,0,0,121,1,122,2,123,3,124,4,125,5,126,6,127,7,7,7,128,128,8,129,129,129,9,20,21,22,23,23,23,23,24,25,25,25,25,26,27,28,29,130,131,132,133,134,135,136,137,138,139,139,139,139,30,30,30,31,32,33,34,35,36,37,37,37,38,39,140,141,141,142,143,144,144,145,146,147,148,149,149,149,40,41,42,42,43,44,44,44,44,45,45,45,45,45,46,46,47,47,47,48,49,150,150,151,152,152,152,153,154,154,154,154,155,155,156,156,156,156,157,157,158,158,159,159,50,51,52,53,54,55,56,57,58,59,160,160,162,162,162,162,162,162,162,163,163,164,164,60,60,61,61,61,61,62,63,64,65,66,67,68,69,70,71,72,73,74,75,76,77,78,78,79,100,101,102,103,104,105,106,80,80,80,80,107,81,81,81,81,108,82,109,83,84,85,86,87]],[\"end\",[1,28,33,88,28,88,28,1,33,33,1,28,88,33,28,88,28,33,28,28,88,28,88,1,88,28,28,28,33,88,28,1,33,1,28,33,88,28,28,88,28,33,33,28,28,33,28,88,28,33,88,28,28,33,1,88,28,28,33,88,33,88,33,28,88,33,33,88,28,33,88,1,33,28,33,88,33,28,88,28,28,28,28,88,1,28,33,28,88,1,33,28,33,88,30,28,28,28,28,28,28,28,28,33,88,33,28,1,88,161,162,156,33,28,28,88,28,33,88,33,28,28,33,28,33,88,88,28,33,88,88,28,88,28,33,28,88,28,28,33,28,28,88,1,28,33,123,33,1,88,28,33,28,28,88,33,33,88,33,88,28,1,28,88,28,33,88,1,28,162,156,158,163,159,155,156,162,156,162,156,162,28,123,28,33,123,28,28,123,28,28,162,156,164,163,155,157,158,159,160,162,156,162,156,28,88,88,28,33,1,28,28,33,28,33,28,33,28,33,28,88,33,28,88,88,28,88,28,28,28,28,1,88,28,88,28,33,28,1,88,33,33,28,1,88,88,33,33,28,33,28,33,28]]]}}},\"view\":{\"type\":\"object\",\"name\":\"CDSView\",\"id\":\"p4449\",\"attributes\":{\"filter\":{\"type\":\"object\",\"name\":\"AllIndices\",\"id\":\"p4450\"}}},\"glyph\":{\"type\":\"object\",\"name\":\"MultiLine\",\"id\":\"p4455\",\"attributes\":{\"line_alpha\":{\"type\":\"value\",\"value\":0.5}}}}},\"selection_policy\":{\"type\":\"object\",\"name\":\"NodesOnly\",\"id\":\"p4451\"},\"inspection_policy\":{\"type\":\"object\",\"name\":\"NodesOnly\",\"id\":\"p4452\"}}}],\"toolbar\":{\"type\":\"object\",\"name\":\"Toolbar\",\"id\":\"p4418\",\"attributes\":{\"tools\":[{\"type\":\"object\",\"name\":\"PanTool\",\"id\":\"p4431\"},{\"type\":\"object\",\"name\":\"WheelZoomTool\",\"id\":\"p4432\",\"attributes\":{\"renderers\":\"auto\"}},{\"type\":\"object\",\"name\":\"SaveTool\",\"id\":\"p4433\"},{\"type\":\"object\",\"name\":\"ResetTool\",\"id\":\"p4434\"},{\"type\":\"object\",\"name\":\"HoverTool\",\"id\":\"p4435\",\"attributes\":{\"renderers\":\"auto\",\"tooltips\":[[\"data\",\"@label\"],[\"clustering_coefficient\",\"@clustering_coefficient\"],[\"triangles\",\"@clustering_triangles\"],[\"degree_centrality\",\"@degree_centrality\"],[\"betweenness_centrality\",\"@betweenness_centrality\"],[\"closeness_centrality\",\"@closeness_centrality\"],[\"eigenvector_centrality\",\"@eigenvector_centrality\"]]}}],\"active_scroll\":{\"id\":\"p4432\"}}},\"left\":[{\"type\":\"object\",\"name\":\"LinearAxis\",\"id\":\"p4426\",\"attributes\":{\"ticker\":{\"type\":\"object\",\"name\":\"BasicTicker\",\"id\":\"p4427\",\"attributes\":{\"mantissas\":[1,2,5]}},\"formatter\":{\"type\":\"object\",\"name\":\"BasicTickFormatter\",\"id\":\"p4428\"},\"major_label_policy\":{\"type\":\"object\",\"name\":\"AllLabels\",\"id\":\"p4429\"}}}],\"below\":[{\"type\":\"object\",\"name\":\"LinearAxis\",\"id\":\"p4421\",\"attributes\":{\"ticker\":{\"type\":\"object\",\"name\":\"BasicTicker\",\"id\":\"p4422\",\"attributes\":{\"mantissas\":[1,2,5]}},\"formatter\":{\"type\":\"object\",\"name\":\"BasicTickFormatter\",\"id\":\"p4423\"},\"major_label_policy\":{\"type\":\"object\",\"name\":\"AllLabels\",\"id\":\"p4424\"}}}],\"center\":[{\"type\":\"object\",\"name\":\"Grid\",\"id\":\"p4425\",\"attributes\":{\"axis\":{\"id\":\"p4421\"},\"grid_line_color\":null}},{\"type\":\"object\",\"name\":\"Grid\",\"id\":\"p4430\",\"attributes\":{\"dimension\":1,\"axis\":{\"id\":\"p4426\"},\"grid_line_color\":null}}]}}]}};\n  const render_items = [{\"docid\":\"862205c0-98c3-4cfd-b027-ce4203c94246\",\"roots\":{\"p4409\":\"ddf697bd-452b-4c81-a4a8-a6ea5666295a\"},\"root_ids\":[\"p4409\"],\"notebook_comms_target\":\"p4456\"}];\n  root.Bokeh.embed.embed_items_notebook(docs_json, render_items);\n  }\n  if (root.Bokeh !== undefined) {\n    embed_document(root);\n  } else {\n    let attempts = 0;\n    const timer = setInterval(function(root) {\n      if (root.Bokeh !== undefined) {\n        clearInterval(timer);\n        embed_document(root);\n      } else {\n        attempts++;\n        if (attempts > 100) {\n          clearInterval(timer);\n          console.log(\"Bokeh: ERROR: Unable to run BokehJS code because BokehJS library is missing\");\n        }\n      }\n    }, 10, root)\n  }\n})(window);",
      "application/vnd.bokehjs_exec.v0+json": ""
     },
     "metadata": {
      "application/vnd.bokehjs_exec.v0+json": {
       "id": "p4409"
      }
     },
     "output_type": "display_data"
    }
   ],
   "source": [
    "label_examples = label_picker.result\n",
    "\n",
    "current_index = 0\n",
    "\n",
    "progress = widgets.IntProgress(value=current_index, min=0, max=len(label_examples), description=f'{current_index}/{len(label_examples)}')\n",
    "\n",
    "def process_graph(graph_path, save: bool = False):\n",
    "    g, node_color, node_label, node_type = networkXconverterNoFeatures(graph_path)\n",
    "    return bokehPlot(g, node_color, node_label, graph_path.parent, save)\n",
    "\n",
    "def handle_next(arg):\n",
    "    global current_index, progress\n",
    "    if current_index < len(label_examples) - 1:\n",
    "        current_index += 1\n",
    "    clear_output(True)\n",
    "    progress.value = current_index\n",
    "    progress.description = f'{progress.value}/{progress.max}'\n",
    "    process_graph(label_examples[current_index])\n",
    "\n",
    "def handle_prev(arg):\n",
    "    global current_index, progress\n",
    "    if current_index > 0:\n",
    "        current_index -= 1\n",
    "    clear_output(True)\n",
    "    progress.value = current_index\n",
    "    progress.description = f'{progress.value}/{progress.max}'\n",
    "    process_graph(label_examples[current_index])\n",
    "\n",
    "def handle_save(arg):\n",
    "    process_graph(label_examples[current_index], save=True)\n",
    "\n",
    "next_button = widgets.Button(description='next')\n",
    "next_button.on_click(handle_next)\n",
    "\n",
    "prev_button = widgets.Button(description='prev')\n",
    "prev_button.on_click(handle_prev)\n",
    "\n",
    "save_button = widgets.Button(description='save')\n",
    "save_button.on_click(handle_save)\n",
    "\n",
    "# kickstart\n",
    "process_graph(label_examples[current_index])"
   ]
  },
  {
   "cell_type": "code",
   "execution_count": 5,
   "outputs": [
    {
     "ename": "NameError",
     "evalue": "name 'current_index' is not defined",
     "output_type": "error",
     "traceback": [
      "\u001B[0;31m---------------------------------------------------------------------------\u001B[0m",
      "\u001B[0;31mNameError\u001B[0m                                 Traceback (most recent call last)",
      "Cell \u001B[0;32mIn[5], line 1\u001B[0m\n\u001B[0;32m----> 1\u001B[0m \u001B[43mcurrent_index\u001B[49m\n",
      "\u001B[0;31mNameError\u001B[0m: name 'current_index' is not defined"
     ]
    }
   ],
   "source": [
    "current_index"
   ],
   "metadata": {
    "collapsed": false,
    "ExecuteTime": {
     "end_time": "2024-01-27T22:02:32.853877Z",
     "start_time": "2024-01-27T22:02:32.816326Z"
    }
   }
  },
  {
   "cell_type": "code",
   "execution_count": 41,
   "metadata": {},
   "outputs": [
    {
     "data": {
      "application/vnd.jupyter.widget-view+json": {
       "model_id": "6d8e1e65c52343e4a60e448a94acc8f5",
       "version_major": 2,
       "version_minor": 0
      },
      "text/plain": [
       "Label(value='Viewing multi-class/POWERSHELL.EXE, label F')"
      ]
     },
     "metadata": {},
     "output_type": "display_data"
    },
    {
     "data": {
      "application/vnd.jupyter.widget-view+json": {
       "model_id": "8808f5238e52416d97fe61a0cf3206c1",
       "version_major": 2,
       "version_minor": 0
      },
      "text/plain": [
       "HBox(children=(Button(description='prev', style=ButtonStyle()), Button(description='next', style=ButtonStyle()…"
      ]
     },
     "metadata": {},
     "output_type": "display_data"
    },
    {
     "data": {
      "application/vnd.jupyter.widget-view+json": {
       "model_id": "0c44766aa068410089c7227d0a53f555",
       "version_major": 2,
       "version_minor": 0
      },
      "text/plain": [
       "IntProgress(value=0, description='0/644', max=644)"
      ]
     },
     "metadata": {},
     "output_type": "display_data"
    }
   ],
   "source": [
    "display(widgets.Label(f'Viewing {dataset_path.parent.name}/{dataset_path.name}, label {label_picker.kwargs[\"label\"]}'), widgets.HBox([prev_button, next_button, save_button]), progress)\n"
   ]
  }
 ],
 "metadata": {
  "kernelspec": {
   "display_name": "Python 3",
   "language": "python",
   "name": "python3"
  },
  "language_info": {
   "codemirror_mode": {
    "name": "ipython",
    "version": 3
   },
   "file_extension": ".py",
   "mimetype": "text/x-python",
   "name": "python",
   "nbconvert_exporter": "python",
   "pygments_lexer": "ipython3",
   "version": "3.10.11"
  }
 },
 "nbformat": 4,
 "nbformat_minor": 2
}
