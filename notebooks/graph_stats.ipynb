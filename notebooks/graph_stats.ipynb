{
 "cells": [
  {
   "cell_type": "code",
   "execution_count": 19,
   "id": "initial_id",
   "metadata": {
    "collapsed": true,
    "ExecuteTime": {
     "end_time": "2024-04-02T01:15:37.941029Z",
     "start_time": "2024-04-02T01:15:37.809302Z"
    }
   },
   "outputs": [
    {
     "data": {
      "text/plain": "(dict_keys(['pruned tree size (#nodes)', 'pruned tree height', 'pruned tree depth', '# marked nodes', 'attached tree size (#nodes)', '# unmoved subtrees', '% unmoved subtrees', 'N', 'e1', 'e2', 'a', 'b', 'c', 'name']),\n 9)"
     },
     "execution_count": 19,
     "metadata": {},
     "output_type": "execute_result"
    }
   ],
   "source": [
    "import json\n",
    "from pathlib import Path\n",
    "\n",
    "import pandas as pd\n",
    "\n",
    "json_paths = list()\n",
    "stat_dicts = []\n",
    "for path in Path('../output').rglob('processor_stats.json'):\n",
    "    dir_name = str(path.parent)\n",
    "    with open(path, 'r') as file:\n",
    "        stats = json.loads(file.read())\n",
    "        \n",
    "    for param in dir_name.split('_'):\n",
    "        if '=' not in param:\n",
    "            continue\n",
    "        x, y = param.split('=')\n",
    "        stats[x] = float(y)\n",
    "    stats['name'] = dir_name\n",
    "    stat_dicts.append(stats)\n",
    "stat_dicts[0].keys(), len(stat_dicts)"
   ]
  },
  {
   "cell_type": "code",
   "outputs": [
    {
     "data": {
      "text/plain": "3"
     },
     "execution_count": 20,
     "metadata": {},
     "output_type": "execute_result"
    }
   ],
   "source": [
    "ablated_data = []\n",
    "for stats in stat_dicts:\n",
    "    if (stats['a'] + stats['b'] + stats['c']) == 1:\n",
    "        ablated_data.append(stats)\n",
    "        \n",
    "len(ablated_data)"
   ],
   "metadata": {
    "collapsed": false,
    "ExecuteTime": {
     "end_time": "2024-04-02T01:15:38.802296Z",
     "start_time": "2024-04-02T01:15:38.799372Z"
    }
   },
   "id": "1ec89eb27c48d87a",
   "execution_count": 20
  },
  {
   "cell_type": "code",
   "outputs": [
    {
     "name": "stdout",
     "output_type": "stream",
     "text": [
      "22181 22181\n",
      "130932 130932\n",
      "196792 196792\n"
     ]
    },
    {
     "data": {
      "text/plain": "<Figure size 640x480 with 1 Axes>",
      "image/png": "[encoded data removed]"
     },
     "metadata": {},
     "output_type": "display_data"
    }
   ],
   "source": [
    "import matplotlib.pyplot as plt\n",
    "import seaborn as sns\n",
    "def histogram(stat: str):\n",
    "    epsilon_1 = 1.0\n",
    "    data = [data for data in ablated_data if data['e1'] == epsilon_1]\n",
    "    values, labels = [], []\n",
    "    for d in data:\n",
    "        stat_list = d[stat]\n",
    "        values.extend(stat_list)\n",
    "        labels.extend([d['name']] * len(stat_list))\n",
    "        print(len(values), len(labels))\n",
    "    df = pd.DataFrame({\n",
    "        'Value': values,\n",
    "        'Labels': labels\n",
    "    })\n",
    "    \n",
    "    sns.histplot(\n",
    "        data = df,\n",
    "        bins=25,\n",
    "    )\n",
    "    \n",
    "histogram('pruned tree height')\n"
   ],
   "metadata": {
    "collapsed": false,
    "ExecuteTime": {
     "end_time": "2024-04-02T01:20:19.875752Z",
     "start_time": "2024-04-02T01:20:19.582436Z"
    }
   },
   "id": "b2998e5cbab3e22d",
   "execution_count": 33
  }
 ],
 "metadata": {
  "kernelspec": {
   "display_name": "Python 3",
   "language": "python",
   "name": "python3"
  },
  "language_info": {
   "codemirror_mode": {
    "name": "ipython",
    "version": 2
   },
   "file_extension": ".py",
   "mimetype": "text/x-python",
   "name": "python",
   "nbconvert_exporter": "python",
   "pygments_lexer": "ipython2",
   "version": "2.7.6"
  }
 },
 "nbformat": 4,
 "nbformat_minor": 5
}
