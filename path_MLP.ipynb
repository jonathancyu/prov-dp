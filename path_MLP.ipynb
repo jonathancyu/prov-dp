{
 "cells": [
  {
   "cell_type": "markdown",
   "metadata": {},
   "source": [
    "# Generative model to create paths"
   ]
  },
  {
   "cell_type": "code",
   "execution_count": 3,
   "metadata": {},
   "outputs": [],
   "source": []
  },
  {
   "cell_type": "code",
   "execution_count": 15,
   "metadata": {},
   "outputs": [
    {
     "name": "stdout",
     "output_type": "stream",
     "text": [
      "446400\n",
      "\n"
     ]
    }
   ],
   "source": [
    "# Generative model to create paths\n",
    "import random; random.seed(23)\n",
    "from pathlib import Path\n",
    "from torch.utils.data import Dataset, DataLoader\n",
    "from linecache import getline\n",
    "\n",
    "def blocks(files, size=65536):\n",
    "    while True:\n",
    "        b = files.read(size)\n",
    "        if not b: break\n",
    "        yield b\n",
    "\n",
    "def count_lines(file_path):\n",
    "    with open(file_path, \"r\",encoding=\"utf-8\",errors='ignore') as f:\n",
    "        return sum(bl.count(\"\\n\") for bl in blocks(f))\n",
    "\n",
    "\n",
    "class PathDataset(Dataset):\n",
    "    def __init__(self, file_path: Path):\n",
    "        self.path_str = str(file_path)\n",
    "        self.num_lines = count_lines(file_path)\n",
    "        self.lines = [i for i in range(self.num_lines)]\n",
    "\n",
    "    def __len__(self) -> int:\n",
    "        return self.num_lines\n",
    "\n",
    "    def __getitem__(self, key) -> list[str]:\n",
    "        if isinstance(key, slice):  # List slicing\n",
    "            indices = range(*key.indices(self.num_lines))\n",
    "            for i in indices:\n",
    "                yield self[i]\n",
    "        else:  # Single index\n",
    "            idx = self.lines[key]\n",
    "            line = getline(self.path_str, idx+1)  # getline indexes at 1\n",
    "            if len(line) > 0:\n",
    "                start_pos = line.find(':') + 1\n",
    "                line = line[start_pos:].strip()\n",
    "                line = line.split(' ')\n",
    "            return line\n",
    "            \n",
    "    def shuffle(self):\n",
    "        random.shuffle(self.lines)\n",
    "    \n",
    "    def items(self):\n",
    "        for i in range(self.num_lines):\n",
    "            yield self[i]\n",
    "\n",
    "dataset = PathDataset(Path('F:/data/prov_dp/tc3-theia/9155821.txt'))\n",
    "print(len(dataset))\n",
    "print(dataset[0])"
   ]
  },
  {
   "cell_type": "code",
   "execution_count": 3,
   "metadata": {},
   "outputs": [],
   "source": [
    "lengths = []\n",
    "tokens = set()\n",
    "for path in dataset.items():\n",
    "    lengths.append(len(path))\n",
    "    tokens.update(path)"
   ]
  },
  {
   "cell_type": "code",
   "execution_count": 4,
   "metadata": {},
   "outputs": [],
   "source": [
    "itos = list(tokens)\n",
    "itos[:0] = ['.']\n",
    "stoi = {\n",
    "    token: i for i, token in enumerate(itos)\n",
    "}"
   ]
  },
  {
   "cell_type": "code",
   "execution_count": 11,
   "metadata": {},
   "outputs": [
    {
     "data": {
      "text/plain": [
       "torch.Size([17])"
      ]
     },
     "execution_count": 11,
     "metadata": {},
     "output_type": "execute_result"
    }
   ],
   "source": [
    "import torch.nn.functional as F\n",
    "\n",
    "block_size = 8 # Should always be odd. How can we encode the fact that nodes and edges must alternate?\n",
    "\n",
    "def encode(path):\n",
    "    padded_path = path[:block_size] + ['.'] * (D - len(block_size))\n",
    "    return [stoi[t] for t in padded_path]\n",
    "\n",
    "encoding = encode(dataset[1])\n",
    "tensor = torch.tensor(encoding)\n",
    "\n",
    "tensor.shape\n"
   ]
  },
  {
   "cell_type": "code",
   "execution_count": 52,
   "metadata": {},
   "outputs": [
    {
     "data": {
      "text/plain": [
       "['0', '0']"
      ]
     },
     "execution_count": 52,
     "metadata": {},
     "output_type": "execute_result"
    }
   ],
   "source": [
    "def build_dataset(path_dataset):\n",
    "    X, Y = [], []\n",
    "\n",
    "    for path in path_dataset:\n",
    "        context = [0] * block_size\n",
    "        for x in path + '.':\n",
    "            i_x = stoi[x]\n",
    "            X.append(context)\n",
    "            context = context[1:] * [i_x] # Pop, add to back\n",
    "    X = torch.tensor(X)\n",
    "    Y = torch.tensor(Y)\n",
    "    print(X.shape, Y.shape)\n",
    "    return X, Y\n",
    "\n",
    "n1 = int(0.8 * len(dataset))\n",
    "n2 = int(0.9 * len(dataset))\n",
    "X_train, Y_train = build_dataset()"
   ]
  },
  {
   "cell_type": "code",
   "execution_count": 38,
   "metadata": {},
   "outputs": [
    {
     "name": "stdout",
     "output_type": "stream",
     "text": [
      "['PROCESS_LET', 'FILE_/home/admin/.mozilla/firefox/Crash_Reports/LastCrash', 'FILE_/home/admin/.pulse/263ceeca39f67879e8eda45300000001-default-sink', 'PROCESS_LET_/usr/bin/pulseaudio', 'PROCESS_LET_/home/admin/Downloads/firefox/crashreporter', 'PROCESS_LET_fluxbox', 'READ_Transfer_IP_Data', 'READ_Access_File', 'FILE', 'PROCESS_LET_/usr/bin/firefox', 'PROCESS_LET_/home/admin/Downloads/firefox/firefox', 'WRITE_Access_File', 'FILE_/home/admin/.pulse/263ceeca39f67879e8eda45300000001-default-source', 'FILE_EXEC_Access_File', 'PROC_CREATE_Start_Processlet', 'IP_CHANNEL']\n"
     ]
    },
    {
     "data": {
      "text/plain": [
       "['.',\n",
       " 'PROCESS_LET',\n",
       " 'FILE_/home/admin/.mozilla/firefox/Crash_Reports/LastCrash',\n",
       " 'FILE_/home/admin/.pulse/263ceeca39f67879e8eda45300000001-default-sink',\n",
       " 'PROCESS_LET_/usr/bin/pulseaudio',\n",
       " 'PROCESS_LET_/home/admin/Downloads/firefox/crashreporter',\n",
       " 'PROCESS_LET_fluxbox',\n",
       " 'READ_Transfer_IP_Data',\n",
       " 'READ_Access_File',\n",
       " 'FILE',\n",
       " 'PROCESS_LET_/usr/bin/firefox',\n",
       " 'PROCESS_LET_/home/admin/Downloads/firefox/firefox',\n",
       " 'WRITE_Access_File',\n",
       " 'FILE_/home/admin/.pulse/263ceeca39f67879e8eda45300000001-default-source',\n",
       " 'FILE_EXEC_Access_File',\n",
       " 'PROC_CREATE_Start_Processlet',\n",
       " 'IP_CHANNEL']"
      ]
     },
     "execution_count": 38,
     "metadata": {},
     "output_type": "execute_result"
    }
   ],
   "source": []
  },
  {
   "cell_type": "code",
   "execution_count": null,
   "metadata": {},
   "outputs": [],
   "source": [
    "\n"
   ]
  }
 ],
 "metadata": {
  "kernelspec": {
   "display_name": "Python 3",
   "language": "python",
   "name": "python3"
  },
  "language_info": {
   "codemirror_mode": {
    "name": "ipython",
    "version": 3
   },
   "file_extension": ".py",
   "mimetype": "text/x-python",
   "name": "python",
   "nbconvert_exporter": "python",
   "pygments_lexer": "ipython3",
   "version": "3.11.6"
  }
 },
 "nbformat": 4,
 "nbformat_minor": 2
}
