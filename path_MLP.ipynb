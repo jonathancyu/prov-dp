{
 "cells": [
  {
   "cell_type": "markdown",
   "metadata": {},
   "source": [
    "# Generative model to create paths"
   ]
  },
  {
   "cell_type": "code",
   "execution_count": null,
   "metadata": {},
   "outputs": [],
   "source": [
    "import torch.nn\n",
    "import torch.nn.functional as F\n",
    "from pathlib import Path"
   ]
  },
  {
   "cell_type": "code",
   "execution_count": 3,
   "metadata": {},
   "outputs": [
    {
     "ename": "NameError",
     "evalue": "name 'Path' is not defined",
     "output_type": "error",
     "traceback": [
      "\u001b[1;31m---------------------------------------------------------------------------\u001b[0m",
      "\u001b[1;31mNameError\u001b[0m                                 Traceback (most recent call last)",
      "\u001b[1;32mc:\\Users\\Jonathan\\workspace\\prov-dp\\path_MLP.ipynb Cell 3\u001b[0m line \u001b[0;36m2\n\u001b[0;32m      <a href='vscode-notebook-cell://tunnel%2Bdesktop-bfhuee0/c%3A/Users/Jonathan/workspace/prov-dp/path_MLP.ipynb#W5sdnNjb2RlLXJlbW90ZQ%3D%3D?line=0'>1</a>\u001b[0m \u001b[39mfrom\u001b[39;00m \u001b[39mtorch\u001b[39;00m\u001b[39m.\u001b[39;00m\u001b[39mutils\u001b[39;00m\u001b[39m.\u001b[39;00m\u001b[39mdata\u001b[39;00m \u001b[39mimport\u001b[39;00m Dataset\n\u001b[1;32m----> <a href='vscode-notebook-cell://tunnel%2Bdesktop-bfhuee0/c%3A/Users/Jonathan/workspace/prov-dp/path_MLP.ipynb#W5sdnNjb2RlLXJlbW90ZQ%3D%3D?line=1'>2</a>\u001b[0m \u001b[39mclass\u001b[39;49;00m \u001b[39mPathDataset\u001b[39;49;00m(Dataset):\n\u001b[0;32m      <a href='vscode-notebook-cell://tunnel%2Bdesktop-bfhuee0/c%3A/Users/Jonathan/workspace/prov-dp/path_MLP.ipynb#W5sdnNjb2RlLXJlbW90ZQ%3D%3D?line=2'>3</a>\u001b[0m     \u001b[39mdef\u001b[39;49;00m \u001b[39m__init__\u001b[39;49m(\u001b[39mself\u001b[39;49m, input_files: \u001b[39mlist\u001b[39;49m[Path]):\n\u001b[0;32m      <a href='vscode-notebook-cell://tunnel%2Bdesktop-bfhuee0/c%3A/Users/Jonathan/workspace/prov-dp/path_MLP.ipynb#W5sdnNjb2RlLXJlbW90ZQ%3D%3D?line=3'>4</a>\u001b[0m         \u001b[39mself\u001b[39;49m\u001b[39m.\u001b[39;49minput_files \u001b[39m=\u001b[39;49m input_files\n",
      "\u001b[1;32mc:\\Users\\Jonathan\\workspace\\prov-dp\\path_MLP.ipynb Cell 3\u001b[0m line \u001b[0;36m3\n\u001b[0;32m      <a href='vscode-notebook-cell://tunnel%2Bdesktop-bfhuee0/c%3A/Users/Jonathan/workspace/prov-dp/path_MLP.ipynb#W5sdnNjb2RlLXJlbW90ZQ%3D%3D?line=1'>2</a>\u001b[0m \u001b[39mclass\u001b[39;00m \u001b[39mPathDataset\u001b[39;00m(Dataset):\n\u001b[1;32m----> <a href='vscode-notebook-cell://tunnel%2Bdesktop-bfhuee0/c%3A/Users/Jonathan/workspace/prov-dp/path_MLP.ipynb#W5sdnNjb2RlLXJlbW90ZQ%3D%3D?line=2'>3</a>\u001b[0m     \u001b[39mdef\u001b[39;00m \u001b[39m__init__\u001b[39m(\u001b[39mself\u001b[39m, input_files: \u001b[39mlist\u001b[39m[Path]):\n\u001b[0;32m      <a href='vscode-notebook-cell://tunnel%2Bdesktop-bfhuee0/c%3A/Users/Jonathan/workspace/prov-dp/path_MLP.ipynb#W5sdnNjb2RlLXJlbW90ZQ%3D%3D?line=3'>4</a>\u001b[0m         \u001b[39mself\u001b[39m\u001b[39m.\u001b[39minput_files \u001b[39m=\u001b[39m input_files\n\u001b[0;32m      <a href='vscode-notebook-cell://tunnel%2Bdesktop-bfhuee0/c%3A/Users/Jonathan/workspace/prov-dp/path_MLP.ipynb#W5sdnNjb2RlLXJlbW90ZQ%3D%3D?line=4'>5</a>\u001b[0m         \u001b[39mself\u001b[39m\u001b[39m.\u001b[39mindex_to_file_map \u001b[39m=\u001b[39m []\n",
      "\u001b[1;31mNameError\u001b[0m: name 'Path' is not defined"
     ]
    }
   ],
   "source": [
    "from torch.utils.data import Dataset\n",
    "class PathDataset(Dataset):\n",
    "    def __init__(self, input_files: list[Path]):\n",
    "        self.input_files = input_files\n",
    "        self.index_to_file_map = []\n",
    "        current_index = 0\n",
    "        for file_path in input_files:\n",
    "            with open(file_path, 'r') as file:\n",
    "                num_lines = sum(1 for line in file)\n",
    "            path_entries = [(file_path, i) for i in range(num_lines)]\n",
    "            self.index_to_file_map.extend(path_entries)\n",
    "            current_index += num_lines\n",
    "    \n",
    "    def __len__(self) -> int:\n",
    "        return len(self.index_to_file_map)\n",
    "\n",
    "    def __getitem__(self, idx) -> list[str]:\n",
    "        file_path, line_num = self.index_to_file_map[idx]\n",
    "        with open(file_path, 'r') as file:\n",
    "            for i, line in enumerate(file):\n",
    "                if i == idx:\n",
    "                    return line.split(' ')\n",
    "        return None"
   ]
  },
  {
   "cell_type": "code",
   "execution_count": null,
   "metadata": {},
   "outputs": [],
   "source": [
    "input_files = Path('F:/data/prov_dp/tc3-theia/').glob('*.txt')\n",
    "dataset = PathDataset(input_files)"
   ]
  },
  {
   "cell_type": "code",
   "execution_count": 9,
   "metadata": {},
   "outputs": [
    {
     "data": {
      "text/plain": [
       "WindowsPath('F:/data/prov_dp/tc3-theia/10052259.txt')"
      ]
     },
     "execution_count": 9,
     "metadata": {},
     "output_type": "execute_result"
    }
   ],
   "source": [
    "[f for f in input_files][0]"
   ]
  }
 ],
 "metadata": {
  "kernelspec": {
   "display_name": "Python 3",
   "language": "python",
   "name": "python3"
  },
  "language_info": {
   "codemirror_mode": {
    "name": "ipython",
    "version": 3
   },
   "file_extension": ".py",
   "mimetype": "text/x-python",
   "name": "python",
   "nbconvert_exporter": "python",
   "pygments_lexer": "ipython3",
   "version": "3.11.6"
  }
 },
 "nbformat": 4,
 "nbformat_minor": 2
}
