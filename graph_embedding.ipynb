{
 "cells": [
  {
   "cell_type": "code",
   "execution_count": 1,
   "outputs": [
    {
     "name": "stderr",
     "output_type": "stream",
     "text": [
      "Reading graphs: 100%|██████████| 200/200 [00:08<00:00, 24.42it/s]\n"
     ]
    },
    {
     "data": {
      "text/plain": "200"
     },
     "execution_count": 1,
     "metadata": {},
     "output_type": "execute_result"
    }
   ],
   "source": [
    "from algorithm import GraphWrapper\n",
    "from pathlib import Path\n",
    "from tqdm import tqdm\n",
    "\n",
    "input_path = Path('../data/benign_graphs/tc3-theia/firefox/nd')\n",
    "input_paths = list(input_path.glob('*.json'))[:200]\n",
    "input_graphs = [GraphWrapper(input_path) \n",
    "                for input_path in tqdm(input_paths, desc='Reading graphs')]\n",
    "len(input_graphs)"
   ],
   "metadata": {
    "collapsed": false,
    "ExecuteTime": {
     "end_time": "2024-01-22T04:54:04.543819Z",
     "start_time": "2024-01-22T04:53:56.036652Z"
    }
   },
   "id": "824fd0a749174afb"
  },
  {
   "cell_type": "code",
   "execution_count": 2,
   "outputs": [
    {
     "data": {
      "text/plain": "196148"
     },
     "execution_count": 2,
     "metadata": {},
     "output_type": "execute_result"
    }
   ],
   "source": [
    "from collections import deque\n",
    "from algorithm import GraphWrapper, EdgeWrapper, NodeWrapper, Subgraph, IN, OUT\n",
    "\n",
    "def get_subgraphs(graph: GraphWrapper, direction: str) -> list[Subgraph]:\n",
    "    result: list[Subgraph] = []\n",
    "    visited_edges: set[EdgeWrapper] = set()\n",
    "\n",
    "    queue = deque([(0, graph.source_edge_id)])\n",
    "    while len(queue) > 0:\n",
    "        # Pop\n",
    "        depth, edge_id = queue.popleft()\n",
    "        edge: EdgeWrapper = graph.get_edge(edge_id)\n",
    "        if edge in visited_edges:\n",
    "            continue\n",
    "        visited_edges.add(edge)\n",
    "        \n",
    "        # Add subgraph\n",
    "        result.append(Subgraph(\n",
    "            parent_graph=graph,\n",
    "            depth=depth,\n",
    "            edges=graph.get_subtree(edge_id, direction)\n",
    "        ))\n",
    "        \n",
    "        # Extend queue\n",
    "        node_id: int = edge.node_ids[direction]\n",
    "        node: NodeWrapper = graph.get_node(node_id)\n",
    "        next_edge_ids: list[int] = node.edge_ids[direction]\n",
    "\n",
    "        queue.extend([(depth + 1, next_edge_id)\n",
    "                      for next_edge_id in next_edge_ids])\n",
    "    return result\n",
    "\n",
    "subgraphs = []\n",
    "for graph in input_graphs:\n",
    "    subgraphs.extend(get_subgraphs(graph, IN))\n",
    "len(subgraphs)"
   ],
   "metadata": {
    "collapsed": false,
    "ExecuteTime": {
     "end_time": "2024-01-22T04:54:09.045673Z",
     "start_time": "2024-01-22T04:54:07.213557Z"
    }
   },
   "id": "56e2d9bc8c47661a"
  },
  {
   "cell_type": "code",
   "execution_count": 3,
   "outputs": [
    {
     "data": {
      "text/plain": "(0, 6)"
     },
     "execution_count": 3,
     "metadata": {},
     "output_type": "execute_result"
    }
   ],
   "source": [
    "x = [graph.depth for graph in subgraphs]\n",
    "min(x), max(x)"
   ],
   "metadata": {
    "collapsed": false,
    "ExecuteTime": {
     "end_time": "2024-01-22T04:54:17.007007Z",
     "start_time": "2024-01-22T04:54:17.004574Z"
    }
   },
   "id": "44274cb6bbf20635"
  },
  {
   "cell_type": "code",
   "execution_count": 5,
   "outputs": [
    {
     "name": "stderr",
     "output_type": "stream",
     "text": [
      "Converting to NetworkX graphs: 100%|██████████| 196148/196148 [00:11<00:00, 17747.90it/s]\n"
     ]
    },
    {
     "data": {
      "text/plain": "196148"
     },
     "execution_count": 5,
     "metadata": {},
     "output_type": "execute_result"
    }
   ],
   "source": [
    "from algorithm.utility import to_nx\n",
    "nx_graphs = [to_nx(graph) \n",
    "             for graph in tqdm(subgraphs, desc='Converting to NetworkX graphs')]\n",
    "len(nx_graphs)"
   ],
   "metadata": {
    "collapsed": false,
    "ExecuteTime": {
     "end_time": "2024-01-22T04:55:35.120384Z",
     "start_time": "2024-01-22T04:55:23.914575Z"
    }
   },
   "id": "7c73edbccf97cc93"
  },
  {
   "cell_type": "code",
   "execution_count": 6,
   "outputs": [
    {
     "data": {
      "text/plain": "196148"
     },
     "execution_count": 6,
     "metadata": {},
     "output_type": "execute_result"
    }
   ],
   "source": [
    "from karateclub import Graph2Vec\n",
    "\n",
    "graph2vec = Graph2Vec(\n",
    "    wl_iterations=80,\n",
    "    attributed=True,\n",
    "    dimensions=128,\n",
    "    workers=4,\n",
    "    epochs=5\n",
    ")\n",
    "\n",
    "graph2vec.fit(nx_graphs)\n",
    "\n",
    "graph2vec_embedding = graph2vec.get_embedding()\n",
    "len(graph2vec_embedding)"
   ],
   "metadata": {
    "collapsed": false,
    "ExecuteTime": {
     "end_time": "2024-01-22T05:00:29.482925Z",
     "start_time": "2024-01-22T04:55:55.705714Z"
    }
   },
   "id": "91600bac8635582a"
  },
  {
   "cell_type": "markdown",
   "source": [
    "# I. Graph2Vec Embedding Analysis"
   ],
   "metadata": {
    "collapsed": false
   },
   "id": "c343c13901de73d9"
  },
  {
   "cell_type": "markdown",
   "source": [
    "## A. Embedding Variance\n",
    "The embedding is not deterministic - it varies every time it is computed. \n",
    "TODO: look into how the graph2vec.embeddings() works.\n",
    "compare embedding from graph2vec.embeddings() with graph2vec.infer(graph) - mean .97ish, std around .02 \n"
   ],
   "metadata": {
    "collapsed": false
   },
   "id": "ced010bfff0c8c85"
  },
  {
   "cell_type": "code",
   "execution_count": 84,
   "outputs": [
    {
     "name": "stderr",
     "output_type": "stream",
     "text": [
      " 34%|███▍      | 33872/100000 [03:10<06:10, 178.26it/s]\n"
     ]
    },
    {
     "ename": "KeyboardInterrupt",
     "evalue": "",
     "output_type": "error",
     "traceback": [
      "\u001B[0;31m---------------------------------------------------------------------------\u001B[0m",
      "\u001B[0;31mKeyboardInterrupt\u001B[0m                         Traceback (most recent call last)",
      "Cell \u001B[0;32mIn[84], line 23\u001B[0m\n\u001B[1;32m     14\u001B[0m \u001B[38;5;28;01mfor\u001B[39;00m i \u001B[38;5;129;01min\u001B[39;00m tqdm(sample_indices):\n\u001B[1;32m     15\u001B[0m     graph \u001B[38;5;241m=\u001B[39m subgraphs[i]\n\u001B[1;32m     16\u001B[0m     row \u001B[38;5;241m=\u001B[39m {\n\u001B[1;32m     17\u001B[0m         \u001B[38;5;124m'\u001B[39m\u001B[38;5;124mindex\u001B[39m\u001B[38;5;124m'\u001B[39m: i,\n\u001B[1;32m     18\u001B[0m         \u001B[38;5;124m'\u001B[39m\u001B[38;5;124mdepth\u001B[39m\u001B[38;5;124m'\u001B[39m: graph\u001B[38;5;241m.\u001B[39mdepth,\n\u001B[1;32m     19\u001B[0m         \u001B[38;5;124m'\u001B[39m\u001B[38;5;124m#edges\u001B[39m\u001B[38;5;124m'\u001B[39m: \u001B[38;5;28mlen\u001B[39m(graph\u001B[38;5;241m.\u001B[39medges),\n\u001B[1;32m     20\u001B[0m         \u001B[38;5;124m'\u001B[39m\u001B[38;5;124m#nodes\u001B[39m\u001B[38;5;124m'\u001B[39m: \u001B[38;5;28mlen\u001B[39m(graph\u001B[38;5;241m.\u001B[39mnodes),\n\u001B[1;32m     21\u001B[0m         \u001B[38;5;124m'\u001B[39m\u001B[38;5;124membedding_i\u001B[39m\u001B[38;5;124m'\u001B[39m: graph2vec_embedding[i],\n\u001B[1;32m     22\u001B[0m         \u001B[38;5;124m'\u001B[39m\u001B[38;5;124minferred_i\u001B[39m\u001B[38;5;124m'\u001B[39m: graph2vec\u001B[38;5;241m.\u001B[39minfer([nx_graphs[i]])[\u001B[38;5;241m0\u001B[39m],\n\u001B[0;32m---> 23\u001B[0m         \u001B[38;5;124m'\u001B[39m\u001B[38;5;124mcosine_similarity\u001B[39m\u001B[38;5;124m'\u001B[39m: cosine_similarity([graph2vec_embedding[i]], [\u001B[43mgraph2vec\u001B[49m\u001B[38;5;241;43m.\u001B[39;49m\u001B[43minfer\u001B[49m\u001B[43m(\u001B[49m\u001B[43m[\u001B[49m\u001B[43mnx_graphs\u001B[49m\u001B[43m[\u001B[49m\u001B[43mi\u001B[49m\u001B[43m]\u001B[49m\u001B[43m]\u001B[49m\u001B[43m)\u001B[49m[\u001B[38;5;241m0\u001B[39m]])[\u001B[38;5;241m0\u001B[39m, \u001B[38;5;241m0\u001B[39m]\n\u001B[1;32m     24\u001B[0m     }\n\u001B[1;32m     25\u001B[0m     df \u001B[38;5;241m=\u001B[39m df\u001B[38;5;241m.\u001B[39mappend([row], ignore_index\u001B[38;5;241m=\u001B[39m\u001B[38;5;28;01mTrue\u001B[39;00m)\n",
      "File \u001B[0;32m~/.pyenv/versions/3.10.13/lib/python3.10/site-packages/karateclub/graph_embedding/graph2vec.py:122\u001B[0m, in \u001B[0;36mGraph2Vec.infer\u001B[0;34m(self, graphs)\u001B[0m\n\u001B[1;32m    112\u001B[0m documents \u001B[38;5;241m=\u001B[39m [\n\u001B[1;32m    113\u001B[0m     WeisfeilerLehmanHashing(\n\u001B[1;32m    114\u001B[0m         graph, \u001B[38;5;28mself\u001B[39m\u001B[38;5;241m.\u001B[39mwl_iterations, \u001B[38;5;28mself\u001B[39m\u001B[38;5;241m.\u001B[39mattributed, \u001B[38;5;28mself\u001B[39m\u001B[38;5;241m.\u001B[39merase_base_features\n\u001B[1;32m    115\u001B[0m     )\n\u001B[1;32m    116\u001B[0m     \u001B[38;5;28;01mfor\u001B[39;00m graph \u001B[38;5;129;01min\u001B[39;00m graphs\n\u001B[1;32m    117\u001B[0m ]\n\u001B[1;32m    119\u001B[0m documents \u001B[38;5;241m=\u001B[39m [doc\u001B[38;5;241m.\u001B[39mget_graph_features() \u001B[38;5;28;01mfor\u001B[39;00m _, doc \u001B[38;5;129;01min\u001B[39;00m \u001B[38;5;28menumerate\u001B[39m(documents)]\n\u001B[1;32m    121\u001B[0m embedding \u001B[38;5;241m=\u001B[39m np\u001B[38;5;241m.\u001B[39marray(\n\u001B[0;32m--> 122\u001B[0m     [\n\u001B[1;32m    123\u001B[0m         \u001B[38;5;28mself\u001B[39m\u001B[38;5;241m.\u001B[39mmodel\u001B[38;5;241m.\u001B[39minfer_vector(\n\u001B[1;32m    124\u001B[0m             doc, alpha\u001B[38;5;241m=\u001B[39m\u001B[38;5;28mself\u001B[39m\u001B[38;5;241m.\u001B[39mlearning_rate, min_alpha\u001B[38;5;241m=\u001B[39m\u001B[38;5;241m0.00001\u001B[39m, epochs\u001B[38;5;241m=\u001B[39m\u001B[38;5;28mself\u001B[39m\u001B[38;5;241m.\u001B[39mepochs\n\u001B[1;32m    125\u001B[0m         )\n\u001B[1;32m    126\u001B[0m         \u001B[38;5;28;01mfor\u001B[39;00m doc \u001B[38;5;129;01min\u001B[39;00m documents\n\u001B[1;32m    127\u001B[0m     ]\n\u001B[1;32m    128\u001B[0m )\n\u001B[1;32m    130\u001B[0m \u001B[38;5;28;01mreturn\u001B[39;00m embedding\n",
      "File \u001B[0;32m~/.pyenv/versions/3.10.13/lib/python3.10/site-packages/karateclub/graph_embedding/graph2vec.py:123\u001B[0m, in \u001B[0;36m<listcomp>\u001B[0;34m(.0)\u001B[0m\n\u001B[1;32m    112\u001B[0m documents \u001B[38;5;241m=\u001B[39m [\n\u001B[1;32m    113\u001B[0m     WeisfeilerLehmanHashing(\n\u001B[1;32m    114\u001B[0m         graph, \u001B[38;5;28mself\u001B[39m\u001B[38;5;241m.\u001B[39mwl_iterations, \u001B[38;5;28mself\u001B[39m\u001B[38;5;241m.\u001B[39mattributed, \u001B[38;5;28mself\u001B[39m\u001B[38;5;241m.\u001B[39merase_base_features\n\u001B[1;32m    115\u001B[0m     )\n\u001B[1;32m    116\u001B[0m     \u001B[38;5;28;01mfor\u001B[39;00m graph \u001B[38;5;129;01min\u001B[39;00m graphs\n\u001B[1;32m    117\u001B[0m ]\n\u001B[1;32m    119\u001B[0m documents \u001B[38;5;241m=\u001B[39m [doc\u001B[38;5;241m.\u001B[39mget_graph_features() \u001B[38;5;28;01mfor\u001B[39;00m _, doc \u001B[38;5;129;01min\u001B[39;00m \u001B[38;5;28menumerate\u001B[39m(documents)]\n\u001B[1;32m    121\u001B[0m embedding \u001B[38;5;241m=\u001B[39m np\u001B[38;5;241m.\u001B[39marray(\n\u001B[1;32m    122\u001B[0m     [\n\u001B[0;32m--> 123\u001B[0m         \u001B[38;5;28;43mself\u001B[39;49m\u001B[38;5;241;43m.\u001B[39;49m\u001B[43mmodel\u001B[49m\u001B[38;5;241;43m.\u001B[39;49m\u001B[43minfer_vector\u001B[49m\u001B[43m(\u001B[49m\n\u001B[1;32m    124\u001B[0m \u001B[43m            \u001B[49m\u001B[43mdoc\u001B[49m\u001B[43m,\u001B[49m\u001B[43m \u001B[49m\u001B[43malpha\u001B[49m\u001B[38;5;241;43m=\u001B[39;49m\u001B[38;5;28;43mself\u001B[39;49m\u001B[38;5;241;43m.\u001B[39;49m\u001B[43mlearning_rate\u001B[49m\u001B[43m,\u001B[49m\u001B[43m \u001B[49m\u001B[43mmin_alpha\u001B[49m\u001B[38;5;241;43m=\u001B[39;49m\u001B[38;5;241;43m0.00001\u001B[39;49m\u001B[43m,\u001B[49m\u001B[43m \u001B[49m\u001B[43mepochs\u001B[49m\u001B[38;5;241;43m=\u001B[39;49m\u001B[38;5;28;43mself\u001B[39;49m\u001B[38;5;241;43m.\u001B[39;49m\u001B[43mepochs\u001B[49m\n\u001B[1;32m    125\u001B[0m \u001B[43m        \u001B[49m\u001B[43m)\u001B[49m\n\u001B[1;32m    126\u001B[0m         \u001B[38;5;28;01mfor\u001B[39;00m doc \u001B[38;5;129;01min\u001B[39;00m documents\n\u001B[1;32m    127\u001B[0m     ]\n\u001B[1;32m    128\u001B[0m )\n\u001B[1;32m    130\u001B[0m \u001B[38;5;28;01mreturn\u001B[39;00m embedding\n",
      "File \u001B[0;32m~/.pyenv/versions/3.10.13/lib/python3.10/site-packages/gensim/models/doc2vec.py:641\u001B[0m, in \u001B[0;36mDoc2Vec.infer_vector\u001B[0;34m(self, doc_words, alpha, min_alpha, epochs)\u001B[0m\n\u001B[1;32m    639\u001B[0m \u001B[38;5;28;01mfor\u001B[39;00m i \u001B[38;5;129;01min\u001B[39;00m \u001B[38;5;28mrange\u001B[39m(epochs):\n\u001B[1;32m    640\u001B[0m     \u001B[38;5;28;01mif\u001B[39;00m \u001B[38;5;28mself\u001B[39m\u001B[38;5;241m.\u001B[39msg:\n\u001B[0;32m--> 641\u001B[0m         \u001B[43mtrain_document_dbow\u001B[49m\u001B[43m(\u001B[49m\n\u001B[1;32m    642\u001B[0m \u001B[43m            \u001B[49m\u001B[38;5;28;43mself\u001B[39;49m\u001B[43m,\u001B[49m\u001B[43m \u001B[49m\u001B[43mdoc_words\u001B[49m\u001B[43m,\u001B[49m\u001B[43m \u001B[49m\u001B[43mdoctag_indexes\u001B[49m\u001B[43m,\u001B[49m\u001B[43m \u001B[49m\u001B[43malpha\u001B[49m\u001B[43m,\u001B[49m\u001B[43m \u001B[49m\u001B[43mwork\u001B[49m\u001B[43m,\u001B[49m\n\u001B[1;32m    643\u001B[0m \u001B[43m            \u001B[49m\u001B[43mlearn_words\u001B[49m\u001B[38;5;241;43m=\u001B[39;49m\u001B[38;5;28;43;01mFalse\u001B[39;49;00m\u001B[43m,\u001B[49m\u001B[43m \u001B[49m\u001B[43mlearn_hidden\u001B[49m\u001B[38;5;241;43m=\u001B[39;49m\u001B[38;5;28;43;01mFalse\u001B[39;49;00m\u001B[43m,\u001B[49m\u001B[43m \u001B[49m\u001B[43mdoctag_vectors\u001B[49m\u001B[38;5;241;43m=\u001B[39;49m\u001B[43mdoctag_vectors\u001B[49m\u001B[43m,\u001B[49m\u001B[43m \u001B[49m\u001B[43mdoctags_lockf\u001B[49m\u001B[38;5;241;43m=\u001B[39;49m\u001B[43mdoctags_lockf\u001B[49m\n\u001B[1;32m    644\u001B[0m \u001B[43m        \u001B[49m\u001B[43m)\u001B[49m\n\u001B[1;32m    645\u001B[0m     \u001B[38;5;28;01melif\u001B[39;00m \u001B[38;5;28mself\u001B[39m\u001B[38;5;241m.\u001B[39mdm_concat:\n\u001B[1;32m    646\u001B[0m         train_document_dm_concat(\n\u001B[1;32m    647\u001B[0m             \u001B[38;5;28mself\u001B[39m, doc_words, doctag_indexes, alpha, work, neu1,\n\u001B[1;32m    648\u001B[0m             learn_words\u001B[38;5;241m=\u001B[39m\u001B[38;5;28;01mFalse\u001B[39;00m, learn_hidden\u001B[38;5;241m=\u001B[39m\u001B[38;5;28;01mFalse\u001B[39;00m, doctag_vectors\u001B[38;5;241m=\u001B[39mdoctag_vectors, doctags_lockf\u001B[38;5;241m=\u001B[39mdoctags_lockf\n\u001B[1;32m    649\u001B[0m         )\n",
      "\u001B[0;31mKeyboardInterrupt\u001B[0m: "
     ]
    }
   ],
   "source": [
    "import random\n",
    "\n",
    "import pandas as pd\n",
    "from sklearn.metrics.pairwise import cosine_similarity\n",
    "\n",
    "indices = list(range(len(nx_graphs)))\n",
    "sample_indices = random.choices(indices, k=20000)\n",
    "columns = ['index', 'embedding_i', 'inferred_i', 'cosine_similarity']\n",
    "df = pd.DataFrame(columns=columns)\n",
    "\n",
    "for i in tqdm(sample_indices):\n",
    "    graph = subgraphs[i]\n",
    "    row = {\n",
    "        'index': i,\n",
    "        'depth': graph.depth,\n",
    "        '#edges': len(graph.edges),\n",
    "        '#nodes': len(graph.nodes),\n",
    "        'embedding_i': graph2vec_embedding[i],\n",
    "        'inferred_i': graph2vec.infer([nx_graphs[i]])[0],\n",
    "        'cosine_similarity': cosine_similarity([graph2vec_embedding[i]], [graph2vec.infer([nx_graphs[i]])[0]])[0, 0]\n",
    "    }\n",
    "    df = df.append([row], ignore_index=True)"
   ],
   "metadata": {
    "collapsed": false,
    "ExecuteTime": {
     "end_time": "2024-01-22T03:57:05.281194Z",
     "start_time": "2024-01-22T03:53:55.221523Z"
    }
   },
   "id": "d258d0eabe8bfca2"
  },
  {
   "cell_type": "code",
   "execution_count": null,
   "outputs": [],
   "source": [
    "df['#edges'] = df['index'].apply(lambda i: len(subgraphs[i].edges))"
   ],
   "metadata": {
    "collapsed": false,
    "ExecuteTime": {
     "end_time": "2024-01-22T03:18:57.007720Z",
     "start_time": "2024-01-22T03:18:57.005332Z"
    }
   },
   "id": "94ff0df8621acb2b"
  },
  {
   "cell_type": "code",
   "execution_count": 83,
   "outputs": [
    {
     "data": {
      "text/plain": "            mean       std  count\n#edges                           \n1.0     0.971427  0.020596   9878\n2.0     0.976955  0.023588     20\n3.0     0.956525  0.024739      5\n4.0     0.974760  0.003769      5\n5.0     0.963782       NaN      1\n7.0     0.979989  0.005538      4\n17.0    0.987531       NaN      1\n22.0    0.966198       NaN      1\n25.0    0.980197       NaN      1\n28.0    0.989507       NaN      1\n31.0    0.975463       NaN      1\n32.0    0.977358       NaN      1\n33.0    0.977839  0.016357      2\n37.0    0.986699       NaN      1\n39.0    0.995313       NaN      1\n49.0    0.968812  0.001542      2\n62.0    0.978614       NaN      1\n74.0    0.954070       NaN      1\n83.0    0.989229       NaN      1\n97.0    0.984107  0.007157      4\n123.0   0.692298       NaN      1\n190.0   0.980062  0.007941     11\n215.0   0.975366  0.001300      2\n221.0   0.996691       NaN      1\n223.0   0.980887       NaN      1\n234.0   0.991717       NaN      1\n237.0   0.987775  0.005995      3\n265.0   0.990909       NaN      1\n271.0   0.972105       NaN      1\n274.0   0.983136       NaN      1\n280.0   0.981910       NaN      1\n283.0   0.978025       NaN      1\n284.0   0.969927  0.000769      2\n303.0   0.992083       NaN      1\n310.0   0.982291  0.015573      3\n327.0   0.987458       NaN      1\n339.0   0.993338       NaN      1\n346.0   0.994506       NaN      1\n355.0   0.988189       NaN      1\n408.0   0.975236  0.013931      4\n417.0   0.994069       NaN      1\n422.0   0.971718       NaN      1\n428.0   0.994163  0.001349      4\n429.0   0.993474       NaN      1\n445.0   0.994329       NaN      1\n469.0   0.984130  0.003854      4\n578.0   0.962898       NaN      1\n584.0   0.992864       NaN      1\n598.0   0.997045       NaN      1\n715.0   0.985756       NaN      1\n716.0   0.989290       NaN      1\n718.0   0.985689       NaN      1\n929.0   0.982565       NaN      1\n975.0   0.988210       NaN      1\n1001.0  0.989877  0.007123      4\n1132.0  0.971742       NaN      1\n1181.0  0.982188       NaN      1\n1213.0  0.980397       NaN      1\n1249.0  0.963026       NaN      1\n1368.0  0.212886       NaN      1",
      "text/html": "<div>\n<style scoped>\n    .dataframe tbody tr th:only-of-type {\n        vertical-align: middle;\n    }\n\n    .dataframe tbody tr th {\n        vertical-align: top;\n    }\n\n    .dataframe thead th {\n        text-align: right;\n    }\n</style>\n<table border=\"1\" class=\"dataframe\">\n  <thead>\n    <tr style=\"text-align: right;\">\n      <th></th>\n      <th>mean</th>\n      <th>std</th>\n      <th>count</th>\n    </tr>\n    <tr>\n      <th>#edges</th>\n      <th></th>\n      <th></th>\n      <th></th>\n    </tr>\n  </thead>\n  <tbody>\n    <tr>\n      <th>1.0</th>\n      <td>0.971427</td>\n      <td>0.020596</td>\n      <td>9878</td>\n    </tr>\n    <tr>\n      <th>2.0</th>\n      <td>0.976955</td>\n      <td>0.023588</td>\n      <td>20</td>\n    </tr>\n    <tr>\n      <th>3.0</th>\n      <td>0.956525</td>\n      <td>0.024739</td>\n      <td>5</td>\n    </tr>\n    <tr>\n      <th>4.0</th>\n      <td>0.974760</td>\n      <td>0.003769</td>\n      <td>5</td>\n    </tr>\n    <tr>\n      <th>5.0</th>\n      <td>0.963782</td>\n      <td>NaN</td>\n      <td>1</td>\n    </tr>\n    <tr>\n      <th>7.0</th>\n      <td>0.979989</td>\n      <td>0.005538</td>\n      <td>4</td>\n    </tr>\n    <tr>\n      <th>17.0</th>\n      <td>0.987531</td>\n      <td>NaN</td>\n      <td>1</td>\n    </tr>\n    <tr>\n      <th>22.0</th>\n      <td>0.966198</td>\n      <td>NaN</td>\n      <td>1</td>\n    </tr>\n    <tr>\n      <th>25.0</th>\n      <td>0.980197</td>\n      <td>NaN</td>\n      <td>1</td>\n    </tr>\n    <tr>\n      <th>28.0</th>\n      <td>0.989507</td>\n      <td>NaN</td>\n      <td>1</td>\n    </tr>\n    <tr>\n      <th>31.0</th>\n      <td>0.975463</td>\n      <td>NaN</td>\n      <td>1</td>\n    </tr>\n    <tr>\n      <th>32.0</th>\n      <td>0.977358</td>\n      <td>NaN</td>\n      <td>1</td>\n    </tr>\n    <tr>\n      <th>33.0</th>\n      <td>0.977839</td>\n      <td>0.016357</td>\n      <td>2</td>\n    </tr>\n    <tr>\n      <th>37.0</th>\n      <td>0.986699</td>\n      <td>NaN</td>\n      <td>1</td>\n    </tr>\n    <tr>\n      <th>39.0</th>\n      <td>0.995313</td>\n      <td>NaN</td>\n      <td>1</td>\n    </tr>\n    <tr>\n      <th>49.0</th>\n      <td>0.968812</td>\n      <td>0.001542</td>\n      <td>2</td>\n    </tr>\n    <tr>\n      <th>62.0</th>\n      <td>0.978614</td>\n      <td>NaN</td>\n      <td>1</td>\n    </tr>\n    <tr>\n      <th>74.0</th>\n      <td>0.954070</td>\n      <td>NaN</td>\n      <td>1</td>\n    </tr>\n    <tr>\n      <th>83.0</th>\n      <td>0.989229</td>\n      <td>NaN</td>\n      <td>1</td>\n    </tr>\n    <tr>\n      <th>97.0</th>\n      <td>0.984107</td>\n      <td>0.007157</td>\n      <td>4</td>\n    </tr>\n    <tr>\n      <th>123.0</th>\n      <td>0.692298</td>\n      <td>NaN</td>\n      <td>1</td>\n    </tr>\n    <tr>\n      <th>190.0</th>\n      <td>0.980062</td>\n      <td>0.007941</td>\n      <td>11</td>\n    </tr>\n    <tr>\n      <th>215.0</th>\n      <td>0.975366</td>\n      <td>0.001300</td>\n      <td>2</td>\n    </tr>\n    <tr>\n      <th>221.0</th>\n      <td>0.996691</td>\n      <td>NaN</td>\n      <td>1</td>\n    </tr>\n    <tr>\n      <th>223.0</th>\n      <td>0.980887</td>\n      <td>NaN</td>\n      <td>1</td>\n    </tr>\n    <tr>\n      <th>234.0</th>\n      <td>0.991717</td>\n      <td>NaN</td>\n      <td>1</td>\n    </tr>\n    <tr>\n      <th>237.0</th>\n      <td>0.987775</td>\n      <td>0.005995</td>\n      <td>3</td>\n    </tr>\n    <tr>\n      <th>265.0</th>\n      <td>0.990909</td>\n      <td>NaN</td>\n      <td>1</td>\n    </tr>\n    <tr>\n      <th>271.0</th>\n      <td>0.972105</td>\n      <td>NaN</td>\n      <td>1</td>\n    </tr>\n    <tr>\n      <th>274.0</th>\n      <td>0.983136</td>\n      <td>NaN</td>\n      <td>1</td>\n    </tr>\n    <tr>\n      <th>280.0</th>\n      <td>0.981910</td>\n      <td>NaN</td>\n      <td>1</td>\n    </tr>\n    <tr>\n      <th>283.0</th>\n      <td>0.978025</td>\n      <td>NaN</td>\n      <td>1</td>\n    </tr>\n    <tr>\n      <th>284.0</th>\n      <td>0.969927</td>\n      <td>0.000769</td>\n      <td>2</td>\n    </tr>\n    <tr>\n      <th>303.0</th>\n      <td>0.992083</td>\n      <td>NaN</td>\n      <td>1</td>\n    </tr>\n    <tr>\n      <th>310.0</th>\n      <td>0.982291</td>\n      <td>0.015573</td>\n      <td>3</td>\n    </tr>\n    <tr>\n      <th>327.0</th>\n      <td>0.987458</td>\n      <td>NaN</td>\n      <td>1</td>\n    </tr>\n    <tr>\n      <th>339.0</th>\n      <td>0.993338</td>\n      <td>NaN</td>\n      <td>1</td>\n    </tr>\n    <tr>\n      <th>346.0</th>\n      <td>0.994506</td>\n      <td>NaN</td>\n      <td>1</td>\n    </tr>\n    <tr>\n      <th>355.0</th>\n      <td>0.988189</td>\n      <td>NaN</td>\n      <td>1</td>\n    </tr>\n    <tr>\n      <th>408.0</th>\n      <td>0.975236</td>\n      <td>0.013931</td>\n      <td>4</td>\n    </tr>\n    <tr>\n      <th>417.0</th>\n      <td>0.994069</td>\n      <td>NaN</td>\n      <td>1</td>\n    </tr>\n    <tr>\n      <th>422.0</th>\n      <td>0.971718</td>\n      <td>NaN</td>\n      <td>1</td>\n    </tr>\n    <tr>\n      <th>428.0</th>\n      <td>0.994163</td>\n      <td>0.001349</td>\n      <td>4</td>\n    </tr>\n    <tr>\n      <th>429.0</th>\n      <td>0.993474</td>\n      <td>NaN</td>\n      <td>1</td>\n    </tr>\n    <tr>\n      <th>445.0</th>\n      <td>0.994329</td>\n      <td>NaN</td>\n      <td>1</td>\n    </tr>\n    <tr>\n      <th>469.0</th>\n      <td>0.984130</td>\n      <td>0.003854</td>\n      <td>4</td>\n    </tr>\n    <tr>\n      <th>578.0</th>\n      <td>0.962898</td>\n      <td>NaN</td>\n      <td>1</td>\n    </tr>\n    <tr>\n      <th>584.0</th>\n      <td>0.992864</td>\n      <td>NaN</td>\n      <td>1</td>\n    </tr>\n    <tr>\n      <th>598.0</th>\n      <td>0.997045</td>\n      <td>NaN</td>\n      <td>1</td>\n    </tr>\n    <tr>\n      <th>715.0</th>\n      <td>0.985756</td>\n      <td>NaN</td>\n      <td>1</td>\n    </tr>\n    <tr>\n      <th>716.0</th>\n      <td>0.989290</td>\n      <td>NaN</td>\n      <td>1</td>\n    </tr>\n    <tr>\n      <th>718.0</th>\n      <td>0.985689</td>\n      <td>NaN</td>\n      <td>1</td>\n    </tr>\n    <tr>\n      <th>929.0</th>\n      <td>0.982565</td>\n      <td>NaN</td>\n      <td>1</td>\n    </tr>\n    <tr>\n      <th>975.0</th>\n      <td>0.988210</td>\n      <td>NaN</td>\n      <td>1</td>\n    </tr>\n    <tr>\n      <th>1001.0</th>\n      <td>0.989877</td>\n      <td>0.007123</td>\n      <td>4</td>\n    </tr>\n    <tr>\n      <th>1132.0</th>\n      <td>0.971742</td>\n      <td>NaN</td>\n      <td>1</td>\n    </tr>\n    <tr>\n      <th>1181.0</th>\n      <td>0.982188</td>\n      <td>NaN</td>\n      <td>1</td>\n    </tr>\n    <tr>\n      <th>1213.0</th>\n      <td>0.980397</td>\n      <td>NaN</td>\n      <td>1</td>\n    </tr>\n    <tr>\n      <th>1249.0</th>\n      <td>0.963026</td>\n      <td>NaN</td>\n      <td>1</td>\n    </tr>\n    <tr>\n      <th>1368.0</th>\n      <td>0.212886</td>\n      <td>NaN</td>\n      <td>1</td>\n    </tr>\n  </tbody>\n</table>\n</div>"
     },
     "execution_count": 83,
     "metadata": {},
     "output_type": "execute_result"
    }
   ],
   "source": [
    "# group df by #edges\n",
    "grouped_data = df.groupby('#edges')['cosine_similarity'].agg(['mean', 'std', 'count'])\n",
    "grouped_data"
   ],
   "metadata": {
    "collapsed": false,
    "ExecuteTime": {
     "end_time": "2024-01-22T03:53:44.145935Z",
     "start_time": "2024-01-22T03:53:44.126641Z"
    }
   },
   "id": "1e5586ab22a497cc"
  },
  {
   "cell_type": "code",
   "execution_count": 53,
   "outputs": [
    {
     "data": {
      "text/plain": "0.020014646"
     },
     "execution_count": 53,
     "metadata": {},
     "output_type": "execute_result"
    }
   ],
   "source": [
    "np.std(similarities)"
   ],
   "metadata": {
    "collapsed": false,
    "ExecuteTime": {
     "end_time": "2024-01-22T02:41:11.202983Z",
     "start_time": "2024-01-22T02:41:11.198874Z"
    }
   },
   "id": "7c1fce5800526ef3"
  },
  {
   "cell_type": "code",
   "execution_count": null,
   "outputs": [],
   "source": [
    "import pickle\n",
    "with open('graph2vec_embedding.p', 'wb') as f:\n",
    "    pickle.dump(graph2vec_embedding, f)\n",
    "with open('subgraphs.p', 'wb') as f:\n",
    "    pickle.dump(subgraphs, f)"
   ],
   "metadata": {
    "collapsed": false
   },
   "id": "a0fdadcaff991a81"
  },
  {
   "cell_type": "code",
   "execution_count": 20,
   "outputs": [
    {
     "name": "stderr",
     "output_type": "stream",
     "text": [
      "0/5: 100%|██████████| 500500/500500 [01:24<00:00, 5938.67it/s]\n",
      "1/5: 100%|██████████| 500500/500500 [01:24<00:00, 5953.98it/s]\n",
      "2/5: 100%|██████████| 500500/500500 [01:23<00:00, 5991.87it/s]\n",
      "3/5: 100%|██████████| 500500/500500 [01:23<00:00, 5971.07it/s]\n",
      "4/5: 100%|██████████| 500500/500500 [01:23<00:00, 5969.79it/s]\n"
     ]
    }
   ],
   "source": [
    "from sklearn.metrics.pairwise import cosine_similarity\n",
    "from itertools import combinations\n",
    "\n",
    "data = {\n",
    "    'delta_depth': [],\n",
    "    'depth_1': [],\n",
    "    'depth_2': [],\n",
    "    'cosine_similarity': [],\n",
    "    'parent_graph': []\n",
    "}\n",
    "\n",
    "graph_ids = list(set([s.graph.source_edge_id for s in subgraphs]))[:5]\n",
    "for i_g, graph_id in enumerate(graph_ids):\n",
    "    contained_subgraphs = [(i, s) for i, s in enumerate(subgraphs) if s.graph.source_edge_id == graph_id]\n",
    "    comparisons = list(combinations(contained_subgraphs, 2))\n",
    "    for (i, s1), (j, s2) in tqdm(comparisons, desc=f'{i_g+1}/{len(graph_ids)} ({graph_id})'):\n",
    "        data['depth_1'].append(s1.depth)\n",
    "        data['depth_2'].append(s2.depth)\n",
    "        data['cosine_similarity'].append(cosine_similarity([graph2vec_embedding[i]], [graph2vec_embedding[j]])[0][0])\n"
   ],
   "metadata": {
    "collapsed": false,
    "ExecuteTime": {
     "end_time": "2024-01-22T00:48:54.588243Z",
     "start_time": "2024-01-22T00:41:53.596310Z"
    }
   },
   "id": "4d583d224ddbc81a"
  },
  {
   "cell_type": "code",
   "execution_count": 21,
   "outputs": [
    {
     "ename": "ValueError",
     "evalue": "All arrays must be of the same length",
     "output_type": "error",
     "traceback": [
      "\u001B[0;31m---------------------------------------------------------------------------\u001B[0m",
      "\u001B[0;31mValueError\u001B[0m                                Traceback (most recent call last)",
      "Cell \u001B[0;32mIn[21], line 2\u001B[0m\n\u001B[1;32m      1\u001B[0m \u001B[38;5;28;01mimport\u001B[39;00m \u001B[38;5;21;01mpandas\u001B[39;00m \u001B[38;5;28;01mas\u001B[39;00m \u001B[38;5;21;01mpd\u001B[39;00m\n\u001B[0;32m----> 2\u001B[0m df \u001B[38;5;241m=\u001B[39m \u001B[43mpd\u001B[49m\u001B[38;5;241;43m.\u001B[39;49m\u001B[43mDataFrame\u001B[49m\u001B[43m(\u001B[49m\u001B[43mdata\u001B[49m\u001B[43m)\u001B[49m\n\u001B[1;32m      3\u001B[0m df\u001B[38;5;241m.\u001B[39mhead()\n",
      "File \u001B[0;32m~/.pyenv/versions/3.10.13/lib/python3.10/site-packages/pandas/core/frame.py:614\u001B[0m, in \u001B[0;36mDataFrame.__init__\u001B[0;34m(self, data, index, columns, dtype, copy)\u001B[0m\n\u001B[1;32m    608\u001B[0m     mgr \u001B[38;5;241m=\u001B[39m \u001B[38;5;28mself\u001B[39m\u001B[38;5;241m.\u001B[39m_init_mgr(\n\u001B[1;32m    609\u001B[0m         data, axes\u001B[38;5;241m=\u001B[39m{\u001B[38;5;124m\"\u001B[39m\u001B[38;5;124mindex\u001B[39m\u001B[38;5;124m\"\u001B[39m: index, \u001B[38;5;124m\"\u001B[39m\u001B[38;5;124mcolumns\u001B[39m\u001B[38;5;124m\"\u001B[39m: columns}, dtype\u001B[38;5;241m=\u001B[39mdtype, copy\u001B[38;5;241m=\u001B[39mcopy\n\u001B[1;32m    610\u001B[0m     )\n\u001B[1;32m    612\u001B[0m \u001B[38;5;28;01melif\u001B[39;00m \u001B[38;5;28misinstance\u001B[39m(data, \u001B[38;5;28mdict\u001B[39m):\n\u001B[1;32m    613\u001B[0m     \u001B[38;5;66;03m# GH#38939 de facto copy defaults to False only in non-dict cases\u001B[39;00m\n\u001B[0;32m--> 614\u001B[0m     mgr \u001B[38;5;241m=\u001B[39m \u001B[43mdict_to_mgr\u001B[49m\u001B[43m(\u001B[49m\u001B[43mdata\u001B[49m\u001B[43m,\u001B[49m\u001B[43m \u001B[49m\u001B[43mindex\u001B[49m\u001B[43m,\u001B[49m\u001B[43m \u001B[49m\u001B[43mcolumns\u001B[49m\u001B[43m,\u001B[49m\u001B[43m \u001B[49m\u001B[43mdtype\u001B[49m\u001B[38;5;241;43m=\u001B[39;49m\u001B[43mdtype\u001B[49m\u001B[43m,\u001B[49m\u001B[43m \u001B[49m\u001B[43mcopy\u001B[49m\u001B[38;5;241;43m=\u001B[39;49m\u001B[43mcopy\u001B[49m\u001B[43m,\u001B[49m\u001B[43m \u001B[49m\u001B[43mtyp\u001B[49m\u001B[38;5;241;43m=\u001B[39;49m\u001B[43mmanager\u001B[49m\u001B[43m)\u001B[49m\n\u001B[1;32m    615\u001B[0m \u001B[38;5;28;01melif\u001B[39;00m \u001B[38;5;28misinstance\u001B[39m(data, ma\u001B[38;5;241m.\u001B[39mMaskedArray):\n\u001B[1;32m    616\u001B[0m     \u001B[38;5;28;01mimport\u001B[39;00m \u001B[38;5;21;01mnumpy\u001B[39;00m\u001B[38;5;21;01m.\u001B[39;00m\u001B[38;5;21;01mma\u001B[39;00m\u001B[38;5;21;01m.\u001B[39;00m\u001B[38;5;21;01mmrecords\u001B[39;00m \u001B[38;5;28;01mas\u001B[39;00m \u001B[38;5;21;01mmrecords\u001B[39;00m\n",
      "File \u001B[0;32m~/.pyenv/versions/3.10.13/lib/python3.10/site-packages/pandas/core/internals/construction.py:464\u001B[0m, in \u001B[0;36mdict_to_mgr\u001B[0;34m(data, index, columns, dtype, typ, copy)\u001B[0m\n\u001B[1;32m    456\u001B[0m     arrays \u001B[38;5;241m=\u001B[39m [\n\u001B[1;32m    457\u001B[0m         x\n\u001B[1;32m    458\u001B[0m         \u001B[38;5;28;01mif\u001B[39;00m \u001B[38;5;129;01mnot\u001B[39;00m \u001B[38;5;28mhasattr\u001B[39m(x, \u001B[38;5;124m\"\u001B[39m\u001B[38;5;124mdtype\u001B[39m\u001B[38;5;124m\"\u001B[39m) \u001B[38;5;129;01mor\u001B[39;00m \u001B[38;5;129;01mnot\u001B[39;00m \u001B[38;5;28misinstance\u001B[39m(x\u001B[38;5;241m.\u001B[39mdtype, ExtensionDtype)\n\u001B[1;32m    459\u001B[0m         \u001B[38;5;28;01melse\u001B[39;00m x\u001B[38;5;241m.\u001B[39mcopy()\n\u001B[1;32m    460\u001B[0m         \u001B[38;5;28;01mfor\u001B[39;00m x \u001B[38;5;129;01min\u001B[39;00m arrays\n\u001B[1;32m    461\u001B[0m     ]\n\u001B[1;32m    462\u001B[0m     \u001B[38;5;66;03m# TODO: can we get rid of the dt64tz special case above?\u001B[39;00m\n\u001B[0;32m--> 464\u001B[0m \u001B[38;5;28;01mreturn\u001B[39;00m \u001B[43marrays_to_mgr\u001B[49m\u001B[43m(\u001B[49m\n\u001B[1;32m    465\u001B[0m \u001B[43m    \u001B[49m\u001B[43marrays\u001B[49m\u001B[43m,\u001B[49m\u001B[43m \u001B[49m\u001B[43mdata_names\u001B[49m\u001B[43m,\u001B[49m\u001B[43m \u001B[49m\u001B[43mindex\u001B[49m\u001B[43m,\u001B[49m\u001B[43m \u001B[49m\u001B[43mcolumns\u001B[49m\u001B[43m,\u001B[49m\u001B[43m \u001B[49m\u001B[43mdtype\u001B[49m\u001B[38;5;241;43m=\u001B[39;49m\u001B[43mdtype\u001B[49m\u001B[43m,\u001B[49m\u001B[43m \u001B[49m\u001B[43mtyp\u001B[49m\u001B[38;5;241;43m=\u001B[39;49m\u001B[43mtyp\u001B[49m\u001B[43m,\u001B[49m\u001B[43m \u001B[49m\u001B[43mconsolidate\u001B[49m\u001B[38;5;241;43m=\u001B[39;49m\u001B[43mcopy\u001B[49m\n\u001B[1;32m    466\u001B[0m \u001B[43m\u001B[49m\u001B[43m)\u001B[49m\n",
      "File \u001B[0;32m~/.pyenv/versions/3.10.13/lib/python3.10/site-packages/pandas/core/internals/construction.py:119\u001B[0m, in \u001B[0;36marrays_to_mgr\u001B[0;34m(arrays, arr_names, index, columns, dtype, verify_integrity, typ, consolidate)\u001B[0m\n\u001B[1;32m    116\u001B[0m \u001B[38;5;28;01mif\u001B[39;00m verify_integrity:\n\u001B[1;32m    117\u001B[0m     \u001B[38;5;66;03m# figure out the index, if necessary\u001B[39;00m\n\u001B[1;32m    118\u001B[0m     \u001B[38;5;28;01mif\u001B[39;00m index \u001B[38;5;129;01mis\u001B[39;00m \u001B[38;5;28;01mNone\u001B[39;00m:\n\u001B[0;32m--> 119\u001B[0m         index \u001B[38;5;241m=\u001B[39m \u001B[43m_extract_index\u001B[49m\u001B[43m(\u001B[49m\u001B[43marrays\u001B[49m\u001B[43m)\u001B[49m\n\u001B[1;32m    120\u001B[0m     \u001B[38;5;28;01melse\u001B[39;00m:\n\u001B[1;32m    121\u001B[0m         index \u001B[38;5;241m=\u001B[39m ensure_index(index)\n",
      "File \u001B[0;32m~/.pyenv/versions/3.10.13/lib/python3.10/site-packages/pandas/core/internals/construction.py:635\u001B[0m, in \u001B[0;36m_extract_index\u001B[0;34m(data)\u001B[0m\n\u001B[1;32m    633\u001B[0m lengths \u001B[38;5;241m=\u001B[39m \u001B[38;5;28mlist\u001B[39m(\u001B[38;5;28mset\u001B[39m(raw_lengths))\n\u001B[1;32m    634\u001B[0m \u001B[38;5;28;01mif\u001B[39;00m \u001B[38;5;28mlen\u001B[39m(lengths) \u001B[38;5;241m>\u001B[39m \u001B[38;5;241m1\u001B[39m:\n\u001B[0;32m--> 635\u001B[0m     \u001B[38;5;28;01mraise\u001B[39;00m \u001B[38;5;167;01mValueError\u001B[39;00m(\u001B[38;5;124m\"\u001B[39m\u001B[38;5;124mAll arrays must be of the same length\u001B[39m\u001B[38;5;124m\"\u001B[39m)\n\u001B[1;32m    637\u001B[0m \u001B[38;5;28;01mif\u001B[39;00m have_dicts:\n\u001B[1;32m    638\u001B[0m     \u001B[38;5;28;01mraise\u001B[39;00m \u001B[38;5;167;01mValueError\u001B[39;00m(\n\u001B[1;32m    639\u001B[0m         \u001B[38;5;124m\"\u001B[39m\u001B[38;5;124mMixing dicts with non-Series may lead to ambiguous ordering.\u001B[39m\u001B[38;5;124m\"\u001B[39m\n\u001B[1;32m    640\u001B[0m     )\n",
      "\u001B[0;31mValueError\u001B[0m: All arrays must be of the same length"
     ]
    }
   ],
   "source": [
    "import pandas as pd\n",
    "df = pd.DataFrame(data)\n",
    "df.head()"
   ],
   "metadata": {
    "collapsed": false,
    "ExecuteTime": {
     "end_time": "2024-01-22T00:49:31.738840Z",
     "start_time": "2024-01-22T00:49:31.567411Z"
    }
   },
   "id": "7111f5d65d951019"
  },
  {
   "cell_type": "code",
   "execution_count": 89,
   "outputs": [
    {
     "ename": "KeyError",
     "evalue": "'delta_depth'",
     "output_type": "error",
     "traceback": [
      "\u001B[0;31m---------------------------------------------------------------------------\u001B[0m",
      "\u001B[0;31mKeyError\u001B[0m                                  Traceback (most recent call last)",
      "Cell \u001B[0;32mIn[89], line 1\u001B[0m\n\u001B[0;32m----> 1\u001B[0m grouped_data \u001B[38;5;241m=\u001B[39m \u001B[43mdf\u001B[49m\u001B[38;5;241;43m.\u001B[39;49m\u001B[43mgroupby\u001B[49m\u001B[43m(\u001B[49m\u001B[38;5;124;43m'\u001B[39;49m\u001B[38;5;124;43mdelta_depth\u001B[39;49m\u001B[38;5;124;43m'\u001B[39;49m\u001B[43m)\u001B[49m[\u001B[38;5;124m'\u001B[39m\u001B[38;5;124mcosine_similarity\u001B[39m\u001B[38;5;124m'\u001B[39m]\u001B[38;5;241m.\u001B[39magg([\u001B[38;5;124m'\u001B[39m\u001B[38;5;124mmean\u001B[39m\u001B[38;5;124m'\u001B[39m, \u001B[38;5;124m'\u001B[39m\u001B[38;5;124mstd\u001B[39m\u001B[38;5;124m'\u001B[39m])\n\u001B[1;32m      2\u001B[0m grouped_data\u001B[38;5;241m.\u001B[39mhead()\n",
      "File \u001B[0;32m~/.pyenv/versions/3.10.13/lib/python3.10/site-packages/pandas/core/frame.py:7631\u001B[0m, in \u001B[0;36mDataFrame.groupby\u001B[0;34m(self, by, axis, level, as_index, sort, group_keys, squeeze, observed, dropna)\u001B[0m\n\u001B[1;32m   7627\u001B[0m axis \u001B[38;5;241m=\u001B[39m \u001B[38;5;28mself\u001B[39m\u001B[38;5;241m.\u001B[39m_get_axis_number(axis)\n\u001B[1;32m   7629\u001B[0m \u001B[38;5;66;03m# error: Argument \"squeeze\" to \"DataFrameGroupBy\" has incompatible type\u001B[39;00m\n\u001B[1;32m   7630\u001B[0m \u001B[38;5;66;03m# \"Union[bool, NoDefault]\"; expected \"bool\"\u001B[39;00m\n\u001B[0;32m-> 7631\u001B[0m \u001B[38;5;28;01mreturn\u001B[39;00m \u001B[43mDataFrameGroupBy\u001B[49m\u001B[43m(\u001B[49m\n\u001B[1;32m   7632\u001B[0m \u001B[43m    \u001B[49m\u001B[43mobj\u001B[49m\u001B[38;5;241;43m=\u001B[39;49m\u001B[38;5;28;43mself\u001B[39;49m\u001B[43m,\u001B[49m\n\u001B[1;32m   7633\u001B[0m \u001B[43m    \u001B[49m\u001B[43mkeys\u001B[49m\u001B[38;5;241;43m=\u001B[39;49m\u001B[43mby\u001B[49m\u001B[43m,\u001B[49m\n\u001B[1;32m   7634\u001B[0m \u001B[43m    \u001B[49m\u001B[43maxis\u001B[49m\u001B[38;5;241;43m=\u001B[39;49m\u001B[43maxis\u001B[49m\u001B[43m,\u001B[49m\n\u001B[1;32m   7635\u001B[0m \u001B[43m    \u001B[49m\u001B[43mlevel\u001B[49m\u001B[38;5;241;43m=\u001B[39;49m\u001B[43mlevel\u001B[49m\u001B[43m,\u001B[49m\n\u001B[1;32m   7636\u001B[0m \u001B[43m    \u001B[49m\u001B[43mas_index\u001B[49m\u001B[38;5;241;43m=\u001B[39;49m\u001B[43mas_index\u001B[49m\u001B[43m,\u001B[49m\n\u001B[1;32m   7637\u001B[0m \u001B[43m    \u001B[49m\u001B[43msort\u001B[49m\u001B[38;5;241;43m=\u001B[39;49m\u001B[43msort\u001B[49m\u001B[43m,\u001B[49m\n\u001B[1;32m   7638\u001B[0m \u001B[43m    \u001B[49m\u001B[43mgroup_keys\u001B[49m\u001B[38;5;241;43m=\u001B[39;49m\u001B[43mgroup_keys\u001B[49m\u001B[43m,\u001B[49m\n\u001B[1;32m   7639\u001B[0m \u001B[43m    \u001B[49m\u001B[43msqueeze\u001B[49m\u001B[38;5;241;43m=\u001B[39;49m\u001B[43msqueeze\u001B[49m\u001B[43m,\u001B[49m\u001B[43m  \u001B[49m\u001B[38;5;66;43;03m# type: ignore[arg-type]\u001B[39;49;00m\n\u001B[1;32m   7640\u001B[0m \u001B[43m    \u001B[49m\u001B[43mobserved\u001B[49m\u001B[38;5;241;43m=\u001B[39;49m\u001B[43mobserved\u001B[49m\u001B[43m,\u001B[49m\n\u001B[1;32m   7641\u001B[0m \u001B[43m    \u001B[49m\u001B[43mdropna\u001B[49m\u001B[38;5;241;43m=\u001B[39;49m\u001B[43mdropna\u001B[49m\u001B[43m,\u001B[49m\n\u001B[1;32m   7642\u001B[0m \u001B[43m\u001B[49m\u001B[43m)\u001B[49m\n",
      "File \u001B[0;32m~/.pyenv/versions/3.10.13/lib/python3.10/site-packages/pandas/core/groupby/groupby.py:889\u001B[0m, in \u001B[0;36mGroupBy.__init__\u001B[0;34m(self, obj, keys, axis, level, grouper, exclusions, selection, as_index, sort, group_keys, squeeze, observed, mutated, dropna)\u001B[0m\n\u001B[1;32m    886\u001B[0m \u001B[38;5;28;01mif\u001B[39;00m grouper \u001B[38;5;129;01mis\u001B[39;00m \u001B[38;5;28;01mNone\u001B[39;00m:\n\u001B[1;32m    887\u001B[0m     \u001B[38;5;28;01mfrom\u001B[39;00m \u001B[38;5;21;01mpandas\u001B[39;00m\u001B[38;5;21;01m.\u001B[39;00m\u001B[38;5;21;01mcore\u001B[39;00m\u001B[38;5;21;01m.\u001B[39;00m\u001B[38;5;21;01mgroupby\u001B[39;00m\u001B[38;5;21;01m.\u001B[39;00m\u001B[38;5;21;01mgrouper\u001B[39;00m \u001B[38;5;28;01mimport\u001B[39;00m get_grouper\n\u001B[0;32m--> 889\u001B[0m     grouper, exclusions, obj \u001B[38;5;241m=\u001B[39m \u001B[43mget_grouper\u001B[49m\u001B[43m(\u001B[49m\n\u001B[1;32m    890\u001B[0m \u001B[43m        \u001B[49m\u001B[43mobj\u001B[49m\u001B[43m,\u001B[49m\n\u001B[1;32m    891\u001B[0m \u001B[43m        \u001B[49m\u001B[43mkeys\u001B[49m\u001B[43m,\u001B[49m\n\u001B[1;32m    892\u001B[0m \u001B[43m        \u001B[49m\u001B[43maxis\u001B[49m\u001B[38;5;241;43m=\u001B[39;49m\u001B[43maxis\u001B[49m\u001B[43m,\u001B[49m\n\u001B[1;32m    893\u001B[0m \u001B[43m        \u001B[49m\u001B[43mlevel\u001B[49m\u001B[38;5;241;43m=\u001B[39;49m\u001B[43mlevel\u001B[49m\u001B[43m,\u001B[49m\n\u001B[1;32m    894\u001B[0m \u001B[43m        \u001B[49m\u001B[43msort\u001B[49m\u001B[38;5;241;43m=\u001B[39;49m\u001B[43msort\u001B[49m\u001B[43m,\u001B[49m\n\u001B[1;32m    895\u001B[0m \u001B[43m        \u001B[49m\u001B[43mobserved\u001B[49m\u001B[38;5;241;43m=\u001B[39;49m\u001B[43mobserved\u001B[49m\u001B[43m,\u001B[49m\n\u001B[1;32m    896\u001B[0m \u001B[43m        \u001B[49m\u001B[43mmutated\u001B[49m\u001B[38;5;241;43m=\u001B[39;49m\u001B[38;5;28;43mself\u001B[39;49m\u001B[38;5;241;43m.\u001B[39;49m\u001B[43mmutated\u001B[49m\u001B[43m,\u001B[49m\n\u001B[1;32m    897\u001B[0m \u001B[43m        \u001B[49m\u001B[43mdropna\u001B[49m\u001B[38;5;241;43m=\u001B[39;49m\u001B[38;5;28;43mself\u001B[39;49m\u001B[38;5;241;43m.\u001B[39;49m\u001B[43mdropna\u001B[49m\u001B[43m,\u001B[49m\n\u001B[1;32m    898\u001B[0m \u001B[43m    \u001B[49m\u001B[43m)\u001B[49m\n\u001B[1;32m    900\u001B[0m \u001B[38;5;28mself\u001B[39m\u001B[38;5;241m.\u001B[39mobj \u001B[38;5;241m=\u001B[39m obj\n\u001B[1;32m    901\u001B[0m \u001B[38;5;28mself\u001B[39m\u001B[38;5;241m.\u001B[39maxis \u001B[38;5;241m=\u001B[39m obj\u001B[38;5;241m.\u001B[39m_get_axis_number(axis)\n",
      "File \u001B[0;32m~/.pyenv/versions/3.10.13/lib/python3.10/site-packages/pandas/core/groupby/grouper.py:862\u001B[0m, in \u001B[0;36mget_grouper\u001B[0;34m(obj, key, axis, level, sort, observed, mutated, validate, dropna)\u001B[0m\n\u001B[1;32m    860\u001B[0m         in_axis, level, gpr \u001B[38;5;241m=\u001B[39m \u001B[38;5;28;01mFalse\u001B[39;00m, gpr, \u001B[38;5;28;01mNone\u001B[39;00m\n\u001B[1;32m    861\u001B[0m     \u001B[38;5;28;01melse\u001B[39;00m:\n\u001B[0;32m--> 862\u001B[0m         \u001B[38;5;28;01mraise\u001B[39;00m \u001B[38;5;167;01mKeyError\u001B[39;00m(gpr)\n\u001B[1;32m    863\u001B[0m \u001B[38;5;28;01melif\u001B[39;00m \u001B[38;5;28misinstance\u001B[39m(gpr, Grouper) \u001B[38;5;129;01mand\u001B[39;00m gpr\u001B[38;5;241m.\u001B[39mkey \u001B[38;5;129;01mis\u001B[39;00m \u001B[38;5;129;01mnot\u001B[39;00m \u001B[38;5;28;01mNone\u001B[39;00m:\n\u001B[1;32m    864\u001B[0m     \u001B[38;5;66;03m# Add key to exclusions\u001B[39;00m\n\u001B[1;32m    865\u001B[0m     exclusions\u001B[38;5;241m.\u001B[39madd(gpr\u001B[38;5;241m.\u001B[39mkey)\n",
      "\u001B[0;31mKeyError\u001B[0m: 'delta_depth'"
     ]
    }
   ],
   "source": [
    "\n",
    "grouped_data = df.groupby('delta_depth')['cosine_similarity'].agg(['mean', 'std'])\n",
    "grouped_data.head()"
   ],
   "metadata": {
    "collapsed": false,
    "ExecuteTime": {
     "end_time": "2024-01-22T04:31:01.685896Z",
     "start_time": "2024-01-22T04:31:01.528929Z"
    }
   },
   "id": "e6af50a481d40c16"
  },
  {
   "cell_type": "code",
   "execution_count": 88,
   "outputs": [
    {
     "ename": "TypeError",
     "evalue": "'_AxesStack' object is not callable",
     "output_type": "error",
     "traceback": [
      "\u001B[0;31m---------------------------------------------------------------------------\u001B[0m",
      "\u001B[0;31mTypeError\u001B[0m                                 Traceback (most recent call last)",
      "Cell \u001B[0;32mIn[88], line 4\u001B[0m\n\u001B[1;32m      2\u001B[0m G \u001B[38;5;241m=\u001B[39m nx_graphs[\u001B[38;5;241m0\u001B[39m]\n\u001B[1;32m      3\u001B[0m \u001B[38;5;66;03m# This displays the graph as a png\u001B[39;00m\n\u001B[0;32m----> 4\u001B[0m \u001B[43mnx\u001B[49m\u001B[38;5;241;43m.\u001B[39;49m\u001B[43mdraw\u001B[49m\u001B[43m(\u001B[49m\u001B[43mG\u001B[49m\u001B[43m,\u001B[49m\u001B[43m \u001B[49m\u001B[43mwith_labels\u001B[49m\u001B[38;5;241;43m=\u001B[39;49m\u001B[38;5;28;43;01mTrue\u001B[39;49;00m\u001B[43m)\u001B[49m\n",
      "File \u001B[0;32m~/.pyenv/versions/3.10.13/lib/python3.10/site-packages/networkx/drawing/nx_pylab.py:113\u001B[0m, in \u001B[0;36mdraw\u001B[0;34m(G, pos, ax, **kwds)\u001B[0m\n\u001B[1;32m    111\u001B[0m cf\u001B[38;5;241m.\u001B[39mset_facecolor(\u001B[38;5;124m\"\u001B[39m\u001B[38;5;124mw\u001B[39m\u001B[38;5;124m\"\u001B[39m)\n\u001B[1;32m    112\u001B[0m \u001B[38;5;28;01mif\u001B[39;00m ax \u001B[38;5;129;01mis\u001B[39;00m \u001B[38;5;28;01mNone\u001B[39;00m:\n\u001B[0;32m--> 113\u001B[0m     \u001B[38;5;28;01mif\u001B[39;00m \u001B[43mcf\u001B[49m\u001B[38;5;241;43m.\u001B[39;49m\u001B[43m_axstack\u001B[49m\u001B[43m(\u001B[49m\u001B[43m)\u001B[49m \u001B[38;5;129;01mis\u001B[39;00m \u001B[38;5;28;01mNone\u001B[39;00m:\n\u001B[1;32m    114\u001B[0m         ax \u001B[38;5;241m=\u001B[39m cf\u001B[38;5;241m.\u001B[39madd_axes((\u001B[38;5;241m0\u001B[39m, \u001B[38;5;241m0\u001B[39m, \u001B[38;5;241m1\u001B[39m, \u001B[38;5;241m1\u001B[39m))\n\u001B[1;32m    115\u001B[0m     \u001B[38;5;28;01melse\u001B[39;00m:\n",
      "\u001B[0;31mTypeError\u001B[0m: '_AxesStack' object is not callable"
     ]
    },
    {
     "data": {
      "text/plain": "<Figure size 640x480 with 0 Axes>"
     },
     "metadata": {},
     "output_type": "display_data"
    }
   ],
   "source": [
    "import networkx as nx\n",
    "G = nx_graphs[0]\n",
    "# This displays the graph as a png\n",
    "nx.draw(G, with_labels=True)"
   ],
   "metadata": {
    "collapsed": false,
    "ExecuteTime": {
     "end_time": "2024-01-22T03:58:40.191519Z",
     "start_time": "2024-01-22T03:58:40.175536Z"
    }
   },
   "id": "7060c9ca69f09da8"
  },
  {
   "cell_type": "markdown",
   "source": [
    "## Similarity between paths"
   ],
   "metadata": {
    "collapsed": false
   },
   "id": "f27ce0a937e9bca7"
  },
  {
   "cell_type": "code",
   "execution_count": 44,
   "outputs": [
    {
     "name": "stderr",
     "output_type": "stream",
     "text": [
      "100%|██████████| 200/200 [00:08<00:00, 24.47it/s]\n"
     ]
    },
    {
     "data": {
      "text/plain": "2000000"
     },
     "execution_count": 44,
     "metadata": {},
     "output_type": "execute_result"
    }
   ],
   "source": [
    "import random\n",
    "from sklearn.metrics.pairwise import cosine_similarity\n",
    "from algorithm.utility import to_nx\n",
    "\n",
    "g = input_graphs[0]\n",
    "paths: list[list[EdgeWrapper]] = []\n",
    "nx_path_graphs = []\n",
    "def generate_path(edge_id: int, direction: str) -> list[EdgeWrapper]:\n",
    "    visited: dict[int, bool] = {}\n",
    "    edges: list[EdgeWrapper] = [g.get_edge(g.source_edge_id)]\n",
    "    current = g.get_edge(edge_id)\n",
    "    \n",
    "    # very ugly loop, it works though... #TODO: refactor\n",
    "    while current is not None:\n",
    "        visited[current.get_ref_id()] = True\n",
    "        edges.append(current)\n",
    "        node_id = current.node_ids[direction]\n",
    "        node = g.get_node(node_id)\n",
    "    \n",
    "        next_edge_ids = node.edge_ids[direction]\n",
    "        if len(next_edge_ids) == 0:\n",
    "            break\n",
    "        next_edge_id = random.choice(node.edge_ids[direction])\n",
    "        current = g.get_edge(next_edge_id)\n",
    "    return edges\n",
    "\n",
    "def generate_path_subgraphs(graph: GraphWrapper, direction: str, n: int) -> list[Subgraph]:\n",
    "    path_edges: list[list[EdgeWrapper]] = []\n",
    "    for _ in range(n):\n",
    "        path_edges.append(generate_path(graph.source_edge_id, direction))\n",
    "    return [ Subgraph(parent_graph=graph, edges=edges)\n",
    "             for edges in path_edges ]\n",
    "\n",
    "nx_path_subgraphs = []\n",
    "\n",
    "for graph in tqdm(input_graphs):\n",
    "    nx_path_subgraphs.extend(generate_path_subgraphs(graph, IN, 10000))\n",
    "    \n",
    "len(nx_path_subgraphs)"
   ],
   "metadata": {
    "collapsed": false,
    "ExecuteTime": {
     "end_time": "2024-01-22T05:19:45.123589Z",
     "start_time": "2024-01-22T05:19:36.940864Z"
    }
   },
   "id": "7c968f2370822854"
  },
  {
   "cell_type": "code",
   "execution_count": 43,
   "outputs": [
    {
     "data": {
      "text/plain": "200"
     },
     "execution_count": 43,
     "metadata": {},
     "output_type": "execute_result"
    }
   ],
   "source": [
    "len(input_graphs)"
   ],
   "metadata": {
    "collapsed": false,
    "ExecuteTime": {
     "end_time": "2024-01-22T05:19:32.276268Z",
     "start_time": "2024-01-22T05:19:32.273535Z"
    }
   },
   "id": "64e73a824d0140fe"
  },
  {
   "cell_type": "code",
   "execution_count": 45,
   "outputs": [
    {
     "data": {
      "text/plain": "(1, 12)"
     },
     "execution_count": 45,
     "metadata": {},
     "output_type": "execute_result"
    }
   ],
   "source": [
    "lengths = [len(x.edges) for x in nx_path_subgraphs ]\n",
    "min(lengths), max(lengths)"
   ],
   "metadata": {
    "collapsed": false,
    "ExecuteTime": {
     "end_time": "2024-01-22T05:19:47.345875Z",
     "start_time": "2024-01-22T05:19:47.252562Z"
    }
   },
   "id": "8ae9d5f6e5890143"
  },
  {
   "cell_type": "code",
   "execution_count": 48,
   "outputs": [
    {
     "data": {
      "text/plain": "0.14399361138258995"
     },
     "execution_count": 48,
     "metadata": {},
     "output_type": "execute_result"
    }
   ],
   "source": [
    "import numpy as np\n",
    "np.std(lengths)"
   ],
   "metadata": {
    "collapsed": false,
    "ExecuteTime": {
     "end_time": "2024-01-22T05:20:08.231366Z",
     "start_time": "2024-01-22T05:20:08.222700Z"
    }
   },
   "id": "59c4e76360b04419"
  },
  {
   "cell_type": "code",
   "execution_count": 53,
   "outputs": [
    {
     "data": {
      "text/plain": "9"
     },
     "execution_count": 53,
     "metadata": {},
     "output_type": "execute_result"
    }
   ],
   "source": [
    "candidates = [g for g in nx_path_subgraphs if len(g.edges) > 6]\n",
    "len(candidates)"
   ],
   "metadata": {
    "collapsed": false,
    "ExecuteTime": {
     "end_time": "2024-01-22T05:21:00.818698Z",
     "start_time": "2024-01-22T05:21:00.734746Z"
    }
   },
   "id": "d109e4680dd761c2"
  },
  {
   "cell_type": "code",
   "execution_count": 73,
   "outputs": [],
   "source": [
    "import networkx as nx\n",
    "import matplotlib.pyplot as plt\n",
    "G = to_nx(candidates[0])\n",
    "# Draw the graph\n",
    "fig, ax = plt.subplots()  # Create a figure and an axes object\n",
    "nx.draw(G,  ax=ax, with_labels=True, node_color='lightblue', node_size=500, font_size=10, font_weight='bold')\n",
    "# TODO: PICK UP HERE - I want to make sure this is actually a path...\n",
    "# Draw the nodes and edges\n",
    "pos = nx.spring_layout(G)\n",
    "nx.draw(G, pos,ax=ax, with_labels=True, node_color='lightblue', node_size=500, font_size=10, font_weight='bold')\n",
    "\n",
    "# Draw edge labels\n",
    "edge_labels = nx.get_edge_attributes(G, 'weight')\n",
    "nx.draw_networkx_edge_labels(G, pos, edge_labels=edge_labels, ax=ax)\n",
    "\n",
    "# Show the plot\n",
    "plt.show()"
   ],
   "metadata": {
    "collapsed": false,
    "ExecuteTime": {
     "end_time": "2024-01-22T05:26:50.458419Z",
     "start_time": "2024-01-22T05:26:50.447255Z"
    }
   },
   "id": "e167adb4d4ea3663"
  },
  {
   "cell_type": "code",
   "execution_count": null,
   "outputs": [],
   "source": [
    "for edge in "
   ],
   "metadata": {
    "collapsed": false
   },
   "id": "c6e3887adecfa8bd"
  }
 ],
 "metadata": {
  "kernelspec": {
   "display_name": "Python 3",
   "language": "python",
   "name": "python3"
  },
  "language_info": {
   "codemirror_mode": {
    "name": "ipython",
    "version": 2
   },
   "file_extension": ".py",
   "mimetype": "text/x-python",
   "name": "python",
   "nbconvert_exporter": "python",
   "pygments_lexer": "ipython2",
   "version": "2.7.6"
  }
 },
 "nbformat": 4,
 "nbformat_minor": 5
}
