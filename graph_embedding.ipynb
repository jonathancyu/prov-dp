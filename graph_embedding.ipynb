{
 "cells": [
  {
   "cell_type": "code",
   "execution_count": 27,
   "id": "824fd0a749174afb",
   "metadata": {
    "ExecuteTime": {
     "end_time": "2024-01-22T04:54:04.543819Z",
     "start_time": "2024-01-22T04:53:56.036652Z"
    },
    "collapsed": false
   },
   "outputs": [
    {
     "name": "stderr",
     "output_type": "stream",
     "text": [
      "Reading graphs: 100%|██████████| 400/400 [00:16<00:00, 24.64it/s]\n"
     ]
    },
    {
     "data": {
      "text/plain": [
       "400"
      ]
     },
     "execution_count": 27,
     "metadata": {},
     "output_type": "execute_result"
    }
   ],
   "source": [
    "from source.algorithm import GraphWrapper\n",
    "from pathlib import Path\n",
    "from tqdm import tqdm\n",
    "\n",
    "data_path = Path('F:\\\\data')\n",
    "\n",
    "input_path = data_path / 'benign_graphs' / 'tc3-theia' / 'firefox' / 'nd'\n",
    "input_paths = random.choices(list(input_path.glob('*.json')), k=400)\n",
    "input_graphs = [GraphWrapper(input_path) \n",
    "                for input_path in tqdm(input_paths, desc='Reading graphs')]\n",
    "len(input_graphs)"
   ]
  },
  {
   "cell_type": "code",
   "execution_count": 94,
   "id": "56e2d9bc8c47661a",
   "metadata": {
    "ExecuteTime": {
     "end_time": "2024-01-22T04:54:09.045673Z",
     "start_time": "2024-01-22T04:54:07.213557Z"
    },
    "collapsed": false
   },
   "outputs": [
    {
     "data": {
      "text/plain": [
       "386737"
      ]
     },
     "execution_count": 94,
     "metadata": {},
     "output_type": "execute_result"
    }
   ],
   "source": [
    "from collections import deque\n",
    "from source.algorithm import GraphWrapper, EdgeWrapper, NodeWrapper, Subgraph, IN, OUT\n",
    "\n",
    "def get_subgraphs(graph: GraphWrapper, direction: str) -> list[Subgraph]:\n",
    "    result: list[Subgraph] = []\n",
    "    visited_edges: set[EdgeWrapper] = set()\n",
    "\n",
    "    queue = deque([(0, graph.source_edge_id)])\n",
    "    while len(queue) > 0:\n",
    "        # Pop\n",
    "        depth, edge_id = queue.popleft()\n",
    "        edge: EdgeWrapper = graph.get_edge(edge_id)\n",
    "        if edge in visited_edges:\n",
    "            continue\n",
    "        visited_edges.add(edge)\n",
    "        \n",
    "        # Add subgraph\n",
    "        result.append(Subgraph(\n",
    "            parent_graph=graph,\n",
    "            depth=depth,\n",
    "            edges=graph.get_subtree(edge_id, direction)\n",
    "        ))\n",
    "        \n",
    "        # Extend queue\n",
    "        node_id: int = edge.node_ids[direction]\n",
    "        node: NodeWrapper = graph.get_node(node_id)\n",
    "        next_edge_ids: list[int] = node.edge_ids[direction]\n",
    "\n",
    "        queue.extend([(depth + 1, next_edge_id)\n",
    "                      for next_edge_id in next_edge_ids])\n",
    "    return result\n",
    "\n",
    "subgraphs = []\n",
    "for graph in input_graphs:\n",
    "    subgraphs.extend(get_subgraphs(graph, IN))\n",
    "len(subgraphs)"
   ]
  },
  {
   "cell_type": "code",
   "execution_count": 29,
   "id": "44274cb6bbf20635",
   "metadata": {
    "ExecuteTime": {
     "end_time": "2024-01-22T04:54:17.007007Z",
     "start_time": "2024-01-22T04:54:17.004574Z"
    },
    "collapsed": false
   },
   "outputs": [
    {
     "data": {
      "text/plain": [
       "(0, 8)"
      ]
     },
     "execution_count": 29,
     "metadata": {},
     "output_type": "execute_result"
    }
   ],
   "source": [
    "x = [graph.depth for graph in subgraphs]\n",
    "min(x), max(x)"
   ]
  },
  {
   "cell_type": "code",
   "execution_count": 100,
   "id": "7c73edbccf97cc93",
   "metadata": {
    "ExecuteTime": {
     "end_time": "2024-01-22T04:55:35.120384Z",
     "start_time": "2024-01-22T04:55:23.914575Z"
    },
    "collapsed": false
   },
   "outputs": [
    {
     "name": "stderr",
     "output_type": "stream",
     "text": [
      "Converting to NetworkX graphs: 100%|██████████| 386737/386737 [01:13<00:00, 5291.75it/s] \n"
     ]
    },
    {
     "data": {
      "text/plain": [
       "386737"
      ]
     },
     "execution_count": 100,
     "metadata": {},
     "output_type": "execute_result"
    }
   ],
   "source": [
    "from source.algorithm.utility import to_nx\n",
    "nx_graphs = [to_nx(graph) \n",
    "             for graph in tqdm(subgraphs, desc='Converting to NetworkX graphs')]\n",
    "len(nx_graphs)"
   ]
  },
  {
   "cell_type": "code",
   "execution_count": 31,
   "id": "91600bac8635582a",
   "metadata": {
    "ExecuteTime": {
     "end_time": "2024-01-22T05:00:29.482925Z",
     "start_time": "2024-01-22T04:55:55.705714Z"
    },
    "collapsed": false
   },
   "outputs": [
    {
     "data": {
      "text/plain": [
       "386737"
      ]
     },
     "execution_count": 31,
     "metadata": {},
     "output_type": "execute_result"
    }
   ],
   "source": [
    "from karateclub import Graph2Vec\n",
    "\n",
    "graph2vec = Graph2Vec(\n",
    "    wl_iterations=80,\n",
    "    attributed=True,\n",
    "    dimensions=128,\n",
    "    workers=4,\n",
    "    epochs=5\n",
    ")\n",
    "\n",
    "graph2vec.fit(nx_graphs)\n",
    "\n",
    "graph2vec_embedding = graph2vec.get_embedding()\n",
    "len(graph2vec_embedding)"
   ]
  },
  {
   "cell_type": "markdown",
   "id": "c343c13901de73d9",
   "metadata": {
    "collapsed": false
   },
   "source": [
    "# I. Graph2Vec Embedding Analysis"
   ]
  },
  {
   "cell_type": "markdown",
   "id": "ced010bfff0c8c85",
   "metadata": {
    "collapsed": false
   },
   "source": [
    "## A. Embedding Variance\n",
    "The embedding is not deterministic - it varies every time it is computed. \n",
    "\n",
    "TODO: look into how the graph2vec.embeddings() works.\n",
    "\n",
    "compare embedding from graph2vec.embeddings() with graph2vec.infer(graph) - mean .97ish, std around .02 \n"
   ]
  },
  {
   "cell_type": "code",
   "execution_count": 84,
   "id": "d258d0eabe8bfca2",
   "metadata": {
    "ExecuteTime": {
     "end_time": "2024-01-22T03:57:05.281194Z",
     "start_time": "2024-01-22T03:53:55.221523Z"
    },
    "collapsed": false
   },
   "outputs": [
    {
     "name": "stderr",
     "output_type": "stream",
     "text": [
      " 34%|███▍      | 33872/100000 [03:10<06:10, 178.26it/s]\n"
     ]
    },
    {
     "ename": "KeyboardInterrupt",
     "evalue": "",
     "output_type": "error",
     "traceback": [
      "\u001b[0;31m---------------------------------------------------------------------------\u001b[0m",
      "\u001b[0;31mKeyboardInterrupt\u001b[0m                         Traceback (most recent call last)",
      "Cell \u001b[0;32mIn[84], line 23\u001b[0m\n\u001b[1;32m     14\u001b[0m \u001b[38;5;28;01mfor\u001b[39;00m i \u001b[38;5;129;01min\u001b[39;00m tqdm(sample_indices):\n\u001b[1;32m     15\u001b[0m     graph \u001b[38;5;241m=\u001b[39m subgraphs[i]\n\u001b[1;32m     16\u001b[0m     row \u001b[38;5;241m=\u001b[39m {\n\u001b[1;32m     17\u001b[0m         \u001b[38;5;124m'\u001b[39m\u001b[38;5;124mindex\u001b[39m\u001b[38;5;124m'\u001b[39m: i,\n\u001b[1;32m     18\u001b[0m         \u001b[38;5;124m'\u001b[39m\u001b[38;5;124mdepth\u001b[39m\u001b[38;5;124m'\u001b[39m: graph\u001b[38;5;241m.\u001b[39mdepth,\n\u001b[1;32m     19\u001b[0m         \u001b[38;5;124m'\u001b[39m\u001b[38;5;124m#edges\u001b[39m\u001b[38;5;124m'\u001b[39m: \u001b[38;5;28mlen\u001b[39m(graph\u001b[38;5;241m.\u001b[39medges),\n\u001b[1;32m     20\u001b[0m         \u001b[38;5;124m'\u001b[39m\u001b[38;5;124m#nodes\u001b[39m\u001b[38;5;124m'\u001b[39m: \u001b[38;5;28mlen\u001b[39m(graph\u001b[38;5;241m.\u001b[39mnodes),\n\u001b[1;32m     21\u001b[0m         \u001b[38;5;124m'\u001b[39m\u001b[38;5;124membedding_i\u001b[39m\u001b[38;5;124m'\u001b[39m: graph2vec_embedding[i],\n\u001b[1;32m     22\u001b[0m         \u001b[38;5;124m'\u001b[39m\u001b[38;5;124minferred_i\u001b[39m\u001b[38;5;124m'\u001b[39m: graph2vec\u001b[38;5;241m.\u001b[39minfer([nx_graphs[i]])[\u001b[38;5;241m0\u001b[39m],\n\u001b[0;32m---> 23\u001b[0m         \u001b[38;5;124m'\u001b[39m\u001b[38;5;124mcosine_similarity\u001b[39m\u001b[38;5;124m'\u001b[39m: cosine_similarity([graph2vec_embedding[i]], [\u001b[43mgraph2vec\u001b[49m\u001b[38;5;241;43m.\u001b[39;49m\u001b[43minfer\u001b[49m\u001b[43m(\u001b[49m\u001b[43m[\u001b[49m\u001b[43mnx_graphs\u001b[49m\u001b[43m[\u001b[49m\u001b[43mi\u001b[49m\u001b[43m]\u001b[49m\u001b[43m]\u001b[49m\u001b[43m)\u001b[49m[\u001b[38;5;241m0\u001b[39m]])[\u001b[38;5;241m0\u001b[39m, \u001b[38;5;241m0\u001b[39m]\n\u001b[1;32m     24\u001b[0m     }\n\u001b[1;32m     25\u001b[0m     df \u001b[38;5;241m=\u001b[39m df\u001b[38;5;241m.\u001b[39mappend([row], ignore_index\u001b[38;5;241m=\u001b[39m\u001b[38;5;28;01mTrue\u001b[39;00m)\n",
      "File \u001b[0;32m~/.pyenv/versions/3.10.13/lib/python3.10/site-packages/karateclub/graph_embedding/graph2vec.py:122\u001b[0m, in \u001b[0;36mGraph2Vec.infer\u001b[0;34m(self, graphs)\u001b[0m\n\u001b[1;32m    112\u001b[0m documents \u001b[38;5;241m=\u001b[39m [\n\u001b[1;32m    113\u001b[0m     WeisfeilerLehmanHashing(\n\u001b[1;32m    114\u001b[0m         graph, \u001b[38;5;28mself\u001b[39m\u001b[38;5;241m.\u001b[39mwl_iterations, \u001b[38;5;28mself\u001b[39m\u001b[38;5;241m.\u001b[39mattributed, \u001b[38;5;28mself\u001b[39m\u001b[38;5;241m.\u001b[39merase_base_features\n\u001b[1;32m    115\u001b[0m     )\n\u001b[1;32m    116\u001b[0m     \u001b[38;5;28;01mfor\u001b[39;00m graph \u001b[38;5;129;01min\u001b[39;00m graphs\n\u001b[1;32m    117\u001b[0m ]\n\u001b[1;32m    119\u001b[0m documents \u001b[38;5;241m=\u001b[39m [doc\u001b[38;5;241m.\u001b[39mget_graph_features() \u001b[38;5;28;01mfor\u001b[39;00m _, doc \u001b[38;5;129;01min\u001b[39;00m \u001b[38;5;28menumerate\u001b[39m(documents)]\n\u001b[1;32m    121\u001b[0m embedding \u001b[38;5;241m=\u001b[39m np\u001b[38;5;241m.\u001b[39marray(\n\u001b[0;32m--> 122\u001b[0m     [\n\u001b[1;32m    123\u001b[0m         \u001b[38;5;28mself\u001b[39m\u001b[38;5;241m.\u001b[39mmodel\u001b[38;5;241m.\u001b[39minfer_vector(\n\u001b[1;32m    124\u001b[0m             doc, alpha\u001b[38;5;241m=\u001b[39m\u001b[38;5;28mself\u001b[39m\u001b[38;5;241m.\u001b[39mlearning_rate, min_alpha\u001b[38;5;241m=\u001b[39m\u001b[38;5;241m0.00001\u001b[39m, epochs\u001b[38;5;241m=\u001b[39m\u001b[38;5;28mself\u001b[39m\u001b[38;5;241m.\u001b[39mepochs\n\u001b[1;32m    125\u001b[0m         )\n\u001b[1;32m    126\u001b[0m         \u001b[38;5;28;01mfor\u001b[39;00m doc \u001b[38;5;129;01min\u001b[39;00m documents\n\u001b[1;32m    127\u001b[0m     ]\n\u001b[1;32m    128\u001b[0m )\n\u001b[1;32m    130\u001b[0m \u001b[38;5;28;01mreturn\u001b[39;00m embedding\n",
      "File \u001b[0;32m~/.pyenv/versions/3.10.13/lib/python3.10/site-packages/karateclub/graph_embedding/graph2vec.py:123\u001b[0m, in \u001b[0;36m<listcomp>\u001b[0;34m(.0)\u001b[0m\n\u001b[1;32m    112\u001b[0m documents \u001b[38;5;241m=\u001b[39m [\n\u001b[1;32m    113\u001b[0m     WeisfeilerLehmanHashing(\n\u001b[1;32m    114\u001b[0m         graph, \u001b[38;5;28mself\u001b[39m\u001b[38;5;241m.\u001b[39mwl_iterations, \u001b[38;5;28mself\u001b[39m\u001b[38;5;241m.\u001b[39mattributed, \u001b[38;5;28mself\u001b[39m\u001b[38;5;241m.\u001b[39merase_base_features\n\u001b[1;32m    115\u001b[0m     )\n\u001b[1;32m    116\u001b[0m     \u001b[38;5;28;01mfor\u001b[39;00m graph \u001b[38;5;129;01min\u001b[39;00m graphs\n\u001b[1;32m    117\u001b[0m ]\n\u001b[1;32m    119\u001b[0m documents \u001b[38;5;241m=\u001b[39m [doc\u001b[38;5;241m.\u001b[39mget_graph_features() \u001b[38;5;28;01mfor\u001b[39;00m _, doc \u001b[38;5;129;01min\u001b[39;00m \u001b[38;5;28menumerate\u001b[39m(documents)]\n\u001b[1;32m    121\u001b[0m embedding \u001b[38;5;241m=\u001b[39m np\u001b[38;5;241m.\u001b[39marray(\n\u001b[1;32m    122\u001b[0m     [\n\u001b[0;32m--> 123\u001b[0m         \u001b[38;5;28;43mself\u001b[39;49m\u001b[38;5;241;43m.\u001b[39;49m\u001b[43mmodel\u001b[49m\u001b[38;5;241;43m.\u001b[39;49m\u001b[43minfer_vector\u001b[49m\u001b[43m(\u001b[49m\n\u001b[1;32m    124\u001b[0m \u001b[43m            \u001b[49m\u001b[43mdoc\u001b[49m\u001b[43m,\u001b[49m\u001b[43m \u001b[49m\u001b[43malpha\u001b[49m\u001b[38;5;241;43m=\u001b[39;49m\u001b[38;5;28;43mself\u001b[39;49m\u001b[38;5;241;43m.\u001b[39;49m\u001b[43mlearning_rate\u001b[49m\u001b[43m,\u001b[49m\u001b[43m \u001b[49m\u001b[43mmin_alpha\u001b[49m\u001b[38;5;241;43m=\u001b[39;49m\u001b[38;5;241;43m0.00001\u001b[39;49m\u001b[43m,\u001b[49m\u001b[43m \u001b[49m\u001b[43mepochs\u001b[49m\u001b[38;5;241;43m=\u001b[39;49m\u001b[38;5;28;43mself\u001b[39;49m\u001b[38;5;241;43m.\u001b[39;49m\u001b[43mepochs\u001b[49m\n\u001b[1;32m    125\u001b[0m \u001b[43m        \u001b[49m\u001b[43m)\u001b[49m\n\u001b[1;32m    126\u001b[0m         \u001b[38;5;28;01mfor\u001b[39;00m doc \u001b[38;5;129;01min\u001b[39;00m documents\n\u001b[1;32m    127\u001b[0m     ]\n\u001b[1;32m    128\u001b[0m )\n\u001b[1;32m    130\u001b[0m \u001b[38;5;28;01mreturn\u001b[39;00m embedding\n",
      "File \u001b[0;32m~/.pyenv/versions/3.10.13/lib/python3.10/site-packages/gensim/models/doc2vec.py:641\u001b[0m, in \u001b[0;36mDoc2Vec.infer_vector\u001b[0;34m(self, doc_words, alpha, min_alpha, epochs)\u001b[0m\n\u001b[1;32m    639\u001b[0m \u001b[38;5;28;01mfor\u001b[39;00m i \u001b[38;5;129;01min\u001b[39;00m \u001b[38;5;28mrange\u001b[39m(epochs):\n\u001b[1;32m    640\u001b[0m     \u001b[38;5;28;01mif\u001b[39;00m \u001b[38;5;28mself\u001b[39m\u001b[38;5;241m.\u001b[39msg:\n\u001b[0;32m--> 641\u001b[0m         \u001b[43mtrain_document_dbow\u001b[49m\u001b[43m(\u001b[49m\n\u001b[1;32m    642\u001b[0m \u001b[43m            \u001b[49m\u001b[38;5;28;43mself\u001b[39;49m\u001b[43m,\u001b[49m\u001b[43m \u001b[49m\u001b[43mdoc_words\u001b[49m\u001b[43m,\u001b[49m\u001b[43m \u001b[49m\u001b[43mdoctag_indexes\u001b[49m\u001b[43m,\u001b[49m\u001b[43m \u001b[49m\u001b[43malpha\u001b[49m\u001b[43m,\u001b[49m\u001b[43m \u001b[49m\u001b[43mwork\u001b[49m\u001b[43m,\u001b[49m\n\u001b[1;32m    643\u001b[0m \u001b[43m            \u001b[49m\u001b[43mlearn_words\u001b[49m\u001b[38;5;241;43m=\u001b[39;49m\u001b[38;5;28;43;01mFalse\u001b[39;49;00m\u001b[43m,\u001b[49m\u001b[43m \u001b[49m\u001b[43mlearn_hidden\u001b[49m\u001b[38;5;241;43m=\u001b[39;49m\u001b[38;5;28;43;01mFalse\u001b[39;49;00m\u001b[43m,\u001b[49m\u001b[43m \u001b[49m\u001b[43mdoctag_vectors\u001b[49m\u001b[38;5;241;43m=\u001b[39;49m\u001b[43mdoctag_vectors\u001b[49m\u001b[43m,\u001b[49m\u001b[43m \u001b[49m\u001b[43mdoctags_lockf\u001b[49m\u001b[38;5;241;43m=\u001b[39;49m\u001b[43mdoctags_lockf\u001b[49m\n\u001b[1;32m    644\u001b[0m \u001b[43m        \u001b[49m\u001b[43m)\u001b[49m\n\u001b[1;32m    645\u001b[0m     \u001b[38;5;28;01melif\u001b[39;00m \u001b[38;5;28mself\u001b[39m\u001b[38;5;241m.\u001b[39mdm_concat:\n\u001b[1;32m    646\u001b[0m         train_document_dm_concat(\n\u001b[1;32m    647\u001b[0m             \u001b[38;5;28mself\u001b[39m, doc_words, doctag_indexes, alpha, work, neu1,\n\u001b[1;32m    648\u001b[0m             learn_words\u001b[38;5;241m=\u001b[39m\u001b[38;5;28;01mFalse\u001b[39;00m, learn_hidden\u001b[38;5;241m=\u001b[39m\u001b[38;5;28;01mFalse\u001b[39;00m, doctag_vectors\u001b[38;5;241m=\u001b[39mdoctag_vectors, doctags_lockf\u001b[38;5;241m=\u001b[39mdoctags_lockf\n\u001b[1;32m    649\u001b[0m         )\n",
      "\u001b[0;31mKeyboardInterrupt\u001b[0m: "
     ]
    }
   ],
   "source": [
    "import random\n",
    "\n",
    "import pandas as pd\n",
    "from sklearn.metrics.pairwise import cosine_similarity\n",
    "\n",
    "indices = list(range(len(nx_graphs)))\n",
    "sample_indices = random.choices(indices, k=20000)\n",
    "columns = ['index', 'embedding_i', 'inferred_i', 'cosine_similarity']\n",
    "df = pd.DataFrame(columns=columns)\n",
    "\n",
    "for i in tqdm(sample_indices):\n",
    "    graph = subgraphs[i]\n",
    "    row = {\n",
    "        'index': i,\n",
    "        'depth': graph.depth,\n",
    "        '#edges': len(graph.edges),\n",
    "        '#nodes': len(graph.nodes),\n",
    "        'embedding_i': graph2vec_embedding[i],\n",
    "        'inferred_i': graph2vec.infer([nx_graphs[i]])[0],\n",
    "        'cosine_similarity': cosine_similarity([graph2vec_embedding[i]], [graph2vec.infer([nx_graphs[i]])[0]])[0, 0]\n",
    "    }\n",
    "    df = df.append([row], ignore_index=True)"
   ]
  },
  {
   "cell_type": "code",
   "execution_count": null,
   "id": "94ff0df8621acb2b",
   "metadata": {
    "ExecuteTime": {
     "end_time": "2024-01-22T03:18:57.007720Z",
     "start_time": "2024-01-22T03:18:57.005332Z"
    },
    "collapsed": false
   },
   "outputs": [],
   "source": [
    "df['#edges'] = df['index'].apply(lambda i: len(subgraphs[i].edges))"
   ]
  },
  {
   "cell_type": "code",
   "execution_count": 83,
   "id": "1e5586ab22a497cc",
   "metadata": {
    "ExecuteTime": {
     "end_time": "2024-01-22T03:53:44.145935Z",
     "start_time": "2024-01-22T03:53:44.126641Z"
    },
    "collapsed": false
   },
   "outputs": [
    {
     "data": {
      "text/html": [
       "<div>\n",
       "<style scoped>\n",
       "    .dataframe tbody tr th:only-of-type {\n",
       "        vertical-align: middle;\n",
       "    }\n",
       "\n",
       "    .dataframe tbody tr th {\n",
       "        vertical-align: top;\n",
       "    }\n",
       "\n",
       "    .dataframe thead th {\n",
       "        text-align: right;\n",
       "    }\n",
       "</style>\n",
       "<table border=\"1\" class=\"dataframe\">\n",
       "  <thead>\n",
       "    <tr style=\"text-align: right;\">\n",
       "      <th></th>\n",
       "      <th>mean</th>\n",
       "      <th>std</th>\n",
       "      <th>count</th>\n",
       "    </tr>\n",
       "    <tr>\n",
       "      <th>#edges</th>\n",
       "      <th></th>\n",
       "      <th></th>\n",
       "      <th></th>\n",
       "    </tr>\n",
       "  </thead>\n",
       "  <tbody>\n",
       "    <tr>\n",
       "      <th>1.0</th>\n",
       "      <td>0.971427</td>\n",
       "      <td>0.020596</td>\n",
       "      <td>9878</td>\n",
       "    </tr>\n",
       "    <tr>\n",
       "      <th>2.0</th>\n",
       "      <td>0.976955</td>\n",
       "      <td>0.023588</td>\n",
       "      <td>20</td>\n",
       "    </tr>\n",
       "    <tr>\n",
       "      <th>3.0</th>\n",
       "      <td>0.956525</td>\n",
       "      <td>0.024739</td>\n",
       "      <td>5</td>\n",
       "    </tr>\n",
       "    <tr>\n",
       "      <th>4.0</th>\n",
       "      <td>0.974760</td>\n",
       "      <td>0.003769</td>\n",
       "      <td>5</td>\n",
       "    </tr>\n",
       "    <tr>\n",
       "      <th>5.0</th>\n",
       "      <td>0.963782</td>\n",
       "      <td>NaN</td>\n",
       "      <td>1</td>\n",
       "    </tr>\n",
       "    <tr>\n",
       "      <th>7.0</th>\n",
       "      <td>0.979989</td>\n",
       "      <td>0.005538</td>\n",
       "      <td>4</td>\n",
       "    </tr>\n",
       "    <tr>\n",
       "      <th>17.0</th>\n",
       "      <td>0.987531</td>\n",
       "      <td>NaN</td>\n",
       "      <td>1</td>\n",
       "    </tr>\n",
       "    <tr>\n",
       "      <th>22.0</th>\n",
       "      <td>0.966198</td>\n",
       "      <td>NaN</td>\n",
       "      <td>1</td>\n",
       "    </tr>\n",
       "    <tr>\n",
       "      <th>25.0</th>\n",
       "      <td>0.980197</td>\n",
       "      <td>NaN</td>\n",
       "      <td>1</td>\n",
       "    </tr>\n",
       "    <tr>\n",
       "      <th>28.0</th>\n",
       "      <td>0.989507</td>\n",
       "      <td>NaN</td>\n",
       "      <td>1</td>\n",
       "    </tr>\n",
       "    <tr>\n",
       "      <th>31.0</th>\n",
       "      <td>0.975463</td>\n",
       "      <td>NaN</td>\n",
       "      <td>1</td>\n",
       "    </tr>\n",
       "    <tr>\n",
       "      <th>32.0</th>\n",
       "      <td>0.977358</td>\n",
       "      <td>NaN</td>\n",
       "      <td>1</td>\n",
       "    </tr>\n",
       "    <tr>\n",
       "      <th>33.0</th>\n",
       "      <td>0.977839</td>\n",
       "      <td>0.016357</td>\n",
       "      <td>2</td>\n",
       "    </tr>\n",
       "    <tr>\n",
       "      <th>37.0</th>\n",
       "      <td>0.986699</td>\n",
       "      <td>NaN</td>\n",
       "      <td>1</td>\n",
       "    </tr>\n",
       "    <tr>\n",
       "      <th>39.0</th>\n",
       "      <td>0.995313</td>\n",
       "      <td>NaN</td>\n",
       "      <td>1</td>\n",
       "    </tr>\n",
       "    <tr>\n",
       "      <th>49.0</th>\n",
       "      <td>0.968812</td>\n",
       "      <td>0.001542</td>\n",
       "      <td>2</td>\n",
       "    </tr>\n",
       "    <tr>\n",
       "      <th>62.0</th>\n",
       "      <td>0.978614</td>\n",
       "      <td>NaN</td>\n",
       "      <td>1</td>\n",
       "    </tr>\n",
       "    <tr>\n",
       "      <th>74.0</th>\n",
       "      <td>0.954070</td>\n",
       "      <td>NaN</td>\n",
       "      <td>1</td>\n",
       "    </tr>\n",
       "    <tr>\n",
       "      <th>83.0</th>\n",
       "      <td>0.989229</td>\n",
       "      <td>NaN</td>\n",
       "      <td>1</td>\n",
       "    </tr>\n",
       "    <tr>\n",
       "      <th>97.0</th>\n",
       "      <td>0.984107</td>\n",
       "      <td>0.007157</td>\n",
       "      <td>4</td>\n",
       "    </tr>\n",
       "    <tr>\n",
       "      <th>123.0</th>\n",
       "      <td>0.692298</td>\n",
       "      <td>NaN</td>\n",
       "      <td>1</td>\n",
       "    </tr>\n",
       "    <tr>\n",
       "      <th>190.0</th>\n",
       "      <td>0.980062</td>\n",
       "      <td>0.007941</td>\n",
       "      <td>11</td>\n",
       "    </tr>\n",
       "    <tr>\n",
       "      <th>215.0</th>\n",
       "      <td>0.975366</td>\n",
       "      <td>0.001300</td>\n",
       "      <td>2</td>\n",
       "    </tr>\n",
       "    <tr>\n",
       "      <th>221.0</th>\n",
       "      <td>0.996691</td>\n",
       "      <td>NaN</td>\n",
       "      <td>1</td>\n",
       "    </tr>\n",
       "    <tr>\n",
       "      <th>223.0</th>\n",
       "      <td>0.980887</td>\n",
       "      <td>NaN</td>\n",
       "      <td>1</td>\n",
       "    </tr>\n",
       "    <tr>\n",
       "      <th>234.0</th>\n",
       "      <td>0.991717</td>\n",
       "      <td>NaN</td>\n",
       "      <td>1</td>\n",
       "    </tr>\n",
       "    <tr>\n",
       "      <th>237.0</th>\n",
       "      <td>0.987775</td>\n",
       "      <td>0.005995</td>\n",
       "      <td>3</td>\n",
       "    </tr>\n",
       "    <tr>\n",
       "      <th>265.0</th>\n",
       "      <td>0.990909</td>\n",
       "      <td>NaN</td>\n",
       "      <td>1</td>\n",
       "    </tr>\n",
       "    <tr>\n",
       "      <th>271.0</th>\n",
       "      <td>0.972105</td>\n",
       "      <td>NaN</td>\n",
       "      <td>1</td>\n",
       "    </tr>\n",
       "    <tr>\n",
       "      <th>274.0</th>\n",
       "      <td>0.983136</td>\n",
       "      <td>NaN</td>\n",
       "      <td>1</td>\n",
       "    </tr>\n",
       "    <tr>\n",
       "      <th>280.0</th>\n",
       "      <td>0.981910</td>\n",
       "      <td>NaN</td>\n",
       "      <td>1</td>\n",
       "    </tr>\n",
       "    <tr>\n",
       "      <th>283.0</th>\n",
       "      <td>0.978025</td>\n",
       "      <td>NaN</td>\n",
       "      <td>1</td>\n",
       "    </tr>\n",
       "    <tr>\n",
       "      <th>284.0</th>\n",
       "      <td>0.969927</td>\n",
       "      <td>0.000769</td>\n",
       "      <td>2</td>\n",
       "    </tr>\n",
       "    <tr>\n",
       "      <th>303.0</th>\n",
       "      <td>0.992083</td>\n",
       "      <td>NaN</td>\n",
       "      <td>1</td>\n",
       "    </tr>\n",
       "    <tr>\n",
       "      <th>310.0</th>\n",
       "      <td>0.982291</td>\n",
       "      <td>0.015573</td>\n",
       "      <td>3</td>\n",
       "    </tr>\n",
       "    <tr>\n",
       "      <th>327.0</th>\n",
       "      <td>0.987458</td>\n",
       "      <td>NaN</td>\n",
       "      <td>1</td>\n",
       "    </tr>\n",
       "    <tr>\n",
       "      <th>339.0</th>\n",
       "      <td>0.993338</td>\n",
       "      <td>NaN</td>\n",
       "      <td>1</td>\n",
       "    </tr>\n",
       "    <tr>\n",
       "      <th>346.0</th>\n",
       "      <td>0.994506</td>\n",
       "      <td>NaN</td>\n",
       "      <td>1</td>\n",
       "    </tr>\n",
       "    <tr>\n",
       "      <th>355.0</th>\n",
       "      <td>0.988189</td>\n",
       "      <td>NaN</td>\n",
       "      <td>1</td>\n",
       "    </tr>\n",
       "    <tr>\n",
       "      <th>408.0</th>\n",
       "      <td>0.975236</td>\n",
       "      <td>0.013931</td>\n",
       "      <td>4</td>\n",
       "    </tr>\n",
       "    <tr>\n",
       "      <th>417.0</th>\n",
       "      <td>0.994069</td>\n",
       "      <td>NaN</td>\n",
       "      <td>1</td>\n",
       "    </tr>\n",
       "    <tr>\n",
       "      <th>422.0</th>\n",
       "      <td>0.971718</td>\n",
       "      <td>NaN</td>\n",
       "      <td>1</td>\n",
       "    </tr>\n",
       "    <tr>\n",
       "      <th>428.0</th>\n",
       "      <td>0.994163</td>\n",
       "      <td>0.001349</td>\n",
       "      <td>4</td>\n",
       "    </tr>\n",
       "    <tr>\n",
       "      <th>429.0</th>\n",
       "      <td>0.993474</td>\n",
       "      <td>NaN</td>\n",
       "      <td>1</td>\n",
       "    </tr>\n",
       "    <tr>\n",
       "      <th>445.0</th>\n",
       "      <td>0.994329</td>\n",
       "      <td>NaN</td>\n",
       "      <td>1</td>\n",
       "    </tr>\n",
       "    <tr>\n",
       "      <th>469.0</th>\n",
       "      <td>0.984130</td>\n",
       "      <td>0.003854</td>\n",
       "      <td>4</td>\n",
       "    </tr>\n",
       "    <tr>\n",
       "      <th>578.0</th>\n",
       "      <td>0.962898</td>\n",
       "      <td>NaN</td>\n",
       "      <td>1</td>\n",
       "    </tr>\n",
       "    <tr>\n",
       "      <th>584.0</th>\n",
       "      <td>0.992864</td>\n",
       "      <td>NaN</td>\n",
       "      <td>1</td>\n",
       "    </tr>\n",
       "    <tr>\n",
       "      <th>598.0</th>\n",
       "      <td>0.997045</td>\n",
       "      <td>NaN</td>\n",
       "      <td>1</td>\n",
       "    </tr>\n",
       "    <tr>\n",
       "      <th>715.0</th>\n",
       "      <td>0.985756</td>\n",
       "      <td>NaN</td>\n",
       "      <td>1</td>\n",
       "    </tr>\n",
       "    <tr>\n",
       "      <th>716.0</th>\n",
       "      <td>0.989290</td>\n",
       "      <td>NaN</td>\n",
       "      <td>1</td>\n",
       "    </tr>\n",
       "    <tr>\n",
       "      <th>718.0</th>\n",
       "      <td>0.985689</td>\n",
       "      <td>NaN</td>\n",
       "      <td>1</td>\n",
       "    </tr>\n",
       "    <tr>\n",
       "      <th>929.0</th>\n",
       "      <td>0.982565</td>\n",
       "      <td>NaN</td>\n",
       "      <td>1</td>\n",
       "    </tr>\n",
       "    <tr>\n",
       "      <th>975.0</th>\n",
       "      <td>0.988210</td>\n",
       "      <td>NaN</td>\n",
       "      <td>1</td>\n",
       "    </tr>\n",
       "    <tr>\n",
       "      <th>1001.0</th>\n",
       "      <td>0.989877</td>\n",
       "      <td>0.007123</td>\n",
       "      <td>4</td>\n",
       "    </tr>\n",
       "    <tr>\n",
       "      <th>1132.0</th>\n",
       "      <td>0.971742</td>\n",
       "      <td>NaN</td>\n",
       "      <td>1</td>\n",
       "    </tr>\n",
       "    <tr>\n",
       "      <th>1181.0</th>\n",
       "      <td>0.982188</td>\n",
       "      <td>NaN</td>\n",
       "      <td>1</td>\n",
       "    </tr>\n",
       "    <tr>\n",
       "      <th>1213.0</th>\n",
       "      <td>0.980397</td>\n",
       "      <td>NaN</td>\n",
       "      <td>1</td>\n",
       "    </tr>\n",
       "    <tr>\n",
       "      <th>1249.0</th>\n",
       "      <td>0.963026</td>\n",
       "      <td>NaN</td>\n",
       "      <td>1</td>\n",
       "    </tr>\n",
       "    <tr>\n",
       "      <th>1368.0</th>\n",
       "      <td>0.212886</td>\n",
       "      <td>NaN</td>\n",
       "      <td>1</td>\n",
       "    </tr>\n",
       "  </tbody>\n",
       "</table>\n",
       "</div>"
      ],
      "text/plain": [
       "            mean       std  count\n",
       "#edges                           \n",
       "1.0     0.971427  0.020596   9878\n",
       "2.0     0.976955  0.023588     20\n",
       "3.0     0.956525  0.024739      5\n",
       "4.0     0.974760  0.003769      5\n",
       "5.0     0.963782       NaN      1\n",
       "7.0     0.979989  0.005538      4\n",
       "17.0    0.987531       NaN      1\n",
       "22.0    0.966198       NaN      1\n",
       "25.0    0.980197       NaN      1\n",
       "28.0    0.989507       NaN      1\n",
       "31.0    0.975463       NaN      1\n",
       "32.0    0.977358       NaN      1\n",
       "33.0    0.977839  0.016357      2\n",
       "37.0    0.986699       NaN      1\n",
       "39.0    0.995313       NaN      1\n",
       "49.0    0.968812  0.001542      2\n",
       "62.0    0.978614       NaN      1\n",
       "74.0    0.954070       NaN      1\n",
       "83.0    0.989229       NaN      1\n",
       "97.0    0.984107  0.007157      4\n",
       "123.0   0.692298       NaN      1\n",
       "190.0   0.980062  0.007941     11\n",
       "215.0   0.975366  0.001300      2\n",
       "221.0   0.996691       NaN      1\n",
       "223.0   0.980887       NaN      1\n",
       "234.0   0.991717       NaN      1\n",
       "237.0   0.987775  0.005995      3\n",
       "265.0   0.990909       NaN      1\n",
       "271.0   0.972105       NaN      1\n",
       "274.0   0.983136       NaN      1\n",
       "280.0   0.981910       NaN      1\n",
       "283.0   0.978025       NaN      1\n",
       "284.0   0.969927  0.000769      2\n",
       "303.0   0.992083       NaN      1\n",
       "310.0   0.982291  0.015573      3\n",
       "327.0   0.987458       NaN      1\n",
       "339.0   0.993338       NaN      1\n",
       "346.0   0.994506       NaN      1\n",
       "355.0   0.988189       NaN      1\n",
       "408.0   0.975236  0.013931      4\n",
       "417.0   0.994069       NaN      1\n",
       "422.0   0.971718       NaN      1\n",
       "428.0   0.994163  0.001349      4\n",
       "429.0   0.993474       NaN      1\n",
       "445.0   0.994329       NaN      1\n",
       "469.0   0.984130  0.003854      4\n",
       "578.0   0.962898       NaN      1\n",
       "584.0   0.992864       NaN      1\n",
       "598.0   0.997045       NaN      1\n",
       "715.0   0.985756       NaN      1\n",
       "716.0   0.989290       NaN      1\n",
       "718.0   0.985689       NaN      1\n",
       "929.0   0.982565       NaN      1\n",
       "975.0   0.988210       NaN      1\n",
       "1001.0  0.989877  0.007123      4\n",
       "1132.0  0.971742       NaN      1\n",
       "1181.0  0.982188       NaN      1\n",
       "1213.0  0.980397       NaN      1\n",
       "1249.0  0.963026       NaN      1\n",
       "1368.0  0.212886       NaN      1"
      ]
     },
     "execution_count": 83,
     "metadata": {},
     "output_type": "execute_result"
    }
   ],
   "source": [
    "# group df by #edges\n",
    "grouped_data = df.groupby('#edges')['cosine_similarity'].agg(['mean', 'std', 'count'])\n",
    "grouped_data"
   ]
  },
  {
   "cell_type": "code",
   "execution_count": 53,
   "id": "7c1fce5800526ef3",
   "metadata": {
    "ExecuteTime": {
     "end_time": "2024-01-22T02:41:11.202983Z",
     "start_time": "2024-01-22T02:41:11.198874Z"
    },
    "collapsed": false
   },
   "outputs": [
    {
     "data": {
      "text/plain": [
       "0.020014646"
      ]
     },
     "execution_count": 53,
     "metadata": {},
     "output_type": "execute_result"
    }
   ],
   "source": [
    "np.std(similarities)"
   ]
  },
  {
   "cell_type": "code",
   "execution_count": null,
   "id": "a0fdadcaff991a81",
   "metadata": {
    "collapsed": false
   },
   "outputs": [],
   "source": [
    "import pickle\n",
    "with open('graph2vec_embedding.p', 'wb') as f:\n",
    "    pickle.dump(graph2vec_embedding, f)\n",
    "with open('subgraphs.p', 'wb') as f:\n",
    "    pickle.dump(subgraphs, f)"
   ]
  },
  {
   "cell_type": "code",
   "execution_count": 20,
   "id": "4d583d224ddbc81a",
   "metadata": {
    "ExecuteTime": {
     "end_time": "2024-01-22T00:48:54.588243Z",
     "start_time": "2024-01-22T00:41:53.596310Z"
    },
    "collapsed": false
   },
   "outputs": [
    {
     "name": "stderr",
     "output_type": "stream",
     "text": [
      "0/5: 100%|██████████| 500500/500500 [01:24<00:00, 5938.67it/s]\n",
      "1/5: 100%|██████████| 500500/500500 [01:24<00:00, 5953.98it/s]\n",
      "2/5: 100%|██████████| 500500/500500 [01:23<00:00, 5991.87it/s]\n",
      "3/5: 100%|██████████| 500500/500500 [01:23<00:00, 5971.07it/s]\n",
      "4/5: 100%|██████████| 500500/500500 [01:23<00:00, 5969.79it/s]\n"
     ]
    }
   ],
   "source": [
    "from sklearn.metrics.pairwise import cosine_similarity\n",
    "from itertools import combinations\n",
    "\n",
    "data = {\n",
    "    'delta_depth': [],\n",
    "    'depth_1': [],\n",
    "    'depth_2': [],\n",
    "    'cosine_similarity': [],\n",
    "    'parent_graph': []\n",
    "}\n",
    "\n",
    "graph_ids = list(set([s.graph.source_edge_id for s in subgraphs]))[:5]\n",
    "for i_g, graph_id in enumerate(graph_ids):\n",
    "    contained_subgraphs = [(i, s) for i, s in enumerate(subgraphs) if s.graph.source_edge_id == graph_id]\n",
    "    comparisons = list(combinations(contained_subgraphs, 2))\n",
    "    for (i, s1), (j, s2) in tqdm(comparisons, desc=f'{i_g+1}/{len(graph_ids)} ({graph_id})'):\n",
    "        data['depth_1'].append(s1.depth)\n",
    "        data['depth_2'].append(s2.depth)\n",
    "        data['cosine_similarity'].append(cosine_similarity([graph2vec_embedding[i]], [graph2vec_embedding[j]])[0][0])\n"
   ]
  },
  {
   "cell_type": "markdown",
   "id": "f27ce0a937e9bca7",
   "metadata": {
    "collapsed": false
   },
   "source": [
    "## Similarity between paths"
   ]
  },
  {
   "cell_type": "code",
   "execution_count": 148,
   "id": "7c968f2370822854",
   "metadata": {
    "ExecuteTime": {
     "end_time": "2024-01-22T05:19:45.123589Z",
     "start_time": "2024-01-22T05:19:36.940864Z"
    },
    "collapsed": false
   },
   "outputs": [
    {
     "name": "stderr",
     "output_type": "stream",
     "text": [
      "100%|██████████| 400/400 [00:01<00:00, 301.43it/s]\n"
     ]
    },
    {
     "data": {
      "text/plain": [
       "400000"
      ]
     },
     "execution_count": 148,
     "metadata": {},
     "output_type": "execute_result"
    }
   ],
   "source": [
    "import random\n",
    "from sklearn.metrics.pairwise import cosine_similarity\n",
    "from algorithm.utility import to_nx\n",
    "\n",
    "paths: list[list[EdgeWrapper]] = []\n",
    "nx_path_graphs = []\n",
    "def generate_path(graph: GraphWrapper, edge_id: int, direction: str) -> list[EdgeWrapper]:\n",
    "    visited: dict[int, bool] = {}\n",
    "    edges: list[EdgeWrapper] = [graph.get_edge(graph.source_edge_id)]\n",
    "    current = graph.get_edge(edge_id)\n",
    "    \n",
    "    # very ugly loop, it works though... #TODO: refactor\n",
    "    while current is not None:\n",
    "        visited[current.get_ref_id()] = True\n",
    "        edges.append(current)\n",
    "        node_id = current.node_ids[direction]\n",
    "        node = graph.get_node(node_id)\n",
    "    \n",
    "        next_edge_ids = node.edge_ids[direction]\n",
    "        if len(next_edge_ids) == 0:\n",
    "            break\n",
    "        next_edge_id = random.choice(node.edge_ids[direction])\n",
    "        current = graph.get_edge(next_edge_id)\n",
    "    return edges\n",
    "\n",
    "def generate_path_subgraphs(graph: GraphWrapper, direction: str, n: int) -> list[Subgraph]:\n",
    "    path_edges: list[list[EdgeWrapper]] = []\n",
    "    for _ in range(n):\n",
    "        path_edges.append(generate_path(graph, graph.source_edge_id, direction))\n",
    "    return [ Subgraph(parent_graph=graph, edges=edges)\n",
    "             for edges in path_edges ]\n",
    "\n",
    "nx_path_subgraphs = []\n",
    "\n",
    "for graph in tqdm(input_graphs):\n",
    "    nx_path_subgraphs.extend(generate_path_subgraphs(graph, IN, 1000))\n",
    "    \n",
    "len(nx_path_subgraphs)"
   ]
  },
  {
   "cell_type": "code",
   "execution_count": 149,
   "id": "8ae9d5f6e5890143",
   "metadata": {
    "ExecuteTime": {
     "end_time": "2024-01-22T05:19:47.345875Z",
     "start_time": "2024-01-22T05:19:47.252562Z"
    },
    "collapsed": false
   },
   "outputs": [
    {
     "data": {
      "text/plain": [
       "(3, 20)"
      ]
     },
     "execution_count": 149,
     "metadata": {},
     "output_type": "execute_result"
    }
   ],
   "source": [
    "lengths = [len(x.edges) for x in nx_path_subgraphs ]\n",
    "min(lengths), max(lengths)"
   ]
  },
  {
   "cell_type": "code",
   "execution_count": 34,
   "id": "59c4e76360b04419",
   "metadata": {
    "ExecuteTime": {
     "end_time": "2024-01-22T05:20:08.231366Z",
     "start_time": "2024-01-22T05:20:08.222700Z"
    },
    "collapsed": false
   },
   "outputs": [
    {
     "data": {
      "text/plain": [
       "0.10074937480420348"
      ]
     },
     "execution_count": 34,
     "metadata": {},
     "output_type": "execute_result"
    }
   ],
   "source": [
    "import numpy as np\n",
    "np.std(lengths)"
   ]
  },
  {
   "cell_type": "code",
   "execution_count": 152,
   "id": "d109e4680dd761c2",
   "metadata": {
    "ExecuteTime": {
     "end_time": "2024-01-22T05:21:00.818698Z",
     "start_time": "2024-01-22T05:21:00.734746Z"
    },
    "collapsed": false
   },
   "outputs": [
    {
     "data": {
      "text/plain": [
       "15648"
      ]
     },
     "execution_count": 152,
     "metadata": {},
     "output_type": "execute_result"
    }
   ],
   "source": [
    "candidates = [g for g in nx_path_subgraphs if len(g.edges) > 3]\n",
    "len(candidates)"
   ]
  },
  {
   "cell_type": "code",
   "execution_count": 153,
   "id": "e167adb4d4ea3663",
   "metadata": {
    "ExecuteTime": {
     "end_time": "2024-01-22T05:26:50.458419Z",
     "start_time": "2024-01-22T05:26:50.447255Z"
    },
    "collapsed": false
   },
   "outputs": [
    {
     "data": {
      "image/png": "[encoded data removed]",
      "text/plain": [
       "<Figure size 640x480 with 1 Axes>"
      ]
     },
     "metadata": {},
     "output_type": "display_data"
    }
   ],
   "source": [
    "import networkx as nx\n",
    "import matplotlib.pyplot as plt\n",
    "G = to_nx(candidates[0])\n",
    "# Draw the graph\n",
    "fig, ax = plt.subplots()  # Create a figure and an axes object\\\n",
    "# Draw the nodes and edges\n",
    "pos = nx.spring_layout(G)\n",
    "nx.draw(G, pos,ax=ax, with_labels=True, node_color='lightblue', node_size=500, font_size=10, font_weight='bold')\n",
    "\n",
    "edge_labels = nx.get_edge_attributes(G, 'feature')\n",
    "node_labels = nx.get_node_attributes(G, 'feature')\n",
    "nx.draw_networkx_edge_labels(G, pos, edge_labels=edge_labels, ax=ax)\n",
    "\n",
    "# Show the plot\n",
    "plt.show()"
   ]
  },
  {
   "cell_type": "code",
   "execution_count": 154,
   "metadata": {},
   "outputs": [],
   "source": [
    "\n",
    "def get_subpaths(nx_graph):\n",
    "    roots = [node for node, in_deg in nx_graph.in_degree() if in_deg == 0]\n",
    "    assert len(roots) == 1\n",
    "\n",
    "    root = roots[0]\n",
    "    paths = nx.single_source_shortest_path(nx_graph, root)\n",
    "    path_graphs = []\n",
    "    for target in paths:\n",
    "        if target != root:\n",
    "            path = paths[target]\n",
    "            path_graph = nx.DiGraph(nx_graph.subgraph(path))\n",
    "            mapping = {old_label: new_label for new_label, old_label in enumerate(path_graph.nodes())}\n",
    "            \n",
    "            path_graphs.append(nx.relabel_nodes(path_graph, mapping))\n",
    "\n",
    "    return path_graphs\n",
    "\n",
    "path_graphs = get_subpaths(to_nx(candidates[0]))"
   ]
  },
  {
   "cell_type": "code",
   "execution_count": 144,
   "id": "c6e3887adecfa8bd",
   "metadata": {
    "collapsed": false
   },
   "outputs": [
    {
     "data": {
      "image/png": "[encoded data removed]",
      "text/plain": [
       "<Figure size 640x480 with 1 Axes>"
      ]
     },
     "metadata": {},
     "output_type": "display_data"
    }
   ],
   "source": [
    "G = to_nx(candidates[1000])\n",
    "# Draw the graph\n",
    "fig, ax = plt.subplots()  # Create a figure and an axes object\n",
    "# Draw the nodes and edges\n",
    "pos = nx.spring_layout(G)\n",
    "nx.draw(G, pos,ax=ax, with_labels=True, node_color='lightblue', node_size=500, font_size=10, font_weight='bold')\n",
    "\n",
    "edge_labels = nx.get_edge_attributes(G, 'feature')\n",
    "node_labels = nx.get_node_attributes(G, 'feature')\n",
    "nx.draw_networkx_edge_labels(G, pos, edge_labels=edge_labels, ax=ax)\n",
    "\n",
    "# Show the plot\n",
    "plt.show()"
   ]
  },
  {
   "cell_type": "code",
   "execution_count": null,
   "id": "eed3dc37",
   "metadata": {},
   "outputs": [],
   "source": []
  },
  {
   "cell_type": "code",
   "execution_count": 130,
   "id": "d26e05e9",
   "metadata": {},
   "outputs": [
    {
     "data": {
      "text/plain": [
       "10000"
      ]
     },
     "execution_count": 130,
     "metadata": {},
     "output_type": "execute_result"
    }
   ],
   "source": [
    "path_graphs_list = [get_subpaths(to_nx(c)) for c in candidates]\n",
    "len(path_graphs_list)"
   ]
  },
  {
   "cell_type": "code",
   "execution_count": 172,
   "id": "fa4474f3",
   "metadata": {},
   "outputs": [],
   "source": []
  },
  {
   "cell_type": "code",
   "execution_count": 201,
   "id": "ff25fef8",
   "metadata": {},
   "outputs": [],
   "source": [
    "\n",
    "df = pd.DataFrame(columns=['i', 'j', 'length_i', 'length_j', 'similarity'])"
   ]
  },
  {
   "cell_type": "code",
   "execution_count": null,
   "id": "59cd2011",
   "metadata": {},
   "outputs": [],
   "source": []
  },
  {
   "cell_type": "code",
   "execution_count": 202,
   "id": "c8ae0837",
   "metadata": {},
   "outputs": [
    {
     "name": "stderr",
     "output_type": "stream",
     "text": [
      "100%|██████████| 20000/20000 [01:36<00:00, 207.69it/s]\n"
     ]
    },
    {
     "data": {
      "text/html": [
       "<div>\n",
       "<style scoped>\n",
       "    .dataframe tbody tr th:only-of-type {\n",
       "        vertical-align: middle;\n",
       "    }\n",
       "\n",
       "    .dataframe tbody tr th {\n",
       "        vertical-align: top;\n",
       "    }\n",
       "\n",
       "    .dataframe thead th {\n",
       "        text-align: right;\n",
       "    }\n",
       "</style>\n",
       "<table border=\"1\" class=\"dataframe\">\n",
       "  <thead>\n",
       "    <tr style=\"text-align: right;\">\n",
       "      <th></th>\n",
       "      <th>i</th>\n",
       "      <th>j</th>\n",
       "      <th>length_i</th>\n",
       "      <th>length_j</th>\n",
       "      <th>similarity</th>\n",
       "    </tr>\n",
       "  </thead>\n",
       "  <tbody>\n",
       "    <tr>\n",
       "      <th>0</th>\n",
       "      <td>7687.0</td>\n",
       "      <td>7559.0</td>\n",
       "      <td>3.0</td>\n",
       "      <td>5.0</td>\n",
       "      <td>0.404218</td>\n",
       "    </tr>\n",
       "    <tr>\n",
       "      <th>1</th>\n",
       "      <td>3351.0</td>\n",
       "      <td>9080.0</td>\n",
       "      <td>3.0</td>\n",
       "      <td>3.0</td>\n",
       "      <td>0.580845</td>\n",
       "    </tr>\n",
       "    <tr>\n",
       "      <th>2</th>\n",
       "      <td>10803.0</td>\n",
       "      <td>4568.0</td>\n",
       "      <td>7.0</td>\n",
       "      <td>7.0</td>\n",
       "      <td>0.409879</td>\n",
       "    </tr>\n",
       "    <tr>\n",
       "      <th>3</th>\n",
       "      <td>7591.0</td>\n",
       "      <td>1735.0</td>\n",
       "      <td>3.0</td>\n",
       "      <td>9.0</td>\n",
       "      <td>0.187810</td>\n",
       "    </tr>\n",
       "    <tr>\n",
       "      <th>4</th>\n",
       "      <td>9065.0</td>\n",
       "      <td>9327.0</td>\n",
       "      <td>3.0</td>\n",
       "      <td>3.0</td>\n",
       "      <td>0.638624</td>\n",
       "    </tr>\n",
       "  </tbody>\n",
       "</table>\n",
       "</div>"
      ],
      "text/plain": [
       "         i       j  length_i  length_j  similarity\n",
       "0   7687.0  7559.0       3.0       5.0    0.404218\n",
       "1   3351.0  9080.0       3.0       3.0    0.580845\n",
       "2  10803.0  4568.0       7.0       7.0    0.409879\n",
       "3   7591.0  1735.0       3.0       9.0    0.187810\n",
       "4   9065.0  9327.0       3.0       3.0    0.638624"
      ]
     },
     "execution_count": 202,
     "metadata": {},
     "output_type": "execute_result"
    }
   ],
   "source": [
    "import pandas as pd\n",
    "graphs = []\n",
    "for c in candidates:\n",
    "    graphs.extend([sg for sg in get_subpaths(to_nx(c))])\n",
    "\n",
    "N = len(candidates)\n",
    "for _ in tqdm(range(20000)):\n",
    "    # why...\n",
    "    random.seed(None)\n",
    "    i = random.randint(0, N-1)\n",
    "    random.seed(None)\n",
    "    j = random.randint(0, N-1)\n",
    "    g_i, g_j = graphs[i], graphs[j]\n",
    "\n",
    "    e_i = graph2vec.infer([g_i])\n",
    "    e_j = graph2vec.infer([g_j])\n",
    "\n",
    "    row = {\n",
    "        'i': i,\n",
    "        'j': j,\n",
    "        'length_i': len(g_i.edges),\n",
    "        'length_j': len(g_j.edges),\n",
    "        'similarity': cosine_similarity(e_i, e_j)[0,0]        \n",
    "    }\n",
    "    df = df.append(row, ignore_index=True)\n",
    "df.head()"
   ]
  },
  {
   "cell_type": "code",
   "execution_count": 203,
   "id": "3e26ddd3",
   "metadata": {},
   "outputs": [
    {
     "data": {
      "image/png": "[encoded data removed]",
      "text/plain": [
       "<Figure size 640x480 with 1 Axes>"
      ]
     },
     "metadata": {},
     "output_type": "display_data"
    }
   ],
   "source": [
    "df['delta_length'] = df['length_i'] - df['length_j']\n",
    "graph_data = df.groupby('delta_length')['similarity']\n",
    "mean = graph_data.mean()\n",
    "std_dev =graph_data.std()\n",
    "fig, ax = plt.subplots()\n",
    "mean.plot(kind='bar', yerr=std_dev, ax=ax, capsize=4)\n",
    "ax.set_xlabel('Category')\n",
    "ax.set_ylabel('Average Similarity')\n",
    "ax.set_title('Average Similarity and Standard Deviation per delta lengthbb')\n",
    "plt.show()"
   ]
  },
  {
   "cell_type": "code",
   "execution_count": 207,
   "id": "f2534c45",
   "metadata": {},
   "outputs": [
    {
     "data": {
      "image/png": "[encoded data removed]",
      "text/plain": [
       "<Figure size 640x480 with 1 Axes>"
      ]
     },
     "metadata": {},
     "output_type": "display_data"
    }
   ],
   "source": [
    "delta_length_counts = df['length_i'].value_counts().sort_index()\n",
    "delta_length_counts.plot(kind='bar')\n",
    "plt.xlabel('Delta Length')\n",
    "plt.ylabel('Number of Rows')\n",
    "plt.title('Number of Rows by Delta Length')\n",
    "plt.yscale('log')\n",
    "plt.show()"
   ]
  },
  {
   "cell_type": "code",
   "execution_count": 206,
   "id": "060103ad",
   "metadata": {},
   "outputs": [
    {
     "data": {
      "image/png": "[encoded data removed]",
      "text/plain": [
       "<Figure size 640x480 with 1 Axes>"
      ]
     },
     "metadata": {},
     "output_type": "display_data"
    }
   ],
   "source": [
    "delta_length_counts = df['length_j'].value_counts().sort_index()\n",
    "delta_length_counts.plot(kind='bar')\n",
    "plt.xlabel('Delta Length')\n",
    "plt.ylabel('Number of Rows')\n",
    "plt.title('Number of Rows by Delta Length')\n",
    "plt.yscale('log')\n",
    "plt.show()"
   ]
  },
  {
   "cell_type": "code",
   "execution_count": 191,
   "id": "b07e8d5e",
   "metadata": {},
   "outputs": [
    {
     "name": "stdout",
     "output_type": "stream",
     "text": [
      "Collecting seaborn\n",
      "  Downloading seaborn-0.13.1-py3-none-any.whl.metadata (5.4 kB)\n",
      "Requirement already satisfied: numpy!=1.24.0,>=1.20 in c:\\users\\jonathan\\appdata\\local\\packages\\pythonsoftwarefoundation.python.3.10_qbz5n2kfra8p0\\localcache\\local-packages\\python310\\site-packages (from seaborn) (1.22.4)\n",
      "Requirement already satisfied: pandas>=1.2 in c:\\users\\jonathan\\appdata\\local\\packages\\pythonsoftwarefoundation.python.3.10_qbz5n2kfra8p0\\localcache\\local-packages\\python310\\site-packages (from seaborn) (1.3.5)\n",
      "Requirement already satisfied: matplotlib!=3.6.1,>=3.4 in c:\\users\\jonathan\\appdata\\local\\packages\\pythonsoftwarefoundation.python.3.10_qbz5n2kfra8p0\\localcache\\local-packages\\python310\\site-packages (from seaborn) (3.6.2)\n",
      "Requirement already satisfied: contourpy>=1.0.1 in c:\\users\\jonathan\\appdata\\local\\packages\\pythonsoftwarefoundation.python.3.10_qbz5n2kfra8p0\\localcache\\local-packages\\python310\\site-packages (from matplotlib!=3.6.1,>=3.4->seaborn) (1.0.6)\n",
      "Requirement already satisfied: cycler>=0.10 in c:\\users\\jonathan\\appdata\\local\\packages\\pythonsoftwarefoundation.python.3.10_qbz5n2kfra8p0\\localcache\\local-packages\\python310\\site-packages (from matplotlib!=3.6.1,>=3.4->seaborn) (0.11.0)\n",
      "Requirement already satisfied: fonttools>=4.22.0 in c:\\users\\jonathan\\appdata\\local\\packages\\pythonsoftwarefoundation.python.3.10_qbz5n2kfra8p0\\localcache\\local-packages\\python310\\site-packages (from matplotlib!=3.6.1,>=3.4->seaborn) (4.38.0)\n",
      "Requirement already satisfied: kiwisolver>=1.0.1 in c:\\users\\jonathan\\appdata\\local\\packages\\pythonsoftwarefoundation.python.3.10_qbz5n2kfra8p0\\localcache\\local-packages\\python310\\site-packages (from matplotlib!=3.6.1,>=3.4->seaborn) (1.4.4)\n",
      "Requirement already satisfied: packaging>=20.0 in c:\\users\\jonathan\\appdata\\local\\packages\\pythonsoftwarefoundation.python.3.10_qbz5n2kfra8p0\\localcache\\local-packages\\python310\\site-packages (from matplotlib!=3.6.1,>=3.4->seaborn) (21.3)\n",
      "Requirement already satisfied: pillow>=6.2.0 in c:\\users\\jonathan\\appdata\\local\\packages\\pythonsoftwarefoundation.python.3.10_qbz5n2kfra8p0\\localcache\\local-packages\\python310\\site-packages (from matplotlib!=3.6.1,>=3.4->seaborn) (9.3.0)\n",
      "Requirement already satisfied: pyparsing>=2.2.1 in c:\\users\\jonathan\\appdata\\local\\packages\\pythonsoftwarefoundation.python.3.10_qbz5n2kfra8p0\\localcache\\local-packages\\python310\\site-packages (from matplotlib!=3.6.1,>=3.4->seaborn) (3.0.9)\n",
      "Requirement already satisfied: python-dateutil>=2.7 in c:\\users\\jonathan\\appdata\\local\\packages\\pythonsoftwarefoundation.python.3.10_qbz5n2kfra8p0\\localcache\\local-packages\\python310\\site-packages (from matplotlib!=3.6.1,>=3.4->seaborn) (2.8.2)\n",
      "Requirement already satisfied: pytz>=2017.3 in c:\\users\\jonathan\\appdata\\local\\packages\\pythonsoftwarefoundation.python.3.10_qbz5n2kfra8p0\\localcache\\local-packages\\python310\\site-packages (from pandas>=1.2->seaborn) (2022.6)\n",
      "Requirement already satisfied: six>=1.5 in c:\\users\\jonathan\\appdata\\local\\packages\\pythonsoftwarefoundation.python.3.10_qbz5n2kfra8p0\\localcache\\local-packages\\python310\\site-packages (from python-dateutil>=2.7->matplotlib!=3.6.1,>=3.4->seaborn) (1.16.0)\n",
      "Downloading seaborn-0.13.1-py3-none-any.whl (294 kB)\n",
      "   ---------------------------------------- 0.0/294.8 kB ? eta -:--:--\n",
      "   ---------------------------------------- 294.8/294.8 kB 6.1 MB/s eta 0:00:00\n",
      "Installing collected packages: seaborn\n",
      "Successfully installed seaborn-0.13.1\n",
      "Note: you may need to restart the kernel to use updated packages.\n"
     ]
    },
    {
     "name": "stderr",
     "output_type": "stream",
     "text": [
      "\n",
      "[notice] A new release of pip is available: 23.3.1 -> 23.3.2\n",
      "[notice] To update, run: C:\\Users\\Jonathan\\AppData\\Local\\Microsoft\\WindowsApps\\PythonSoftwareFoundation.Python.3.10_qbz5n2kfra8p0\\python.exe -m pip install --upgrade pip\n"
     ]
    }
   ],
   "source": [
    "%pip install seaborn"
   ]
  },
  {
   "cell_type": "code",
   "execution_count": 205,
   "id": "24b7671d",
   "metadata": {},
   "outputs": [
    {
     "data": {
      "image/png": "[encoded data removed]",
      "text/plain": [
       "<Figure size 1000x800 with 2 Axes>"
      ]
     },
     "metadata": {},
     "output_type": "display_data"
    }
   ],
   "source": [
    "import seaborn as sns\n",
    "plt.figure(figsize=(10, 8))  # You can adjust the size of the figure\n",
    "pivot_table = df.pivot_table(index='length_i', columns='length_j', values='similarity', aggfunc='mean')\n",
    "\n",
    "sns.heatmap(pivot_table, annot=True, cmap='coolwarm')  # 'annot=True' will annotate the cells with similarity values\n",
    "plt.title('Heatmap of Similarity by length_i and length_j')\n",
    "plt.xlabel('length_j')\n",
    "plt.ylabel('length_i')\n",
    "plt.show()"
   ]
  },
  {
   "cell_type": "code",
   "execution_count": 162,
   "id": "669ede8b",
   "metadata": {},
   "outputs": [
    {
     "data": {
      "text/plain": [
       "1000"
      ]
     },
     "execution_count": 162,
     "metadata": {},
     "output_type": "execute_result"
    }
   ],
   "source": [
    "len(df)"
   ]
  },
  {
   "cell_type": "code",
   "execution_count": 156,
   "id": "2063f617",
   "metadata": {},
   "outputs": [
    {
     "data": {
      "text/plain": [
       "(3.074258691206544, 0.3798435833376497)"
      ]
     },
     "execution_count": 156,
     "metadata": {},
     "output_type": "execute_result"
    }
   ],
   "source": [
    "lengths = [len(g.edges) for g in graphs]\n",
    "np.mean(lengths), np.std(lengths)"
   ]
  },
  {
   "cell_type": "code",
   "execution_count": 126,
   "id": "84b5d4be",
   "metadata": {},
   "outputs": [
    {
     "data": {
      "text/plain": [
       "[<networkx.classes.digraph.DiGraph at 0x27d32189b40>,\n",
       " <networkx.classes.digraph.DiGraph at 0x27d32188490>,\n",
       " <networkx.classes.digraph.DiGraph at 0x27d32188b50>,\n",
       " <networkx.classes.digraph.DiGraph at 0x27d32188580>,\n",
       " <networkx.classes.digraph.DiGraph at 0x27d321883a0>,\n",
       " <networkx.classes.digraph.DiGraph at 0x27d3218afb0>,\n",
       " <networkx.classes.digraph.DiGraph at 0x27d3218b4f0>,\n",
       " <networkx.classes.digraph.DiGraph at 0x27d3218b700>,\n",
       " <networkx.classes.digraph.DiGraph at 0x27d3218b760>,\n",
       " <networkx.classes.digraph.DiGraph at 0x27d3218b4c0>,\n",
       " <networkx.classes.digraph.DiGraph at 0x27d3218b490>,\n",
       " <networkx.classes.digraph.DiGraph at 0x27d3218b460>,\n",
       " <networkx.classes.digraph.DiGraph at 0x27d3218b430>,\n",
       " <networkx.classes.digraph.DiGraph at 0x27d3218b3a0>,\n",
       " <networkx.classes.digraph.DiGraph at 0x27d3218b250>,\n",
       " <networkx.classes.digraph.DiGraph at 0x27d3218b220>,\n",
       " <networkx.classes.digraph.DiGraph at 0x27d3218a170>,\n",
       " <networkx.classes.digraph.DiGraph at 0x27d32189c30>,\n",
       " <networkx.classes.digraph.DiGraph at 0x27d3218a500>,\n",
       " <networkx.classes.digraph.DiGraph at 0x27d3218ad10>,\n",
       " <networkx.classes.digraph.DiGraph at 0x27d32189ba0>,\n",
       " <networkx.classes.digraph.DiGraph at 0x27d3218aef0>,\n",
       " <networkx.classes.digraph.DiGraph at 0x27d3218b0a0>,\n",
       " <networkx.classes.digraph.DiGraph at 0x27d32189b70>,\n",
       " <networkx.classes.digraph.DiGraph at 0x27d32189090>,\n",
       " <networkx.classes.digraph.DiGraph at 0x27d321880d0>,\n",
       " <networkx.classes.digraph.DiGraph at 0x27d32188220>,\n",
       " <networkx.classes.digraph.DiGraph at 0x27d32188160>,\n",
       " <networkx.classes.digraph.DiGraph at 0x27d32188040>,\n",
       " <networkx.classes.digraph.DiGraph at 0x27d3218b190>,\n",
       " <networkx.classes.digraph.DiGraph at 0x27d32188070>,\n",
       " <networkx.classes.digraph.DiGraph at 0x27d32188a00>,\n",
       " <networkx.classes.digraph.DiGraph at 0x27d3218bc40>,\n",
       " <networkx.classes.digraph.DiGraph at 0x27d3218bac0>,\n",
       " <networkx.classes.digraph.DiGraph at 0x27d3218ba90>,\n",
       " <networkx.classes.digraph.DiGraph at 0x27d3218baf0>,\n",
       " <networkx.classes.digraph.DiGraph at 0x27d3218bb50>,\n",
       " <networkx.classes.digraph.DiGraph at 0x27d3218bb20>,\n",
       " <networkx.classes.digraph.DiGraph at 0x27d3218bb80>]"
      ]
     },
     "execution_count": 126,
     "metadata": {},
     "output_type": "execute_result"
    }
   ],
   "source": [
    "graphs"
   ]
  },
  {
   "cell_type": "code",
   "execution_count": 116,
   "id": "a97250b4",
   "metadata": {},
   "outputs": [
    {
     "name": "stdout",
     "output_type": "stream",
     "text": [
      "(0, 1): 0.44  (0, 2): 0.26  (0, 3): 0.31  \n",
      "              (1, 2): 0.17  (1, 3): 0.22  \n",
      "                            (2, 3): 0.46  \n",
      "                                          \n",
      "===========\n",
      "(0, 1): 0.42  (0, 2): 0.24  (0, 3): 0.33  \n",
      "              (1, 2): 0.02  (1, 3): 0.19  \n",
      "                            (2, 3): 0.45  \n",
      "                                          \n",
      "===========\n",
      "(0, 1): 0.49  (0, 2): 0.25  (0, 3): 0.32  \n",
      "              (1, 2): 0.04  (1, 3): 0.20  \n",
      "                            (2, 3): 0.45  \n",
      "                                          \n",
      "===========\n",
      "(0, 1): 0.37  (0, 2): 0.24  (0, 3): 0.23  \n",
      "              (1, 2): 0.03  (1, 3): 0.17  \n",
      "                            (2, 3): 0.46  \n",
      "                                          \n",
      "===========\n",
      "(0, 1): 0.40  (0, 2): 0.22  (0, 3): 0.20  \n",
      "              (1, 2): -0.00  (1, 3): 0.18  \n",
      "                            (2, 3): 0.45  \n",
      "                                          \n",
      "===========\n",
      "(0, 1): 0.48  (0, 2): 0.30  (0, 3): 0.32  \n",
      "              (1, 2): 0.18  (1, 3): 0.21  \n",
      "                            (2, 3): 0.47  \n",
      "                                          \n",
      "===========\n",
      "(0, 1): 0.48  (0, 2): 0.29  (0, 3): 0.29  \n",
      "              (1, 2): 0.20  (1, 3): 0.23  \n",
      "                            (2, 3): 0.48  \n",
      "                                          \n",
      "===========\n",
      "(0, 1): 0.44  (0, 2): 0.25  (0, 3): 0.34  \n",
      "              (1, 2): 0.02  (1, 3): 0.19  \n",
      "                            (2, 3): 0.46  \n",
      "                                          \n",
      "===========\n",
      "(0, 1): 0.39  (0, 2): 0.35  (0, 3): 0.39  \n",
      "              (1, 2): 0.20  (1, 3): 0.22  \n",
      "                            (2, 3): 0.46  \n",
      "                                          \n",
      "===========\n",
      "(0, 1): 0.39  (0, 2): 0.17  (0, 3): 0.27  \n",
      "              (1, 2): -0.01  (1, 3): 0.15  \n",
      "                            (2, 3): 0.46  \n",
      "                                          \n",
      "===========\n",
      "(0, 1): 0.42  (0, 2): 0.34  (0, 3): 0.33  \n",
      "              (1, 2): 0.15  (1, 3): 0.18  \n",
      "                            (2, 3): 0.46  \n",
      "                                          \n",
      "===========\n",
      "(0, 1): 0.40  (0, 2): 0.23  (0, 3): 0.21  \n",
      "              (1, 2): 0.02  (1, 3): 0.18  \n",
      "                            (2, 3): 0.46  \n",
      "                                          \n",
      "===========\n",
      "(0, 1): 0.52  (0, 2): 0.33  (0, 3): 0.33  \n",
      "              (1, 2): 0.20  (1, 3): 0.24  \n",
      "                            (2, 3): 0.47  \n",
      "                                          \n",
      "===========\n",
      "(0, 1): 0.42  (0, 2): 0.30  (0, 3): 0.27  \n",
      "              (1, 2): 0.03  (1, 3): 0.18  \n",
      "                            (2, 3): 0.45  \n",
      "                                          \n",
      "===========\n",
      "(0, 1): 0.47  (0, 2): 0.30  (0, 3): 0.32  \n",
      "              (1, 2): 0.03  (1, 3): 0.18  \n",
      "                            (2, 3): 0.46  \n",
      "                                          \n",
      "===========\n",
      "(0, 1): 0.44  (0, 2): 0.24  (0, 3): 0.28  \n",
      "              (1, 2): -0.02  (1, 3): 0.14  \n",
      "                            (2, 3): 0.45  \n",
      "                                          \n",
      "===========\n",
      "(0, 1): 0.43  (0, 2): 0.14  (0, 3): 0.26  \n",
      "              (1, 2): -0.05  (1, 3): 0.13  \n",
      "                            (2, 3): 0.44  \n",
      "                                          \n",
      "===========\n",
      "(0, 1): 0.36  (0, 2): 0.26  (0, 3): 0.25  \n",
      "              (1, 2): 0.02  (1, 3): 0.17  \n",
      "                            (2, 3): 0.45  \n",
      "                                          \n",
      "===========\n",
      "(0, 1): 0.38  (0, 2): 0.32  (0, 3): 0.30  \n",
      "              (1, 2): 0.09  (1, 3): 0.26  \n",
      "                            (2, 3): 0.46  \n",
      "                                          \n",
      "===========\n",
      "(0, 1): 0.42  (0, 2): 0.32  (0, 3): 0.36  \n",
      "              (1, 2): 0.20  (1, 3): 0.27  \n",
      "                            (2, 3): 0.47  \n",
      "                                          \n",
      "===========\n",
      "(0, 1): 0.51  (0, 2): 0.33  (0, 3): 0.35  \n",
      "              (1, 2): 0.15  (1, 3): 0.22  \n",
      "                            (2, 3): 0.46  \n",
      "                                          \n",
      "===========\n",
      "(0, 1): 0.41  (0, 2): 0.30  (0, 3): 0.24  \n",
      "              (1, 2): 0.15  (1, 3): 0.18  \n",
      "                            (2, 3): 0.48  \n",
      "                                          \n",
      "===========\n",
      "(0, 1): 0.36  (0, 2): 0.22  (0, 3): 0.25  \n",
      "              (1, 2): 0.00  (1, 3): 0.18  \n",
      "                            (2, 3): 0.46  \n",
      "                                          \n",
      "===========\n",
      "(0, 1): 0.48  (0, 2): 0.37  (0, 3): 0.37  \n",
      "              (1, 2): 0.26  (1, 3): 0.31  \n",
      "                            (2, 3): 0.45  \n",
      "                                          \n",
      "===========\n",
      "(0, 1): 0.55  (0, 2): 0.35  (0, 3): 0.31  \n",
      "              (1, 2): 0.18  (1, 3): 0.20  \n",
      "                            (2, 3): 0.46  \n",
      "                                          \n",
      "===========\n",
      "(0, 1): 0.44  (0, 2): 0.34  (0, 3): 0.34  \n",
      "              (1, 2): 0.23  (1, 3): 0.28  \n",
      "                            (2, 3): 0.46  \n",
      "                                          \n",
      "===========\n",
      "(0, 1): 0.39  (0, 2): 0.23  (0, 3): 0.25  \n",
      "              (1, 2): -0.00  (1, 3): 0.15  \n",
      "                            (2, 3): 0.46  \n",
      "                                          \n",
      "===========\n",
      "(0, 1): 0.43  (0, 2): 0.23  (0, 3): 0.31  \n",
      "              (1, 2): 0.02  (1, 3): 0.19  \n",
      "                            (2, 3): 0.46  \n",
      "                                          \n",
      "===========\n",
      "(0, 1): 0.44  (0, 2): 0.29  (0, 3): 0.35  \n",
      "              (1, 2): 0.01  (1, 3): 0.17  \n",
      "                            (2, 3): 0.45  \n",
      "                                          \n",
      "===========\n",
      "(0, 1): 0.37  (0, 2): 0.32  (0, 3): 0.29  \n",
      "              (1, 2): 0.09  (1, 3): 0.22  \n",
      "                            (2, 3): 0.47  \n",
      "                                          \n",
      "===========\n",
      "(0, 1): 0.45  (0, 2): 0.24  (0, 3): 0.35  \n",
      "              (1, 2): 0.03  (1, 3): 0.20  \n",
      "                            (2, 3): 0.47  \n",
      "                                          \n",
      "===========\n",
      "(0, 1): 0.39  (0, 2): 0.22  (0, 3): 0.26  \n",
      "              (1, 2): 0.03  (1, 3): 0.18  \n",
      "                            (2, 3): 0.46  \n",
      "                                          \n",
      "===========\n",
      "(0, 1): 0.45  (0, 2): 0.33  (0, 3): 0.28  \n",
      "              (1, 2): 0.18  (1, 3): 0.23  \n",
      "                            (2, 3): 0.46  \n",
      "                                          \n",
      "===========\n",
      "(0, 1): 0.47  (0, 2): 0.35  (0, 3): 0.33  \n",
      "              (1, 2): 0.20  (1, 3): 0.23  \n",
      "                            (2, 3): 0.46  \n",
      "                                          \n",
      "===========\n",
      "(0, 1): 0.39  (0, 2): 0.24  (0, 3): 0.21  \n",
      "              (1, 2): -0.00  (1, 3): 0.18  \n",
      "                            (2, 3): 0.45  \n",
      "                                          \n",
      "===========\n",
      "(0, 1): 0.34  (0, 2): 0.22  (0, 3): 0.19  \n",
      "              (1, 2): 0.01  (1, 3): 0.16  \n",
      "                            (2, 3): 0.45  \n",
      "                                          \n",
      "===========\n",
      "(0, 1): 0.37  (0, 2): 0.33  (0, 3): 0.38  \n",
      "              (1, 2): 0.19  (1, 3): 0.22  \n",
      "                            (2, 3): 0.45  \n",
      "                                          \n",
      "===========\n",
      "(0, 1): 0.45  (0, 2): 0.21  (0, 3): 0.22  \n",
      "              (1, 2): 0.04  (1, 3): 0.16  \n",
      "                            (2, 3): 0.46  \n",
      "                                          \n",
      "===========\n",
      "(0, 1): 0.38  (0, 2): 0.34  (0, 3): 0.33  \n",
      "              (1, 2): 0.04  (1, 3): 0.18  \n",
      "                            (2, 3): 0.46  \n",
      "                                          \n",
      "===========\n"
     ]
    }
   ],
   "source": [
    "for path_graphs in path_graphs_list:\n",
    "    path_embeddings = graph2vec.infer(path_graphs)\n",
    "    for i in range(len(path_embeddings)):\n",
    "        for _ in range(1, i+1):\n",
    "            print('              ', end='')\n",
    "        for j in range(i+1, len(path_embeddings)):\n",
    "            s = cosine_similarity([path_embeddings[i]], [path_embeddings[j]])[0,0]\n",
    "            print(f'({i}, {j}): {s:.2f}',end='  ')\n",
    "        print()\n",
    "    print(\"===========\")"
   ]
  },
  {
   "cell_type": "code",
   "execution_count": 99,
   "id": "42e6c2e5",
   "metadata": {},
   "outputs": [
    {
     "data": {
      "text/plain": [
       "400"
      ]
     },
     "execution_count": 99,
     "metadata": {},
     "output_type": "execute_result"
    }
   ],
   "source": [
    "whole_graphs = [i for i, g in enumerate(subgraphs) if g.depth == 0]\n",
    "len(whole_graphs)"
   ]
  },
  {
   "cell_type": "code",
   "execution_count": 103,
   "id": "33cf9e64",
   "metadata": {},
   "outputs": [],
   "source": [
    "\n",
    "embeddings = graph2vec.get_embedding()\n"
   ]
  },
  {
   "cell_type": "code",
   "execution_count": 108,
   "id": "ca36b479",
   "metadata": {},
   "outputs": [
    {
     "name": "stderr",
     "output_type": "stream",
     "text": [
      "100%|██████████| 79800/79800 [00:05<00:00, 15497.33it/s]\n"
     ]
    }
   ],
   "source": [
    "import itertools\n",
    "comparisons = list(itertools.combinations(list(range(400)), 2))\n",
    "similarities = []\n",
    "for i, j in tqdm(comparisons):\n",
    "    e_i = embeddings[i]\n",
    "    e_j = embeddings[j]\n",
    "    similarities.append(cosine_similarity([e_i], [e_j])[0,0])"
   ]
  },
  {
   "cell_type": "code",
   "execution_count": 109,
   "id": "2f51bacb",
   "metadata": {},
   "outputs": [
    {
     "data": {
      "text/plain": [
       "(0.76340365, 0.1451599)"
      ]
     },
     "execution_count": 109,
     "metadata": {},
     "output_type": "execute_result"
    }
   ],
   "source": [
    "np.mean(similarities), np.std(similarities)"
   ]
  },
  {
   "cell_type": "code",
   "execution_count": 106,
   "id": "11a0dac1",
   "metadata": {},
   "outputs": [
    {
     "data": {
      "text/plain": [
       "0.1451599"
      ]
     },
     "execution_count": 106,
     "metadata": {},
     "output_type": "execute_result"
    }
   ],
   "source": []
  }
 ],
 "metadata": {
  "kernelspec": {
   "display_name": "Python 3",
   "language": "python",
   "name": "python3"
  },
  "language_info": {
   "codemirror_mode": {
    "name": "ipython",
    "version": 3
   },
   "file_extension": ".py",
   "mimetype": "text/x-python",
   "name": "python",
   "nbconvert_exporter": "python",
   "pygments_lexer": "ipython3",
   "version": "3.10.0"
  }
 },
 "nbformat": 4,
 "nbformat_minor": 5
}
