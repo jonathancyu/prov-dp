{
 "cells": [
  {
   "cell_type": "code",
   "execution_count": 1,
   "outputs": [
    {
     "name": "stderr",
     "output_type": "stream",
     "text": [
      "Reading graphs: 100%|██████████| 200/200 [00:08<00:00, 24.30it/s]\n",
      "Converting to nx: 100%|██████████| 200/200 [00:03<00:00, 60.21it/s]\n"
     ]
    }
   ],
   "source": [
    "from algorithm import GraphWrapper\n",
    "from pathlib import Path\n",
    "from tqdm import tqdm\n",
    "\n",
    "input_path = Path('../benign_graphs/tc3-theia/firefox/nd')\n",
    "input_paths = list(input_path.glob('*.json'))[:200]\n",
    "input_graphs = [GraphWrapper(input_path) \n",
    "                for input_path in tqdm(input_paths, desc='Reading graphs')]\n",
    "nx_graphs = [graph.to_nx() for graph in tqdm(input_graphs, desc='Converting to nx')]\n"
   ],
   "metadata": {
    "collapsed": false,
    "ExecuteTime": {
     "end_time": "2024-01-20T22:57:45.058468Z",
     "start_time": "2024-01-20T22:57:33.181341Z"
    }
   },
   "id": "824fd0a749174afb"
  },
  {
   "cell_type": "code",
   "execution_count": 2,
   "outputs": [],
   "source": [
    "import networkx as nx\n",
    "from karateclub import Graph2Vec\n",
    "\n",
    "graph2vec = Graph2Vec(\n",
    "    wl_iterations=80,\n",
    "    attributed=True,\n",
    "    dimensions=128,\n",
    "    workers=4,\n",
    "    epochs=5\n",
    ")\n",
    "\n",
    "graph2vec.fit(nx_graphs)"
   ],
   "metadata": {
    "collapsed": false,
    "ExecuteTime": {
     "end_time": "2024-01-20T22:58:47.415387Z",
     "start_time": "2024-01-20T22:58:15.659785Z"
    }
   },
   "id": "a9fabbaa82f99158"
  },
  {
   "cell_type": "code",
   "execution_count": 4,
   "outputs": [
    {
     "data": {
      "text/plain": "200"
     },
     "execution_count": 4,
     "metadata": {},
     "output_type": "execute_result"
    }
   ],
   "source": [
    "len(graph2vec.get_embedding())"
   ],
   "metadata": {
    "collapsed": false,
    "ExecuteTime": {
     "end_time": "2024-01-20T23:00:03.053237Z",
     "start_time": "2024-01-20T23:00:03.045978Z"
    }
   },
   "id": "c8a80442d26b3bb7"
  },
  {
   "cell_type": "code",
   "execution_count": 18,
   "outputs": [],
   "source": [
    "import pickle\n",
    "from algorithm import Subgraph, IN, OUT\n",
    "pruned_subgraphs: dict[str, list[Subgraph]]\n",
    "with open('pruned_subgraphs.pkl', 'rb') as f:\n",
    "    pruned_subgraphs = pickle.load(f)"
   ],
   "metadata": {
    "collapsed": false,
    "ExecuteTime": {
     "end_time": "2024-01-21T23:23:37.336027Z",
     "start_time": "2024-01-21T23:23:33.725816Z"
    }
   },
   "id": "2e6d61a2fd59396e"
  },
  {
   "cell_type": "code",
   "execution_count": 19,
   "outputs": [
    {
     "data": {
      "text/plain": "Counter({(53642395, 1, 1): 514,\n         (12403321, 1, 1): 510,\n         (9726155, 1, 1): 509,\n         (12646743, 1, 1): 507,\n         (12495075, 1, 1): 507,\n         (56598918, 1, 1): 503,\n         (11514956, 1, 1): 502,\n         (12831606, 1, 1): 501,\n         (59363202, 1, 1): 501,\n         (12559024, 1, 1): 500,\n         (55921424, 1, 1): 499,\n         (20440337, 1, 1): 498,\n         (19624330, 1, 1): 498,\n         (56371783, 1, 1): 497,\n         (12380905, 1, 1): 496,\n         (57149937, 1, 1): 495,\n         (21916275, 1, 1): 491,\n         (53551079, 1, 1): 491,\n         (20310276, 1, 1): 490,\n         (20906008, 1, 1): 489,\n         (20271042, 1, 1): 489,\n         (12518947, 1, 1): 485,\n         (19456963, 1, 1): 481,\n         (12875328, 1, 1): 479,\n         (26112691, 3, 1): 437,\n         (40755170, 3, 1): 388,\n         (52936304, 1, 1): 364,\n         (44125739, 2, 1): 348,\n         (33673393, 2, 1): 318,\n         (37812457, 2, 1): 303,\n         (39352652, 2, 1): 297,\n         (46997742, 2, 1): 290,\n         (49094128, 1, 1): 276,\n         (7930652, 3, 1): 245,\n         (46962207, 3, 1): 236,\n         (26223124, 3, 1): 232,\n         (28515428, 2, 1): 230,\n         (40154843, 3, 1): 222,\n         (46997742, 1, 1): 221,\n         (49066063, 3, 1): 220,\n         (33801849, 1, 1): 213,\n         (37812457, 1, 1): 211,\n         (1386316, 1, 1): 211,\n         (49763725, 2, 1): 209,\n         (27853902, 3, 1): 208,\n         (47447811, 2, 1): 206,\n         (48912883, 2, 1): 203,\n         (45631052, 2, 1): 194,\n         (47493669, 2, 1): 192,\n         (47845362, 3, 1): 191,\n         (39420205, 2, 1): 191,\n         (7385800, 3, 1): 190,\n         (39352652, 1, 1): 182,\n         (40768802, 2, 1): 182,\n         (39647988, 1, 1): 181,\n         (187023, 1, 1): 179,\n         (45631052, 1, 1): 179,\n         (5449906, 1, 1): 176,\n         (33801849, 2, 1): 175,\n         (46893658, 1, 1): 174,\n         (46893658, 2, 1): 174,\n         (40768802, 1, 1): 173,\n         (39420205, 1, 1): 173,\n         (24207092, 1, 1): 172,\n         (47493669, 1, 1): 171,\n         (30478371, 1, 1): 171,\n         (25427316, 1, 1): 170,\n         (5531434, 1, 1): 170,\n         (44560880, 1, 1): 170,\n         (436247, 1, 1): 167,\n         (4275570, 1, 1): 164,\n         (52761226, 1, 1): 161,\n         (4672673, 1, 1): 159,\n         (49763725, 1, 1): 158,\n         (47447811, 1, 1): 157,\n         (24207092, 2, 1): 156,\n         (7385800, 1, 1): 156,\n         (44560880, 2, 1): 156,\n         (27553243, 1, 1): 155,\n         (28515428, 1, 1): 154,\n         (4043030, 1, 1): 154,\n         (7979269, 1, 1): 154,\n         (33673393, 1, 1): 153,\n         (48908001, 1, 1): 149,\n         (27853902, 2, 1): 143,\n         (39412865, 1, 1): 143,\n         (48912883, 1, 1): 142,\n         (52761226, 2, 1): 139,\n         (7360633, 1, 1): 139,\n         (27853902, 1, 1): 138,\n         (44125739, 1, 1): 138,\n         (52936304, 2, 1): 134,\n         (26223124, 2, 1): 131,\n         (26230657, 1, 1): 127,\n         (26223124, 1, 1): 125,\n         (9114432, 1, 1): 125,\n         (45379198, 1, 1): 121,\n         (22564914, 1, 1): 120,\n         (25427316, 2, 1): 115,\n         (5531434, 3, 1): 112,\n         (29266860, 2, 1): 111,\n         (52784590, 1, 1): 110,\n         (40755170, 1, 1): 109,\n         (5449906, 3, 1): 108,\n         (30457844, 1, 1): 103,\n         (25431569, 1, 1): 102,\n         (30478371, 2, 1): 102,\n         (49066063, 1, 1): 82,\n         (7930652, 1, 1): 75,\n         (39400829, 1, 1): 74,\n         (7385800, 2, 1): 74,\n         (48593155, 1, 1): 69,\n         (26112691, 1, 1): 66,\n         (47845362, 1, 1): 65,\n         (43835854, 2, 1): 62,\n         (4705472, 1, 1): 61,\n         (42213602, 1, 1): 61,\n         (36032906, 1, 1): 61,\n         (46962207, 1, 1): 61,\n         (45322896, 1, 1): 61,\n         (4076555, 1, 1): 60,\n         (47626388, 1, 1): 60,\n         (47267889, 1, 1): 58,\n         (16672831, 1, 1): 58,\n         (4076186, 1, 1): 57,\n         (40154843, 1, 1): 57,\n         (20491654, 2, 1): 56,\n         (30457844, 3, 1): 55,\n         (57649524, 2, 1): 55,\n         (16672910, 1, 1): 51,\n         (39647988, 2, 1): 48,\n         (5449906, 2, 1): 43,\n         (22564914, 2, 1): 40,\n         (4068316, 1, 1): 39,\n         (7385800, 4, 1): 37,\n         (5531434, 2, 1): 31,\n         (4275570, 2, 1): 24,\n         (1386316, 2, 1): 24,\n         (53551079, 2, 1): 23,\n         (5449906, 4, 1): 18,\n         (44125739, 3, 1): 16,\n         (24207092, 3, 1): 12,\n         (5449906, 2, 2): 12,\n         (5449906, 3, 190): 10,\n         (5531434, 3, 97): 10,\n         (5449906, 3, 97): 9,\n         (24207092, 2, 2): 8,\n         (5531434, 4, 2): 8,\n         (436247, 2, 1): 6,\n         (5531434, 2, 2): 6,\n         (5531434, 5, 1): 6,\n         (5531434, 3, 190): 5,\n         (39412865, 2, 1): 5,\n         (26230657, 2, 1): 4,\n         (24207092, 3, 123): 4,\n         (4672673, 2, 1): 4,\n         (5531434, 5, 97): 4,\n         (40154843, 2, 1): 3,\n         (27553243, 2, 1): 3,\n         (5531434, 5, 190): 3,\n         (26223124, 3, 2): 3,\n         (436247, 1, 1791): 2,\n         (24207092, 1, 2): 2,\n         (4672673, 1, 2448): 2,\n         (4043030, 2, 1): 2,\n         (49094128, 2, 1): 2,\n         (22564914, 1, 2): 2,\n         (7385800, 3, 868): 2,\n         (20491654, 1, 1): 2,\n         (4275570, 1, 5): 2,\n         (4275570, 1, 4): 2,\n         (26112691, 2, 1): 2,\n         (40755170, 2, 1): 2,\n         (40755170, 3, 289): 2,\n         (15615255, 1, 1): 2,\n         (26223124, 3, 128): 2,\n         (39412865, 1, 2): 2,\n         (57649524, 1, 1): 2,\n         (7360633, 2, 1): 2,\n         (5108780, 0, 706): 1,\n         (12711381, 0, 1001): 1,\n         (47267889, 1, 420): 1,\n         (47267889, 2, 1): 1,\n         (49066063, 1, 3): 1,\n         (49066063, 2, 1): 1,\n         (49066063, 2, 371): 1,\n         (49066063, 3, 408): 1,\n         (49066063, 4, 1): 1,\n         (4705472, 1, 328): 1,\n         (59082437, 0, 1001): 1,\n         (8972077, 0, 454): 1,\n         (35674192, 1, 468): 1,\n         (28515428, 1, 2): 1,\n         (28515428, 1, 154): 1,\n         (28515428, 1, 4): 1,\n         (52784590, 2, 234): 1,\n         (24899275, 0, 652): 1,\n         (11379403, 0, 1001): 1,\n         (47626387, 0, 461): 1,\n         (49483465, 0, 1001): 1,\n         (16615513, 0, 1001): 1,\n         (26112167, 0, 461): 1,\n         (436247, 1, 578): 1,\n         (436247, 1, 1213): 1,\n         (436247, 1, 2): 1,\n         (436247, 2, 657): 1,\n         (39538015, 0, 622): 1,\n         (49399134, 0, 686): 1,\n         (12449770, 0, 1001): 1,\n         (26230657, 1, 573): 1,\n         (26230657, 1, 2): 1,\n         (24207092, 1, 73): 1,\n         (24207092, 1, 89): 1,\n         (40204385, 0, 463): 1,\n         (16001074, 0, 1001): 1,\n         (11737695, 0, 1001): 1,\n         (19451955, 0, 1001): 1,\n         (4672673, 1, 2): 1,\n         (4672673, 1, 1292): 1,\n         (4672673, 1, 1249): 1,\n         (4672673, 1, 2431): 1,\n         (4672673, 1, 4): 1,\n         (4672673, 1, 3): 1,\n         (4672673, 2, 584): 1,\n         (25427316, 1, 60): 1,\n         (25427316, 1, 65): 1,\n         (25427316, 1, 13): 1,\n         (25427316, 1, 4): 1,\n         (25427316, 1, 5): 1,\n         (9188113, 0, 718): 1,\n         (4076555, 1, 420): 1,\n         (4076555, 1, 3): 1,\n         (21345549, 0, 1001): 1,\n         (33642784, 0, 777): 1,\n         (31427902, 0, 716): 1,\n         (47798901, 0, 723): 1,\n         (4076186, 1, 418): 1,\n         (4076186, 2, 1): 1,\n         (9374675, 0, 517): 1,\n         (47493669, 1, 275): 1,\n         (46893658, 1, 12): 1,\n         (44060353, 0, 999): 1,\n         (4043030, 1, 591): 1,\n         (4043030, 1, 1414): 1,\n         (4043030, 1, 2): 1,\n         (4043030, 1, 5): 1,\n         (4043030, 1, 3): 1,\n         (39400829, 1, 3): 1,\n         (39400829, 2, 371): 1,\n         (39400829, 2, 3): 1,\n         (39400829, 2, 32): 1,\n         (30457844, 2, 1): 1,\n         (30457844, 3, 226): 1,\n         (391201, 0, 331): 1,\n         (49094128, 1, 391): 1,\n         (49094128, 1, 3): 1,\n         (14857314, 0, 1001): 1,\n         (41326466, 1, 1): 1,\n         (41326466, 1, 470): 1,\n         (34410103, 0, 620): 1,\n         (1279521, 0, 793): 1,\n         (48878437, 0, 1001): 1,\n         (39647988, 1, 270): 1,\n         (39647988, 1, 13): 1,\n         (39647988, 1, 5): 1,\n         (10967560, 0, 1001): 1,\n         (12895439, 0, 1001): 1,\n         (5449906, 1, 310): 1,\n         (5449906, 1, 279): 1,\n         (5449906, 1, 2): 1,\n         (5449906, 1, 4): 1,\n         (5449906, 2, 100): 1,\n         (5449906, 3, 47): 1,\n         (5449906, 3, 50): 1,\n         (5449906, 3, 4): 1,\n         (47845362, 1, 3): 1,\n         (47845362, 2, 374): 1,\n         (47845362, 2, 7): 1,\n         (48343705, 0, 1001): 1,\n         (33662811, 0, 655): 1,\n         (35727694, 0, 1000): 1,\n         (19384596, 0, 77): 1,\n         (22880713, 0, 506): 1,\n         (39264451, 0, 473): 1,\n         (39352652, 1, 101): 1,\n         (39352652, 1, 4): 1,\n         (39352652, 1, 5): 1,\n         (43835854, 3, 353): 1,\n         (12559019, 0, 1001): 1,\n         (22564914, 1, 632): 1,\n         (22564914, 1, 4): 1,\n         (22564914, 1, 5): 1,\n         (22564914, 2, 1206): 1,\n         (33742583, 0, 471): 1,\n         (47868582, 0, 1001): 1,\n         (10372949, 0, 1001): 1,\n         (25431569, 1, 235): 1,\n         (45631052, 1, 290): 1,\n         (45631052, 1, 4): 1,\n         (8153338, 0, 558): 1,\n         (15666692, 0, 472): 1,\n         (7385800, 1, 41): 1,\n         (7385800, 1, 2): 1,\n         (7385800, 1, 1804): 1,\n         (7385800, 1, 5): 1,\n         (7385800, 1, 3): 1,\n         (7385800, 2, 416): 1,\n         (7385800, 2, 412): 1,\n         (7385800, 3, 5): 1,\n         (7385800, 3, 41): 1,\n         (7385800, 3, 19): 1,\n         (7385800, 3, 1815): 1,\n         (7385800, 3, 4): 1,\n         (7385800, 4, 1363): 1,\n         (7385800, 4, 399): 1,\n         (42213602, 1, 408): 1,\n         (42213602, 1, 3): 1,\n         (44155863, 0, 464): 1,\n         (20123747, 0, 1001): 1,\n         (29266860, 2, 7): 1,\n         (29266860, 2, 288): 1,\n         (29266860, 2, 3): 1,\n         (20491654, 2, 428): 1,\n         (20491654, 2, 3): 1,\n         (52247269, 0, 1001): 1,\n         (39703399, 0, 1000): 1,\n         (12165552, 0, 1001): 1,\n         (47511762, 0, 1001): 1,\n         (47650290, 0, 727): 1,\n         (4275570, 1, 19): 1,\n         (4275570, 1, 2): 1,\n         (4275570, 2, 524): 1,\n         (4275570, 2, 1168): 1,\n         (19173063, 0, 1001): 1,\n         (40154843, 2, 374): 1,\n         (41043360, 0, 945): 1,\n         (12182629, 0, 1001): 1,\n         (30478371, 1, 114): 1,\n         (30478371, 1, 2): 1,\n         (30478371, 1, 183): 1,\n         (30478371, 1, 178): 1,\n         (4405607, 0, 548): 1,\n         (47837308, 0, 732): 1,\n         (55325877, 0, 1001): 1,\n         (38528728, 0, 885): 1,\n         (27553243, 1, 145): 1,\n         (27553243, 1, 194): 1,\n         (27553243, 3, 4): 1,\n         (27553243, 3, 1): 1,\n         (1434725, 0, 508): 1,\n         (33346076, 0, 461): 1,\n         (48593155, 1, 408): 1,\n         (48593155, 2, 1): 1,\n         (4691970, 0, 483): 1,\n         (36032906, 1, 408): 1,\n         (4364028, 0, 462): 1,\n         (5811173, 0, 461): 1,\n         (26112691, 1, 4): 1,\n         (26112691, 3, 2): 1,\n         (26112691, 3, 418): 1,\n         (26112691, 3, 4): 1,\n         (26112691, 4, 1): 1,\n         (26230621, 0, 660): 1,\n         (35561353, 0, 483): 1,\n         (15885260, 0, 1001): 1,\n         (40768802, 1, 2): 1,\n         (40768802, 1, 282): 1,\n         (40755170, 1, 4): 1,\n         (40755170, 1, 2): 1,\n         (40755170, 3, 4): 1,\n         (9574125, 0, 1001): 1,\n         (49763725, 1, 2): 1,\n         (19107961, 0, 1001): 1,\n         (57575644, 0, 1001): 1,\n         (24246567, 0, 464): 1,\n         (33801849, 1, 203): 1,\n         (5192355, 0, 461): 1,\n         (52761226, 1, 202): 1,\n         (34898458, 0, 611): 1,\n         (46962207, 2, 32): 1,\n         (46962207, 2, 1): 1,\n         (55385475, 0, 1001): 1,\n         (33673393, 1, 44): 1,\n         (16672910, 2, 1): 1,\n         (16672910, 2, 345): 1,\n         (39420205, 1, 280): 1,\n         (39420205, 1, 4): 1,\n         (44144397, 0, 446): 1,\n         (7435489, 0, 679): 1,\n         (48667407, 0, 1001): 1,\n         (25651120, 0, 77): 1,\n         (45379198, 2, 236): 1,\n         (5531434, 1, 310): 1,\n         (5531434, 1, 190): 1,\n         (5531434, 1, 4): 1,\n         (5531434, 2, 50): 1,\n         (5531434, 3, 50): 1,\n         (5531434, 4, 3): 1,\n         (5531434, 4, 1): 1,\n         (5531434, 5, 47): 1,\n         (48528792, 0, 1001): 1,\n         (27853902, 1, 2): 1,\n         (27853902, 1, 5): 1,\n         (27853902, 3, 632): 1,\n         (27853902, 3, 81): 1,\n         (27853902, 3, 4): 1,\n         (15615255, 1, 469): 1,\n         (26223124, 1, 4): 1,\n         (26223124, 1, 3): 1,\n         (26223124, 3, 4): 1,\n         (26223124, 3, 242): 1,\n         (7979269, 1, 627): 1,\n         (7979269, 1, 1400): 1,\n         (7979269, 1, 1339): 1,\n         (7979269, 1, 3): 1,\n         (7979269, 2, 1): 1,\n         (47626388, 1, 408): 1,\n         (47626388, 2, 1): 1,\n         (16672831, 2, 333): 1,\n         (1159781, 0, 462): 1,\n         (27387972, 0, 473): 1,\n         (4068316, 1, 3): 1,\n         (39412865, 1, 404): 1,\n         (13337667, 0, 1001): 1,\n         (1385145, 0, 534): 1,\n         (58388880, 0, 1001): 1,\n         (25659053, 0, 598): 1,\n         (20499867, 0, 1001): 1,\n         (38577210, 0, 1000): 1,\n         (25423273, 0, 455): 1,\n         (47447811, 1, 11): 1,\n         (47447811, 1, 4): 1,\n         (47447811, 1, 5): 1,\n         (35438198, 0, 472): 1,\n         (39264449, 0, 473): 1,\n         (18970506, 0, 1001): 1,\n         (22726319, 0, 458): 1,\n         (37812457, 1, 2): 1,\n         (24393007, 0, 554): 1,\n         (22059434, 0, 472): 1,\n         (57649524, 2, 428): 1,\n         (57649524, 2, 3): 1,\n         (12232935, 0, 1001): 1,\n         (9114432, 1, 4): 1,\n         (9114432, 1, 289): 1,\n         (9114432, 2, 1): 1,\n         (12604698, 0, 1001): 1,\n         (4652567, 0, 606): 1,\n         (44560880, 1, 2): 1,\n         (44560880, 1, 349): 1,\n         (44125739, 1, 5): 1,\n         (44125739, 2, 39): 1,\n         (55984165, 0, 1001): 1,\n         (12901350, 0, 1001): 1,\n         (9381862, 0, 591): 1,\n         (7930652, 1, 2): 1,\n         (7930652, 2, 33): 1,\n         (7930652, 2, 1): 1,\n         (45322896, 1, 324): 1,\n         (29453888, 0, 670): 1,\n         (7360633, 1, 55): 1,\n         (7360633, 1, 4): 1,\n         (7360633, 1, 3): 1,\n         (7360633, 2, 205): 1,\n         (7360633, 2, 13): 1,\n         (1386316, 1, 2): 1,\n         (1386316, 2, 54): 1,\n         (1386316, 2, 86): 1,\n         (48908001, 1, 314): 1,\n         (48908001, 1, 89): 1,\n         (48912883, 1, 305): 1,\n         (5432253, 0, 615): 1,\n         (9902963, 0, 1001): 1,\n         (34058440, 0, 793): 1,\n         (12538400, 0, 1001): 1})"
     },
     "execution_count": 19,
     "metadata": {},
     "output_type": "execute_result"
    }
   ],
   "source": [
    "from collections import Counter\n",
    "graphs = Counter()\n",
    "for subgraph in pruned_subgraphs[IN]:\n",
    "    graphs.update([(subgraph.parent_graph.source_edge_id, subgraph.depth, len(subgraph.edges))])\n",
    "\n",
    "graphs"
   ],
   "metadata": {
    "collapsed": false,
    "ExecuteTime": {
     "end_time": "2024-01-21T23:23:43.208561Z",
     "start_time": "2024-01-21T23:23:43.203909Z"
    }
   },
   "id": "c765b0c0fd4c0302"
  },
  {
   "cell_type": "code",
   "execution_count": 24,
   "outputs": [
    {
     "data": {
      "text/plain": "5108780"
     },
     "execution_count": 24,
     "metadata": {},
     "output_type": "execute_result"
    }
   ],
   "source": [
    "pruned_subgraphs[IN][0].root_edge_id"
   ],
   "metadata": {
    "collapsed": false,
    "ExecuteTime": {
     "end_time": "2024-01-21T23:24:50.952557Z",
     "start_time": "2024-01-21T23:24:50.949970Z"
    }
   },
   "id": "7c73edbccf97cc93"
  },
  {
   "cell_type": "code",
   "execution_count": 14,
   "outputs": [
    {
     "data": {
      "text/plain": "[0,\n 1,\n 1,\n 1,\n 1,\n 1,\n 1,\n 1,\n 1,\n 1,\n 1,\n 1,\n 1,\n 1,\n 1,\n 1,\n 1,\n 1,\n 1,\n 1,\n 1,\n 1,\n 1,\n 1,\n 1,\n 1,\n 1,\n 1,\n 1,\n 1,\n 1,\n 1,\n 1,\n 1,\n 1,\n 1,\n 1,\n 1,\n 1,\n 1,\n 1,\n 1,\n 1,\n 1,\n 1,\n 1,\n 1,\n 1,\n 1,\n 1,\n 1,\n 1,\n 1,\n 1,\n 1,\n 1,\n 1,\n 1,\n 1,\n 1,\n 1,\n 1,\n 1,\n 1,\n 1,\n 1,\n 1,\n 1,\n 1,\n 1,\n 1,\n 1,\n 1,\n 1,\n 1,\n 1,\n 1,\n 1,\n 1,\n 1,\n 1,\n 1,\n 1,\n 1,\n 1,\n 1,\n 1,\n 1,\n 1,\n 1,\n 1,\n 1,\n 1,\n 1,\n 1,\n 1,\n 1,\n 1,\n 1,\n 1,\n 1,\n 1,\n 1,\n 1,\n 1,\n 1,\n 1,\n 1,\n 1,\n 1,\n 1,\n 1,\n 1,\n 1,\n 1,\n 1,\n 1,\n 1,\n 1,\n 1,\n 1,\n 1,\n 1,\n 1,\n 1,\n 1,\n 1,\n 1,\n 1,\n 1,\n 1,\n 1,\n 1,\n 1,\n 1,\n 1,\n 1,\n 1,\n 1,\n 1,\n 1,\n 1,\n 1,\n 1,\n 1,\n 1,\n 1,\n 1,\n 1,\n 1,\n 1,\n 1,\n 1,\n 1,\n 1,\n 1,\n 1,\n 1,\n 1,\n 1,\n 1,\n 1,\n 1,\n 1,\n 1,\n 1,\n 1,\n 1,\n 1,\n 1,\n 1,\n 1,\n 1,\n 1,\n 1,\n 1,\n 1,\n 1,\n 1,\n 1,\n 1,\n 1,\n 1,\n 1,\n 1,\n 1,\n 1,\n 1,\n 1,\n 1,\n 1,\n 1,\n 1,\n 1,\n 1,\n 1,\n 1,\n 1,\n 1,\n 1,\n 1,\n 1,\n 1,\n 1,\n 1,\n 1,\n 1,\n 1,\n 1,\n 1,\n 1,\n 1,\n 1,\n 1,\n 1,\n 1,\n 1,\n 1,\n 1,\n 1,\n 1,\n 1,\n 1,\n 1,\n 1,\n 1,\n 1,\n 1,\n 1,\n 1,\n 1,\n 1,\n 1,\n 1,\n 1,\n 1,\n 1,\n 1,\n 1,\n 1,\n 1,\n 1,\n 1,\n 1,\n 1,\n 1,\n 1,\n 1,\n 1,\n 1,\n 1,\n 1,\n 1,\n 1,\n 1,\n 1,\n 1,\n 1,\n 1,\n 1,\n 1,\n 1,\n 1,\n 1,\n 1,\n 1,\n 1,\n 1,\n 1,\n 1,\n 1,\n 1,\n 1,\n 1,\n 1,\n 1,\n 1,\n 1,\n 1,\n 1,\n 1,\n 1,\n 1,\n 1,\n 1,\n 1,\n 1,\n 1,\n 1,\n 1,\n 1,\n 1,\n 1,\n 1,\n 1,\n 1,\n 1,\n 1,\n 1,\n 1,\n 1,\n 1,\n 1,\n 1,\n 1,\n 1,\n 1,\n 1,\n 1,\n 1,\n 1,\n 1,\n 1,\n 1,\n 1,\n 1,\n 1,\n 1,\n 1,\n 1,\n 1,\n 1,\n 1,\n 1,\n 1,\n 1,\n 1,\n 1,\n 1,\n 1,\n 1,\n 1,\n 1,\n 1,\n 1,\n 1,\n 1,\n 1,\n 1,\n 1,\n 1,\n 1,\n 1,\n 1,\n 1,\n 1,\n 1,\n 1,\n 1,\n 1,\n 1,\n 1,\n 1,\n 1,\n 1,\n 1,\n 1,\n 1,\n 1,\n 1,\n 1,\n 1,\n 1,\n 1,\n 1,\n 1,\n 1,\n 1,\n 1,\n 1,\n 1,\n 1,\n 1,\n 1,\n 1,\n 1,\n 1,\n 1,\n 1,\n 1,\n 1,\n 1,\n 1,\n 1,\n 1,\n 1,\n 1,\n 1,\n 1,\n 1,\n 1,\n 1,\n 1,\n 1,\n 1,\n 1,\n 1,\n 1,\n 1,\n 1,\n 1,\n 1,\n 1,\n 1,\n 1,\n 1,\n 1,\n 1,\n 1,\n 1,\n 1,\n 1,\n 1,\n 1,\n 1,\n 1,\n 1,\n 1,\n 1,\n 1,\n 1,\n 1,\n 1,\n 1,\n 1,\n 1,\n 1,\n 1,\n 1,\n 1,\n 1,\n 1,\n 1,\n 1,\n 1,\n 1,\n 1,\n 1,\n 1,\n 1,\n 1,\n 1,\n 1,\n 1,\n 1,\n 1,\n 1,\n 1,\n 1,\n 1,\n 1,\n 1,\n 1,\n 1,\n 1,\n 1,\n 1,\n 1,\n 1,\n 1,\n 0,\n 0,\n 0,\n 1,\n 1,\n 1,\n 1,\n 1,\n 1,\n 1,\n 1,\n 1,\n 1,\n 1,\n 1,\n 1,\n 1,\n 1,\n 1,\n 1,\n 1,\n 1,\n 1,\n 1,\n 1,\n 1,\n 1,\n 1,\n 1,\n 1,\n 1,\n 1,\n 1,\n 1,\n 1,\n 1,\n 1,\n 1,\n 1,\n 1,\n 1,\n 1,\n 1,\n 1,\n 1,\n 1,\n 1,\n 1,\n 1,\n 1,\n 1,\n 1,\n 1,\n 1,\n 1,\n 1,\n 1,\n 1,\n 1,\n 1,\n 1,\n 1,\n 1,\n 1,\n 1,\n 1,\n 1,\n 1,\n 1,\n 2,\n 3,\n 3,\n 3,\n 3,\n 3,\n 3,\n 3,\n 3,\n 3,\n 3,\n 3,\n 3,\n 3,\n 3,\n 3,\n 3,\n 3,\n 3,\n 3,\n 3,\n 3,\n 3,\n 3,\n 3,\n 3,\n 3,\n 3,\n 3,\n 3,\n 3,\n 3,\n 3,\n 3,\n 3,\n 3,\n 3,\n 3,\n 3,\n 3,\n 3,\n 3,\n 3,\n 3,\n 3,\n 3,\n 3,\n 3,\n 3,\n 3,\n 3,\n 3,\n 3,\n 3,\n 3,\n 3,\n 3,\n 3,\n 3,\n 3,\n 3,\n 3,\n 3,\n 3,\n 3,\n 3,\n 3,\n 3,\n 3,\n 3,\n 3,\n 3,\n 3,\n 3,\n 3,\n 3,\n 3,\n 3,\n 3,\n 3,\n 3,\n 3,\n 3,\n 3,\n 3,\n 3,\n 3,\n 3,\n 3,\n 3,\n 3,\n 3,\n 3,\n 3,\n 3,\n 3,\n 3,\n 3,\n 3,\n 3,\n 3,\n 3,\n 3,\n 3,\n 3,\n 3,\n 3,\n 3,\n 3,\n 3,\n 3,\n 3,\n 3,\n 3,\n 3,\n 3,\n 3,\n 3,\n 3,\n 3,\n 3,\n 3,\n 3,\n 3,\n 3,\n 3,\n 3,\n 3,\n 3,\n 3,\n 3,\n 3,\n 3,\n 3,\n 3,\n 3,\n 3,\n 3,\n 3,\n 3,\n 3,\n 3,\n 3,\n 3,\n 3,\n 3,\n 3,\n 3,\n 3,\n 3,\n 3,\n 3,\n 3,\n 3,\n 3,\n 3,\n 3,\n 3,\n 3,\n 3,\n 3,\n 3,\n 3,\n 3,\n 3,\n 3,\n 3,\n 3,\n 3,\n 3,\n 3,\n 3,\n 3,\n 3,\n 3,\n 3,\n 3,\n 3,\n 3,\n 3,\n 3,\n 3,\n 3,\n 3,\n 3,\n 3,\n 3,\n 3,\n 3,\n 3,\n 3,\n 3,\n 3,\n 3,\n 3,\n 3,\n 3,\n 3,\n 3,\n 3,\n 3,\n 3,\n 3,\n 3,\n 3,\n 3,\n 3,\n 3,\n 3,\n 3,\n 3,\n 3,\n 3,\n 3,\n 3,\n 3,\n 3,\n 3,\n 3,\n 3,\n 3,\n 3,\n 3,\n 3,\n 3,\n 3,\n 3,\n 3,\n 3,\n 3,\n 3,\n 3,\n 3,\n 3,\n 3,\n 3,\n 3,\n 3,\n 3,\n 3,\n 3,\n 3,\n 1,\n 1,\n 1,\n 1,\n 1,\n 1,\n 1,\n 1,\n 1,\n 1,\n 1,\n 1,\n 1,\n 1,\n 1,\n 1,\n 1,\n 1,\n 1,\n 1,\n 1,\n 1,\n 1,\n 1,\n 1,\n 1,\n 1,\n 1,\n 1,\n 1,\n 1,\n 1,\n 1,\n 1,\n 1,\n 1,\n 1,\n 1,\n 1,\n 1,\n 1,\n 1,\n 1,\n 1,\n 1,\n 1,\n 1,\n 1,\n 1,\n 1,\n 1,\n 1,\n 1,\n 1,\n 1,\n 1,\n 1,\n 1,\n 1,\n 1,\n 1,\n 1,\n 1,\n 1,\n 1,\n 1,\n 1,\n 1,\n 1,\n 1,\n 1,\n 1,\n 1,\n 1,\n 1,\n 1,\n 1,\n 1,\n 1,\n 1,\n 1,\n 1,\n 1,\n 1,\n 1,\n 1,\n 1,\n 1,\n 1,\n 1,\n 1,\n 1,\n 1,\n 1,\n 1,\n 1,\n 1,\n 1,\n 1,\n 1,\n 1,\n 1,\n 1,\n 1,\n 1,\n 1,\n 1,\n 1,\n 1,\n 1,\n 1,\n 1,\n 1,\n 1,\n 1,\n 1,\n 1,\n 1,\n 1,\n 1,\n 1,\n 1,\n 1,\n 1,\n 1,\n 1,\n 1,\n 1,\n 1,\n 1,\n 1,\n 1,\n 1,\n 1,\n 1,\n 1,\n 1,\n 1,\n 1,\n 1,\n 1,\n 1,\n 1,\n 1,\n 1,\n 1,\n 1,\n 1,\n 1,\n 1,\n 1,\n 1,\n 1,\n 1,\n 1,\n 1,\n 1,\n 1,\n 1,\n 1,\n 1,\n 1,\n 1,\n 1,\n 1,\n 1,\n 1,\n 1,\n 1,\n 1,\n 1,\n 1,\n 1,\n 1,\n 1,\n 1,\n 1,\n 1,\n 1,\n 1,\n 1,\n 1,\n 1,\n 1,\n 1,\n 1,\n 1,\n 1,\n 1,\n 1,\n 1,\n 1,\n 1,\n 1,\n 1,\n 1,\n 1,\n 1,\n 1,\n 1,\n 1,\n 1,\n 1,\n 1,\n 1,\n 1,\n 1,\n 1,\n 1,\n 1,\n 1,\n 1,\n 1,\n 1,\n 1,\n 1,\n 1,\n 1,\n 1,\n 1,\n 1,\n 1,\n 1,\n 1,\n 1,\n 1,\n 1,\n 1,\n 1,\n ...]"
     },
     "execution_count": 14,
     "metadata": {},
     "output_type": "execute_result"
    }
   ],
   "source": [
    "[s.depth for s in pruned_subgraphs[IN]]"
   ],
   "metadata": {
    "collapsed": false,
    "ExecuteTime": {
     "end_time": "2024-01-21T23:20:45.524301Z",
     "start_time": "2024-01-21T23:20:45.521270Z"
    }
   },
   "id": "91600bac8635582a"
  },
  {
   "cell_type": "code",
   "execution_count": 13,
   "outputs": [
    {
     "data": {
      "text/plain": "[1001, 1006, 1147, 1090, 1006, 1001, 1001, 1001, 1001, 1001]"
     },
     "execution_count": 13,
     "metadata": {},
     "output_type": "execute_result"
    }
   ],
   "source": [
    "[len(g.edges) for g in graphs]"
   ],
   "metadata": {
    "collapsed": false,
    "ExecuteTime": {
     "end_time": "2024-01-21T23:20:16.778229Z",
     "start_time": "2024-01-21T23:20:16.773888Z"
    }
   },
   "id": "7bb09df71119843f"
  },
  {
   "cell_type": "code",
   "execution_count": 8,
   "outputs": [
    {
     "data": {
      "text/plain": "1335"
     },
     "execution_count": 8,
     "metadata": {},
     "output_type": "execute_result"
    }
   ],
   "source": [
    "len(pruned_subgraphs[IN])"
   ],
   "metadata": {
    "collapsed": false,
    "ExecuteTime": {
     "end_time": "2024-01-21T23:18:21.473080Z",
     "start_time": "2024-01-21T23:18:21.470815Z"
    }
   },
   "id": "2c851918f6b21254"
  },
  {
   "cell_type": "code",
   "execution_count": 11,
   "outputs": [
    {
     "data": {
      "text/plain": "<Figure size 640x480 with 1 Axes>",
      "image/png": "[encoded data removed]"
     },
     "metadata": {},
     "output_type": "display_data"
    }
   ],
   "source": [
    "import matplotlib.pyplot as plt\n",
    "nx.draw_networkx(G, with_labels=True)\n",
    "plt.show() "
   ],
   "metadata": {
    "collapsed": false,
    "ExecuteTime": {
     "end_time": "2024-01-20T22:47:12.552768Z",
     "start_time": "2024-01-20T22:47:08.630767Z"
    }
   },
   "id": "52f7842280e6f980"
  }
 ],
 "metadata": {
  "kernelspec": {
   "display_name": "Python 3",
   "language": "python",
   "name": "python3"
  },
  "language_info": {
   "codemirror_mode": {
    "name": "ipython",
    "version": 2
   },
   "file_extension": ".py",
   "mimetype": "text/x-python",
   "name": "python",
   "nbconvert_exporter": "python",
   "pygments_lexer": "ipython2",
   "version": "2.7.6"
  }
 },
 "nbformat": 4,
 "nbformat_minor": 5
}
