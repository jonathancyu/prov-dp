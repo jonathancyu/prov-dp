{
 "cells": [
  {
   "cell_type": "code",
   "execution_count": null,
   "id": "initial_id",
   "metadata": {
    "collapsed": true
   },
   "outputs": [],
   "source": [
    "from karateclub import Graph2Vec\n",
    "\n",
    "graph2vec = Graph2Vec(\n",
    "    wl_iterations=80,\n",
    "    attributed=True,\n",
    "    dimensions=128,\n",
    "    workers=4,\n",
    "    epochs=5\n",
    ")\n",
    "\n"
   ]
  },
  {
   "cell_type": "code",
   "execution_count": 8,
   "outputs": [],
   "source": [
    "from algorithm import GraphWrapper\n",
    "from pathlib import Path\n",
    "from tqdm import tqdm\n",
    "\n",
    "input_path = Path('../benign_graphs/tc3-theia/firefox/nd')\n",
    "input_paths = list(input_path.glob('*.json'))\n",
    "input_graphs = [GraphWrapper(input_path) \n",
    "                for input_path in tqdm(input_paths, desc='Reading graphs')]\n"
   ],
   "metadata": {
    "collapsed": false,
    "ExecuteTime": {
     "end_time": "2024-01-20T22:21:56.367063Z",
     "start_time": "2024-01-20T22:21:56.320620Z"
    }
   },
   "id": "824fd0a749174afb"
  },
  {
   "cell_type": "code",
   "execution_count": 28,
   "outputs": [],
   "source": [
    "import networkx as nx\n",
    "from algorithm.wrappers import IN, OUT\n",
    "graph_path = Path('../benign_graphs/tc3-theia/firefox/nd/nd-9626934-processletevent.json')\n",
    "graph = GraphWrapper(graph_path)\n",
    "nxid_to_refid = []\n",
    "\n",
    "\n",
    "\n",
    "G: nx.DiGraph = nx.DiGraph()\n",
    "for node in graph.nodes:\n",
    "    G.add_node(node.get_id(),\n",
    "               token=node.get_token()\n",
    "               )\n",
    "for edge in graph.edges:\n",
    "    G.add_edge(edge.node_ids[IN],\n",
    "               edge.node_ids[OUT],\n",
    "               token=edge.get_token()\n",
    "               )"
   ],
   "metadata": {
    "collapsed": false,
    "ExecuteTime": {
     "end_time": "2024-01-20T22:37:56.884487Z",
     "start_time": "2024-01-20T22:37:56.808604Z"
    }
   },
   "id": "44e07bd504b44656"
  }
 ],
 "metadata": {
  "kernelspec": {
   "display_name": "Python 3",
   "language": "python",
   "name": "python3"
  },
  "language_info": {
   "codemirror_mode": {
    "name": "ipython",
    "version": 2
   },
   "file_extension": ".py",
   "mimetype": "text/x-python",
   "name": "python",
   "nbconvert_exporter": "python",
   "pygments_lexer": "ipython2",
   "version": "2.7.6"
  }
 },
 "nbformat": 4,
 "nbformat_minor": 5
}
