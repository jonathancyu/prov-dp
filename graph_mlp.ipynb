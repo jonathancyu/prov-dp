{
 "cells": [
  {
   "cell_type": "markdown",
   "metadata": {},
   "source": [
    "# Model to predict graph embedding from paths"
   ]
  },
  {
   "cell_type": "markdown",
   "metadata": {},
   "source": [
    "## TQDM dark mode"
   ]
  },
  {
   "cell_type": "code",
   "execution_count": 1,
   "metadata": {},
   "outputs": [
    {
     "data": {
      "text/html": [
       "<style>\n",
       ".cell-output-ipywidget-background {\n",
       "    background-color: transparent !important;\n",
       "}\n",
       ":root {\n",
       "    --jp-widgets-color: var(--vscode-editor-foreground);\n",
       "    --jp-widgets-font-size: var(--vscode-editor-font-size);\n",
       "}  \n",
       "</style>\n"
      ],
      "text/plain": [
       "<IPython.core.display.HTML object>"
      ]
     },
     "metadata": {},
     "output_type": "display_data"
    }
   ],
   "source": [
    "%%html\n",
    "<style>\n",
    ".cell-output-ipywidget-background {\n",
    "    background-color: transparent !important;\n",
    "}\n",
    ":root {\n",
    "    --jp-widgets-color: var(--vscode-editor-foreground);\n",
    "    --jp-widgets-font-size: var(--vscode-editor-font-size);\n",
    "}  \n",
    "</style>\n"
   ]
  },
  {
   "cell_type": "markdown",
   "metadata": {},
   "source": [
    "# Load data"
   ]
  },
  {
   "cell_type": "code",
   "execution_count": 2,
   "metadata": {
    "ExecuteTime": {
     "end_time": "2024-02-04T21:50:23.449469500Z",
     "start_time": "2024-02-04T21:49:54.255294900Z"
    },
    "collapsed": false
   },
   "outputs": [],
   "source": [
    "import pickle\n",
    "from pathlib import Path\n",
    "with open(Path('F:\\\\') / 'data' / 'prov_dp' / 'tc3-trace-training.pkl', 'rb') as f:\n",
    "    data_unflattened = pickle.load(f)"
   ]
  },
  {
   "cell_type": "code",
   "execution_count": 3,
   "metadata": {
    "ExecuteTime": {
     "end_time": "2024-02-04T21:51:09.091575Z",
     "start_time": "2024-02-04T21:51:09.051864500Z"
    },
    "collapsed": false
   },
   "outputs": [
    {
     "data": {
      "text/plain": [
       "1489123"
      ]
     },
     "execution_count": 3,
     "metadata": {},
     "output_type": "execute_result"
    }
   ],
   "source": [
    "from itertools import chain\n",
    "dataset = list(chain.from_iterable(data_unflattened))\n",
    "\n",
    "len(dataset)"
   ]
  },
  {
   "cell_type": "markdown",
   "metadata": {},
   "source": [
    "## Model Parameters"
   ]
  },
  {
   "cell_type": "code",
   "execution_count": 10,
   "metadata": {},
   "outputs": [],
   "source": [
    "import torch\n",
    "model_path = Path('F:\\\\') / 'data' / 'prov_dp' / 'tc3-trace.tar'\n",
    "device = 'cuda' if torch.cuda.is_available() else 'cpu'"
   ]
  },
  {
   "cell_type": "markdown",
   "metadata": {},
   "source": [
    "## Generate tokens"
   ]
  },
  {
   "cell_type": "code",
   "execution_count": 6,
   "metadata": {},
   "outputs": [
    {
     "name": "stdout",
     "output_type": "stream",
     "text": [
      "Found 16 tokens in 1489123 entries\n",
      "Distinct paths: 37\n"
     ]
    }
   ],
   "source": [
    "tokens = set()\n",
    "distinct_paths = set()\n",
    "\n",
    "def tokenize(path):\n",
    "    assert len(path) % 2 == 0\n",
    "    return [f'{path[idx]}|{path[idx+1]}' for idx in range(0, len(path), 2)]\n",
    "\n",
    "for path, _ in dataset:\n",
    "    path = tokenize(path.split(' '))\n",
    "    tokens.update(path)\n",
    "    distinct_paths.add(' '.join(path))\n",
    "tokens = list(tokens)\n",
    "tokens[:0] = ['.']\n",
    "itos = tokens\n",
    "stoi = {\n",
    "    token: i for i, token in enumerate(itos)\n",
    "}\n",
    "\n",
    "print(f'Found {len(tokens)} tokens in {len(dataset)} entries')\n",
    "print(f'Distinct paths: {len(distinct_paths)}')"
   ]
  },
  {
   "cell_type": "code",
   "execution_count": 14,
   "metadata": {},
   "outputs": [
    {
     "data": {
      "text/plain": [
       "[' PROCESS_LET_xfsettingsd|PROC_CREATE_Start_Processlet',\n",
       " ' PROCESS_LET_xfce4-appfinder|PROC_CREATE_Start_Processlet PROCESS_LET_xfce4-appfinder|PROC_CREATE_Start_Processlet PROCESS_LET_firefox|PROC_CREATE_Start_Processlet PROCESS_LET_firefox|PROC_CREATE_Start_Processlet PROCESS_LET_firefox|PROC_CREATE_Start_Processlet',\n",
       " ' PROCESS_LET_/usr/lib/thunderbird/thunderbird|PROC_CREATE_Start_Processlet',\n",
       " ' PROCESS_LET_run-parts|PROC_CREATE_Start_Processlet',\n",
       " '',\n",
       " ' PROCESS_LET_/usr/local/firefox-54.0.1/obj-x86_64-pc-linux-gnu/dist/bin/firefox|PROC_CREATE_Start_Processlet',\n",
       " ' PROCESS_LET_sh|PROC_CREATE_Start_Processlet PROCESS_LET_/usr/bin/env|PROC_CREATE_Start_Processlet',\n",
       " ' PROCESS_LET_firefox|PROC_CREATE_Start_Processlet PROCESS_LET_firefox|PROC_CREATE_Start_Processlet',\n",
       " ' PROCESS_LET_/usr/lib/x86_64-linux-gnu/xfce4/exo-1/exo-helper-1|PROC_CREATE_Start_Processlet PROCESS_LET_/usr/lib/x86_64-linux-gnu/xfce4/exo-1/exo-helper-1|PROC_CREATE_Start_Processlet PROCESS_LET_/bin/sh|PROC_CREATE_Start_Processlet PROCESS_LET_/bin/sh|PROC_CREATE_Start_Processlet',\n",
       " ' PROCESS_LET_sh|PROC_CREATE_Start_Processlet PROCESS_LET_/usr/bin/env|PROC_CREATE_Start_Processlet PROCESS_LET_run-parts|PROC_CREATE_Start_Processlet',\n",
       " ' PROCESS_LET_xfce4-panel|PROC_CREATE_Start_Processlet PROCESS_LET_firefox|PROC_CREATE_Start_Processlet PROCESS_LET_firefox|PROC_CREATE_Start_Processlet',\n",
       " ' PROCESS_LET_xfsettingsd|PROC_CREATE_Start_Processlet PROCESS_LET_xfsettingsd|PROC_CREATE_Start_Processlet',\n",
       " ' PROCESS_LET_xfce4-panel|PROC_CREATE_Start_Processlet',\n",
       " ' PROCESS_LET_run-parts|PROC_CREATE_Start_Processlet PROCESS_LET_/bin/sh|PROC_CREATE_Start_Processlet PROCESS_LET_/bin/sh|PROC_CREATE_Start_Processlet',\n",
       " ' PROCESS_LET_sh|PROC_CREATE_Start_Processlet',\n",
       " ' PROCESS_LET_xfce4-appfinder|PROC_CREATE_Start_Processlet PROCESS_LET_firefox|PROC_CREATE_Start_Processlet PROCESS_LET_firefox|PROC_CREATE_Start_Processlet PROCESS_LET_firefox|PROC_CREATE_Start_Processlet PROCESS_LET_firefox|PROC_CREATE_Start_Processlet',\n",
       " ' PROCESS_LET_xfce4-appfinder|PROC_CREATE_Start_Processlet',\n",
       " ' PROCESS_LET_/usr/lib/x86_64-linux-gnu/xfce4/exo-1/exo-helper-1|PROC_CREATE_Start_Processlet PROCESS_LET_/usr/lib/x86_64-linux-gnu/xfce4/exo-1/exo-helper-1|PROC_CREATE_Start_Processlet',\n",
       " ' PROCESS_LET_sshd|PROC_CREATE_Start_Processlet PROCESS_LET_sshd|PROC_CREATE_Start_Processlet',\n",
       " ' PROCESS_LET_/usr/lib/firefox/firefox|PROC_CREATE_Start_Processlet',\n",
       " ' PROCESS_LET_run-parts|PROC_CREATE_Start_Processlet PROCESS_LET_/bin/sh|PROC_CREATE_Start_Processlet',\n",
       " ' PROCESS_LET_xfce4-appfinder|PROC_CREATE_Start_Processlet PROCESS_LET_firefox|PROC_CREATE_Start_Processlet',\n",
       " ' PROCESS_LET_xfce4-appfinder|PROC_CREATE_Start_Processlet PROCESS_LET_xfce4-appfinder|PROC_CREATE_Start_Processlet PROCESS_LET_firefox|PROC_CREATE_Start_Processlet',\n",
       " ' PROCESS_LET_/usr/lib/x86_64-linux-gnu/xfce4/exo-1/exo-helper-1|PROC_CREATE_Start_Processlet PROCESS_LET_/usr/lib/x86_64-linux-gnu/xfce4/exo-1/exo-helper-1|PROC_CREATE_Start_Processlet PROCESS_LET_/bin/sh|PROC_CREATE_Start_Processlet',\n",
       " ' PROCESS_LET_Gecko_IOThread|PROC_CREATE_Start_Processlet PROCESS_LET_Gecko_IOThread|PROC_CREATE_Start_Processlet',\n",
       " ' PROCESS_LET_firefox|PROC_CREATE_Start_Processlet',\n",
       " ' PROCESS_LET_xfce4-appfinder|PROC_CREATE_Start_Processlet PROCESS_LET_xfce4-appfinder|PROC_CREATE_Start_Processlet',\n",
       " ' PROCESS_LET_/bin/sh|PROC_CREATE_Start_Processlet',\n",
       " ' PROCESS_LET_/bin/sh|PROC_CREATE_Start_Processlet PROCESS_LET_/usr/lib/firefox/firefox|PROC_CREATE_Start_Processlet',\n",
       " ' PROCESS_LET_xfce4-appfinder|PROC_CREATE_Start_Processlet PROCESS_LET_xfce4-appfinder|PROC_CREATE_Start_Processlet PROCESS_LET_firefox|PROC_CREATE_Start_Processlet PROCESS_LET_firefox|PROC_CREATE_Start_Processlet',\n",
       " ' PROCESS_LET_sh|PROC_CREATE_Start_Processlet PROCESS_LET_/usr/bin/env|PROC_CREATE_Start_Processlet PROCESS_LET_run-parts|PROC_CREATE_Start_Processlet PROCESS_LET_run-parts|PROC_CREATE_Start_Processlet',\n",
       " ' PROCESS_LET_sshd|PROC_CREATE_Start_Processlet',\n",
       " ' PROCESS_LET_firefox|PROC_CREATE_Start_Processlet PROCESS_LET_firefox|PROC_CREATE_Start_Processlet PROCESS_LET_/usr/local/firefox-54.0.1/obj-x86_64-pc-linux-gnu/dist/bin/firefox|PROC_CREATE_Start_Processlet PROCESS_LET_/usr/local/firefox-54.0.1/obj-x86_64-pc-linux-gnu/dist/bin/firefox|PROC_CREATE_Start_Processlet',\n",
       " ' PROCESS_LET_run-parts|PROC_CREATE_Start_Processlet PROCESS_LET_/bin/sh|PROC_CREATE_Start_Processlet PROCESS_LET_/bin/sh|PROC_CREATE_Start_Processlet PROCESS_LET_/bin/sh|PROC_CREATE_Start_Processlet',\n",
       " ' PROCESS_LET_xfce4-appfinder|PROC_CREATE_Start_Processlet PROCESS_LET_xfce4-appfinder|PROC_CREATE_Start_Processlet PROCESS_LET_firefox|PROC_CREATE_Start_Processlet PROCESS_LET_firefox|PROC_CREATE_Start_Processlet PROCESS_LET_firefox|PROC_CREATE_Start_Processlet PROCESS_LET_/usr/local/firefox-54.0.1/obj-x86_64-pc-linux-gnu/dist/bin/firefox|PROC_CREATE_Start_Processlet',\n",
       " ' PROCESS_LET_xfce4-appfinder|PROC_CREATE_Start_Processlet PROCESS_LET_firefox|PROC_CREATE_Start_Processlet PROCESS_LET_firefox|PROC_CREATE_Start_Processlet',\n",
       " ' PROCESS_LET_xfce4-appfinder|PROC_CREATE_Start_Processlet PROCESS_LET_xfce4-appfinder|PROC_CREATE_Start_Processlet PROCESS_LET_firefox|PROC_CREATE_Start_Processlet PROCESS_LET_firefox|PROC_CREATE_Start_Processlet PROCESS_LET_firefox|PROC_CREATE_Start_Processlet PROCESS_LET_/usr/local/firefox-54.0.1/obj-x86_64-pc-linux-gnu/dist/bin/firefox|PROC_CREATE_Start_Processlet PROCESS_LET_/usr/local/firefox-54.0.1/obj-x86_64-pc-linux-gnu/dist/bin/firefox|PROC_CREATE_Start_Processlet']"
      ]
     },
     "execution_count": 14,
     "metadata": {},
     "output_type": "execute_result"
    }
   ],
   "source": [
    "[p[len('.|EPHEMERAL_EPHEMERAL .|EPHEMERAL_EPHEMERAL'):] for p in distinct_paths]"
   ]
  },
  {
   "cell_type": "code",
   "execution_count": 7,
   "metadata": {},
   "outputs": [
    {
     "name": "stderr",
     "output_type": "stream",
     "text": [
      "c:\\Users\\Jonathan\\workspace\\prov-dp\\venv\\lib\\site-packages\\tqdm\\auto.py:21: TqdmWarning: IProgress not found. Please update jupyter and ipywidgets. See https://ipywidgets.readthedocs.io/en/stable/user_install.html\n",
      "  from .autonotebook import tqdm as notebook_tqdm\n",
      "Converting to NetworkX graphs:   0%|          | 0/1489123 [00:00<?, ?it/s]"
     ]
    },
    {
     "name": "stderr",
     "output_type": "stream",
     "text": [
      "Converting to NetworkX graphs: 100%|██████████| 1489123/1489123 [00:21<00:00, 67794.15it/s] \n"
     ]
    },
    {
     "data": {
      "text/plain": [
       "1489123"
      ]
     },
     "execution_count": 7,
     "metadata": {},
     "output_type": "execute_result"
    }
   ],
   "source": [
    "from tqdm.auto import tqdm\n",
    "from source.algorithm.utility import to_nx\n",
    "\n",
    "nx_graphs = [\n",
    "    to_nx(graph)\n",
    "    for _, graph in tqdm(dataset, desc='Converting to NetworkX graphs')\n",
    "]\n",
    "len(nx_graphs)"
   ]
  },
  {
   "cell_type": "code",
   "execution_count": null,
   "metadata": {},
   "outputs": [
    {
     "name": "stdout",
     "output_type": "stream",
     "text": [
      "Min: 1, Max: 8\n",
      "Avg: 1.0003753887355176, Std: 0.03720074179980315\n"
     ]
    }
   ],
   "source": [
    "import numpy as np\n",
    "lens = [len(g) for p, g in dataset]\n",
    "print(f'Min: {min(lens)}, Max: {max(lens)}')\n",
    "print(f'Avg: {np.average(lens)}, Std: {np.std(lens)}')\n"
   ]
  },
  {
   "cell_type": "code",
   "execution_count": 17,
   "metadata": {},
   "outputs": [
    {
     "name": "stdout",
     "output_type": "stream",
     "text": [
      "torch.Size([1489123, 8]) torch.Size([1489123])\n"
     ]
    }
   ],
   "source": [
    "context_length = 8\n",
    "## Format training data\n",
    "X, Y = [], []\n",
    "\n",
    "def path_to_context(path: str) -> list[int]:\n",
    "    path_list = tokenize(path.split(' '))\n",
    "    # Convert into list of integers\n",
    "    path = [stoi[s] for s in path_list]\n",
    "    # Pad the sequence and right align it\n",
    "    # TODO: this probably doesn't matter since the context never shifts, right?\n",
    "    context = [0] * context_length\n",
    "    for i in range(min(len(path), context_length)):\n",
    "        context[-i-1] = path[i]\n",
    "    return context\n",
    "\n",
    "mmin, mmax = 1000000, -1\n",
    "\n",
    "for i, row in enumerate(dataset):\n",
    "    # Tokenize the path\n",
    "    path, _ = row\n",
    "    context = path_to_context(path)\n",
    "    X.append(context)    \n",
    "    Y.append(i)\n",
    "\n",
    "X = torch.tensor(X, device=device)\n",
    "Y = torch.tensor(Y, device=device)\n",
    "print(X.shape, Y.shape)"
   ]
  },
  {
   "cell_type": "code",
   "execution_count": 9,
   "metadata": {},
   "outputs": [],
   "source": [
    "import torch.nn as nn\n",
    "import torch.optim as optim\n",
    "\n",
    "vocab_size = len(tokens)\n",
    "n_embedding = 10 # Embedding dimension\n",
    "n_hidden = 100\n",
    "learning_rate = 0.01\n",
    "batch_size = 32768\n",
    "context_length = 8\n",
    "\n",
    "# Predict the discrete graph to append\n",
    "# Problem: Doesn't have the context of graph size\n",
    "def create_model(): \n",
    "    return nn.Sequential(\n",
    "        nn.Embedding(vocab_size, n_embedding),\n",
    "        nn.Flatten(),\n",
    "        nn.Linear(n_embedding * context_length, n_embedding * context_length), nn.ReLU(),\n",
    "        nn.Linear(n_embedding * context_length, n_hidden), nn.ReLU(),\n",
    "        nn.Linear(n_hidden, n_embedding)\n",
    "    )\n",
    "model = create_model()\n",
    "model.to(device)\n",
    "optimizer = optim.SGD(model.parameters(), lr=learning_rate, momentum=0.9)\n",
    "lossi = []"
   ]
  },
  {
   "cell_type": "code",
   "execution_count": 38,
   "metadata": {},
   "outputs": [
    {
     "name": "stdout",
     "output_type": "stream",
     "text": [
      "      0/ 100000: 2.2776988\n",
      "   5000/ 100000: 0.0005070\n",
      "  10000/ 100000: 0.0005009\n",
      "  15000/ 100000: 0.0005555\n",
      "  20000/ 100000: 0.0001078\n",
      "  25000/ 100000: 0.0000856\n",
      "  30000/ 100000: 0.0000270\n",
      "  35000/ 100000: 0.0000273\n",
      "  40000/ 100000: 0.0000398\n",
      "  45000/ 100000: 0.0000171\n",
      "  50000/ 100000: 0.0000153\n",
      "  55000/ 100000: 0.0003403\n",
      "  60000/ 100000: 0.0000149\n",
      "  65000/ 100000: 0.0000085\n",
      "  70000/ 100000: 0.0000369\n",
      "  75000/ 100000: 0.0000061\n",
      "  80000/ 100000: 0.0000098\n",
      "  85000/ 100000: 0.0000156\n",
      "  90000/ 100000: 0.0000085\n",
      "  95000/ 100000: 0.0000147\n"
     ]
    }
   ],
   "source": [
    "import torch.nn.functional as F\n",
    "from tqdm import tqdm\n",
    "from torch.nn.utils import clip_grad_norm\n",
    "\n",
    "max_steps = 100000\n",
    "for i in range(max_steps):\n",
    "    optimizer.zero_grad()\n",
    "\n",
    "    ix = torch.randint(0, Y.shape[0], (batch_size,))\n",
    "    X_batch, Y_batch = X[ix], Y[ix]\n",
    "\n",
    "    # Forward pass\n",
    "    output = model(X_batch) # output layer\n",
    "    # print(embedding)\n",
    "    # print(Y_batch)\n",
    "    loss = F.cross_entropy(output, Y_batch)\n",
    "    # print(loss)\n",
    "\n",
    "    # Backward pass\n",
    "    for p in model.parameters():\n",
    "        p.requires_grad = True\n",
    "    loss.backward()\n",
    "    \n",
    "    # update\n",
    "    # clip_grad_norm(model.parameters(), max_norm=1.0)\n",
    "    optimizer.step()\n",
    "\n",
    "    # Track stats\n",
    "    if i % 5000 == 0: # print every once in a while\n",
    "        print(f'{i:7d}/{max_steps:7d}: {loss.item():.7f}')\n",
    "    lossi.append(loss.log10().item())\n",
    "    # break\n",
    "    "
   ]
  },
  {
   "cell_type": "code",
   "execution_count": 29,
   "metadata": {},
   "outputs": [
    {
     "data": {
      "text/plain": [
       "1"
      ]
     },
     "execution_count": 29,
     "metadata": {},
     "output_type": "execute_result"
    }
   ],
   "source": [
    "len([model.parameters()])"
   ]
  },
  {
   "cell_type": "code",
   "execution_count": 49,
   "metadata": {},
   "outputs": [],
   "source": [
    "\n",
    "torch.save(model.state_dict(), model_path)"
   ]
  },
  {
   "cell_type": "code",
   "execution_count": null,
   "metadata": {},
   "outputs": [],
   "source": []
  },
  {
   "cell_type": "markdown",
   "metadata": {},
   "source": [
    "# Predict from the model"
   ]
  },
  {
   "cell_type": "code",
   "execution_count": 11,
   "metadata": {},
   "outputs": [
    {
     "data": {
      "text/plain": [
       "<All keys matched successfully>"
      ]
     },
     "execution_count": 11,
     "metadata": {},
     "output_type": "execute_result"
    }
   ],
   "source": [
    "model = create_model()\n",
    "model.load_state_dict(torch.load(model_path))"
   ]
  },
  {
   "cell_type": "code",
   "execution_count": 36,
   "metadata": {},
   "outputs": [],
   "source": [
    "import torch.nn.functional as F\n",
    "\n",
    "@torch.no_grad\n",
    "def predict_graph_index(path: str) -> int:\n",
    "    context = path_to_context(path)\n",
    "    logits = model(torch.tensor([context]))\n",
    "    probabilities = F.softmax(logits, dim=1)\n",
    "    #  Sample from distribution\n",
    "    return torch.multinomial(probabilities, num_samples=1).item()"
   ]
  },
  {
   "cell_type": "markdown",
   "metadata": {},
   "source": [
    "d"
   ]
  },
  {
   "cell_type": "code",
   "execution_count": 40,
   "metadata": {},
   "outputs": [
    {
     "ename": "KeyboardInterrupt",
     "evalue": "",
     "output_type": "error",
     "traceback": [
      "\u001b[1;31m---------------------------------------------------------------------------\u001b[0m",
      "\u001b[1;31mKeyboardInterrupt\u001b[0m                         Traceback (most recent call last)",
      "Cell \u001b[1;32mIn[40], line 5\u001b[0m\n\u001b[0;32m      3\u001b[0m \u001b[38;5;28;01mfor\u001b[39;00m i \u001b[38;5;129;01min\u001b[39;00m \u001b[38;5;28mrange\u001b[39m(\u001b[38;5;28mlen\u001b[39m(dataset)):\n\u001b[0;32m      4\u001b[0m     path, graph \u001b[38;5;241m=\u001b[39m dataset[i]\n\u001b[1;32m----> 5\u001b[0m     predicted_i \u001b[38;5;241m=\u001b[39m \u001b[43mpredict_graph_index\u001b[49m\u001b[43m(\u001b[49m\u001b[43mpath\u001b[49m\u001b[43m)\u001b[49m\n\u001b[0;32m      6\u001b[0m     predictions\u001b[38;5;241m.\u001b[39mappend(predicted_i)\n\u001b[0;32m      7\u001b[0m Counter(predictions)\n",
      "File \u001b[1;32mc:\\Users\\Jonathan\\workspace\\prov-dp\\venv\\lib\\site-packages\\torch\\utils\\_contextlib.py:115\u001b[0m, in \u001b[0;36mcontext_decorator.<locals>.decorate_context\u001b[1;34m(*args, **kwargs)\u001b[0m\n\u001b[0;32m    112\u001b[0m \u001b[38;5;129m@functools\u001b[39m\u001b[38;5;241m.\u001b[39mwraps(func)\n\u001b[0;32m    113\u001b[0m \u001b[38;5;28;01mdef\u001b[39;00m \u001b[38;5;21mdecorate_context\u001b[39m(\u001b[38;5;241m*\u001b[39margs, \u001b[38;5;241m*\u001b[39m\u001b[38;5;241m*\u001b[39mkwargs):\n\u001b[0;32m    114\u001b[0m     \u001b[38;5;28;01mwith\u001b[39;00m ctx_factory():\n\u001b[1;32m--> 115\u001b[0m         \u001b[38;5;28;01mreturn\u001b[39;00m func(\u001b[38;5;241m*\u001b[39margs, \u001b[38;5;241m*\u001b[39m\u001b[38;5;241m*\u001b[39mkwargs)\n",
      "Cell \u001b[1;32mIn[36], line 6\u001b[0m, in \u001b[0;36mpredict_graph_index\u001b[1;34m(path)\u001b[0m\n\u001b[0;32m      3\u001b[0m \u001b[38;5;129m@torch\u001b[39m\u001b[38;5;241m.\u001b[39mno_grad\n\u001b[0;32m      4\u001b[0m \u001b[38;5;28;01mdef\u001b[39;00m \u001b[38;5;21mpredict_graph_index\u001b[39m(path: \u001b[38;5;28mstr\u001b[39m) \u001b[38;5;241m-\u001b[39m\u001b[38;5;241m>\u001b[39m \u001b[38;5;28mint\u001b[39m:\n\u001b[0;32m      5\u001b[0m     context \u001b[38;5;241m=\u001b[39m path_to_context(path)\n\u001b[1;32m----> 6\u001b[0m     logits \u001b[38;5;241m=\u001b[39m \u001b[43mmodel\u001b[49m\u001b[43m(\u001b[49m\u001b[43mtorch\u001b[49m\u001b[38;5;241;43m.\u001b[39;49m\u001b[43mtensor\u001b[49m\u001b[43m(\u001b[49m\u001b[43m[\u001b[49m\u001b[43mcontext\u001b[49m\u001b[43m]\u001b[49m\u001b[43m)\u001b[49m\u001b[43m)\u001b[49m\n\u001b[0;32m      7\u001b[0m     probabilities \u001b[38;5;241m=\u001b[39m F\u001b[38;5;241m.\u001b[39msoftmax(logits, dim\u001b[38;5;241m=\u001b[39m\u001b[38;5;241m1\u001b[39m)\n\u001b[0;32m      8\u001b[0m     \u001b[38;5;66;03m#  Sample from distribution\u001b[39;00m\n",
      "File \u001b[1;32mc:\\Users\\Jonathan\\workspace\\prov-dp\\venv\\lib\\site-packages\\torch\\nn\\modules\\module.py:1511\u001b[0m, in \u001b[0;36mModule._wrapped_call_impl\u001b[1;34m(self, *args, **kwargs)\u001b[0m\n\u001b[0;32m   1509\u001b[0m     \u001b[38;5;28;01mreturn\u001b[39;00m \u001b[38;5;28mself\u001b[39m\u001b[38;5;241m.\u001b[39m_compiled_call_impl(\u001b[38;5;241m*\u001b[39margs, \u001b[38;5;241m*\u001b[39m\u001b[38;5;241m*\u001b[39mkwargs)  \u001b[38;5;66;03m# type: ignore[misc]\u001b[39;00m\n\u001b[0;32m   1510\u001b[0m \u001b[38;5;28;01melse\u001b[39;00m:\n\u001b[1;32m-> 1511\u001b[0m     \u001b[38;5;28;01mreturn\u001b[39;00m \u001b[38;5;28mself\u001b[39m\u001b[38;5;241m.\u001b[39m_call_impl(\u001b[38;5;241m*\u001b[39margs, \u001b[38;5;241m*\u001b[39m\u001b[38;5;241m*\u001b[39mkwargs)\n",
      "File \u001b[1;32mc:\\Users\\Jonathan\\workspace\\prov-dp\\venv\\lib\\site-packages\\torch\\nn\\modules\\module.py:1520\u001b[0m, in \u001b[0;36mModule._call_impl\u001b[1;34m(self, *args, **kwargs)\u001b[0m\n\u001b[0;32m   1515\u001b[0m \u001b[38;5;66;03m# If we don't have any hooks, we want to skip the rest of the logic in\u001b[39;00m\n\u001b[0;32m   1516\u001b[0m \u001b[38;5;66;03m# this function, and just call forward.\u001b[39;00m\n\u001b[0;32m   1517\u001b[0m \u001b[38;5;28;01mif\u001b[39;00m \u001b[38;5;129;01mnot\u001b[39;00m (\u001b[38;5;28mself\u001b[39m\u001b[38;5;241m.\u001b[39m_backward_hooks \u001b[38;5;129;01mor\u001b[39;00m \u001b[38;5;28mself\u001b[39m\u001b[38;5;241m.\u001b[39m_backward_pre_hooks \u001b[38;5;129;01mor\u001b[39;00m \u001b[38;5;28mself\u001b[39m\u001b[38;5;241m.\u001b[39m_forward_hooks \u001b[38;5;129;01mor\u001b[39;00m \u001b[38;5;28mself\u001b[39m\u001b[38;5;241m.\u001b[39m_forward_pre_hooks\n\u001b[0;32m   1518\u001b[0m         \u001b[38;5;129;01mor\u001b[39;00m _global_backward_pre_hooks \u001b[38;5;129;01mor\u001b[39;00m _global_backward_hooks\n\u001b[0;32m   1519\u001b[0m         \u001b[38;5;129;01mor\u001b[39;00m _global_forward_hooks \u001b[38;5;129;01mor\u001b[39;00m _global_forward_pre_hooks):\n\u001b[1;32m-> 1520\u001b[0m     \u001b[38;5;28;01mreturn\u001b[39;00m forward_call(\u001b[38;5;241m*\u001b[39margs, \u001b[38;5;241m*\u001b[39m\u001b[38;5;241m*\u001b[39mkwargs)\n\u001b[0;32m   1522\u001b[0m \u001b[38;5;28;01mtry\u001b[39;00m:\n\u001b[0;32m   1523\u001b[0m     result \u001b[38;5;241m=\u001b[39m \u001b[38;5;28;01mNone\u001b[39;00m\n",
      "File \u001b[1;32mc:\\Users\\Jonathan\\workspace\\prov-dp\\venv\\lib\\site-packages\\torch\\nn\\modules\\container.py:217\u001b[0m, in \u001b[0;36mSequential.forward\u001b[1;34m(self, input)\u001b[0m\n\u001b[0;32m    215\u001b[0m \u001b[38;5;28;01mdef\u001b[39;00m \u001b[38;5;21mforward\u001b[39m(\u001b[38;5;28mself\u001b[39m, \u001b[38;5;28minput\u001b[39m):\n\u001b[0;32m    216\u001b[0m     \u001b[38;5;28;01mfor\u001b[39;00m module \u001b[38;5;129;01min\u001b[39;00m \u001b[38;5;28mself\u001b[39m:\n\u001b[1;32m--> 217\u001b[0m         \u001b[38;5;28minput\u001b[39m \u001b[38;5;241m=\u001b[39m \u001b[43mmodule\u001b[49m\u001b[43m(\u001b[49m\u001b[38;5;28;43minput\u001b[39;49m\u001b[43m)\u001b[49m\n\u001b[0;32m    218\u001b[0m     \u001b[38;5;28;01mreturn\u001b[39;00m \u001b[38;5;28minput\u001b[39m\n",
      "File \u001b[1;32mc:\\Users\\Jonathan\\workspace\\prov-dp\\venv\\lib\\site-packages\\torch\\nn\\modules\\module.py:1511\u001b[0m, in \u001b[0;36mModule._wrapped_call_impl\u001b[1;34m(self, *args, **kwargs)\u001b[0m\n\u001b[0;32m   1509\u001b[0m     \u001b[38;5;28;01mreturn\u001b[39;00m \u001b[38;5;28mself\u001b[39m\u001b[38;5;241m.\u001b[39m_compiled_call_impl(\u001b[38;5;241m*\u001b[39margs, \u001b[38;5;241m*\u001b[39m\u001b[38;5;241m*\u001b[39mkwargs)  \u001b[38;5;66;03m# type: ignore[misc]\u001b[39;00m\n\u001b[0;32m   1510\u001b[0m \u001b[38;5;28;01melse\u001b[39;00m:\n\u001b[1;32m-> 1511\u001b[0m     \u001b[38;5;28;01mreturn\u001b[39;00m \u001b[38;5;28mself\u001b[39m\u001b[38;5;241m.\u001b[39m_call_impl(\u001b[38;5;241m*\u001b[39margs, \u001b[38;5;241m*\u001b[39m\u001b[38;5;241m*\u001b[39mkwargs)\n",
      "File \u001b[1;32mc:\\Users\\Jonathan\\workspace\\prov-dp\\venv\\lib\\site-packages\\torch\\nn\\modules\\module.py:1520\u001b[0m, in \u001b[0;36mModule._call_impl\u001b[1;34m(self, *args, **kwargs)\u001b[0m\n\u001b[0;32m   1515\u001b[0m \u001b[38;5;66;03m# If we don't have any hooks, we want to skip the rest of the logic in\u001b[39;00m\n\u001b[0;32m   1516\u001b[0m \u001b[38;5;66;03m# this function, and just call forward.\u001b[39;00m\n\u001b[0;32m   1517\u001b[0m \u001b[38;5;28;01mif\u001b[39;00m \u001b[38;5;129;01mnot\u001b[39;00m (\u001b[38;5;28mself\u001b[39m\u001b[38;5;241m.\u001b[39m_backward_hooks \u001b[38;5;129;01mor\u001b[39;00m \u001b[38;5;28mself\u001b[39m\u001b[38;5;241m.\u001b[39m_backward_pre_hooks \u001b[38;5;129;01mor\u001b[39;00m \u001b[38;5;28mself\u001b[39m\u001b[38;5;241m.\u001b[39m_forward_hooks \u001b[38;5;129;01mor\u001b[39;00m \u001b[38;5;28mself\u001b[39m\u001b[38;5;241m.\u001b[39m_forward_pre_hooks\n\u001b[0;32m   1518\u001b[0m         \u001b[38;5;129;01mor\u001b[39;00m _global_backward_pre_hooks \u001b[38;5;129;01mor\u001b[39;00m _global_backward_hooks\n\u001b[0;32m   1519\u001b[0m         \u001b[38;5;129;01mor\u001b[39;00m _global_forward_hooks \u001b[38;5;129;01mor\u001b[39;00m _global_forward_pre_hooks):\n\u001b[1;32m-> 1520\u001b[0m     \u001b[38;5;28;01mreturn\u001b[39;00m forward_call(\u001b[38;5;241m*\u001b[39margs, \u001b[38;5;241m*\u001b[39m\u001b[38;5;241m*\u001b[39mkwargs)\n\u001b[0;32m   1522\u001b[0m \u001b[38;5;28;01mtry\u001b[39;00m:\n\u001b[0;32m   1523\u001b[0m     result \u001b[38;5;241m=\u001b[39m \u001b[38;5;28;01mNone\u001b[39;00m\n",
      "File \u001b[1;32mc:\\Users\\Jonathan\\workspace\\prov-dp\\venv\\lib\\site-packages\\torch\\nn\\modules\\sparse.py:163\u001b[0m, in \u001b[0;36mEmbedding.forward\u001b[1;34m(self, input)\u001b[0m\n\u001b[0;32m    162\u001b[0m \u001b[38;5;28;01mdef\u001b[39;00m \u001b[38;5;21mforward\u001b[39m(\u001b[38;5;28mself\u001b[39m, \u001b[38;5;28minput\u001b[39m: Tensor) \u001b[38;5;241m-\u001b[39m\u001b[38;5;241m>\u001b[39m Tensor:\n\u001b[1;32m--> 163\u001b[0m     \u001b[38;5;28;01mreturn\u001b[39;00m \u001b[43mF\u001b[49m\u001b[38;5;241;43m.\u001b[39;49m\u001b[43membedding\u001b[49m\u001b[43m(\u001b[49m\n\u001b[0;32m    164\u001b[0m \u001b[43m        \u001b[49m\u001b[38;5;28;43minput\u001b[39;49m\u001b[43m,\u001b[49m\u001b[43m \u001b[49m\u001b[38;5;28;43mself\u001b[39;49m\u001b[38;5;241;43m.\u001b[39;49m\u001b[43mweight\u001b[49m\u001b[43m,\u001b[49m\u001b[43m \u001b[49m\u001b[38;5;28;43mself\u001b[39;49m\u001b[38;5;241;43m.\u001b[39;49m\u001b[43mpadding_idx\u001b[49m\u001b[43m,\u001b[49m\u001b[43m \u001b[49m\u001b[38;5;28;43mself\u001b[39;49m\u001b[38;5;241;43m.\u001b[39;49m\u001b[43mmax_norm\u001b[49m\u001b[43m,\u001b[49m\n\u001b[0;32m    165\u001b[0m \u001b[43m        \u001b[49m\u001b[38;5;28;43mself\u001b[39;49m\u001b[38;5;241;43m.\u001b[39;49m\u001b[43mnorm_type\u001b[49m\u001b[43m,\u001b[49m\u001b[43m \u001b[49m\u001b[38;5;28;43mself\u001b[39;49m\u001b[38;5;241;43m.\u001b[39;49m\u001b[43mscale_grad_by_freq\u001b[49m\u001b[43m,\u001b[49m\u001b[43m \u001b[49m\u001b[38;5;28;43mself\u001b[39;49m\u001b[38;5;241;43m.\u001b[39;49m\u001b[43msparse\u001b[49m\u001b[43m)\u001b[49m\n",
      "File \u001b[1;32mc:\\Users\\Jonathan\\workspace\\prov-dp\\venv\\lib\\site-packages\\torch\\nn\\functional.py:2237\u001b[0m, in \u001b[0;36membedding\u001b[1;34m(input, weight, padding_idx, max_norm, norm_type, scale_grad_by_freq, sparse)\u001b[0m\n\u001b[0;32m   2231\u001b[0m     \u001b[38;5;66;03m# Note [embedding_renorm set_grad_enabled]\u001b[39;00m\n\u001b[0;32m   2232\u001b[0m     \u001b[38;5;66;03m# XXX: equivalent to\u001b[39;00m\n\u001b[0;32m   2233\u001b[0m     \u001b[38;5;66;03m# with torch.no_grad():\u001b[39;00m\n\u001b[0;32m   2234\u001b[0m     \u001b[38;5;66;03m#   torch.embedding_renorm_\u001b[39;00m\n\u001b[0;32m   2235\u001b[0m     \u001b[38;5;66;03m# remove once script supports set_grad_enabled\u001b[39;00m\n\u001b[0;32m   2236\u001b[0m     _no_grad_embedding_renorm_(weight, \u001b[38;5;28minput\u001b[39m, max_norm, norm_type)\n\u001b[1;32m-> 2237\u001b[0m \u001b[38;5;28;01mreturn\u001b[39;00m \u001b[43mtorch\u001b[49m\u001b[38;5;241;43m.\u001b[39;49m\u001b[43membedding\u001b[49m\u001b[43m(\u001b[49m\u001b[43mweight\u001b[49m\u001b[43m,\u001b[49m\u001b[43m \u001b[49m\u001b[38;5;28;43minput\u001b[39;49m\u001b[43m,\u001b[49m\u001b[43m \u001b[49m\u001b[43mpadding_idx\u001b[49m\u001b[43m,\u001b[49m\u001b[43m \u001b[49m\u001b[43mscale_grad_by_freq\u001b[49m\u001b[43m,\u001b[49m\u001b[43m \u001b[49m\u001b[43msparse\u001b[49m\u001b[43m)\u001b[49m\n",
      "\u001b[1;31mKeyboardInterrupt\u001b[0m: "
     ]
    }
   ],
   "source": [
    "from collections import Counter\n",
    "predictions = []\n",
    "for i in range(len(dataset)):\n",
    "    path, graph = dataset[i]\n",
    "    predicted_i = predict_graph_index(path)\n",
    "    predictions.append(predicted_i)\n",
    "Counter(predictions)"
   ]
  },
  {
   "cell_type": "code",
   "execution_count": 41,
   "metadata": {},
   "outputs": [
    {
     "data": {
      "text/plain": [
       "tensor(0, device='cuda:0')"
      ]
     },
     "execution_count": 41,
     "metadata": {},
     "output_type": "execute_result"
    }
   ],
   "source": [
    "min(Y), max(Y)"
   ]
  }
 ],
 "metadata": {
  "kernelspec": {
   "display_name": "Python 3",
   "language": "python",
   "name": "python3"
  },
  "language_info": {
   "codemirror_mode": {
    "name": "ipython",
    "version": 3
   },
   "file_extension": ".py",
   "mimetype": "text/x-python",
   "name": "python",
   "nbconvert_exporter": "python",
   "pygments_lexer": "ipython3",
   "version": "3.10.11"
  }
 },
 "nbformat": 4,
 "nbformat_minor": 2
}
