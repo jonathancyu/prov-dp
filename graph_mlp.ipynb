{
 "cells": [
  {
   "cell_type": "markdown",
   "metadata": {},
   "source": [
    "# Model to predict graph embedding from paths"
   ]
  },
  {
   "cell_type": "markdown",
   "metadata": {},
   "source": [
    "## TQDM dark mode"
   ]
  },
  {
   "cell_type": "code",
   "execution_count": 1,
   "metadata": {},
   "outputs": [
    {
     "data": {
      "text/html": [
       "<style>\n",
       ".cell-output-ipywidget-background {\n",
       "    background-color: transparent !important;\n",
       "}\n",
       ":root {\n",
       "    --jp-widgets-color: var(--vscode-editor-foreground);\n",
       "    --jp-widgets-font-size: var(--vscode-editor-font-size);\n",
       "}  \n",
       "</style>\n"
      ],
      "text/plain": [
       "<IPython.core.display.HTML object>"
      ]
     },
     "metadata": {},
     "output_type": "display_data"
    }
   ],
   "source": [
    "%%html\n",
    "<style>\n",
    ".cell-output-ipywidget-background {\n",
    "    background-color: transparent !important;\n",
    "}\n",
    ":root {\n",
    "    --jp-widgets-color: var(--vscode-editor-foreground);\n",
    "    --jp-widgets-font-size: var(--vscode-editor-font-size);\n",
    "}  \n",
    "</style>\n"
   ]
  },
  {
   "cell_type": "markdown",
   "metadata": {},
   "source": [
    "# Load data"
   ]
  },
  {
   "cell_type": "code",
   "execution_count": 10,
   "metadata": {
    "ExecuteTime": {
     "end_time": "2024-02-04T21:50:23.449469500Z",
     "start_time": "2024-02-04T21:49:54.255294900Z"
    },
    "collapsed": false
   },
   "outputs": [],
   "source": [
    "import pickle\n",
    "from pathlib import Path\n",
    "with open(Path('F:\\\\') / 'data' / 'prov_dp' / 'tc3-trace-training.pkl', 'rb') as f:\n",
    "    data_unflattened = pickle.load(f)"
   ]
  },
  {
   "cell_type": "code",
   "execution_count": 11,
   "metadata": {
    "ExecuteTime": {
     "end_time": "2024-02-04T21:51:09.091575Z",
     "start_time": "2024-02-04T21:51:09.051864500Z"
    },
    "collapsed": false
   },
   "outputs": [
    {
     "data": {
      "text/plain": [
       "1489123"
      ]
     },
     "execution_count": 11,
     "metadata": {},
     "output_type": "execute_result"
    }
   ],
   "source": [
    "from itertools import chain\n",
    "dataset = list(chain.from_iterable(data_unflattened))\n",
    "\n",
    "len(dataset)"
   ]
  },
  {
   "cell_type": "markdown",
   "metadata": {},
   "source": [
    "## Model Parameters"
   ]
  },
  {
   "cell_type": "code",
   "execution_count": 12,
   "metadata": {},
   "outputs": [],
   "source": [
    "import torch\n",
    "\n",
    "embedding_size = 64\n",
    "device = 'cuda' if torch.cuda.is_available() else 'cpu'"
   ]
  },
  {
   "cell_type": "markdown",
   "metadata": {},
   "source": [
    "## Generate tokens"
   ]
  },
  {
   "cell_type": "code",
   "execution_count": 15,
   "metadata": {},
   "outputs": [
    {
     "name": "stdout",
     "output_type": "stream",
     "text": [
      "Found 16 tokens in 1489123 entries\n",
      "Distinct paths: 37\n"
     ]
    }
   ],
   "source": [
    "tokens = set()\n",
    "distinct_paths = set()\n",
    "\n",
    "def tokenize(path):\n",
    "    assert len(path) % 2 == 0\n",
    "    return [f'{path[idx]}|{path[idx+1]}' for idx in range(0, len(path), 2)]\n",
    "\n",
    "for path, _ in dataset:\n",
    "    path = tokenize(path.split(' '))\n",
    "    tokens.update(path)\n",
    "    distinct_paths.add(' '.join(path))\n",
    "tokens = list(tokens)\n",
    "tokens[:0] = ['.']\n",
    "itos = tokens\n",
    "stoi = {\n",
    "    token: i for i, token in enumerate(itos)\n",
    "}\n",
    "\n",
    "print(f'Found {len(tokens)} tokens in {len(dataset)} entries')\n",
    "print(f'Distinct paths: {len(distinct_paths)}')"
   ]
  },
  {
   "cell_type": "code",
   "execution_count": 14,
   "metadata": {},
   "outputs": [
    {
     "data": {
      "text/plain": [
       "[' PROCESS_LET_xfsettingsd|PROC_CREATE_Start_Processlet',\n",
       " ' PROCESS_LET_xfce4-appfinder|PROC_CREATE_Start_Processlet PROCESS_LET_xfce4-appfinder|PROC_CREATE_Start_Processlet PROCESS_LET_firefox|PROC_CREATE_Start_Processlet PROCESS_LET_firefox|PROC_CREATE_Start_Processlet PROCESS_LET_firefox|PROC_CREATE_Start_Processlet',\n",
       " ' PROCESS_LET_/usr/lib/thunderbird/thunderbird|PROC_CREATE_Start_Processlet',\n",
       " ' PROCESS_LET_run-parts|PROC_CREATE_Start_Processlet',\n",
       " '',\n",
       " ' PROCESS_LET_/usr/local/firefox-54.0.1/obj-x86_64-pc-linux-gnu/dist/bin/firefox|PROC_CREATE_Start_Processlet',\n",
       " ' PROCESS_LET_sh|PROC_CREATE_Start_Processlet PROCESS_LET_/usr/bin/env|PROC_CREATE_Start_Processlet',\n",
       " ' PROCESS_LET_firefox|PROC_CREATE_Start_Processlet PROCESS_LET_firefox|PROC_CREATE_Start_Processlet',\n",
       " ' PROCESS_LET_/usr/lib/x86_64-linux-gnu/xfce4/exo-1/exo-helper-1|PROC_CREATE_Start_Processlet PROCESS_LET_/usr/lib/x86_64-linux-gnu/xfce4/exo-1/exo-helper-1|PROC_CREATE_Start_Processlet PROCESS_LET_/bin/sh|PROC_CREATE_Start_Processlet PROCESS_LET_/bin/sh|PROC_CREATE_Start_Processlet',\n",
       " ' PROCESS_LET_sh|PROC_CREATE_Start_Processlet PROCESS_LET_/usr/bin/env|PROC_CREATE_Start_Processlet PROCESS_LET_run-parts|PROC_CREATE_Start_Processlet',\n",
       " ' PROCESS_LET_xfce4-panel|PROC_CREATE_Start_Processlet PROCESS_LET_firefox|PROC_CREATE_Start_Processlet PROCESS_LET_firefox|PROC_CREATE_Start_Processlet',\n",
       " ' PROCESS_LET_xfsettingsd|PROC_CREATE_Start_Processlet PROCESS_LET_xfsettingsd|PROC_CREATE_Start_Processlet',\n",
       " ' PROCESS_LET_xfce4-panel|PROC_CREATE_Start_Processlet',\n",
       " ' PROCESS_LET_run-parts|PROC_CREATE_Start_Processlet PROCESS_LET_/bin/sh|PROC_CREATE_Start_Processlet PROCESS_LET_/bin/sh|PROC_CREATE_Start_Processlet',\n",
       " ' PROCESS_LET_sh|PROC_CREATE_Start_Processlet',\n",
       " ' PROCESS_LET_xfce4-appfinder|PROC_CREATE_Start_Processlet PROCESS_LET_firefox|PROC_CREATE_Start_Processlet PROCESS_LET_firefox|PROC_CREATE_Start_Processlet PROCESS_LET_firefox|PROC_CREATE_Start_Processlet PROCESS_LET_firefox|PROC_CREATE_Start_Processlet',\n",
       " ' PROCESS_LET_xfce4-appfinder|PROC_CREATE_Start_Processlet',\n",
       " ' PROCESS_LET_/usr/lib/x86_64-linux-gnu/xfce4/exo-1/exo-helper-1|PROC_CREATE_Start_Processlet PROCESS_LET_/usr/lib/x86_64-linux-gnu/xfce4/exo-1/exo-helper-1|PROC_CREATE_Start_Processlet',\n",
       " ' PROCESS_LET_sshd|PROC_CREATE_Start_Processlet PROCESS_LET_sshd|PROC_CREATE_Start_Processlet',\n",
       " ' PROCESS_LET_/usr/lib/firefox/firefox|PROC_CREATE_Start_Processlet',\n",
       " ' PROCESS_LET_run-parts|PROC_CREATE_Start_Processlet PROCESS_LET_/bin/sh|PROC_CREATE_Start_Processlet',\n",
       " ' PROCESS_LET_xfce4-appfinder|PROC_CREATE_Start_Processlet PROCESS_LET_firefox|PROC_CREATE_Start_Processlet',\n",
       " ' PROCESS_LET_xfce4-appfinder|PROC_CREATE_Start_Processlet PROCESS_LET_xfce4-appfinder|PROC_CREATE_Start_Processlet PROCESS_LET_firefox|PROC_CREATE_Start_Processlet',\n",
       " ' PROCESS_LET_/usr/lib/x86_64-linux-gnu/xfce4/exo-1/exo-helper-1|PROC_CREATE_Start_Processlet PROCESS_LET_/usr/lib/x86_64-linux-gnu/xfce4/exo-1/exo-helper-1|PROC_CREATE_Start_Processlet PROCESS_LET_/bin/sh|PROC_CREATE_Start_Processlet',\n",
       " ' PROCESS_LET_Gecko_IOThread|PROC_CREATE_Start_Processlet PROCESS_LET_Gecko_IOThread|PROC_CREATE_Start_Processlet',\n",
       " ' PROCESS_LET_firefox|PROC_CREATE_Start_Processlet',\n",
       " ' PROCESS_LET_xfce4-appfinder|PROC_CREATE_Start_Processlet PROCESS_LET_xfce4-appfinder|PROC_CREATE_Start_Processlet',\n",
       " ' PROCESS_LET_/bin/sh|PROC_CREATE_Start_Processlet',\n",
       " ' PROCESS_LET_/bin/sh|PROC_CREATE_Start_Processlet PROCESS_LET_/usr/lib/firefox/firefox|PROC_CREATE_Start_Processlet',\n",
       " ' PROCESS_LET_xfce4-appfinder|PROC_CREATE_Start_Processlet PROCESS_LET_xfce4-appfinder|PROC_CREATE_Start_Processlet PROCESS_LET_firefox|PROC_CREATE_Start_Processlet PROCESS_LET_firefox|PROC_CREATE_Start_Processlet',\n",
       " ' PROCESS_LET_sh|PROC_CREATE_Start_Processlet PROCESS_LET_/usr/bin/env|PROC_CREATE_Start_Processlet PROCESS_LET_run-parts|PROC_CREATE_Start_Processlet PROCESS_LET_run-parts|PROC_CREATE_Start_Processlet',\n",
       " ' PROCESS_LET_sshd|PROC_CREATE_Start_Processlet',\n",
       " ' PROCESS_LET_firefox|PROC_CREATE_Start_Processlet PROCESS_LET_firefox|PROC_CREATE_Start_Processlet PROCESS_LET_/usr/local/firefox-54.0.1/obj-x86_64-pc-linux-gnu/dist/bin/firefox|PROC_CREATE_Start_Processlet PROCESS_LET_/usr/local/firefox-54.0.1/obj-x86_64-pc-linux-gnu/dist/bin/firefox|PROC_CREATE_Start_Processlet',\n",
       " ' PROCESS_LET_run-parts|PROC_CREATE_Start_Processlet PROCESS_LET_/bin/sh|PROC_CREATE_Start_Processlet PROCESS_LET_/bin/sh|PROC_CREATE_Start_Processlet PROCESS_LET_/bin/sh|PROC_CREATE_Start_Processlet',\n",
       " ' PROCESS_LET_xfce4-appfinder|PROC_CREATE_Start_Processlet PROCESS_LET_xfce4-appfinder|PROC_CREATE_Start_Processlet PROCESS_LET_firefox|PROC_CREATE_Start_Processlet PROCESS_LET_firefox|PROC_CREATE_Start_Processlet PROCESS_LET_firefox|PROC_CREATE_Start_Processlet PROCESS_LET_/usr/local/firefox-54.0.1/obj-x86_64-pc-linux-gnu/dist/bin/firefox|PROC_CREATE_Start_Processlet',\n",
       " ' PROCESS_LET_xfce4-appfinder|PROC_CREATE_Start_Processlet PROCESS_LET_firefox|PROC_CREATE_Start_Processlet PROCESS_LET_firefox|PROC_CREATE_Start_Processlet',\n",
       " ' PROCESS_LET_xfce4-appfinder|PROC_CREATE_Start_Processlet PROCESS_LET_xfce4-appfinder|PROC_CREATE_Start_Processlet PROCESS_LET_firefox|PROC_CREATE_Start_Processlet PROCESS_LET_firefox|PROC_CREATE_Start_Processlet PROCESS_LET_firefox|PROC_CREATE_Start_Processlet PROCESS_LET_/usr/local/firefox-54.0.1/obj-x86_64-pc-linux-gnu/dist/bin/firefox|PROC_CREATE_Start_Processlet PROCESS_LET_/usr/local/firefox-54.0.1/obj-x86_64-pc-linux-gnu/dist/bin/firefox|PROC_CREATE_Start_Processlet']"
      ]
     },
     "execution_count": 14,
     "metadata": {},
     "output_type": "execute_result"
    }
   ],
   "source": [
    "[p[len('.|EPHEMERAL_EPHEMERAL .|EPHEMERAL_EPHEMERAL'):] for p in distinct_paths]"
   ]
  },
  {
   "cell_type": "markdown",
   "metadata": {},
   "source": [
    "## Embed Graphs\n",
    "graph embeddings don't make sense, why not just predict a discrete value if we're not embedding the path too?"
   ]
  },
  {
   "cell_type": "code",
   "execution_count": null,
   "metadata": {},
   "outputs": [
    {
     "name": "stderr",
     "output_type": "stream",
     "text": [
      "c:\\Users\\Jonathan\\workspace\\prov-dp\\venv\\lib\\site-packages\\tqdm\\auto.py:21: TqdmWarning: IProgress not found. Please update jupyter and ipywidgets. See https://ipywidgets.readthedocs.io/en/stable/user_install.html\n",
      "  from .autonotebook import tqdm as notebook_tqdm\n"
     ]
    },
    {
     "name": "stderr",
     "output_type": "stream",
     "text": [
      "Converting to NetworkX graphs: 100%|██████████| 1489123/1489123 [00:23<00:00, 63455.25it/s] \n"
     ]
    },
    {
     "data": {
      "text/plain": [
       "1489123"
      ]
     },
     "execution_count": 7,
     "metadata": {},
     "output_type": "execute_result"
    }
   ],
   "source": [
    "from tqdm.auto import tqdm\n",
    "from source.algorithm.utility import to_nx\n",
    "\n",
    "nx_graphs = [\n",
    "    to_nx(graph)\n",
    "    for _, graph in tqdm(dataset, desc='Converting to NetworkX graphs')\n",
    "]\n",
    "len(nx_graphs)"
   ]
  },
  {
   "cell_type": "code",
   "execution_count": null,
   "metadata": {},
   "outputs": [
    {
     "name": "stdout",
     "output_type": "stream",
     "text": [
      "Min: 1, Max: 8\n",
      "Avg: 1.0003753887355176, Std: 0.03720074179980315\n"
     ]
    }
   ],
   "source": [
    "import numpy as np\n",
    "lens = [len(g) for p, g in dataset]\n",
    "print(f'Min: {min(lens)}, Max: {max(lens)}')\n",
    "print(f'Avg: {np.average(lens)}, Std: {np.std(lens)}')\n"
   ]
  },
  {
   "cell_type": "code",
   "execution_count": 40,
   "metadata": {},
   "outputs": [
    {
     "name": "stdout",
     "output_type": "stream",
     "text": [
      "torch.Size([1489123, 8]) torch.Size([1489123])\n"
     ]
    }
   ],
   "source": [
    "context_length = 8\n",
    "## Format training data\n",
    "X, Y = [], []\n",
    "\n",
    "def format_path(path: str) -> list[int]:\n",
    "    path_list = tokenize(path_str.split(' '))\n",
    "    # Convert into list of integers\n",
    "    path = [stoi[s] for s in path_list]\n",
    "    # Pad the sequence and right align it\n",
    "    # TODO: this probably doesn't matter since the context never shifts, right?\n",
    "    context = [0] * context_length\n",
    "    for i in range(min(len(path), context_length)):\n",
    "        context[-i-1] = path[i]\n",
    "    return \n",
    "\n",
    "\n",
    "for i, row in enumerate(dataset):\n",
    "    # Tokenize the path\n",
    "    path_str, _ = row\n",
    "    path = format_path(path_str)\n",
    "\n",
    "    X.append(context)    \n",
    "    Y.append(i)\n",
    "\n",
    "X = torch.tensor(X, device=device)\n",
    "Y = torch.tensor(Y, device=device)\n",
    "print(X.shape, Y.shape)"
   ]
  },
  {
   "cell_type": "code",
   "execution_count": 37,
   "metadata": {},
   "outputs": [],
   "source": [
    "import torch.nn as nn\n",
    "import torch.optim as optim\n",
    "\n",
    "vocab_size = len(tokens)\n",
    "n_embedding = 10 # Embedding dimension\n",
    "n_hidden = 100\n",
    "learning_rate = 0.01\n",
    "batch_size = 32768\n",
    "context_length = 8\n",
    "\n",
    "# Predict the discrete graph to append\n",
    "# Problem: Doesn't have the context of graph size\n",
    "def create_model(): \n",
    "    return nn.Sequential(\n",
    "        nn.Embedding(vocab_size, n_embedding),\n",
    "        nn.Flatten(),\n",
    "        nn.Linear(n_embedding * context_length, n_embedding * context_length), nn.ReLU(),\n",
    "        nn.Linear(n_embedding * context_length, n_hidden), nn.ReLU(),\n",
    "        nn.Linear(n_hidden, n_embedding)\n",
    "    )\n",
    "model = create_model()\n",
    "model.to(device)\n",
    "optimizer = optim.SGD(model.parameters(), lr=learning_rate, momentum=0.9)\n",
    "lossi = []"
   ]
  },
  {
   "cell_type": "code",
   "execution_count": 38,
   "metadata": {},
   "outputs": [
    {
     "name": "stdout",
     "output_type": "stream",
     "text": [
      "      0/ 100000: 2.2776988\n",
      "   5000/ 100000: 0.0005070\n",
      "  10000/ 100000: 0.0005009\n",
      "  15000/ 100000: 0.0005555\n",
      "  20000/ 100000: 0.0001078\n",
      "  25000/ 100000: 0.0000856\n",
      "  30000/ 100000: 0.0000270\n",
      "  35000/ 100000: 0.0000273\n",
      "  40000/ 100000: 0.0000398\n",
      "  45000/ 100000: 0.0000171\n",
      "  50000/ 100000: 0.0000153\n",
      "  55000/ 100000: 0.0003403\n",
      "  60000/ 100000: 0.0000149\n",
      "  65000/ 100000: 0.0000085\n",
      "  70000/ 100000: 0.0000369\n",
      "  75000/ 100000: 0.0000061\n",
      "  80000/ 100000: 0.0000098\n",
      "  85000/ 100000: 0.0000156\n",
      "  90000/ 100000: 0.0000085\n",
      "  95000/ 100000: 0.0000147\n"
     ]
    }
   ],
   "source": [
    "import torch.nn.functional as F\n",
    "from tqdm import tqdm\n",
    "from torch.nn.utils import clip_grad_norm\n",
    "\n",
    "max_steps = 100000\n",
    "for i in range(max_steps):\n",
    "    optimizer.zero_grad()\n",
    "\n",
    "    ix = torch.randint(0, Y.shape[0], (batch_size,))\n",
    "    X_batch, Y_batch = X[ix], Y[ix]\n",
    "\n",
    "    # Forward pass\n",
    "    output = model(X_batch) # output layer\n",
    "    # print(embedding)\n",
    "    # print(Y_batch)\n",
    "    loss = F.cross_entropy(output, Y_batch)\n",
    "    # print(loss)\n",
    "\n",
    "    # Backward pass\n",
    "    for p in model.parameters():\n",
    "        p.requires_grad = True\n",
    "    loss.backward()\n",
    "    \n",
    "    # update\n",
    "    # clip_grad_norm(model.parameters(), max_norm=1.0)\n",
    "    optimizer.step()\n",
    "\n",
    "    # Track stats\n",
    "    if i % 5000 == 0: # print every once in a while\n",
    "        print(f'{i:7d}/{max_steps:7d}: {loss.item():.7f}')\n",
    "    lossi.append(loss.log10().item())\n",
    "    # break\n",
    "    "
   ]
  },
  {
   "cell_type": "code",
   "execution_count": 1,
   "metadata": {},
   "outputs": [
    {
     "ename": "NameError",
     "evalue": "name 'model' is not defined",
     "output_type": "error",
     "traceback": [
      "\u001b[1;31m---------------------------------------------------------------------------\u001b[0m",
      "\u001b[1;31mNameError\u001b[0m                                 Traceback (most recent call last)",
      "Cell \u001b[1;32mIn[1], line 1\u001b[0m\n\u001b[1;32m----> 1\u001b[0m \u001b[38;5;28mlen\u001b[39m(\u001b[43mmodel\u001b[49m\u001b[38;5;241m.\u001b[39mparameters())\n",
      "\u001b[1;31mNameError\u001b[0m: name 'model' is not defined"
     ]
    }
   ],
   "source": [
    "len(model.parameters())"
   ]
  },
  {
   "cell_type": "code",
   "execution_count": 49,
   "metadata": {},
   "outputs": [],
   "source": [
    "model_path = Path('F:\\\\') / 'data' / 'prov_dp' / 'tc3-trace.tar'\n",
    "torch.save(model.state_dict(), model_path)"
   ]
  },
  {
   "cell_type": "markdown",
   "metadata": {},
   "source": [
    "# Predict from the model"
   ]
  },
  {
   "cell_type": "code",
   "execution_count": null,
   "metadata": {},
   "outputs": [],
   "source": [
    "Model"
   ]
  },
  {
   "cell_type": "code",
   "execution_count": 36,
   "metadata": {},
   "outputs": [
    {
     "data": {
      "text/plain": [
       "[<matplotlib.lines.Line2D at 0x1af2fe477c0>]"
      ]
     },
     "execution_count": 36,
     "metadata": {},
     "output_type": "execute_result"
    },
    {
     "data": {
      "image/png": "[encoded data removed]",
      "text/plain": [
       "<Figure size 640x480 with 1 Axes>"
      ]
     },
     "metadata": {},
     "output_type": "display_data"
    }
   ],
   "source": [
    "i = 0\n",
    "path_str, graph = dataset[i]\n",
    "path = format_path(path_str)"
   ]
  },
  {
   "cell_type": "code",
   "execution_count": 35,
   "metadata": {},
   "outputs": [
    {
     "name": "stdout",
     "output_type": "stream",
     "text": [
      "Collecting matplotlib\n",
      "  Downloading matplotlib-3.8.2-cp310-cp310-win_amd64.whl.metadata (5.9 kB)\n",
      "Collecting contourpy>=1.0.1 (from matplotlib)\n",
      "  Downloading contourpy-1.2.0-cp310-cp310-win_amd64.whl.metadata (5.8 kB)\n",
      "Collecting cycler>=0.10 (from matplotlib)\n",
      "  Downloading cycler-0.12.1-py3-none-any.whl.metadata (3.8 kB)\n",
      "Collecting fonttools>=4.22.0 (from matplotlib)\n",
      "  Downloading fonttools-4.48.1-cp310-cp310-win_amd64.whl.metadata (162 kB)\n",
      "     ---------------------------------------- 0.0/162.2 kB ? eta -:--:--\n",
      "     -------------------------------------- 162.2/162.2 kB 4.7 MB/s eta 0:00:00\n",
      "Collecting kiwisolver>=1.3.1 (from matplotlib)\n",
      "  Downloading kiwisolver-1.4.5-cp310-cp310-win_amd64.whl.metadata (6.5 kB)\n",
      "Requirement already satisfied: numpy<2,>=1.21 in c:\\users\\jonathan\\workspace\\prov-dp\\venv\\lib\\site-packages (from matplotlib) (1.26.3)\n",
      "Requirement already satisfied: packaging>=20.0 in c:\\users\\jonathan\\workspace\\prov-dp\\venv\\lib\\site-packages (from matplotlib) (23.2)\n",
      "Requirement already satisfied: pillow>=8 in c:\\users\\jonathan\\workspace\\prov-dp\\venv\\lib\\site-packages (from matplotlib) (10.2.0)\n",
      "Collecting pyparsing>=2.3.1 (from matplotlib)\n",
      "  Downloading pyparsing-3.1.1-py3-none-any.whl.metadata (5.1 kB)\n",
      "Requirement already satisfied: python-dateutil>=2.7 in c:\\users\\jonathan\\workspace\\prov-dp\\venv\\lib\\site-packages (from matplotlib) (2.8.2)\n",
      "Requirement already satisfied: six>=1.5 in c:\\users\\jonathan\\workspace\\prov-dp\\venv\\lib\\site-packages (from python-dateutil>=2.7->matplotlib) (1.16.0)\n",
      "Downloading matplotlib-3.8.2-cp310-cp310-win_amd64.whl (7.6 MB)\n",
      "   ---------------------------------------- 0.0/7.6 MB ? eta -:--:--\n",
      "   -------- ------------------------------- 1.5/7.6 MB 49.2 MB/s eta 0:00:01\n",
      "   ------------------- -------------------- 3.7/7.6 MB 47.7 MB/s eta 0:00:01\n",
      "   ------------------------------ --------- 5.9/7.6 MB 47.2 MB/s eta 0:00:01\n",
      "   ---------------------------------------  7.6/7.6 MB 44.4 MB/s eta 0:00:01\n",
      "   ---------------------------------------  7.6/7.6 MB 44.4 MB/s eta 0:00:01\n",
      "   ---------------------------------------- 7.6/7.6 MB 32.6 MB/s eta 0:00:00\n",
      "Downloading contourpy-1.2.0-cp310-cp310-win_amd64.whl (186 kB)\n",
      "   ---------------------------------------- 0.0/186.7 kB ? eta -:--:--\n",
      "   --------------------------------------- 186.7/186.7 kB 11.0 MB/s eta 0:00:00\n",
      "Downloading cycler-0.12.1-py3-none-any.whl (8.3 kB)\n",
      "Downloading fonttools-4.48.1-cp310-cp310-win_amd64.whl (2.2 MB)\n",
      "   ---------------------------------------- 0.0/2.2 MB ? eta -:--:--\n",
      "   ----------------------------- ---------- 1.6/2.2 MB 49.3 MB/s eta 0:00:01\n",
      "   ---------------------------------------- 2.2/2.2 MB 34.4 MB/s eta 0:00:00\n",
      "Downloading kiwisolver-1.4.5-cp310-cp310-win_amd64.whl (56 kB)\n",
      "   ---------------------------------------- 0.0/56.1 kB ? eta -:--:--\n",
      "   ---------------------------------------- 56.1/56.1 kB 3.1 MB/s eta 0:00:00\n",
      "Downloading pyparsing-3.1.1-py3-none-any.whl (103 kB)\n",
      "   ---------------------------------------- 0.0/103.1 kB ? eta -:--:--\n",
      "   ---------------------------------------- 103.1/103.1 kB 5.8 MB/s eta 0:00:00\n",
      "Installing collected packages: pyparsing, kiwisolver, fonttools, cycler, contourpy, matplotlib\n",
      "Successfully installed contourpy-1.2.0 cycler-0.12.1 fonttools-4.48.1 kiwisolver-1.4.5 matplotlib-3.8.2 pyparsing-3.1.1\n",
      "Note: you may need to restart the kernel to use updated packages.\n"
     ]
    }
   ],
   "source": [
    "%pip install matplotlib"
   ]
  },
  {
   "cell_type": "code",
   "execution_count": null,
   "metadata": {},
   "outputs": [],
   "source": []
  }
 ],
 "metadata": {
  "kernelspec": {
   "display_name": "Python 3",
   "language": "python",
   "name": "python3"
  },
  "language_info": {
   "codemirror_mode": {
    "name": "ipython",
    "version": 3
   },
   "file_extension": ".py",
   "mimetype": "text/x-python",
   "name": "python",
   "nbconvert_exporter": "python",
   "pygments_lexer": "ipython3",
   "version": "3.10.11"
  }
 },
 "nbformat": 4,
 "nbformat_minor": 2
}
